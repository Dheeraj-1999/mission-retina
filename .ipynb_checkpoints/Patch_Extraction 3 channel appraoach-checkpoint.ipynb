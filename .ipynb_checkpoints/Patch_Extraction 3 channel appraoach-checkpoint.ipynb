{
 "cells": [
  {
   "cell_type": "code",
   "execution_count": 1,
   "metadata": {
    "colab": {},
    "colab_type": "code",
    "id": "672QiqkKucPv"
   },
   "outputs": [],
   "source": [
    "import os\n",
    "import numpy as np\n",
    "import glob\n",
    "from PIL import Image"
   ]
  },
  {
   "cell_type": "code",
   "execution_count": 2,
   "metadata": {},
   "outputs": [],
   "source": [
    "def GetAllChannels(imagewithchannels):\n",
    "    redchannel=[]\n",
    "    greenchannel=[]\n",
    "    bluechannel=[]\n",
    "    for i in range(len(imagewithchannels)):\n",
    "        redchannel.append(imagewithchannels[i][:,:,0])\n",
    "        greenchannel.append(imagewithchannels[i][:,:,1])\n",
    "        bluechannel.append(imagewithchannels[i][:,:,2])\n",
    "    return redchannel,greenchannel,bluechannel    \n",
    "\n",
    "def create_patch(imgs,patch_size):\n",
    "    a=0;\n",
    "    ps=patch_size//2\n",
    "    image_patches=[]\n",
    "    for k in range(0,2):\n",
    "        padded_imgs=np.pad(imgs[k],pad_width=ps,mode='edge')\n",
    "        for i in range(0,imgs[k].shape[0]):\n",
    "            for j in range(0,imgs[k].shape[1]):\n",
    "                flatten_imgs=padded_imgs[i:i+patch_size,j:j+patch_size].ravel()\n",
    "                imgs_mod_flatten=np.hstack((flatten_imgs))\n",
    "                image_patches.append(imgs_mod_flatten)\n",
    "    image_patches=np.vstack(image_patches)\n",
    "    return image_patches\n",
    "\n",
    "def getCombineChannels(red,green,blue):\n",
    "    combinedPacthes=[]\n",
    "    for i in range(red.shape[0]):\n",
    "        combinedPacthes.append(np.array([red[i],green[i],blue[i]]))\n",
    "    return(np.array(combinedPacthes))    \n",
    "\n",
    "def reshapePatches(combinedpatches,reshapesize):\n",
    "    newcombinedarray=[]\n",
    "    end=combinedpatches.shape[0]\n",
    "    for i in range(end):\n",
    "        newcombinedarray.append(np.reshape(combinedpatches[i],reshapesize))\n",
    "    return np.array(newcombinedarray)"
   ]
  },
  {
   "cell_type": "code",
   "execution_count": 3,
   "metadata": {},
   "outputs": [
    {
     "name": "stdout",
     "output_type": "stream",
     "text": [
      "Loading Images.....\n",
      "Images Loaded.......\n",
      "Seperating Channels.......\n",
      "Channels seprated.......\n",
      "Creating patches for red channel\n",
      "Red channel patches created\n",
      "Creating patches for green channel\n",
      "Green channel patches created\n",
      "Creating patches for blue channel\n",
      "Blue channel patches created\n",
      "Combinig all channel patches in single array\n",
      "All patches are combined and the shape is (659920, 3, 9)\n",
      "Reshaping to get required results\n",
      "All patches are reshaped and the shape is (659920, 3, 3, 3)\n",
      "Saving all patch data to file patchesknk.npy\n",
      "All patch data saved and can be access by variable 'reshapedpatches'\n"
     ]
    }
   ],
   "source": [
    "print(\"Loading Images.....\")\n",
    "images = [np.array(Image.open(file)) for file in glob.glob(\"/Ratina/DRIVE/training/images/*.tif\")]\n",
    "print('Images Loaded.......')\n",
    "print('Seperating Channels.......')\n",
    "(r,g,b)=GetAllChannels(images)\n",
    "print('Channels seprated.......')\n",
    "print('Creating patches for red channel')\n",
    "patch_red=create_patch(r,3)\n",
    "print('Red channel patches created')\n",
    "print('Creating patches for green channel')\n",
    "patch_green=create_patch(g,3)\n",
    "print('Green channel patches created')\n",
    "print('Creating patches for blue channel')\n",
    "patch_blue=create_patch(b,3)\n",
    "print('Blue channel patches created')\n",
    "print('Combinig all channel patches in single array')\n",
    "combinedpatches=getCombineChannels(patch_red,patch_green,patch_blue)\n",
    "print('All patches are combined and the shape is {}'.format(combinedpatches.shape))\n",
    "print('Reshaping to get required results')\n",
    "reshapedpatches=reshapePatches(combinedpatches,(3,3,3))\n",
    "print('All patches are reshaped and the shape is {}'.format(reshapedpatches.shape))\n",
    "print('Saving all patch data to file patchesknk.npy')\n",
    "np.save('patchesknk.npy',reshapedpatches)\n",
    "print('All patch data saved and can be access by variable \\'reshapedpatches\\'')"
   ]
  },
  {
   "cell_type": "code",
   "execution_count": null,
   "metadata": {},
   "outputs": [],
   "source": []
  },
  {
   "cell_type": "code",
   "execution_count": null,
   "metadata": {},
   "outputs": [],
   "source": []
  },
  {
   "cell_type": "code",
   "execution_count": null,
   "metadata": {},
   "outputs": [],
   "source": []
  },
  {
   "cell_type": "code",
   "execution_count": null,
   "metadata": {},
   "outputs": [],
   "source": []
  },
  {
   "cell_type": "code",
   "execution_count": null,
   "metadata": {},
   "outputs": [],
   "source": []
  },
  {
   "cell_type": "code",
   "execution_count": null,
   "metadata": {},
   "outputs": [],
   "source": []
  },
  {
   "cell_type": "code",
   "execution_count": null,
   "metadata": {},
   "outputs": [],
   "source": []
  },
  {
   "cell_type": "code",
   "execution_count": null,
   "metadata": {},
   "outputs": [],
   "source": [
    "a=np.reshape(combinedpatches[10013],(3,3,3))"
   ]
  },
  {
   "cell_type": "code",
   "execution_count": null,
   "metadata": {},
   "outputs": [],
   "source": [
    "a"
   ]
  },
  {
   "cell_type": "code",
   "execution_count": 5,
   "metadata": {},
   "outputs": [
    {
     "data": {
      "text/plain": [
       "array([[[ 7,  7,  9],\n",
       "        [ 9,  8,  8],\n",
       "        [10,  8,  8]],\n",
       "\n",
       "       [[ 7,  8, 10],\n",
       "        [ 7,  8,  8],\n",
       "        [ 8,  8,  8]],\n",
       "\n",
       "       [[ 5,  3,  5],\n",
       "        [ 8,  6,  6],\n",
       "        [ 9,  8,  8]]], dtype=uint8)"
      ]
     },
     "execution_count": 5,
     "metadata": {},
     "output_type": "execute_result"
    }
   ],
   "source": [
    "reshapedpatches[10013]"
   ]
  },
  {
   "cell_type": "code",
   "execution_count": null,
   "metadata": {},
   "outputs": [],
   "source": [
    "reshapedpatches=reshapePatches(combinedpatches)"
   ]
  },
  {
   "cell_type": "code",
   "execution_count": null,
   "metadata": {},
   "outputs": [],
   "source": [
    "reshapedpatches[0]"
   ]
  },
  {
   "cell_type": "code",
   "execution_count": null,
   "metadata": {},
   "outputs": [],
   "source": []
  },
  {
   "cell_type": "code",
   "execution_count": null,
   "metadata": {},
   "outputs": [],
   "source": []
  },
  {
   "cell_type": "code",
   "execution_count": null,
   "metadata": {},
   "outputs": [],
   "source": [
    "a=[]\n",
    "j=[[1,2,3],[1,2,3],[1,2,3]]\n",
    "k=[[1,2,3],[1,2,3],[1,2,3]]\n",
    "l=[[1,2,3],[1,2,3],[1,2,3]]\n",
    "for i in range(3):\n",
    "    a.append(np.array([j[i],k[i],l[i]]))"
   ]
  },
  {
   "cell_type": "code",
   "execution_count": null,
   "metadata": {},
   "outputs": [],
   "source": [
    "combinedpatches[0]"
   ]
  },
  {
   "cell_type": "code",
   "execution_count": null,
   "metadata": {},
   "outputs": [],
   "source": [
    "a=np.array(a)\n",
    "a.shape"
   ]
  },
  {
   "cell_type": "code",
   "execution_count": null,
   "metadata": {},
   "outputs": [],
   "source": [
    "np.save('patches3n3.npy', data)"
   ]
  },
  {
   "cell_type": "code",
   "execution_count": null,
   "metadata": {},
   "outputs": [],
   "source": [
    "loaded_array = np.load('patches3n3.npy')"
   ]
  },
  {
   "cell_type": "code",
   "execution_count": null,
   "metadata": {},
   "outputs": [],
   "source": [
    "loaded_array.shape"
   ]
  },
  {
   "cell_type": "code",
   "execution_count": null,
   "metadata": {},
   "outputs": [],
   "source": [
    "a=[]\n",
    "a.append(np.array([patch_red[0],patch_green[0],patch_blue[0]]))"
   ]
  }
 ],
 "metadata": {
  "accelerator": "TPU",
  "colab": {
   "name": "Patch Extraction.ipynb",
   "provenance": []
  },
  "kernelspec": {
   "display_name": "Python 3",
   "language": "python",
   "name": "python3"
  },
  "language_info": {
   "codemirror_mode": {
    "name": "ipython",
    "version": 3
   },
   "file_extension": ".py",
   "mimetype": "text/x-python",
   "name": "python",
   "nbconvert_exporter": "python",
   "pygments_lexer": "ipython3",
   "version": "3.7.5"
  }
 },
 "nbformat": 4,
 "nbformat_minor": 1
}
