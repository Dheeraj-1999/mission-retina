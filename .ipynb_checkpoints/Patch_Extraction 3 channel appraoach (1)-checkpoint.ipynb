{
 "cells": [
  {
   "cell_type": "code",
   "execution_count": 0,
   "metadata": {
    "colab": {},
    "colab_type": "code",
    "id": "672QiqkKucPv"
   },
   "outputs": [],
   "source": [
    "import os\n",
    "import numpy as np\n",
    "import glob\n",
    "from PIL import Image\n",
    "import zipfile\n",
    "%tensorflow_version 2.x\n",
    "from PIL import Image\n",
    "import tensorflow as tf\n",
    "# from shutil import copyfile"
   ]
  },
  {
   "cell_type": "code",
   "execution_count": 4,
   "metadata": {
    "colab": {
     "base_uri": "https://localhost:8080/",
     "height": 239
    },
    "colab_type": "code",
    "executionInfo": {
     "elapsed": 3555,
     "status": "ok",
     "timestamp": 1584018703055,
     "user": {
      "displayName": "PUSHPA RANI",
      "photoUrl": "",
      "userId": "04309092780219853136"
     },
     "user_tz": -330
    },
    "id": "ke719h7eJSdo",
    "outputId": "9334b707-6611-4a69-c6bc-b43aab14619f"
   },
   "outputs": [
    {
     "name": "stdout",
     "output_type": "stream",
     "text": [
      "--2020-03-12 13:11:40--  https://storage.googleapis.com/datsets/DRIVE.zip\n",
      "Resolving storage.googleapis.com (storage.googleapis.com)... 172.217.5.240, 2607:f8b0:4004:811::2010\n",
      "Connecting to storage.googleapis.com (storage.googleapis.com)|172.217.5.240|:443... connected.\n",
      "HTTP request sent, awaiting response... 200 OK\n",
      "Length: 29756930 (28M) [application/x-zip-compressed]\n",
      "Saving to: ‘/tmp/DRIVE.zip’\n",
      "\n",
      "\r",
      "/tmp/DRIVE.zip        0%[                    ]       0  --.-KB/s               \r",
      "/tmp/DRIVE.zip      100%[===================>]  28.38M  --.-KB/s    in 0.1s    \n",
      "\n",
      "2020-03-12 13:11:40 (265 MB/s) - ‘/tmp/DRIVE.zip’ saved [29756930/29756930]\n",
      "\n"
     ]
    }
   ],
   "source": [
    "!wget --no-check-certificate \\\n",
    "    \"https://storage.googleapis.com/datsets/DRIVE.zip\"\\\n",
    "    -O \"/tmp/DRIVE.zip\"\n",
    "\n",
    "local_zip = '/tmp/DRIVE.zip'\n",
    "zip_ref   = zipfile.ZipFile(local_zip, 'r')\n",
    "zip_ref.extractall('/tmp')\n",
    "zip_ref.close()"
   ]
  },
  {
   "cell_type": "code",
   "execution_count": 0,
   "metadata": {
    "colab": {},
    "colab_type": "code",
    "id": "Q9ddneMnH_oH"
   },
   "outputs": [],
   "source": [
    "def GetAllChannels(imagewithchannels):\n",
    "    redchannel=[]\n",
    "    greenchannel=[]\n",
    "    bluechannel=[]\n",
    "    for i in range(len(imagewithchannels)):\n",
    "        redchannel.append(imagewithchannels[i][:,:,0])\n",
    "        greenchannel.append(imagewithchannels[i][:,:,1])\n",
    "        bluechannel.append(imagewithchannels[i][:,:,2])\n",
    "    return redchannel,greenchannel,bluechannel    \n",
    "\n",
    "def create_patch(imgs,patch_size):\n",
    "    a=0;\n",
    "    ps=patch_size//2\n",
    "    image_patches=[]\n",
    "    for k in range(0,20):\n",
    "        padded_imgs=np.pad(imgs[k],pad_width=ps,mode='edge')\n",
    "        for i in range(0,imgs[k].shape[0]):\n",
    "            for j in range(0,imgs[k].shape[1]):\n",
    "                flatten_imgs=padded_imgs[i:i+patch_size,j:j+patch_size].ravel()\n",
    "                imgs_mod_flatten=np.hstack((flatten_imgs))\n",
    "                image_patches.append(imgs_mod_flatten)\n",
    "    image_patches=np.vstack(image_patches)\n",
    "    return image_patches\n",
    "\n",
    "def getCombineChannels(red,green,blue):\n",
    "    combinedPacthes=[]\n",
    "    for i in range(red.shape[0]):\n",
    "        combinedPacthes.append(np.array([red[i],green[i],blue[i]]))\n",
    "    return(np.array(combinedPacthes))    \n",
    "\n",
    "def reshapePatches(combinedpatches,reshapesize):\n",
    "    newcombinedarray=[]\n",
    "    end=combinedpatches.shape[0]\n",
    "    for i in range(end):\n",
    "        newcombinedarray.append(np.reshape(combinedpatches[i],reshapesize))\n",
    "    return np.array(newcombinedarray)"
   ]
  },
  {
   "cell_type": "markdown",
   "metadata": {
    "colab_type": "text",
    "id": "DwMACTakdENs"
   },
   "source": [
    "Loading Training images"
   ]
  },
  {
   "cell_type": "code",
   "execution_count": 57,
   "metadata": {
    "colab": {
     "base_uri": "https://localhost:8080/",
     "height": 54
    },
    "colab_type": "code",
    "executionInfo": {
     "elapsed": 1009,
     "status": "ok",
     "timestamp": 1584023568332,
     "user": {
      "displayName": "PUSHPA RANI",
      "photoUrl": "",
      "userId": "04309092780219853136"
     },
     "user_tz": -330
    },
    "id": "_rJ3m987H_oX",
    "outputId": "7cf68ef5-b2d7-4aef-bfba-667f10a1be16"
   },
   "outputs": [
    {
     "name": "stdout",
     "output_type": "stream",
     "text": [
      "Loading Images.....\n",
      "Images Loaded.......\n"
     ]
    }
   ],
   "source": [
    "print(\"Loading Images.....\")\n",
    "images_training = [np.array(Image.open(file)) for file in glob.glob(\"/tmp/DRIVE/training/images/*.tif\")]\n",
    "print('Images Loaded.......')"
   ]
  },
  {
   "cell_type": "code",
   "execution_count": 29,
   "metadata": {
    "colab": {
     "base_uri": "https://localhost:8080/",
     "height": 35
    },
    "colab_type": "code",
    "executionInfo": {
     "elapsed": 1090,
     "status": "ok",
     "timestamp": 1584021477693,
     "user": {
      "displayName": "PUSHPA RANI",
      "photoUrl": "",
      "userId": "04309092780219853136"
     },
     "user_tz": -330
    },
    "id": "PwURAIfK8qD1",
    "outputId": "9dd8cc0e-6a99-4853-858e-1d7cd1b52e38"
   },
   "outputs": [
    {
     "name": "stdout",
     "output_type": "stream",
     "text": [
      "(584, 565, 3)\n"
     ]
    }
   ],
   "source": [
    "print(images_training[0].shape)\n",
    "img = Image.fromarray(images_training[0], 'RGB')\n",
    "img.save('my.png')\n",
    "img.show()\n",
    "# np.array(images_training).shape"
   ]
  },
  {
   "cell_type": "markdown",
   "metadata": {
    "colab_type": "text",
    "id": "FoivzHMadHoL"
   },
   "source": [
    "Loadinng Test imags"
   ]
  },
  {
   "cell_type": "code",
   "execution_count": 0,
   "metadata": {
    "colab": {
     "base_uri": "https://localhost:8080/",
     "height": 54
    },
    "colab_type": "code",
    "executionInfo": {
     "elapsed": 1074,
     "status": "ok",
     "timestamp": 1583240167597,
     "user": {
      "displayName": "PUSHPA RANI",
      "photoUrl": "",
      "userId": "04309092780219853136"
     },
     "user_tz": -330
    },
    "id": "hSrd8PO2c8MB",
    "outputId": "b3265ebf-f7bf-47c8-aa12-eaa252ffa9ab"
   },
   "outputs": [
    {
     "name": "stdout",
     "output_type": "stream",
     "text": [
      "Loading Images.....\n",
      "Images Loaded.......\n"
     ]
    }
   ],
   "source": [
    "print(\"Loading Images.....\")\n",
    "images_testing = [np.array(Image.open(file)) for file in glob.glob(\"/tmp/DRIVE/test/images/*.tif\")]\n",
    "print('Images Loaded.......')"
   ]
  },
  {
   "cell_type": "markdown",
   "metadata": {
    "colab_type": "text",
    "id": "nAPBzvCGdZCA"
   },
   "source": [
    "Seperating Channels training"
   ]
  },
  {
   "cell_type": "code",
   "execution_count": 58,
   "metadata": {
    "colab": {
     "base_uri": "https://localhost:8080/",
     "height": 54
    },
    "colab_type": "code",
    "executionInfo": {
     "elapsed": 1088,
     "status": "ok",
     "timestamp": 1584023577000,
     "user": {
      "displayName": "PUSHPA RANI",
      "photoUrl": "",
      "userId": "04309092780219853136"
     },
     "user_tz": -330
    },
    "id": "h7J6QOlGJ38a",
    "outputId": "369d7af0-c5d1-4757-e894-71f86a237240"
   },
   "outputs": [
    {
     "name": "stdout",
     "output_type": "stream",
     "text": [
      "Seperating Channels.......\n",
      "Channels seprated.......\n"
     ]
    }
   ],
   "source": [
    "print('Seperating Channels.......')\n",
    "(r_training, g_training,b_training) = GetAllChannels(images_training)\n",
    "print('Channels seprated.......')"
   ]
  },
  {
   "cell_type": "code",
   "execution_count": 0,
   "metadata": {
    "colab": {},
    "colab_type": "code",
    "id": "xGWLPtI582xg"
   },
   "outputs": [],
   "source": [
    "np.array(r_training).shape\n",
    "img = Image.fromarray(np.array(r_training)[0])\n",
    "img.save('red.png')\n",
    "img.show()"
   ]
  },
  {
   "cell_type": "markdown",
   "metadata": {
    "colab_type": "text",
    "id": "Az1jz3zsdmBJ"
   },
   "source": [
    "Seperating Channels. testing"
   ]
  },
  {
   "cell_type": "code",
   "execution_count": 0,
   "metadata": {
    "colab": {},
    "colab_type": "code",
    "id": "xj2DIBBmdk7o"
   },
   "outputs": [],
   "source": [
    "print('Seperating Channels.......')\n",
    "(r_testing, g_testing, b_testing) = GetAllChannels(images_testing)\n",
    "print('Channels seprated.......')"
   ]
  },
  {
   "cell_type": "markdown",
   "metadata": {
    "colab_type": "text",
    "id": "eQCEJRMXeK6e"
   },
   "source": [
    "Creating patches of red training"
   ]
  },
  {
   "cell_type": "code",
   "execution_count": 0,
   "metadata": {
    "colab": {
     "base_uri": "https://localhost:8080/",
     "height": 35
    },
    "colab_type": "code",
    "executionInfo": {
     "elapsed": 12815,
     "status": "ok",
     "timestamp": 1583936212900,
     "user": {
      "displayName": "PUSHPA RANI",
      "photoUrl": "",
      "userId": "04309092780219853136"
     },
     "user_tz": -330
    },
    "id": "FwZXe9hfKTTQ",
    "outputId": "8c96fe1a-a853-45e4-b3b8-994e3408834c"
   },
   "outputs": [
    {
     "name": "stdout",
     "output_type": "stream",
     "text": [
      "Creating patches for red channel\n"
     ]
    }
   ],
   "source": [
    "print('Creating patches for red channel')\n",
    "patch_red_training = create_patch(r_training, 3)\n",
    "print('Red channel patches created')"
   ]
  },
  {
   "cell_type": "code",
   "execution_count": 0,
   "metadata": {
    "colab": {},
    "colab_type": "code",
    "id": "O2uifX4I9KCP"
   },
   "outputs": [],
   "source": [
    "a = np.array(patch_red_training)[400].reshape(3,3)\n",
    "img = Image.fromarray(a)\n",
    "img.save('patch1.png')\n",
    "img.show()"
   ]
  },
  {
   "cell_type": "markdown",
   "metadata": {
    "colab_type": "text",
    "id": "MhiQgrmxeYYm"
   },
   "source": [
    "Creating patches of red testing"
   ]
  },
  {
   "cell_type": "code",
   "execution_count": 0,
   "metadata": {
    "colab": {
     "base_uri": "https://localhost:8080/",
     "height": 54
    },
    "colab_type": "code",
    "executionInfo": {
     "elapsed": 22784,
     "status": "ok",
     "timestamp": 1583240382336,
     "user": {
      "displayName": "PUSHPA RANI",
      "photoUrl": "",
      "userId": "04309092780219853136"
     },
     "user_tz": -330
    },
    "id": "SLa0l7f3KThy",
    "outputId": "6d7adcf0-cca8-4e64-f7c5-41ca505c3230"
   },
   "outputs": [
    {
     "name": "stdout",
     "output_type": "stream",
     "text": [
      "Creating patches for red channel\n",
      "Red channel patches created\n"
     ]
    }
   ],
   "source": [
    "print('Creating patches for red channel')\n",
    "patch_red_testing = create_patch(r_testing, 3)\n",
    "print('Red channel patches created')"
   ]
  },
  {
   "cell_type": "markdown",
   "metadata": {
    "colab_type": "text",
    "id": "OAhGU_UKewEE"
   },
   "source": [
    "Creating patches of green training"
   ]
  },
  {
   "cell_type": "code",
   "execution_count": 61,
   "metadata": {
    "colab": {
     "base_uri": "https://localhost:8080/",
     "height": 453
    },
    "colab_type": "code",
    "executionInfo": {
     "elapsed": 103449,
     "status": "error",
     "timestamp": 1584023815524,
     "user": {
      "displayName": "PUSHPA RANI",
      "photoUrl": "",
      "userId": "04309092780219853136"
     },
     "user_tz": -330
    },
    "id": "aZNhvIYIL0e3",
    "outputId": "5c3a3887-e2ca-4b5a-faa2-2ed0892f5916"
   },
   "outputs": [
    {
     "name": "stdout",
     "output_type": "stream",
     "text": [
      "Creating patches for green channel\n"
     ]
    },
    {
     "ename": "KeyboardInterrupt",
     "evalue": "ignored",
     "output_type": "error",
     "traceback": [
      "\u001b[0;31m---------------------------------------------------------------------------\u001b[0m",
      "\u001b[0;31mKeyboardInterrupt\u001b[0m                         Traceback (most recent call last)",
      "\u001b[0;32m<ipython-input-61-9099340d6c0d>\u001b[0m in \u001b[0;36m<module>\u001b[0;34m()\u001b[0m\n\u001b[1;32m      1\u001b[0m \u001b[0mprint\u001b[0m\u001b[0;34m(\u001b[0m\u001b[0;34m'Creating patches for green channel'\u001b[0m\u001b[0;34m)\u001b[0m\u001b[0;34m\u001b[0m\u001b[0;34m\u001b[0m\u001b[0m\n\u001b[0;32m----> 2\u001b[0;31m \u001b[0mpatch_green_training\u001b[0m \u001b[0;34m=\u001b[0m \u001b[0mcreate_patch\u001b[0m\u001b[0;34m(\u001b[0m\u001b[0mg_training\u001b[0m\u001b[0;34m,\u001b[0m \u001b[0;36m3\u001b[0m\u001b[0;34m)\u001b[0m\u001b[0;34m\u001b[0m\u001b[0;34m\u001b[0m\u001b[0m\n\u001b[0m\u001b[1;32m      3\u001b[0m \u001b[0mprint\u001b[0m\u001b[0;34m(\u001b[0m\u001b[0;34m'green channel patches created'\u001b[0m\u001b[0;34m)\u001b[0m\u001b[0;34m\u001b[0m\u001b[0;34m\u001b[0m\u001b[0m\n",
      "\u001b[0;32m<ipython-input-56-a6ac1c4f666e>\u001b[0m in \u001b[0;36mcreate_patch\u001b[0;34m(imgs, patch_size)\u001b[0m\n\u001b[1;32m     18\u001b[0m             \u001b[0;32mfor\u001b[0m \u001b[0mj\u001b[0m \u001b[0;32min\u001b[0m \u001b[0mrange\u001b[0m\u001b[0;34m(\u001b[0m\u001b[0;36m0\u001b[0m\u001b[0;34m,\u001b[0m\u001b[0mimgs\u001b[0m\u001b[0;34m[\u001b[0m\u001b[0mk\u001b[0m\u001b[0;34m]\u001b[0m\u001b[0;34m.\u001b[0m\u001b[0mshape\u001b[0m\u001b[0;34m[\u001b[0m\u001b[0;36m1\u001b[0m\u001b[0;34m]\u001b[0m\u001b[0;34m)\u001b[0m\u001b[0;34m:\u001b[0m\u001b[0;34m\u001b[0m\u001b[0;34m\u001b[0m\u001b[0m\n\u001b[1;32m     19\u001b[0m                 \u001b[0mflatten_imgs\u001b[0m\u001b[0;34m=\u001b[0m\u001b[0mpadded_imgs\u001b[0m\u001b[0;34m[\u001b[0m\u001b[0mi\u001b[0m\u001b[0;34m:\u001b[0m\u001b[0mi\u001b[0m\u001b[0;34m+\u001b[0m\u001b[0mpatch_size\u001b[0m\u001b[0;34m,\u001b[0m\u001b[0mj\u001b[0m\u001b[0;34m:\u001b[0m\u001b[0mj\u001b[0m\u001b[0;34m+\u001b[0m\u001b[0mpatch_size\u001b[0m\u001b[0;34m]\u001b[0m\u001b[0;34m.\u001b[0m\u001b[0mravel\u001b[0m\u001b[0;34m(\u001b[0m\u001b[0;34m)\u001b[0m\u001b[0;34m\u001b[0m\u001b[0;34m\u001b[0m\u001b[0m\n\u001b[0;32m---> 20\u001b[0;31m                 \u001b[0mimgs_mod_flatten\u001b[0m\u001b[0;34m=\u001b[0m\u001b[0mnp\u001b[0m\u001b[0;34m.\u001b[0m\u001b[0mhstack\u001b[0m\u001b[0;34m(\u001b[0m\u001b[0;34m(\u001b[0m\u001b[0mflatten_imgs\u001b[0m\u001b[0;34m)\u001b[0m\u001b[0;34m)\u001b[0m\u001b[0;34m\u001b[0m\u001b[0;34m\u001b[0m\u001b[0m\n\u001b[0m\u001b[1;32m     21\u001b[0m                 \u001b[0mimage_patches\u001b[0m\u001b[0;34m.\u001b[0m\u001b[0mappend\u001b[0m\u001b[0;34m(\u001b[0m\u001b[0mimgs_mod_flatten\u001b[0m\u001b[0;34m)\u001b[0m\u001b[0;34m\u001b[0m\u001b[0;34m\u001b[0m\u001b[0m\n\u001b[1;32m     22\u001b[0m     \u001b[0mimage_patches\u001b[0m\u001b[0;34m=\u001b[0m\u001b[0mnp\u001b[0m\u001b[0;34m.\u001b[0m\u001b[0mvstack\u001b[0m\u001b[0;34m(\u001b[0m\u001b[0mimage_patches\u001b[0m\u001b[0;34m)\u001b[0m\u001b[0;34m\u001b[0m\u001b[0;34m\u001b[0m\u001b[0m\n",
      "\u001b[0;32m<__array_function__ internals>\u001b[0m in \u001b[0;36mhstack\u001b[0;34m(*args, **kwargs)\u001b[0m\n",
      "\u001b[0;32m/usr/local/lib/python3.6/dist-packages/numpy/core/shape_base.py\u001b[0m in \u001b[0;36mhstack\u001b[0;34m(tup)\u001b[0m\n\u001b[1;32m    335\u001b[0m         \u001b[0m_arrays_for_stack_dispatcher\u001b[0m\u001b[0;34m(\u001b[0m\u001b[0mtup\u001b[0m\u001b[0;34m,\u001b[0m \u001b[0mstacklevel\u001b[0m\u001b[0;34m=\u001b[0m\u001b[0;36m2\u001b[0m\u001b[0;34m)\u001b[0m\u001b[0;34m\u001b[0m\u001b[0;34m\u001b[0m\u001b[0m\n\u001b[1;32m    336\u001b[0m \u001b[0;34m\u001b[0m\u001b[0m\n\u001b[0;32m--> 337\u001b[0;31m     \u001b[0marrs\u001b[0m \u001b[0;34m=\u001b[0m \u001b[0matleast_1d\u001b[0m\u001b[0;34m(\u001b[0m\u001b[0;34m*\u001b[0m\u001b[0mtup\u001b[0m\u001b[0;34m)\u001b[0m\u001b[0;34m\u001b[0m\u001b[0;34m\u001b[0m\u001b[0m\n\u001b[0m\u001b[1;32m    338\u001b[0m     \u001b[0;32mif\u001b[0m \u001b[0;32mnot\u001b[0m \u001b[0misinstance\u001b[0m\u001b[0;34m(\u001b[0m\u001b[0marrs\u001b[0m\u001b[0;34m,\u001b[0m \u001b[0mlist\u001b[0m\u001b[0;34m)\u001b[0m\u001b[0;34m:\u001b[0m\u001b[0;34m\u001b[0m\u001b[0;34m\u001b[0m\u001b[0m\n\u001b[1;32m    339\u001b[0m         \u001b[0marrs\u001b[0m \u001b[0;34m=\u001b[0m \u001b[0;34m[\u001b[0m\u001b[0marrs\u001b[0m\u001b[0;34m]\u001b[0m\u001b[0;34m\u001b[0m\u001b[0;34m\u001b[0m\u001b[0m\n",
      "\u001b[0;32m<__array_function__ internals>\u001b[0m in \u001b[0;36matleast_1d\u001b[0;34m(*args, **kwargs)\u001b[0m\n",
      "\u001b[0;31mKeyboardInterrupt\u001b[0m: "
     ]
    }
   ],
   "source": [
    "print('Creating patches for green channel')\n",
    "patch_green_training = create_patch(g_training, 3)\n",
    "print('green channel patches created')"
   ]
  },
  {
   "cell_type": "markdown",
   "metadata": {
    "colab_type": "text",
    "id": "lFG7WZLgetry"
   },
   "source": [
    "Creating patches of green testing"
   ]
  },
  {
   "cell_type": "code",
   "execution_count": 0,
   "metadata": {
    "colab": {},
    "colab_type": "code",
    "id": "XtM9M5gDfMqB"
   },
   "outputs": [],
   "source": [
    "print('Creating patches for green channel')\n",
    "patch_green_testing = create_patch(g_testing, 3)\n",
    "print('green channel patches created')"
   ]
  },
  {
   "cell_type": "markdown",
   "metadata": {
    "colab_type": "text",
    "id": "uETSW5VGfvtQ"
   },
   "source": [
    "Creating patches of blue training"
   ]
  },
  {
   "cell_type": "code",
   "execution_count": 0,
   "metadata": {
    "colab": {},
    "colab_type": "code",
    "id": "_j801tXUL03b"
   },
   "outputs": [],
   "source": [
    "print('Creating patches for blue channel')\n",
    "patch_blue_training=create_patch(b_training,3)\n",
    "print('Blue channel patches created')"
   ]
  },
  {
   "cell_type": "markdown",
   "metadata": {
    "colab_type": "text",
    "id": "jACQBpmVf8gy"
   },
   "source": [
    "Creating patches of blue testing"
   ]
  },
  {
   "cell_type": "code",
   "execution_count": 0,
   "metadata": {
    "colab": {
     "base_uri": "https://localhost:8080/",
     "height": 35
    },
    "colab_type": "code",
    "executionInfo": {
     "elapsed": 23350,
     "status": "ok",
     "timestamp": 1583240766696,
     "user": {
      "displayName": "PUSHPA RANI",
      "photoUrl": "",
      "userId": "04309092780219853136"
     },
     "user_tz": -330
    },
    "id": "4ESMOkPsgAHz",
    "outputId": "5e1973fe-3dfe-45ab-d18b-7cf4905dccae"
   },
   "outputs": [
    {
     "name": "stdout",
     "output_type": "stream",
     "text": [
      "Creating patches for blue channel\n"
     ]
    }
   ],
   "source": [
    "print('Creating patches for blue channel')\n",
    "patch_blue_testing=create_patch(b_testing,3)\n",
    "print('Blue channel patches created')"
   ]
  },
  {
   "cell_type": "markdown",
   "metadata": {
    "colab_type": "text",
    "id": "poESuYbOgMor"
   },
   "source": [
    "Combinig all channel patches in single array training"
   ]
  },
  {
   "cell_type": "code",
   "execution_count": 0,
   "metadata": {
    "colab": {},
    "colab_type": "code",
    "id": "ScKkgTlFNZNb"
   },
   "outputs": [],
   "source": [
    "print('Combinig all channel patches in single array')\n",
    "combinedpatches_training=getCombineChannels(patch_red_training,patch_green_training,patch_blue_training)\n",
    "print('All patches are combined and the shape is {}'.format(combinedpatches_training.shape))\n",
    "# print(combinedpatches_training)"
   ]
  },
  {
   "cell_type": "code",
   "execution_count": 0,
   "metadata": {
    "colab": {},
    "colab_type": "code",
    "id": "SaIy-Rxe9dVr"
   },
   "outputs": [],
   "source": [
    "np.array(combinedpatches_training).shape"
   ]
  },
  {
   "cell_type": "markdown",
   "metadata": {
    "colab_type": "text",
    "id": "fJ7rqP0AgYzk"
   },
   "source": [
    "Combinig all channel patches in single array testing"
   ]
  },
  {
   "cell_type": "code",
   "execution_count": 0,
   "metadata": {
    "colab": {},
    "colab_type": "code",
    "id": "_G6IFy35gbIN"
   },
   "outputs": [],
   "source": [
    "print('Combinig all channel patches in single array')\n",
    "combinedpatches_testing=getCombineChannels(patch_red_testing,patch_green_testing,patch_blue_testing)\n",
    "print('All patches are combined and the shape is {}'.format(combinedpatches_testing.shape))\n",
    "# print(combinedpatches_testing)"
   ]
  },
  {
   "cell_type": "code",
   "execution_count": 0,
   "metadata": {
    "colab": {
     "base_uri": "https://localhost:8080/",
     "height": 35
    },
    "colab_type": "code",
    "executionInfo": {
     "elapsed": 935,
     "status": "ok",
     "timestamp": 1583240902427,
     "user": {
      "displayName": "PUSHPA RANI",
      "photoUrl": "",
      "userId": "04309092780219853136"
     },
     "user_tz": -330
    },
    "id": "jAwXt1R3OoqB",
    "outputId": "79a32163-647a-4d30-cfb5-197b8d3aa676"
   },
   "outputs": [
    {
     "data": {
      "text/plain": [
       "(3, 9)"
      ]
     },
     "execution_count": 109,
     "metadata": {
      "tags": []
     },
     "output_type": "execute_result"
    }
   ],
   "source": [
    "combinedpatches_testing[0].shape"
   ]
  },
  {
   "cell_type": "markdown",
   "metadata": {
    "colab_type": "text",
    "id": "agx7O3QBgzJQ"
   },
   "source": [
    "Reshaping to get required results training"
   ]
  },
  {
   "cell_type": "code",
   "execution_count": 50,
   "metadata": {
    "colab": {
     "base_uri": "https://localhost:8080/",
     "height": 54
    },
    "colab_type": "code",
    "executionInfo": {
     "elapsed": 1546,
     "status": "ok",
     "timestamp": 1584023432803,
     "user": {
      "displayName": "PUSHPA RANI",
      "photoUrl": "",
      "userId": "04309092780219853136"
     },
     "user_tz": -330
    },
    "id": "xgzBdO7XH_og",
    "outputId": "c026f186-27ac-42c8-ab10-a738d0f3c372"
   },
   "outputs": [
    {
     "name": "stdout",
     "output_type": "stream",
     "text": [
      "Reshaping to get required results\n",
      "All patches are reshaped and the shape is (329960, 3, 3, 3)\n"
     ]
    }
   ],
   "source": [
    "print('Reshaping to get required results')\n",
    "reshapedpatches_training=reshapePatches(combinedpatches_training,(3,3,3))\n",
    "print('All patches are reshaped and the shape is {}'.format(reshapedpatches_training.shape))"
   ]
  },
  {
   "cell_type": "code",
   "execution_count": 0,
   "metadata": {
    "colab": {},
    "colab_type": "code",
    "id": "JUIOWWSzqzlc"
   },
   "outputs": [],
   "source": []
  },
  {
   "cell_type": "markdown",
   "metadata": {
    "colab_type": "text",
    "id": "6wk3tdQpq2J9"
   },
   "source": [
    "Todays work 11/03/2020"
   ]
  },
  {
   "cell_type": "code",
   "execution_count": 1,
   "metadata": {
    "colab": {
     "base_uri": "https://localhost:8080/",
     "height": 468
    },
    "colab_type": "code",
    "executionInfo": {
     "elapsed": 5510,
     "status": "error",
     "timestamp": 1584024022988,
     "user": {
      "displayName": "PUSHPA RANI",
      "photoUrl": "",
      "userId": "04309092780219853136"
     },
     "user_tz": -330
    },
    "id": "zhwt53VPqz8L",
    "outputId": "b874927a-bf84-46e8-b522-851890a08c27"
   },
   "outputs": [
    {
     "name": "stdout",
     "output_type": "stream",
     "text": [
      "--2020-03-12 14:40:18--  https://storage.googleapis.com/datsets/patchesknk.zip\n",
      "Resolving storage.googleapis.com (storage.googleapis.com)... 172.217.9.208, 2607:f8b0:4004:814::2010\n",
      "Connecting to storage.googleapis.com (storage.googleapis.com)|172.217.9.208|:443... connected.\n",
      "HTTP request sent, awaiting response... 200 OK\n",
      "Length: 335406700 (320M) [application/x-zip-compressed]\n",
      "Saving to: ‘/tmp/patchesknk.zip’\n",
      "\n",
      "/tmp/patchesknk.zip 100%[===================>] 319.87M   220MB/s    in 1.5s    \n",
      "\n",
      "2020-03-12 14:40:20 (220 MB/s) - ‘/tmp/patchesknk.zip’ saved [335406700/335406700]\n",
      "\n"
     ]
    },
    {
     "ename": "NameError",
     "evalue": "ignored",
     "output_type": "error",
     "traceback": [
      "\u001b[0;31m---------------------------------------------------------------------------\u001b[0m",
      "\u001b[0;31mNameError\u001b[0m                                 Traceback (most recent call last)",
      "\u001b[0;32m<ipython-input-1-b4d1e9a39dd6>\u001b[0m in \u001b[0;36m<module>\u001b[0;34m()\u001b[0m\n\u001b[1;32m      2\u001b[0m \u001b[0;34m\u001b[0m\u001b[0m\n\u001b[1;32m      3\u001b[0m \u001b[0mlocal_zip\u001b[0m \u001b[0;34m=\u001b[0m \u001b[0;34m'/tmp/patchesknk.zip'\u001b[0m\u001b[0;34m\u001b[0m\u001b[0;34m\u001b[0m\u001b[0m\n\u001b[0;32m----> 4\u001b[0;31m \u001b[0mzip_ref\u001b[0m   \u001b[0;34m=\u001b[0m \u001b[0mzipfile\u001b[0m\u001b[0;34m.\u001b[0m\u001b[0mZipFile\u001b[0m\u001b[0;34m(\u001b[0m\u001b[0mlocal_zip\u001b[0m\u001b[0;34m,\u001b[0m \u001b[0;34m'r'\u001b[0m\u001b[0;34m)\u001b[0m\u001b[0;34m\u001b[0m\u001b[0;34m\u001b[0m\u001b[0m\n\u001b[0m\u001b[1;32m      5\u001b[0m \u001b[0mzip_ref\u001b[0m\u001b[0;34m.\u001b[0m\u001b[0mextractall\u001b[0m\u001b[0;34m(\u001b[0m\u001b[0;34m'/tmp'\u001b[0m\u001b[0;34m)\u001b[0m\u001b[0;34m\u001b[0m\u001b[0;34m\u001b[0m\u001b[0m\n\u001b[1;32m      6\u001b[0m \u001b[0mzip_ref\u001b[0m\u001b[0;34m.\u001b[0m\u001b[0mclose\u001b[0m\u001b[0;34m(\u001b[0m\u001b[0;34m)\u001b[0m\u001b[0;34m\u001b[0m\u001b[0;34m\u001b[0m\u001b[0m\n",
      "\u001b[0;31mNameError\u001b[0m: name 'zipfile' is not defined"
     ]
    }
   ],
   "source": [
    "!wget --no-check-certificate \\\n",
    "    \"https://storage.googleapis.com/datsets/patchesknk.zip\"\\\n",
    "    -O \"/tmp/patchesknk.zip\"\n",
    "\n",
    "local_zip = '/tmp/patchesknk.zip'\n",
    "zip_ref   = zipfile.ZipFile(local_zip, 'r')\n",
    "zip_ref.extractall('/tmp')\n",
    "zip_ref.close()"
   ]
  },
  {
   "cell_type": "code",
   "execution_count": 0,
   "metadata": {
    "colab": {},
    "colab_type": "code",
    "id": "XItSZe3rqzeK"
   },
   "outputs": [],
   "source": []
  },
  {
   "cell_type": "code",
   "execution_count": 0,
   "metadata": {
    "colab": {},
    "colab_type": "code",
    "id": "tTTHffA8jzVs"
   },
   "outputs": [],
   "source": [
    "\n",
    "reshapedpatches_training = np.load('/tmp/patchesknk.npy')"
   ]
  },
  {
   "cell_type": "markdown",
   "metadata": {
    "colab_type": "text",
    "id": "2ws4KD_-hDRn"
   },
   "source": [
    "Reshaping to get required results testing"
   ]
  },
  {
   "cell_type": "code",
   "execution_count": 0,
   "metadata": {
    "colab": {},
    "colab_type": "code",
    "id": "0jKE-QadhHco"
   },
   "outputs": [],
   "source": [
    "print('Reshaping to get required results')\n",
    "reshapedpatches_testing=reshapePatches(combinedpatches_testing,(3,9,9))\n",
    "print('All patches are reshaped and the shape is {}'.format(reshapedpatches_testing.shape))"
   ]
  },
  {
   "cell_type": "code",
   "execution_count": 7,
   "metadata": {
    "colab": {
     "base_uri": "https://localhost:8080/",
     "height": 35
    },
    "colab_type": "code",
    "executionInfo": {
     "elapsed": 1249,
     "status": "ok",
     "timestamp": 1584018744704,
     "user": {
      "displayName": "PUSHPA RANI",
      "photoUrl": "",
      "userId": "04309092780219853136"
     },
     "user_tz": -330
    },
    "id": "J2t7BRgMQNnp",
    "outputId": "171ea71a-ae9b-4329-fc2d-c5d176e69b2a"
   },
   "outputs": [
    {
     "data": {
      "text/plain": [
       "(6599200, 3, 9, 9)"
      ]
     },
     "execution_count": 7,
     "metadata": {
      "tags": []
     },
     "output_type": "execute_result"
    }
   ],
   "source": [
    "(reshapedpatches_training).shape"
   ]
  },
  {
   "cell_type": "code",
   "execution_count": 0,
   "metadata": {
    "colab": {
     "base_uri": "https://localhost:8080/",
     "height": 54
    },
    "colab_type": "code",
    "executionInfo": {
     "elapsed": 840,
     "status": "ok",
     "timestamp": 1583241101267,
     "user": {
      "displayName": "PUSHPA RANI",
      "photoUrl": "",
      "userId": "04309092780219853136"
     },
     "user_tz": -330
    },
    "id": "Ra1znf6fH_ot",
    "outputId": "09e328ff-347d-4836-f546-86d08c20a267"
   },
   "outputs": [
    {
     "name": "stdout",
     "output_type": "stream",
     "text": [
      "Saving all patch data to file patchesknk.npy\n",
      "All patch data saved and can be access by variable 'reshapedpatches'\n"
     ]
    }
   ],
   "source": [
    "print('Saving all patch data to file patchesknk.npy')\n",
    "np.save('patchesknk_testing.npy',reshapedpatches_testing)\n",
    "print('All patch data saved and can be access by variable \\'reshapedpatches\\'')"
   ]
  },
  {
   "cell_type": "markdown",
   "metadata": {
    "colab_type": "text",
    "id": "k2b-LAF2S4or"
   },
   "source": [
    "Manual image generate output training"
   ]
  },
  {
   "cell_type": "code",
   "execution_count": 8,
   "metadata": {
    "colab": {
     "base_uri": "https://localhost:8080/",
     "height": 54
    },
    "colab_type": "code",
    "executionInfo": {
     "elapsed": 1429,
     "status": "ok",
     "timestamp": 1584018751782,
     "user": {
      "displayName": "PUSHPA RANI",
      "photoUrl": "",
      "userId": "04309092780219853136"
     },
     "user_tz": -330
    },
    "id": "U5aRCTQWTDmR",
    "outputId": "af4503ae-e81c-4e1a-8d8d-901530c89cf1"
   },
   "outputs": [
    {
     "name": "stdout",
     "output_type": "stream",
     "text": [
      "Loading Images.....\n",
      "Images Loaded.......\n"
     ]
    }
   ],
   "source": [
    "print(\"Loading Images.....\")\n",
    "images_manual_training = [np.array(Image.open(file)) for file in glob.glob(\"/tmp/DRIVE/training/1st_manual/*.gif\")]\n",
    "print('Images Loaded.......')"
   ]
  },
  {
   "cell_type": "markdown",
   "metadata": {
    "colab_type": "text",
    "id": "0fBzCeA3h5p8"
   },
   "source": [
    "Manual image generate output testing"
   ]
  },
  {
   "cell_type": "code",
   "execution_count": 9,
   "metadata": {
    "colab": {
     "base_uri": "https://localhost:8080/",
     "height": 54
    },
    "colab_type": "code",
    "executionInfo": {
     "elapsed": 1168,
     "status": "ok",
     "timestamp": 1584018755638,
     "user": {
      "displayName": "PUSHPA RANI",
      "photoUrl": "",
      "userId": "04309092780219853136"
     },
     "user_tz": -330
    },
    "id": "wNC1rHM-h89A",
    "outputId": "6c9d9545-c344-4089-9e42-a73f8ee7141f"
   },
   "outputs": [
    {
     "name": "stdout",
     "output_type": "stream",
     "text": [
      "Loading Images.....\n",
      "Images Loaded.......\n"
     ]
    }
   ],
   "source": [
    "print(\"Loading Images.....\")\n",
    "images_manual_testing = [np.array(Image.open(file)) for file in glob.glob(\"/tmp/DRIVE/test/1st_manual/*.gif\")]\n",
    "print('Images Loaded.......')"
   ]
  },
  {
   "cell_type": "code",
   "execution_count": 10,
   "metadata": {
    "colab": {
     "base_uri": "https://localhost:8080/",
     "height": 35
    },
    "colab_type": "code",
    "executionInfo": {
     "elapsed": 1178,
     "status": "ok",
     "timestamp": 1584018758416,
     "user": {
      "displayName": "PUSHPA RANI",
      "photoUrl": "",
      "userId": "04309092780219853136"
     },
     "user_tz": -330
    },
    "id": "vbNok0EmTDz2",
    "outputId": "24941617-6744-41de-de0c-682dd6cd23e8"
   },
   "outputs": [
    {
     "name": "stdout",
     "output_type": "stream",
     "text": [
      "(20, 584, 565)\n"
     ]
    }
   ],
   "source": [
    "print(np.array(images_manual_training).shape)"
   ]
  },
  {
   "cell_type": "code",
   "execution_count": 11,
   "metadata": {
    "colab": {
     "base_uri": "https://localhost:8080/",
     "height": 35
    },
    "colab_type": "code",
    "executionInfo": {
     "elapsed": 1142,
     "status": "ok",
     "timestamp": 1584018761174,
     "user": {
      "displayName": "PUSHPA RANI",
      "photoUrl": "",
      "userId": "04309092780219853136"
     },
     "user_tz": -330
    },
    "id": "rn06vnuDTD5Q",
    "outputId": "1f0e53bb-9126-4b96-87fe-2bffee98008a"
   },
   "outputs": [
    {
     "data": {
      "text/plain": [
       "(6599200,)"
      ]
     },
     "execution_count": 11,
     "metadata": {
      "tags": []
     },
     "output_type": "execute_result"
    }
   ],
   "source": [
    "output_training = []\n",
    "output_training = np.array(images_manual_training).ravel()\n",
    "output_training.shape"
   ]
  },
  {
   "cell_type": "code",
   "execution_count": 0,
   "metadata": {
    "colab": {},
    "colab_type": "code",
    "id": "zuWUlxo2TEDT"
   },
   "outputs": [],
   "source": [
    "output_testing = []\n",
    "output_testing = np.array(images_manual_testing).ravel()"
   ]
  },
  {
   "cell_type": "code",
   "execution_count": 0,
   "metadata": {
    "colab": {},
    "colab_type": "code",
    "id": "ur_tPWEMsnzs"
   },
   "outputs": [],
   "source": [
    "# print(reshapedpatches_training[40])\n",
    "reshapedpatches_training = np.moveaxis(reshapedpatches_training, 3, 1)\n"
   ]
  },
  {
   "cell_type": "code",
   "execution_count": 13,
   "metadata": {
    "colab": {
     "base_uri": "https://localhost:8080/",
     "height": 550
    },
    "colab_type": "code",
    "executionInfo": {
     "elapsed": 1293,
     "status": "ok",
     "timestamp": 1584018775824,
     "user": {
      "displayName": "PUSHPA RANI",
      "photoUrl": "",
      "userId": "04309092780219853136"
     },
     "user_tz": -330
    },
    "id": "eRhi2Hfi5m4G",
    "outputId": "6e559683-b894-4993-8707-092dd5fd0396"
   },
   "outputs": [
    {
     "name": "stdout",
     "output_type": "stream",
     "text": [
      "[[[4 4 4 4 4 4 4 4 4]\n",
      "  [4 4 4 4 4 4 4 4 4]\n",
      "  [4 4 4 4 4 4 4 4 4]\n",
      "  [4 4 4 4 4 4 4 4 4]\n",
      "  [4 4 4 4 4 4 4 4 4]\n",
      "  [4 4 4 4 4 4 4 4 4]\n",
      "  [4 4 5 5 4 4 4 5 5]\n",
      "  [3 3 3 3 4 4 5 6 7]\n",
      "  [6 5 5 5 4 4 4 5 6]]\n",
      "\n",
      " [[4 4 4 4 4 4 4 4 4]\n",
      "  [4 4 4 4 4 4 4 4 4]\n",
      "  [4 4 4 4 4 4 4 4 4]\n",
      "  [4 4 4 4 4 4 4 4 4]\n",
      "  [4 4 4 4 4 4 4 4 4]\n",
      "  [4 4 4 4 4 4 4 4 4]\n",
      "  [4 4 5 5 4 4 4 5 5]\n",
      "  [3 3 3 3 4 4 5 6 7]\n",
      "  [6 5 5 5 4 4 4 5 6]]\n",
      "\n",
      " [[4 4 4 4 4 4 4 4 4]\n",
      "  [4 4 4 4 4 4 4 4 4]\n",
      "  [4 4 4 4 4 4 4 4 4]\n",
      "  [4 4 4 4 4 4 4 4 4]\n",
      "  [4 4 4 4 4 4 4 4 4]\n",
      "  [4 4 4 4 4 4 4 4 4]\n",
      "  [4 4 5 5 4 4 4 5 5]\n",
      "  [3 3 3 3 4 4 5 6 7]\n",
      "  [6 5 5 5 4 4 4 5 6]]]\n"
     ]
    }
   ],
   "source": [
    "a = reshapedpatches_training\n",
    "(a[40])"
   ]
  },
  {
   "cell_type": "code",
   "execution_count": 0,
   "metadata": {
    "colab": {},
    "colab_type": "code",
    "id": "CvluOtCeH_o2"
   },
   "outputs": [],
   "source": [
    "model = tf.keras.models.Sequential([\n",
    "    tf.keras.layers.Conv2D(64, (3, 3), activation='relu', input_shape=(3, 9, 9), data_format='channels_first'),\n",
    "    tf.keras.layers.MaxPooling2D((3, 3),data_format='channels_first'),\n",
    "    # tf.keras.layers.Conv2D(32, (3, 3), activation='relu', input_shape=(9, 9, 3)),\n",
    "    # tf.keras.layers.MaxPooling2D((3, 3)),\n",
    "    tf.keras.layers.Flatten(),\n",
    "    tf.keras.layers.Dense(128, activation='relu'),\n",
    "    tf.keras.layers.Dense(64, activation='relu'),\n",
    "    tf.keras.layers.Dense(1, activation='softmax')\n",
    "])\n",
    "\n",
    "model.compile(optimizer='adam', loss='binary_crossentropy', metrics=['acc'])"
   ]
  },
  {
   "cell_type": "code",
   "execution_count": 15,
   "metadata": {
    "colab": {
     "base_uri": "https://localhost:8080/",
     "height": 384
    },
    "colab_type": "code",
    "executionInfo": {
     "elapsed": 1096,
     "status": "ok",
     "timestamp": 1584018798672,
     "user": {
      "displayName": "PUSHPA RANI",
      "photoUrl": "",
      "userId": "04309092780219853136"
     },
     "user_tz": -330
    },
    "id": "vVJoeS0Zs8dB",
    "outputId": "46355646-e5ff-4a5e-c7f8-f4e9d65c1e5f"
   },
   "outputs": [
    {
     "name": "stdout",
     "output_type": "stream",
     "text": [
      "Model: \"sequential\"\n",
      "_________________________________________________________________\n",
      "Layer (type)                 Output Shape              Param #   \n",
      "=================================================================\n",
      "conv2d (Conv2D)              (None, 64, 7, 7)          1792      \n",
      "_________________________________________________________________\n",
      "max_pooling2d (MaxPooling2D) (None, 64, 2, 2)          0         \n",
      "_________________________________________________________________\n",
      "flatten (Flatten)            (None, 256)               0         \n",
      "_________________________________________________________________\n",
      "dense (Dense)                (None, 128)               32896     \n",
      "_________________________________________________________________\n",
      "dense_1 (Dense)              (None, 64)                8256      \n",
      "_________________________________________________________________\n",
      "dense_2 (Dense)              (None, 1)                 65        \n",
      "=================================================================\n",
      "Total params: 43,009\n",
      "Trainable params: 43,009\n",
      "Non-trainable params: 0\n",
      "_________________________________________________________________\n"
     ]
    }
   ],
   "source": [
    "model.summary()"
   ]
  },
  {
   "cell_type": "code",
   "execution_count": 16,
   "metadata": {
    "colab": {
     "base_uri": "https://localhost:8080/",
     "height": 437
    },
    "colab_type": "code",
    "executionInfo": {
     "elapsed": 437732,
     "status": "error",
     "timestamp": 1584019239594,
     "user": {
      "displayName": "PUSHPA RANI",
      "photoUrl": "",
      "userId": "04309092780219853136"
     },
     "user_tz": -330
    },
    "id": "v6fVDuPvH_o8",
    "outputId": "84276f30-6c31-42c9-9666-b9e25e38f098"
   },
   "outputs": [
    {
     "name": "stdout",
     "output_type": "stream",
     "text": [
      "Train on 6599200 samples\n",
      "Epoch 1/10\n",
      "6599200/6599200 [==============================] - 332s 50us/sample - loss: -320.3944 - acc: 0.0000e+00\n",
      "Epoch 2/10\n",
      "2150272/6599200 [========>.....................] - ETA: 3:36 - loss: -320.3901 - acc: 0.0000e+00"
     ]
    },
    {
     "ename": "KeyboardInterrupt",
     "evalue": "ignored",
     "output_type": "error",
     "traceback": [
      "\u001b[0;31m---------------------------------------------------------------------------\u001b[0m",
      "\u001b[0;31mKeyboardInterrupt\u001b[0m                         Traceback (most recent call last)",
      "\u001b[0;32m<ipython-input-16-30498f3c738e>\u001b[0m in \u001b[0;36m<module>\u001b[0;34m()\u001b[0m\n\u001b[0;32m----> 1\u001b[0;31m \u001b[0mhistory\u001b[0m \u001b[0;34m=\u001b[0m \u001b[0mmodel\u001b[0m\u001b[0;34m.\u001b[0m\u001b[0mfit\u001b[0m\u001b[0;34m(\u001b[0m\u001b[0mreshapedpatches_training\u001b[0m\u001b[0;34m,\u001b[0m \u001b[0moutput_training\u001b[0m\u001b[0;34m,\u001b[0m\u001b[0mbatch_size\u001b[0m\u001b[0;34m=\u001b[0m\u001b[0;36m64\u001b[0m\u001b[0;34m,\u001b[0m \u001b[0mepochs\u001b[0m \u001b[0;34m=\u001b[0m \u001b[0;36m10\u001b[0m\u001b[0;34m)\u001b[0m\u001b[0;34m\u001b[0m\u001b[0;34m\u001b[0m\u001b[0m\n\u001b[0m",
      "\u001b[0;32m/tensorflow-2.1.0/python3.6/tensorflow_core/python/keras/engine/training.py\u001b[0m in \u001b[0;36mfit\u001b[0;34m(self, x, y, batch_size, epochs, verbose, callbacks, validation_split, validation_data, shuffle, class_weight, sample_weight, initial_epoch, steps_per_epoch, validation_steps, validation_freq, max_queue_size, workers, use_multiprocessing, **kwargs)\u001b[0m\n\u001b[1;32m    817\u001b[0m         \u001b[0mmax_queue_size\u001b[0m\u001b[0;34m=\u001b[0m\u001b[0mmax_queue_size\u001b[0m\u001b[0;34m,\u001b[0m\u001b[0;34m\u001b[0m\u001b[0;34m\u001b[0m\u001b[0m\n\u001b[1;32m    818\u001b[0m         \u001b[0mworkers\u001b[0m\u001b[0;34m=\u001b[0m\u001b[0mworkers\u001b[0m\u001b[0;34m,\u001b[0m\u001b[0;34m\u001b[0m\u001b[0;34m\u001b[0m\u001b[0m\n\u001b[0;32m--> 819\u001b[0;31m         use_multiprocessing=use_multiprocessing)\n\u001b[0m\u001b[1;32m    820\u001b[0m \u001b[0;34m\u001b[0m\u001b[0m\n\u001b[1;32m    821\u001b[0m   def evaluate(self,\n",
      "\u001b[0;32m/tensorflow-2.1.0/python3.6/tensorflow_core/python/keras/engine/training_v2.py\u001b[0m in \u001b[0;36mfit\u001b[0;34m(self, model, x, y, batch_size, epochs, verbose, callbacks, validation_split, validation_data, shuffle, class_weight, sample_weight, initial_epoch, steps_per_epoch, validation_steps, validation_freq, max_queue_size, workers, use_multiprocessing, **kwargs)\u001b[0m\n\u001b[1;32m    340\u001b[0m                 \u001b[0mmode\u001b[0m\u001b[0;34m=\u001b[0m\u001b[0mModeKeys\u001b[0m\u001b[0;34m.\u001b[0m\u001b[0mTRAIN\u001b[0m\u001b[0;34m,\u001b[0m\u001b[0;34m\u001b[0m\u001b[0;34m\u001b[0m\u001b[0m\n\u001b[1;32m    341\u001b[0m                 \u001b[0mtraining_context\u001b[0m\u001b[0;34m=\u001b[0m\u001b[0mtraining_context\u001b[0m\u001b[0;34m,\u001b[0m\u001b[0;34m\u001b[0m\u001b[0;34m\u001b[0m\u001b[0m\n\u001b[0;32m--> 342\u001b[0;31m                 total_epochs=epochs)\n\u001b[0m\u001b[1;32m    343\u001b[0m             \u001b[0mcbks\u001b[0m\u001b[0;34m.\u001b[0m\u001b[0mmake_logs\u001b[0m\u001b[0;34m(\u001b[0m\u001b[0mmodel\u001b[0m\u001b[0;34m,\u001b[0m \u001b[0mepoch_logs\u001b[0m\u001b[0;34m,\u001b[0m \u001b[0mtraining_result\u001b[0m\u001b[0;34m,\u001b[0m \u001b[0mModeKeys\u001b[0m\u001b[0;34m.\u001b[0m\u001b[0mTRAIN\u001b[0m\u001b[0;34m)\u001b[0m\u001b[0;34m\u001b[0m\u001b[0;34m\u001b[0m\u001b[0m\n\u001b[1;32m    344\u001b[0m \u001b[0;34m\u001b[0m\u001b[0m\n",
      "\u001b[0;32m/tensorflow-2.1.0/python3.6/tensorflow_core/python/keras/engine/training_v2.py\u001b[0m in \u001b[0;36mrun_one_epoch\u001b[0;34m(model, iterator, execution_function, dataset_size, batch_size, strategy, steps_per_epoch, num_samples, mode, training_context, total_epochs)\u001b[0m\n\u001b[1;32m    126\u001b[0m         step=step, mode=mode, size=current_batch_size) as batch_logs:\n\u001b[1;32m    127\u001b[0m       \u001b[0;32mtry\u001b[0m\u001b[0;34m:\u001b[0m\u001b[0;34m\u001b[0m\u001b[0;34m\u001b[0m\u001b[0m\n\u001b[0;32m--> 128\u001b[0;31m         \u001b[0mbatch_outs\u001b[0m \u001b[0;34m=\u001b[0m \u001b[0mexecution_function\u001b[0m\u001b[0;34m(\u001b[0m\u001b[0miterator\u001b[0m\u001b[0;34m)\u001b[0m\u001b[0;34m\u001b[0m\u001b[0;34m\u001b[0m\u001b[0m\n\u001b[0m\u001b[1;32m    129\u001b[0m       \u001b[0;32mexcept\u001b[0m \u001b[0;34m(\u001b[0m\u001b[0mStopIteration\u001b[0m\u001b[0;34m,\u001b[0m \u001b[0merrors\u001b[0m\u001b[0;34m.\u001b[0m\u001b[0mOutOfRangeError\u001b[0m\u001b[0;34m)\u001b[0m\u001b[0;34m:\u001b[0m\u001b[0;34m\u001b[0m\u001b[0;34m\u001b[0m\u001b[0m\n\u001b[1;32m    130\u001b[0m         \u001b[0;31m# TODO(kaftan): File bug about tf function and errors.OutOfRangeError?\u001b[0m\u001b[0;34m\u001b[0m\u001b[0;34m\u001b[0m\u001b[0;34m\u001b[0m\u001b[0m\n",
      "\u001b[0;32m/tensorflow-2.1.0/python3.6/tensorflow_core/python/keras/engine/training_v2_utils.py\u001b[0m in \u001b[0;36mexecution_function\u001b[0;34m(input_fn)\u001b[0m\n\u001b[1;32m     96\u001b[0m     \u001b[0;31m# `numpy` translates Tensors to values in Eager mode.\u001b[0m\u001b[0;34m\u001b[0m\u001b[0;34m\u001b[0m\u001b[0;34m\u001b[0m\u001b[0m\n\u001b[1;32m     97\u001b[0m     return nest.map_structure(_non_none_constant_value,\n\u001b[0;32m---> 98\u001b[0;31m                               distributed_function(input_fn))\n\u001b[0m\u001b[1;32m     99\u001b[0m \u001b[0;34m\u001b[0m\u001b[0m\n\u001b[1;32m    100\u001b[0m   \u001b[0;32mreturn\u001b[0m \u001b[0mexecution_function\u001b[0m\u001b[0;34m\u001b[0m\u001b[0;34m\u001b[0m\u001b[0m\n",
      "\u001b[0;32m/tensorflow-2.1.0/python3.6/tensorflow_core/python/util/nest.py\u001b[0m in \u001b[0;36mmap_structure\u001b[0;34m(func, *structure, **kwargs)\u001b[0m\n\u001b[1;32m    566\u001b[0m \u001b[0;34m\u001b[0m\u001b[0m\n\u001b[1;32m    567\u001b[0m   return pack_sequence_as(\n\u001b[0;32m--> 568\u001b[0;31m       \u001b[0mstructure\u001b[0m\u001b[0;34m[\u001b[0m\u001b[0;36m0\u001b[0m\u001b[0;34m]\u001b[0m\u001b[0;34m,\u001b[0m \u001b[0;34m[\u001b[0m\u001b[0mfunc\u001b[0m\u001b[0;34m(\u001b[0m\u001b[0;34m*\u001b[0m\u001b[0mx\u001b[0m\u001b[0;34m)\u001b[0m \u001b[0;32mfor\u001b[0m \u001b[0mx\u001b[0m \u001b[0;32min\u001b[0m \u001b[0mentries\u001b[0m\u001b[0;34m]\u001b[0m\u001b[0;34m,\u001b[0m\u001b[0;34m\u001b[0m\u001b[0;34m\u001b[0m\u001b[0m\n\u001b[0m\u001b[1;32m    569\u001b[0m       expand_composites=expand_composites)\n\u001b[1;32m    570\u001b[0m \u001b[0;34m\u001b[0m\u001b[0m\n",
      "\u001b[0;32m/tensorflow-2.1.0/python3.6/tensorflow_core/python/util/nest.py\u001b[0m in \u001b[0;36m<listcomp>\u001b[0;34m(.0)\u001b[0m\n\u001b[1;32m    566\u001b[0m \u001b[0;34m\u001b[0m\u001b[0m\n\u001b[1;32m    567\u001b[0m   return pack_sequence_as(\n\u001b[0;32m--> 568\u001b[0;31m       \u001b[0mstructure\u001b[0m\u001b[0;34m[\u001b[0m\u001b[0;36m0\u001b[0m\u001b[0;34m]\u001b[0m\u001b[0;34m,\u001b[0m \u001b[0;34m[\u001b[0m\u001b[0mfunc\u001b[0m\u001b[0;34m(\u001b[0m\u001b[0;34m*\u001b[0m\u001b[0mx\u001b[0m\u001b[0;34m)\u001b[0m \u001b[0;32mfor\u001b[0m \u001b[0mx\u001b[0m \u001b[0;32min\u001b[0m \u001b[0mentries\u001b[0m\u001b[0;34m]\u001b[0m\u001b[0;34m,\u001b[0m\u001b[0;34m\u001b[0m\u001b[0;34m\u001b[0m\u001b[0m\n\u001b[0m\u001b[1;32m    569\u001b[0m       expand_composites=expand_composites)\n\u001b[1;32m    570\u001b[0m \u001b[0;34m\u001b[0m\u001b[0m\n",
      "\u001b[0;32m/tensorflow-2.1.0/python3.6/tensorflow_core/python/keras/engine/training_v2_utils.py\u001b[0m in \u001b[0;36m_non_none_constant_value\u001b[0;34m(v)\u001b[0m\n\u001b[1;32m    128\u001b[0m \u001b[0;34m\u001b[0m\u001b[0m\n\u001b[1;32m    129\u001b[0m \u001b[0;32mdef\u001b[0m \u001b[0m_non_none_constant_value\u001b[0m\u001b[0;34m(\u001b[0m\u001b[0mv\u001b[0m\u001b[0;34m)\u001b[0m\u001b[0;34m:\u001b[0m\u001b[0;34m\u001b[0m\u001b[0;34m\u001b[0m\u001b[0m\n\u001b[0;32m--> 130\u001b[0;31m   \u001b[0mconstant_value\u001b[0m \u001b[0;34m=\u001b[0m \u001b[0mtensor_util\u001b[0m\u001b[0;34m.\u001b[0m\u001b[0mconstant_value\u001b[0m\u001b[0;34m(\u001b[0m\u001b[0mv\u001b[0m\u001b[0;34m)\u001b[0m\u001b[0;34m\u001b[0m\u001b[0;34m\u001b[0m\u001b[0m\n\u001b[0m\u001b[1;32m    131\u001b[0m   \u001b[0;32mreturn\u001b[0m \u001b[0mconstant_value\u001b[0m \u001b[0;32mif\u001b[0m \u001b[0mconstant_value\u001b[0m \u001b[0;32mis\u001b[0m \u001b[0;32mnot\u001b[0m \u001b[0;32mNone\u001b[0m \u001b[0;32melse\u001b[0m \u001b[0mv\u001b[0m\u001b[0;34m\u001b[0m\u001b[0;34m\u001b[0m\u001b[0m\n\u001b[1;32m    132\u001b[0m \u001b[0;34m\u001b[0m\u001b[0m\n",
      "\u001b[0;32m/tensorflow-2.1.0/python3.6/tensorflow_core/python/framework/tensor_util.py\u001b[0m in \u001b[0;36mconstant_value\u001b[0;34m(tensor, partial)\u001b[0m\n\u001b[1;32m    820\u001b[0m   \"\"\"\n\u001b[1;32m    821\u001b[0m   \u001b[0;32mif\u001b[0m \u001b[0misinstance\u001b[0m\u001b[0;34m(\u001b[0m\u001b[0mtensor\u001b[0m\u001b[0;34m,\u001b[0m \u001b[0mops\u001b[0m\u001b[0;34m.\u001b[0m\u001b[0mEagerTensor\u001b[0m\u001b[0;34m)\u001b[0m\u001b[0;34m:\u001b[0m\u001b[0;34m\u001b[0m\u001b[0;34m\u001b[0m\u001b[0m\n\u001b[0;32m--> 822\u001b[0;31m     \u001b[0;32mreturn\u001b[0m \u001b[0mtensor\u001b[0m\u001b[0;34m.\u001b[0m\u001b[0mnumpy\u001b[0m\u001b[0;34m(\u001b[0m\u001b[0;34m)\u001b[0m\u001b[0;34m\u001b[0m\u001b[0;34m\u001b[0m\u001b[0m\n\u001b[0m\u001b[1;32m    823\u001b[0m   \u001b[0;32mif\u001b[0m \u001b[0;32mnot\u001b[0m \u001b[0mis_tensor\u001b[0m\u001b[0;34m(\u001b[0m\u001b[0mtensor\u001b[0m\u001b[0;34m)\u001b[0m\u001b[0;34m:\u001b[0m\u001b[0;34m\u001b[0m\u001b[0;34m\u001b[0m\u001b[0m\n\u001b[1;32m    824\u001b[0m     \u001b[0;32mreturn\u001b[0m \u001b[0mtensor\u001b[0m\u001b[0;34m\u001b[0m\u001b[0;34m\u001b[0m\u001b[0m\n",
      "\u001b[0;32m/tensorflow-2.1.0/python3.6/tensorflow_core/python/framework/ops.py\u001b[0m in \u001b[0;36mnumpy\u001b[0;34m(self)\u001b[0m\n\u001b[1;32m    940\u001b[0m     \"\"\"\n\u001b[1;32m    941\u001b[0m     \u001b[0;31m# TODO(slebedev): Consider avoiding a copy for non-CPU or remote tensors.\u001b[0m\u001b[0;34m\u001b[0m\u001b[0;34m\u001b[0m\u001b[0;34m\u001b[0m\u001b[0m\n\u001b[0;32m--> 942\u001b[0;31m     \u001b[0mmaybe_arr\u001b[0m \u001b[0;34m=\u001b[0m \u001b[0mself\u001b[0m\u001b[0;34m.\u001b[0m\u001b[0m_numpy\u001b[0m\u001b[0;34m(\u001b[0m\u001b[0;34m)\u001b[0m  \u001b[0;31m# pylint: disable=protected-access\u001b[0m\u001b[0;34m\u001b[0m\u001b[0;34m\u001b[0m\u001b[0m\n\u001b[0m\u001b[1;32m    943\u001b[0m     \u001b[0;32mreturn\u001b[0m \u001b[0mmaybe_arr\u001b[0m\u001b[0;34m.\u001b[0m\u001b[0mcopy\u001b[0m\u001b[0;34m(\u001b[0m\u001b[0;34m)\u001b[0m \u001b[0;32mif\u001b[0m \u001b[0misinstance\u001b[0m\u001b[0;34m(\u001b[0m\u001b[0mmaybe_arr\u001b[0m\u001b[0;34m,\u001b[0m \u001b[0mnp\u001b[0m\u001b[0;34m.\u001b[0m\u001b[0mndarray\u001b[0m\u001b[0;34m)\u001b[0m \u001b[0;32melse\u001b[0m \u001b[0mmaybe_arr\u001b[0m\u001b[0;34m\u001b[0m\u001b[0;34m\u001b[0m\u001b[0m\n\u001b[1;32m    944\u001b[0m \u001b[0;34m\u001b[0m\u001b[0m\n",
      "\u001b[0;32m/tensorflow-2.1.0/python3.6/tensorflow_core/python/framework/ops.py\u001b[0m in \u001b[0;36m_numpy\u001b[0;34m(self)\u001b[0m\n\u001b[1;32m    906\u001b[0m     \u001b[0;31m# pylint: disable=protected-access\u001b[0m\u001b[0;34m\u001b[0m\u001b[0;34m\u001b[0m\u001b[0;34m\u001b[0m\u001b[0m\n\u001b[1;32m    907\u001b[0m     \u001b[0;32mtry\u001b[0m\u001b[0;34m:\u001b[0m\u001b[0;34m\u001b[0m\u001b[0;34m\u001b[0m\u001b[0m\n\u001b[0;32m--> 908\u001b[0;31m       \u001b[0;32mreturn\u001b[0m \u001b[0mself\u001b[0m\u001b[0;34m.\u001b[0m\u001b[0m_numpy_internal\u001b[0m\u001b[0;34m(\u001b[0m\u001b[0;34m)\u001b[0m\u001b[0;34m\u001b[0m\u001b[0;34m\u001b[0m\u001b[0m\n\u001b[0m\u001b[1;32m    909\u001b[0m     \u001b[0;32mexcept\u001b[0m \u001b[0mcore\u001b[0m\u001b[0;34m.\u001b[0m\u001b[0m_NotOkStatusException\u001b[0m \u001b[0;32mas\u001b[0m \u001b[0me\u001b[0m\u001b[0;34m:\u001b[0m\u001b[0;34m\u001b[0m\u001b[0;34m\u001b[0m\u001b[0m\n\u001b[1;32m    910\u001b[0m       \u001b[0msix\u001b[0m\u001b[0;34m.\u001b[0m\u001b[0mraise_from\u001b[0m\u001b[0;34m(\u001b[0m\u001b[0mcore\u001b[0m\u001b[0;34m.\u001b[0m\u001b[0m_status_to_exception\u001b[0m\u001b[0;34m(\u001b[0m\u001b[0me\u001b[0m\u001b[0;34m.\u001b[0m\u001b[0mcode\u001b[0m\u001b[0;34m,\u001b[0m \u001b[0me\u001b[0m\u001b[0;34m.\u001b[0m\u001b[0mmessage\u001b[0m\u001b[0;34m)\u001b[0m\u001b[0;34m,\u001b[0m \u001b[0;32mNone\u001b[0m\u001b[0;34m)\u001b[0m\u001b[0;34m\u001b[0m\u001b[0;34m\u001b[0m\u001b[0m\n",
      "\u001b[0;31mKeyboardInterrupt\u001b[0m: "
     ]
    }
   ],
   "source": [
    "# x_train = x_train/ 255.0\n",
    "# x_test = x_test/ 255.0\n",
    "history = model.fit(reshapedpatches_training, output_training,batch_size=64, epochs = 10)"
   ]
  },
  {
   "cell_type": "code",
   "execution_count": 0,
   "metadata": {
    "colab": {},
    "colab_type": "code",
    "id": "AyU6US_IH_pC"
   },
   "outputs": [],
   "source": []
  },
  {
   "cell_type": "code",
   "execution_count": 0,
   "metadata": {
    "colab": {
     "base_uri": "https://localhost:8080/",
     "height": 129
    },
    "colab_type": "code",
    "executionInfo": {
     "elapsed": 36769,
     "status": "ok",
     "timestamp": 1583928900085,
     "user": {
      "displayName": "PUSHPA RANI",
      "photoUrl": "",
      "userId": "04309092780219853136"
     },
     "user_tz": -330
    },
    "id": "KNKp2f2fgI_c",
    "outputId": "80f8b11c-a411-4ea6-f3c3-722b5add6579"
   },
   "outputs": [
    {
     "name": "stdout",
     "output_type": "stream",
     "text": [
      "Go to this URL in a browser: https://accounts.google.com/o/oauth2/auth?client_id=947318989803-6bn6qk8qdgf4n4g3pfee6491hc0brc4i.apps.googleusercontent.com&redirect_uri=urn%3aietf%3awg%3aoauth%3a2.0%3aoob&response_type=code&scope=email%20https%3a%2f%2fwww.googleapis.com%2fauth%2fdocs.test%20https%3a%2f%2fwww.googleapis.com%2fauth%2fdrive%20https%3a%2f%2fwww.googleapis.com%2fauth%2fdrive.photos.readonly%20https%3a%2f%2fwww.googleapis.com%2fauth%2fpeopleapi.readonly\n",
      "\n",
      "Enter your authorization code:\n",
      "··········\n",
      "Mounted at /content/drive\n"
     ]
    }
   ],
   "source": [
    "from google.colab import drive\n",
    "drive.mount('/content/drive')"
   ]
  },
  {
   "cell_type": "code",
   "execution_count": 0,
   "metadata": {
    "colab": {
     "base_uri": "https://localhost:8080/",
     "height": 172
    },
    "colab_type": "code",
    "executionInfo": {
     "elapsed": 1324,
     "status": "error",
     "timestamp": 1583928793679,
     "user": {
      "displayName": "PUSHPA RANI",
      "photoUrl": "",
      "userId": "04309092780219853136"
     },
     "user_tz": -330
    },
    "id": "SwKwe7X-H_pL",
    "outputId": "70df0596-ed32-440a-d55d-5e40c3af648c"
   },
   "outputs": [
    {
     "ename": "AttributeError",
     "evalue": "ignored",
     "output_type": "error",
     "traceback": [
      "\u001b[0;31m---------------------------------------------------------------------------\u001b[0m",
      "\u001b[0;31mAttributeError\u001b[0m                            Traceback (most recent call last)",
      "\u001b[0;32m<ipython-input-6-6f48c73d0e61>\u001b[0m in \u001b[0;36m<module>\u001b[0;34m()\u001b[0m\n\u001b[0;32m----> 1\u001b[0;31m \u001b[0mdrive\u001b[0m\u001b[0;34m.\u001b[0m\u001b[0munmount\u001b[0m\u001b[0;34m(\u001b[0m\u001b[0;34m)\u001b[0m\u001b[0;34m\u001b[0m\u001b[0;34m\u001b[0m\u001b[0m\n\u001b[0m",
      "\u001b[0;31mAttributeError\u001b[0m: module 'google.colab.drive' has no attribute 'unmount'"
     ]
    }
   ],
   "source": [
    "drive.unmount()"
   ]
  },
  {
   "cell_type": "code",
   "execution_count": 0,
   "metadata": {
    "colab": {},
    "colab_type": "code",
    "id": "GZ2tRiNQH_pT"
   },
   "outputs": [],
   "source": []
  },
  {
   "cell_type": "code",
   "execution_count": 0,
   "metadata": {
    "colab": {},
    "colab_type": "code",
    "id": "N60eD-c5H_pd"
   },
   "outputs": [],
   "source": []
  },
  {
   "cell_type": "code",
   "execution_count": 0,
   "metadata": {
    "colab": {},
    "colab_type": "code",
    "id": "QxBj1LBnH_po"
   },
   "outputs": [],
   "source": [
    "a=np.reshape(combinedpatches[10013],(3,3,3))"
   ]
  },
  {
   "cell_type": "code",
   "execution_count": 0,
   "metadata": {
    "colab": {},
    "colab_type": "code",
    "id": "CTo_8r3GH_p3"
   },
   "outputs": [],
   "source": [
    "a"
   ]
  },
  {
   "cell_type": "code",
   "execution_count": 0,
   "metadata": {
    "colab": {},
    "colab_type": "code",
    "id": "xdQmtT-jH_qC"
   },
   "outputs": [],
   "source": [
    "reshapedpatches[10013]"
   ]
  },
  {
   "cell_type": "code",
   "execution_count": 0,
   "metadata": {
    "colab": {},
    "colab_type": "code",
    "id": "JboL_3I6H_qL"
   },
   "outputs": [],
   "source": [
    "reshapedpatches=reshapePatches(combinedpatches)"
   ]
  },
  {
   "cell_type": "code",
   "execution_count": 0,
   "metadata": {
    "colab": {},
    "colab_type": "code",
    "id": "TPYtaY6ZH_qS"
   },
   "outputs": [],
   "source": [
    "reshapedpatches[0]"
   ]
  },
  {
   "cell_type": "code",
   "execution_count": 0,
   "metadata": {
    "colab": {},
    "colab_type": "code",
    "id": "j0aQGSdOH_qa"
   },
   "outputs": [],
   "source": []
  },
  {
   "cell_type": "code",
   "execution_count": 0,
   "metadata": {
    "colab": {},
    "colab_type": "code",
    "id": "EOoer1VUH_qf"
   },
   "outputs": [],
   "source": []
  },
  {
   "cell_type": "code",
   "execution_count": 0,
   "metadata": {
    "colab": {},
    "colab_type": "code",
    "id": "yrETauh_H_qk"
   },
   "outputs": [],
   "source": [
    "a=[]\n",
    "j=[[1,2,3],[1,2,3],[1,2,3]]\n",
    "k=[[1,2,3],[1,2,3],[1,2,3]]\n",
    "l=[[1,2,3],[1,2,3],[1,2,3]]\n",
    "for i in range(3):\n",
    "    a.append(np.array([j[i],k[i],l[i]]))"
   ]
  },
  {
   "cell_type": "code",
   "execution_count": 0,
   "metadata": {
    "colab": {},
    "colab_type": "code",
    "id": "l4t6UR2rH_qr"
   },
   "outputs": [],
   "source": [
    "combinedpatches[0]"
   ]
  },
  {
   "cell_type": "code",
   "execution_count": 0,
   "metadata": {
    "colab": {},
    "colab_type": "code",
    "id": "5MRD1_89H_qx"
   },
   "outputs": [],
   "source": [
    "a=np.array(a)\n",
    "a.shape"
   ]
  },
  {
   "cell_type": "code",
   "execution_count": 0,
   "metadata": {
    "colab": {},
    "colab_type": "code",
    "id": "F5aCbRz_H_q3"
   },
   "outputs": [],
   "source": [
    "np.save('patches3n3.npy', data)"
   ]
  },
  {
   "cell_type": "code",
   "execution_count": 0,
   "metadata": {
    "colab": {},
    "colab_type": "code",
    "id": "F9nGbPngH_q_"
   },
   "outputs": [],
   "source": [
    "loaded_array = np.load('patches3n3.npy')"
   ]
  },
  {
   "cell_type": "code",
   "execution_count": 0,
   "metadata": {
    "colab": {},
    "colab_type": "code",
    "id": "5SnddsACH_rE"
   },
   "outputs": [],
   "source": [
    "loaded_array.shape"
   ]
  },
  {
   "cell_type": "code",
   "execution_count": 0,
   "metadata": {
    "colab": {},
    "colab_type": "code",
    "id": "axh2_Me8H_rL"
   },
   "outputs": [],
   "source": [
    "a=[]\n",
    "a.append(np.array([patch_red[0],patch_green[0],patch_blue[0]]))"
   ]
  }
 ],
 "metadata": {
  "accelerator": "GPU",
  "colab": {
   "name": "Patch_Extraction 3 channel appraoach.ipynb",
   "provenance": [],
   "toc_visible": true
  },
  "kernelspec": {
   "display_name": "Python 3",
   "language": "python",
   "name": "python3"
  },
  "language_info": {
   "codemirror_mode": {
    "name": "ipython",
    "version": 3
   },
   "file_extension": ".py",
   "mimetype": "text/x-python",
   "name": "python",
   "nbconvert_exporter": "python",
   "pygments_lexer": "ipython3",
   "version": "3.7.5"
  }
 },
 "nbformat": 4,
 "nbformat_minor": 1
}
