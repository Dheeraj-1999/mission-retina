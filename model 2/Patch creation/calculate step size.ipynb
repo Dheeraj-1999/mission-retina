{
 "cells": [
  {
   "cell_type": "code",
   "execution_count": 15,
   "metadata": {},
   "outputs": [],
   "source": [
    "import math\n",
    "def FindSteps(length, width, numberOfPatches, nImages):\n",
    "    numberOfPatchesOne = numberOfPatches/nImages\n",
    "    temp = (length*width)/numberOfPatchesOne\n",
    "    root = (math.sqrt(temp))\n",
    "    i = round(root)\n",
    "    j = i\n",
    "    if(i == root):\n",
    "        j = i\n",
    "        return(i, j)\n",
    "    else:\n",
    "        mini = i*j\n",
    "        flag = True\n",
    "        while((i*j) <= math.ceil(temp)):\n",
    "            print(\"mini\", (i*j) , math.ceil(temp))\n",
    "            mini = min(abs(temp - mini), mini)\n",
    "            j += 1\n",
    "        return(i, j-1)\n",
    "    \n",
    "        "
   ]
  },
  {
   "cell_type": "code",
   "execution_count": 18,
   "metadata": {},
   "outputs": [],
   "source": [
    "numberOfPatches = 1600000\n",
    "length = 584\n",
    "width = 565\n",
    "nImages = 20\n",
    ""
   ]
  },
  {
   "cell_type": "code",
   "execution_count": 19,
   "metadata": {},
   "outputs": [
    {
     "output_type": "stream",
     "name": "stdout",
     "text": "mini 4 5\n"
    },
    {
     "output_type": "execute_result",
     "data": {
      "text/plain": "(2, 2)"
     },
     "metadata": {},
     "execution_count": 19
    }
   ],
   "source": [
    "FindSteps(length, width, numberOfPatches, nImages)"
   ]
  },
  {
   "cell_type": "code",
   "execution_count": null,
   "metadata": {},
   "outputs": [],
   "source": [
    "numberOfPatchesOne = numberOfPatches/nImages\n",
    "temp = (length*width)/numberOfPatchesOne\n",
    "temp = round(temp)\n",
    "root = (math.sqrt(temp))\n",
    "i = round(root)\n",
    "j = i\n",
    "if(i == root):\n",
    "    j = i\n",
    "    return(i, j)\n",
    "else:\n",
    "    while(i*j < )"
   ]
  }
 ],
 "metadata": {
  "kernelspec": {
   "display_name": "Python 3.7.5 64-bit ('anaconda': conda)",
   "language": "python",
   "name": "python37564bitanacondaconda8fdae7da735b42e8bb5614c179ca1693"
  },
  "language_info": {
   "codemirror_mode": {
    "name": "ipython",
    "version": 3
   },
   "file_extension": ".py",
   "mimetype": "text/x-python",
   "name": "python",
   "nbconvert_exporter": "python",
   "pygments_lexer": "ipython3",
   "version": "3.7.5-final"
  }
 },
 "nbformat": 4,
 "nbformat_minor": 2
}