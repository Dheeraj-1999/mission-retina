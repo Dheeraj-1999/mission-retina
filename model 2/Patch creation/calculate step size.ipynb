{
 "cells": [
  {
   "cell_type": "code",
   "execution_count": 1,
   "metadata": {},
   "outputs": [],
   "source": [
    "import math\n",
    "def FindSteps(length, width, numberOfPatches, nImages):\n",
    "    numberOfPatchesOne = numberOfPatches/nImages\n",
    "    temp = (length*width)/numberOfPatchesOne\n",
    "    root = (math.sqrt(temp))\n",
    "    i = round(root)\n",
    "    j = i\n",
    "    if(i == root):\n",
    "        j = i\n",
    "        return(i, j)\n",
    "    else:\n",
    "        mini = i*j\n",
    "        flag = True\n",
    "        while((i*j) <= math.ceil(temp)):\n",
    "            # print(\"mini\", (i*j) , math.ceil(temp))\n",
    "            mini = min(abs(temp - mini), mini)\n",
    "            j += 1\n",
    "        return(i, j-1)\n",
    "    \n",
    "        "
   ]
  },
  {
   "cell_type": "code",
   "execution_count": 2,
   "metadata": {},
   "outputs": [],
   "source": [
    "numberOfPatches = 500000\n",
    "lengthStare,lengthDrive, lengthChase,  = 700, 584, 999\n",
    "widthStare, widthDrive, widthChase = 605, 565, 900\n",
    "nImagesStare = 15\n",
    ""
   ]
  },
  {
   "cell_type": "code",
   "execution_count": 3,
   "metadata": {},
   "outputs": [
    {
     "output_type": "execute_result",
     "data": {
      "text/plain": "(5, 5)"
     },
     "metadata": {},
     "execution_count": 3
    }
   ],
   "source": [
    "FindSteps(lengthChase, widthChase, numberOfPatches, nImagesStare)"
   ]
  },
  {
   "cell_type": "code",
   "execution_count": 12,
   "metadata": {},
   "outputs": [],
   "source": [
    "def NumberOfPatch(length, width, i, j, nImages):\n",
    "    n = (length/i) * (width/j)\n",
    "    return(n*nImages)\n",
    ""
   ]
  },
  {
   "cell_type": "code",
   "execution_count": 17,
   "metadata": {},
   "outputs": [
    {
     "output_type": "stream",
     "name": "stdout",
     "text": "mini 16 17\n"
    }
   ],
   "source": [
    "iStare, jStare = FindSteps(lengthStare, widthStare, numberOfPatches, nImages)\n",
    "nStare = NumberOfPatch(lengthStare, widthStare, iStare, jStare, nImages)"
   ]
  },
  {
   "cell_type": "code",
   "execution_count": 18,
   "metadata": {},
   "outputs": [
    {
     "output_type": "execute_result",
     "data": {
      "text/plain": "529375.0"
     },
     "metadata": {},
     "execution_count": 18
    }
   ],
   "source": [
    "nStare"
   ]
  },
  {
   "cell_type": "code",
   "execution_count": 19,
   "metadata": {},
   "outputs": [
    {
     "output_type": "stream",
     "name": "stdout",
     "text": "mini 36 36\n6 6\n"
    }
   ],
   "source": [
    "iChase, jChase = FindSteps(lengthChase, widthChase, numberOfPatches, nImages)\n",
    "print(iChase, jChase)\n",
    "nChase = NumberOfPatch(lengthChase, widthChase, iChase, jChase, nImages)"
   ]
  },
  {
   "cell_type": "code",
   "execution_count": 20,
   "metadata": {},
   "outputs": [
    {
     "output_type": "execute_result",
     "data": {
      "text/plain": "499500.0"
     },
     "metadata": {},
     "execution_count": 20
    }
   ],
   "source": [
    "nChase"
   ]
  },
  {
   "cell_type": "code",
   "execution_count": null,
   "metadata": {},
   "outputs": [],
   "source": []
  }
 ],
 "metadata": {
  "kernelspec": {
   "display_name": "Python 3.7.5 64-bit ('anaconda': conda)",
   "language": "python",
   "name": "python37564bitanacondaconda8fdae7da735b42e8bb5614c179ca1693"
  },
  "language_info": {
   "codemirror_mode": {
    "name": "ipython",
    "version": 3
   },
   "file_extension": ".py",
   "mimetype": "text/x-python",
   "name": "python",
   "nbconvert_exporter": "python",
   "pygments_lexer": "ipython3",
   "version": "3.7.5-final"
  }
 },
 "nbformat": 4,
 "nbformat_minor": 2
}