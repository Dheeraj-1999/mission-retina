{
 "cells": [
  {
   "cell_type": "code",
   "execution_count": 1,
   "metadata": {},
   "outputs": [],
   "source": [
    "import os\n",
    "import sys\n",
    "import numpy as np\n",
    "import cv2\n",
    "from PIL import Image"
   ]
  },
  {
   "cell_type": "code",
   "execution_count": 24,
   "metadata": {},
   "outputs": [],
   "source": [
    "def cm(actual,predicted):\n",
    "    tp=0\n",
    "    tn=0\n",
    "    fp=0\n",
    "    fn=0  \n",
    "    for i,j in zip(range(0,423500),range(0,423500)):\n",
    "        if actual[i]==0 and predicted[i]==0:\n",
    "            tn+=1\n",
    "        if actual[i]==0 and predicted[i]==1:\n",
    "            fn+=1\n",
    "        if actual[i]==1 and predicted[i]==0:\n",
    "            fp+=1\n",
    "        if actual[i]==1 and predicted[i]==1:\n",
    "            tp+=1\n",
    "    return (tp,tn,fp,fn)"
   ]
  },
  {
   "cell_type": "code",
   "execution_count": 3,
   "metadata": {},
   "outputs": [],
   "source": [
    "def stats(tp,tn,fp,fn):\n",
    "  acc=(tp+tn)/(tp+tn+fp+fn)\n",
    "  se=tp/(tp+fn)\n",
    "  sp=tn/(tn+fp)\n",
    "  pr=tp/(tp+fp)\n",
    "  f1_score=(2*pr*se)/(pr+se) \n",
    "  return (acc,se,sp,pr,f1_score)"
   ]
  },
  {
   "cell_type": "code",
   "execution_count": 15,
   "metadata": {},
   "outputs": [
    {
     "output_type": "stream",
     "name": "stdout",
     "text": "(1, 423500)\n"
    }
   ],
   "source": [
    "actual=[]\n",
    "actual.append(np.array(Image.open('D:/google drive/Missions/mission Retina/dataset/navdeep sir datasets/Stare/labels/{}'.format('im0162.ah.ppm'))).ravel()) \n",
    "print(np.array(actual).shape)"
   ]
  },
  {
   "cell_type": "code",
   "execution_count": 30,
   "metadata": {},
   "outputs": [
    {
     "output_type": "stream",
     "name": "stdout",
     "text": "(3, 423500)\n"
    }
   ],
   "source": [
    "actual=[]\n",
    "imgs=['im0162.ah.ppm','im0255.ah.ppm','im0291.ah.ppm']\n",
    "for i in imgs:\n",
    "    actual.append(np.array(Image.open('D:/google drive/Missions/mission Retina/dataset/navdeep sir datasets/Stare/labels/{}'.format(i))).ravel()//255)          \n",
    "print(np.array(actual).shape)"
   ]
  },
  {
   "cell_type": "code",
   "execution_count": 31,
   "metadata": {},
   "outputs": [],
   "source": [
    "predicted = np.load('predict.npy')"
   ]
  },
  {
   "cell_type": "code",
   "execution_count": 29,
   "metadata": {},
   "outputs": [
    {
     "output_type": "execute_result",
     "data": {
      "text/plain": "array([0])"
     },
     "metadata": {},
     "execution_count": 29
    }
   ],
   "source": [
    "predicted = predicted "
   ]
  },
  {
   "cell_type": "code",
   "execution_count": 10,
   "metadata": {},
   "outputs": [
    {
     "name": "stdout",
     "output_type": "stream",
     "text": [
      "8 (959040, 1)\n"
     ]
    }
   ],
   "source": [
    "predicted=[]\n",
    "a = np.load('predict.npy')\n",
    "a=[5,7,10,12,15,22,23,28]\n",
    "for i in a:\n",
    "    predicted.append(np.load('predictionchase{}.npy'.format(i)))\n",
    "print(len(predicted),predicted[0].shape)"
   ]
  },
  {
   "cell_type": "code",
   "execution_count": 32,
   "metadata": {},
   "outputs": [
    {
     "output_type": "stream",
     "name": "stdout",
     "text": "8730 391597 21450 1723\n18550 383553 19353 2044\n2096 399769 19322 2313\n"
    }
   ],
   "source": [
    "accuracy=[]\n",
    "senstivity=[]\n",
    "specificity=[]\n",
    "precision=[]\n",
    "f1_score_list=[]\n",
    "for i,j in zip(actual,predicted):\n",
    "    tp,tn,fp,fn=cm(i,j)\n",
    "    print(tp,tn,fp,fn)\n",
    "    acc,se,sp,pr,f1_score=stats(tp,tn,fp,fn)\n",
    "    accuracy.append(acc)\n",
    "    senstivity.append(se)\n",
    "    specificity.append(sp)\n",
    "    precision.append(pr)\n",
    "    f1_score_list.append(f1_score)"
   ]
  },
  {
   "cell_type": "code",
   "execution_count": 33,
   "metadata": {},
   "outputs": [
    {
     "output_type": "execute_result",
     "data": {
      "text/plain": "[0.9452821723730814, 0.9494757969303423, 0.948913813459268]"
     },
     "metadata": {},
     "execution_count": 33
    }
   ],
   "source": [
    "accuracy"
   ]
  },
  {
   "cell_type": "code",
   "execution_count": 34,
   "metadata": {},
   "outputs": [
    {
     "output_type": "execute_result",
     "data": {
      "text/plain": "[0.8351669377212284, 0.9007477906186268, 0.475391245180313]"
     },
     "metadata": {},
     "execution_count": 34
    }
   ],
   "source": [
    "senstivity"
   ]
  },
  {
   "cell_type": "code",
   "execution_count": 35,
   "metadata": {},
   "outputs": [
    {
     "output_type": "execute_result",
     "data": {
      "text/plain": "[0.9480688638338979, 0.9519664636416435, 0.9538954546864523]"
     },
     "metadata": {},
     "execution_count": 35
    }
   ],
   "source": [
    "specificity"
   ]
  },
  {
   "cell_type": "code",
   "execution_count": 36,
   "metadata": {},
   "outputs": [
    {
     "output_type": "execute_result",
     "data": {
      "text/plain": "[0.28926441351888665, 0.4894071709363375, 0.0978616117284527]"
     },
     "metadata": {},
     "execution_count": 36
    }
   ],
   "source": [
    "precision"
   ]
  },
  {
   "cell_type": "code",
   "execution_count": 37,
   "metadata": {},
   "outputs": [
    {
     "output_type": "execute_result",
     "data": {
      "text/plain": "[0.4296999975389461, 0.6342205583192301, 0.16231076005730438]"
     },
     "metadata": {},
     "execution_count": 37
    }
   ],
   "source": [
    "f1_score_list"
   ]
  },
  {
   "cell_type": "code",
   "execution_count": 38,
   "metadata": {},
   "outputs": [],
   "source": [
    "dictss={'acc':accuracy,'se':senstivity,'sp':specificity,'pr':precision,'F1':f1_score_list}\n",
    "import pandas as pd\n",
    "df=pd.DataFrame(dictss)"
   ]
  },
  {
   "cell_type": "code",
   "execution_count": 39,
   "metadata": {},
   "outputs": [
    {
     "output_type": "execute_result",
     "data": {
      "text/plain": "        acc        se        sp        pr        F1\n0  0.945282  0.835167  0.948069  0.289264  0.429700\n1  0.949476  0.900748  0.951966  0.489407  0.634221\n2  0.948914  0.475391  0.953895  0.097862  0.162311",
      "text/html": "<div>\n<style scoped>\n    .dataframe tbody tr th:only-of-type {\n        vertical-align: middle;\n    }\n\n    .dataframe tbody tr th {\n        vertical-align: top;\n    }\n\n    .dataframe thead th {\n        text-align: right;\n    }\n</style>\n<table border=\"1\" class=\"dataframe\">\n  <thead>\n    <tr style=\"text-align: right;\">\n      <th></th>\n      <th>acc</th>\n      <th>se</th>\n      <th>sp</th>\n      <th>pr</th>\n      <th>F1</th>\n    </tr>\n  </thead>\n  <tbody>\n    <tr>\n      <th>0</th>\n      <td>0.945282</td>\n      <td>0.835167</td>\n      <td>0.948069</td>\n      <td>0.289264</td>\n      <td>0.429700</td>\n    </tr>\n    <tr>\n      <th>1</th>\n      <td>0.949476</td>\n      <td>0.900748</td>\n      <td>0.951966</td>\n      <td>0.489407</td>\n      <td>0.634221</td>\n    </tr>\n    <tr>\n      <th>2</th>\n      <td>0.948914</td>\n      <td>0.475391</td>\n      <td>0.953895</td>\n      <td>0.097862</td>\n      <td>0.162311</td>\n    </tr>\n  </tbody>\n</table>\n</div>"
     },
     "metadata": {},
     "execution_count": 39
    }
   ],
   "source": [
    "df"
   ]
  },
  {
   "cell_type": "code",
   "execution_count": 40,
   "metadata": {},
   "outputs": [],
   "source": [
    "df.to_excel('Stats.xlsx')"
   ]
  },
  {
   "cell_type": "code",
   "execution_count": 41,
   "metadata": {},
   "outputs": [
    {
     "output_type": "execute_result",
     "data": {
      "text/plain": "0.9478905942542305"
     },
     "metadata": {},
     "execution_count": 41
    }
   ],
   "source": [
    "df.acc.mean()"
   ]
  },
  {
   "cell_type": "code",
   "execution_count": 42,
   "metadata": {},
   "outputs": [
    {
     "output_type": "execute_result",
     "data": {
      "text/plain": "0.7371019911733895"
     },
     "metadata": {},
     "execution_count": 42
    }
   ],
   "source": [
    "df.se.mean()"
   ]
  },
  {
   "cell_type": "code",
   "execution_count": 43,
   "metadata": {},
   "outputs": [
    {
     "output_type": "execute_result",
     "data": {
      "text/plain": "0.9513102607206645"
     },
     "metadata": {},
     "execution_count": 43
    }
   ],
   "source": [
    "df.sp.mean()"
   ]
  },
  {
   "cell_type": "code",
   "execution_count": 48,
   "metadata": {},
   "outputs": [
    {
     "data": {
      "text/plain": [
       "0.6667734934369333"
      ]
     },
     "execution_count": 48,
     "metadata": {},
     "output_type": "execute_result"
    }
   ],
   "source": [
    "df.pr.mean()"
   ]
  },
  {
   "cell_type": "code",
   "execution_count": 49,
   "metadata": {},
   "outputs": [
    {
     "data": {
      "text/plain": [
       "0.7275742258194721"
      ]
     },
     "execution_count": 49,
     "metadata": {},
     "output_type": "execute_result"
    }
   ],
   "source": [
    "df.F1.mean()"
   ]
  },
  {
   "cell_type": "code",
   "execution_count": null,
   "metadata": {},
   "outputs": [],
   "source": []
  }
 ],
 "metadata": {
  "kernelspec": {
   "display_name": "Python 3.7.5 64-bit ('anaconda': conda)",
   "language": "python",
   "name": "python37564bitanacondaconda8fdae7da735b42e8bb5614c179ca1693"
  },
  "language_info": {
   "codemirror_mode": {
    "name": "ipython",
    "version": 3
   },
   "file_extension": ".py",
   "mimetype": "text/x-python",
   "name": "python",
   "nbconvert_exporter": "python",
   "pygments_lexer": "ipython3",
   "version": "3.7.5-final"
  }
 },
 "nbformat": 4,
 "nbformat_minor": 4
}