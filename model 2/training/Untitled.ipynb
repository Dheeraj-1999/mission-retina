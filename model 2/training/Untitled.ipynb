{
 "cells": [
  {
   "cell_type": "code",
   "execution_count": 1,
   "metadata": {},
   "outputs": [],
   "source": [
    "import os\n",
    "import sys\n",
    "import numpy as np\n",
    "import cv2\n",
    "from PIL import Image"
   ]
  },
  {
   "cell_type": "code",
   "execution_count": 3,
   "metadata": {},
   "outputs": [],
   "source": [
    "def cm(actual,predicted):\n",
    "    tp=0\n",
    "    tn=0\n",
    "    fp=0\n",
    "    fn=0  \n",
    "    for i,j in zip(range(0,959040),range(0,959040)):\n",
    "        if actual[i]==0 and predicted[i]==0:\n",
    "            tn+=1\n",
    "        if actual[i]==0 and predicted[i]==1:\n",
    "            fn+=1\n",
    "        if actual[i]==1 and predicted[i]==0:\n",
    "            fp+=1\n",
    "        if actual[i]==1 and predicted[i]==1:\n",
    "            tp+=1\n",
    "    return (tp,tn,fp,fn)"
   ]
  },
  {
   "cell_type": "code",
   "execution_count": 4,
   "metadata": {},
   "outputs": [],
   "source": [
    "def stats(tp,tn,fp,fn):\n",
    "  acc=(tp+tn)/(tp+tn+fp+fn)\n",
    "  se=tp/(tp+fn)\n",
    "  sp=tn/(tn+fp)\n",
    "  pr=tp/(tp+fp)\n",
    "  f1_score=(2*pr*se)/(pr+se) \n",
    "  return (acc,se,sp,pr,f1_score)"
   ]
  },
  {
   "cell_type": "code",
   "execution_count": 5,
   "metadata": {},
   "outputs": [
    {
     "name": "stdout",
     "output_type": "stream",
     "text": [
      "8 (959040,)\n"
     ]
    }
   ],
   "source": [
    "imgs=['Image_03L_1stHO.png','Image_04L_1stHO.png','Image_05R_1stHO.png','Image_06R_1stHO.png','Image_08L_1stHO.png','Image_11R_1stHO.png','Image_12L_1stHO.png','Image_14R_1stHO.png']\n",
    "actual=[]\n",
    "for i in imgs:\n",
    "    actual.append(np.array(Image.open('R:/datasets/CHASE DB1/{}'.format(i))).ravel())        \n",
    "print(len(actual),actual[0].shape)"
   ]
  },
  {
   "cell_type": "code",
   "execution_count": 10,
   "metadata": {},
   "outputs": [
    {
     "name": "stdout",
     "output_type": "stream",
     "text": [
      "8 (959040, 1)\n"
     ]
    }
   ],
   "source": [
    "predicted=[]\n",
    "a=[5,7,10,12,15,22,23,28]\n",
    "for i in a:\n",
    "    predicted.append(np.load('predictionchase{}.npy'.format(i)))\n",
    "print(len(predicted),predicted[0].shape)"
   ]
  },
  {
   "cell_type": "code",
   "execution_count": 11,
   "metadata": {},
   "outputs": [
    {
     "name": "stdout",
     "output_type": "stream",
     "text": [
      "39364 867232 35832 16612\n",
      "27031 878250 48137 5622\n",
      "44043 867504 37620 9873\n",
      "31518 877807 40250 9465\n",
      "22334 890649 39692 6365\n",
      "31952 896135 19181 11772\n",
      "27539 881046 41493 8962\n",
      "20458 893521 35651 9410\n"
     ]
    }
   ],
   "source": [
    "accuracy=[]\n",
    "senstivity=[]\n",
    "specificity=[]\n",
    "precision=[]\n",
    "f1_score_list=[]\n",
    "for i,j in zip(actual,predicted):\n",
    "    tp,tn,fp,fn=cm(i,j)\n",
    "    print(tp,tn,fp,fn)\n",
    "    acc,se,sp,pr,f1_score=stats(tp,tn,fp,fn)\n",
    "    accuracy.append(acc)\n",
    "    senstivity.append(se)\n",
    "    specificity.append(sp)\n",
    "    precision.append(pr)\n",
    "    f1_score_list.append(f1_score)"
   ]
  },
  {
   "cell_type": "code",
   "execution_count": 12,
   "metadata": {},
   "outputs": [
    {
     "data": {
      "text/plain": [
       "[0.9453161494828162,\n",
       " 0.9439449866533199,\n",
       " 0.9504786036036036,\n",
       " 0.9481617033700367,\n",
       " 0.951975934267601,\n",
       " 0.96772501668335,\n",
       " 0.9473900984317651,\n",
       " 0.9530144728061395]"
      ]
     },
     "execution_count": 12,
     "metadata": {},
     "output_type": "execute_result"
    }
   ],
   "source": [
    "accuracy"
   ]
  },
  {
   "cell_type": "code",
   "execution_count": 13,
   "metadata": {},
   "outputs": [
    {
     "data": {
      "text/plain": [
       "[0.703229955695298,\n",
       " 0.8278259271736135,\n",
       " 0.8168818161584688,\n",
       " 0.7690505819486129,\n",
       " 0.7782152688246977,\n",
       " 0.7307657121946757,\n",
       " 0.7544724802060218,\n",
       " 0.6849471005758672]"
      ]
     },
     "execution_count": 13,
     "metadata": {},
     "output_type": "execute_result"
    }
   ],
   "source": [
    "senstivity"
   ]
  },
  {
   "cell_type": "code",
   "execution_count": 14,
   "metadata": {},
   "outputs": [
    {
     "data": {
      "text/plain": [
       "[0.9603217490676187,\n",
       " 0.9480379150398268,\n",
       " 0.9584366340965437,\n",
       " 0.9561574063484075,\n",
       " 0.9573360735472263,\n",
       " 0.979044395596712,\n",
       " 0.9550230396763714,\n",
       " 0.9616314309944768]"
      ]
     },
     "execution_count": 14,
     "metadata": {},
     "output_type": "execute_result"
    }
   ],
   "source": [
    "specificity"
   ]
  },
  {
   "cell_type": "code",
   "execution_count": 15,
   "metadata": {},
   "outputs": [
    {
     "data": {
      "text/plain": [
       "[0.5234852917708389,\n",
       " 0.3596078118348233,\n",
       " 0.5393262554645311,\n",
       " 0.43916508750418015,\n",
       " 0.3600748073388579,\n",
       " 0.6248802143429879,\n",
       " 0.39893093058291806,\n",
       " 0.3646117378673653]"
      ]
     },
     "execution_count": 15,
     "metadata": {},
     "output_type": "execute_result"
    }
   ],
   "source": [
    "precision"
   ]
  },
  {
   "cell_type": "code",
   "execution_count": 16,
   "metadata": {},
   "outputs": [
    {
     "data": {
      "text/plain": [
       "[0.6001890647394261,\n",
       " 0.5014051066118845,\n",
       " 0.6497023875378931,\n",
       " 0.5590726468057933,\n",
       " 0.49234499862221004,\n",
       " 0.6736877615779543,\n",
       " 0.5219031013995622,\n",
       " 0.47589471602870537]"
      ]
     },
     "execution_count": 16,
     "metadata": {},
     "output_type": "execute_result"
    }
   ],
   "source": [
    "f1_score_list"
   ]
  },
  {
   "cell_type": "code",
   "execution_count": 17,
   "metadata": {},
   "outputs": [],
   "source": [
    "dictss={'acc':accuracy,'se':senstivity,'sp':specificity,'pr':precision,'F1':f1_score_list}\n",
    "import pandas as pd\n",
    "df=pd.DataFrame(dictss)"
   ]
  },
  {
   "cell_type": "code",
   "execution_count": 18,
   "metadata": {},
   "outputs": [
    {
     "data": {
      "text/html": [
       "<div>\n",
       "<style scoped>\n",
       "    .dataframe tbody tr th:only-of-type {\n",
       "        vertical-align: middle;\n",
       "    }\n",
       "\n",
       "    .dataframe tbody tr th {\n",
       "        vertical-align: top;\n",
       "    }\n",
       "\n",
       "    .dataframe thead th {\n",
       "        text-align: right;\n",
       "    }\n",
       "</style>\n",
       "<table border=\"1\" class=\"dataframe\">\n",
       "  <thead>\n",
       "    <tr style=\"text-align: right;\">\n",
       "      <th></th>\n",
       "      <th>acc</th>\n",
       "      <th>se</th>\n",
       "      <th>sp</th>\n",
       "      <th>pr</th>\n",
       "      <th>F1</th>\n",
       "    </tr>\n",
       "  </thead>\n",
       "  <tbody>\n",
       "    <tr>\n",
       "      <th>0</th>\n",
       "      <td>0.945316</td>\n",
       "      <td>0.703230</td>\n",
       "      <td>0.960322</td>\n",
       "      <td>0.523485</td>\n",
       "      <td>0.600189</td>\n",
       "    </tr>\n",
       "    <tr>\n",
       "      <th>1</th>\n",
       "      <td>0.943945</td>\n",
       "      <td>0.827826</td>\n",
       "      <td>0.948038</td>\n",
       "      <td>0.359608</td>\n",
       "      <td>0.501405</td>\n",
       "    </tr>\n",
       "    <tr>\n",
       "      <th>2</th>\n",
       "      <td>0.950479</td>\n",
       "      <td>0.816882</td>\n",
       "      <td>0.958437</td>\n",
       "      <td>0.539326</td>\n",
       "      <td>0.649702</td>\n",
       "    </tr>\n",
       "    <tr>\n",
       "      <th>3</th>\n",
       "      <td>0.948162</td>\n",
       "      <td>0.769051</td>\n",
       "      <td>0.956157</td>\n",
       "      <td>0.439165</td>\n",
       "      <td>0.559073</td>\n",
       "    </tr>\n",
       "    <tr>\n",
       "      <th>4</th>\n",
       "      <td>0.951976</td>\n",
       "      <td>0.778215</td>\n",
       "      <td>0.957336</td>\n",
       "      <td>0.360075</td>\n",
       "      <td>0.492345</td>\n",
       "    </tr>\n",
       "    <tr>\n",
       "      <th>5</th>\n",
       "      <td>0.967725</td>\n",
       "      <td>0.730766</td>\n",
       "      <td>0.979044</td>\n",
       "      <td>0.624880</td>\n",
       "      <td>0.673688</td>\n",
       "    </tr>\n",
       "    <tr>\n",
       "      <th>6</th>\n",
       "      <td>0.947390</td>\n",
       "      <td>0.754472</td>\n",
       "      <td>0.955023</td>\n",
       "      <td>0.398931</td>\n",
       "      <td>0.521903</td>\n",
       "    </tr>\n",
       "    <tr>\n",
       "      <th>7</th>\n",
       "      <td>0.953014</td>\n",
       "      <td>0.684947</td>\n",
       "      <td>0.961631</td>\n",
       "      <td>0.364612</td>\n",
       "      <td>0.475895</td>\n",
       "    </tr>\n",
       "  </tbody>\n",
       "</table>\n",
       "</div>"
      ],
      "text/plain": [
       "        acc        se        sp        pr        F1\n",
       "0  0.945316  0.703230  0.960322  0.523485  0.600189\n",
       "1  0.943945  0.827826  0.948038  0.359608  0.501405\n",
       "2  0.950479  0.816882  0.958437  0.539326  0.649702\n",
       "3  0.948162  0.769051  0.956157  0.439165  0.559073\n",
       "4  0.951976  0.778215  0.957336  0.360075  0.492345\n",
       "5  0.967725  0.730766  0.979044  0.624880  0.673688\n",
       "6  0.947390  0.754472  0.955023  0.398931  0.521903\n",
       "7  0.953014  0.684947  0.961631  0.364612  0.475895"
      ]
     },
     "execution_count": 18,
     "metadata": {},
     "output_type": "execute_result"
    }
   ],
   "source": [
    "df"
   ]
  },
  {
   "cell_type": "code",
   "execution_count": 43,
   "metadata": {},
   "outputs": [],
   "source": [
    "df.to_excel('Stats.xls')"
   ]
  },
  {
   "cell_type": "code",
   "execution_count": 45,
   "metadata": {},
   "outputs": [
    {
     "data": {
      "text/plain": [
       "0.9569381137107527"
      ]
     },
     "execution_count": 45,
     "metadata": {},
     "output_type": "execute_result"
    }
   ],
   "source": [
    "df.acc.mean()"
   ]
  },
  {
   "cell_type": "code",
   "execution_count": 46,
   "metadata": {},
   "outputs": [
    {
     "data": {
      "text/plain": [
       "0.8172818846335679"
      ]
     },
     "execution_count": 46,
     "metadata": {},
     "output_type": "execute_result"
    }
   ],
   "source": [
    "df.se.mean()"
   ]
  },
  {
   "cell_type": "code",
   "execution_count": 47,
   "metadata": {},
   "outputs": [
    {
     "data": {
      "text/plain": [
       "0.9683946004196852"
      ]
     },
     "execution_count": 47,
     "metadata": {},
     "output_type": "execute_result"
    }
   ],
   "source": [
    "df.sp.mean()"
   ]
  },
  {
   "cell_type": "code",
   "execution_count": 48,
   "metadata": {},
   "outputs": [
    {
     "data": {
      "text/plain": [
       "0.6667734934369333"
      ]
     },
     "execution_count": 48,
     "metadata": {},
     "output_type": "execute_result"
    }
   ],
   "source": [
    "df.pr.mean()"
   ]
  },
  {
   "cell_type": "code",
   "execution_count": 49,
   "metadata": {},
   "outputs": [
    {
     "data": {
      "text/plain": [
       "0.7275742258194721"
      ]
     },
     "execution_count": 49,
     "metadata": {},
     "output_type": "execute_result"
    }
   ],
   "source": [
    "df.F1.mean()"
   ]
  },
  {
   "cell_type": "code",
   "execution_count": null,
   "metadata": {},
   "outputs": [],
   "source": []
  }
 ],
 "metadata": {
  "kernelspec": {
   "display_name": "Python 3",
   "language": "python",
   "name": "python3"
  },
  "language_info": {
   "codemirror_mode": {
    "name": "ipython",
    "version": 3
   },
   "file_extension": ".py",
   "mimetype": "text/x-python",
   "name": "python",
   "nbconvert_exporter": "python",
   "pygments_lexer": "ipython3",
   "version": "3.7.4"
  }
 },
 "nbformat": 4,
 "nbformat_minor": 4
}
