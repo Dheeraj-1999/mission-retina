{
  "nbformat": 4,
  "nbformat_minor": 0,
  "metadata": {
    "colab": {
      "name": "Training 13 by 113model 1st.ipynb",
      "provenance": [],
      "toc_visible": true
    },
    "kernelspec": {
      "name": "python3",
      "display_name": "Python 3"
    },
    "accelerator": "GPU"
  },
  "cells": [
    {
      "cell_type": "code",
      "metadata": {
        "id": "-FJlZog-uOIF",
        "colab_type": "code",
        "colab": {}
      },
      "source": [
        "import os\n",
        "import zipfile\n",
        "import random\n",
        "import numpy as np"
      ],
      "execution_count": 0,
      "outputs": []
    },
    {
      "cell_type": "code",
      "metadata": {
        "id": "8ieak9xlt9N3",
        "colab_type": "code",
        "outputId": "5de690df-ca06-42d2-b444-753453fe24b3",
        "colab": {
          "base_uri": "https://localhost:8080/",
          "height": 202
        }
      },
      "source": [
        "!wget --no-check-certificate \\\n",
        "    \"https://storage.googleapis.com/datsets/DRIVE.zip\"\\\n",
        "    -O \"/tmp/DRIVE.zip\"\n",
        "\n",
        "local_zip = '/tmp/DRIVE.zip'\n",
        "zip_ref   = zipfile.ZipFile(local_zip, 'r')\n",
        "zip_ref.extractall('/tmp')\n",
        "zip_ref.close()\n"
      ],
      "execution_count": 2,
      "outputs": [
        {
          "output_type": "stream",
          "text": [
            "--2020-04-11 10:26:49--  https://storage.googleapis.com/datsets/DRIVE.zip\n",
            "Resolving storage.googleapis.com (storage.googleapis.com)... 74.125.20.128, 2607:f8b0:400e:c07::80\n",
            "Connecting to storage.googleapis.com (storage.googleapis.com)|74.125.20.128|:443... connected.\n",
            "HTTP request sent, awaiting response... 200 OK\n",
            "Length: 29756930 (28M) [application/x-zip-compressed]\n",
            "Saving to: ‘/tmp/DRIVE.zip’\n",
            "\n",
            "/tmp/DRIVE.zip      100%[===================>]  28.38M  71.1MB/s    in 0.4s    \n",
            "\n",
            "2020-04-11 10:26:50 (71.1 MB/s) - ‘/tmp/DRIVE.zip’ saved [29756930/29756930]\n",
            "\n"
          ],
          "name": "stdout"
        }
      ]
    },
    {
      "cell_type": "code",
      "metadata": {
        "id": "Nl0d5TN2eyDY",
        "colab_type": "code",
        "outputId": "f05c2753-7035-44b1-fe01-8951f1389ea2",
        "colab": {
          "base_uri": "https://localhost:8080/",
          "height": 218
        }
      },
      "source": [
        "import subprocess,sys\n",
        "!wget --no-check-certificate \\\n",
        "    \"https://storage.googleapis.com/datsets/model1/13%20by%2013/patches13n13nskip2.zip\"\\\n",
        "    -O \"/tmp/patches.zip\"\n",
        "\n",
        "zipFile = '/tmp/patches.zip'\n",
        "destinationDirectory='/tmp'\n",
        "subprocess.Popen([\"7z\", \"e\", f\"{zipFile}\", f\"-o{destinationDirectory}\", \"-y\"])\n",
        "# zip_ref   = zipfile.ZipFile(local_zip, 'r')\n",
        "# zip_ref.extractall('/tmp')\n",
        "# zip_ref.close()\n"
      ],
      "execution_count": 4,
      "outputs": [
        {
          "output_type": "stream",
          "text": [
            "--2020-04-11 10:27:08--  https://storage.googleapis.com/datsets/model1/13%20by%2013/patches13n13nskip2.zip\n",
            "Resolving storage.googleapis.com (storage.googleapis.com)... 74.125.20.128, 2607:f8b0:400e:c09::80\n",
            "Connecting to storage.googleapis.com (storage.googleapis.com)|74.125.20.128|:443... connected.\n",
            "HTTP request sent, awaiting response... 200 OK\n",
            "Length: 106354810 (101M) [application/x-zip-compressed]\n",
            "Saving to: ‘/tmp/patches.zip’\n",
            "\n",
            "/tmp/patches.zip    100%[===================>] 101.43M   182MB/s    in 0.6s    \n",
            "\n",
            "2020-04-11 10:27:09 (182 MB/s) - ‘/tmp/patches.zip’ saved [106354810/106354810]\n",
            "\n"
          ],
          "name": "stdout"
        },
        {
          "output_type": "execute_result",
          "data": {
            "text/plain": [
              "<subprocess.Popen at 0x7f2fe4087fd0>"
            ]
          },
          "metadata": {
            "tags": []
          },
          "execution_count": 4
        }
      ]
    },
    {
      "cell_type": "code",
      "metadata": {
        "id": "KTN_EVtDq5nO",
        "colab_type": "code",
        "colab": {}
      },
      "source": [
        "X = np.load('/tmp/patches13n13nskip2.npy')"
      ],
      "execution_count": 0,
      "outputs": []
    },
    {
      "cell_type": "code",
      "metadata": {
        "id": "TQKg5c1QrOpN",
        "colab_type": "code",
        "outputId": "524e0b65-72f5-4f6f-e67b-45e27a6c0ddf",
        "colab": {
          "base_uri": "https://localhost:8080/",
          "height": 34
        }
      },
      "source": [
        "X.shape"
      ],
      "execution_count": 7,
      "outputs": [
        {
          "output_type": "execute_result",
          "data": {
            "text/plain": [
              "(1652720, 13, 13, 3)"
            ]
          },
          "metadata": {
            "tags": []
          },
          "execution_count": 7
        }
      ]
    },
    {
      "cell_type": "code",
      "metadata": {
        "id": "46cdT_fihZTV",
        "colab_type": "code",
        "outputId": "04a83d42-7331-465d-ae75-b9032786d07e",
        "colab": {
          "base_uri": "https://localhost:8080/",
          "height": 34
        }
      },
      "source": [
        "y=np.load('/content/outputs.npy')\n",
        "w=y//255\n",
        "z=set(w)\n",
        "y=w\n",
        "y.shape"
      ],
      "execution_count": 10,
      "outputs": [
        {
          "output_type": "execute_result",
          "data": {
            "text/plain": [
              "(1652720,)"
            ]
          },
          "metadata": {
            "tags": []
          },
          "execution_count": 10
        }
      ]
    },
    {
      "cell_type": "code",
      "metadata": {
        "id": "w6uuokLa7O9H",
        "colab_type": "code",
        "colab": {}
      },
      "source": [
        "X_train,X_val,y_train,y_val=X[0:1500000,:,:],X[1500000:1652720,:,:],y[0:1500000],y[1500000:1652720]"
      ],
      "execution_count": 0,
      "outputs": []
    },
    {
      "cell_type": "code",
      "metadata": {
        "id": "XvdRdZ14VFCj",
        "colab_type": "code",
        "colab": {}
      },
      "source": [
        "%tensorflow_version 2.x\n",
        "import tensorflow as tf\n",
        "model = tf.keras.models.Sequential([\n",
        "    tf.keras.layers.Conv2D(32,(3, 3), activation='relu', input_shape=(13,13,3)),\n",
        "    tf.keras.layers.MaxPooling2D((2, 2)),\n",
        "    tf.keras.layers.Flatten(),\n",
        "    tf.keras.layers.Dense(1024, activation='relu'),\n",
        "    tf.keras.layers.Dense(512, activation='relu'),\n",
        "    tf.keras.layers.Dense(1, activation='sigmoid')\n",
        "])\n",
        "\n",
        "model.compile(optimizer=tf.keras.optimizers.Adam(), loss='binary_crossentropy', metrics=['accuracy'])"
      ],
      "execution_count": 0,
      "outputs": []
    },
    {
      "cell_type": "code",
      "metadata": {
        "id": "xf5tl6P7XC40",
        "colab_type": "code",
        "outputId": "757ca5c9-4ec1-4db6-d71f-0d0437a4897c",
        "colab": {
          "base_uri": "https://localhost:8080/",
          "height": 353
        }
      },
      "source": [
        "history = model.fit(X_train,y_train,batch_size=64,epochs=10,validation_data=(X_val,y_val))\n",
        "model.save('model1st11by11.hdf5')"
      ],
      "execution_count": 15,
      "outputs": [
        {
          "output_type": "stream",
          "text": [
            "Epoch 1/10\n",
            "23438/23438 [==============================] - 65s 3ms/step - loss: 0.1480 - accuracy: 0.9549 - val_loss: 0.1100 - val_accuracy: 0.9628\n",
            "Epoch 2/10\n",
            "23438/23438 [==============================] - 64s 3ms/step - loss: 0.1135 - accuracy: 0.9597 - val_loss: 0.0975 - val_accuracy: 0.9638\n",
            "Epoch 3/10\n",
            "23438/23438 [==============================] - 64s 3ms/step - loss: 0.1105 - accuracy: 0.9601 - val_loss: 0.0969 - val_accuracy: 0.9648\n",
            "Epoch 4/10\n",
            "23438/23438 [==============================] - 63s 3ms/step - loss: 0.1099 - accuracy: 0.9604 - val_loss: 0.1042 - val_accuracy: 0.9644\n",
            "Epoch 5/10\n",
            "23438/23438 [==============================] - 62s 3ms/step - loss: 0.1106 - accuracy: 0.9602 - val_loss: 0.0944 - val_accuracy: 0.9647\n",
            "Epoch 6/10\n",
            "23438/23438 [==============================] - 62s 3ms/step - loss: 0.1102 - accuracy: 0.9604 - val_loss: 0.1093 - val_accuracy: 0.9596\n",
            "Epoch 7/10\n",
            "23438/23438 [==============================] - 62s 3ms/step - loss: 0.1107 - accuracy: 0.9603 - val_loss: 0.1091 - val_accuracy: 0.9583\n",
            "Epoch 8/10\n",
            "23438/23438 [==============================] - 64s 3ms/step - loss: 0.1107 - accuracy: 0.9602 - val_loss: 0.1021 - val_accuracy: 0.9621\n",
            "Epoch 9/10\n",
            "23438/23438 [==============================] - 63s 3ms/step - loss: 0.1121 - accuracy: 0.9598 - val_loss: 0.1003 - val_accuracy: 0.9632\n",
            "Epoch 10/10\n",
            "23438/23438 [==============================] - 63s 3ms/step - loss: 0.1136 - accuracy: 0.9603 - val_loss: 0.1033 - val_accuracy: 0.9625\n"
          ],
          "name": "stdout"
        }
      ]
    },
    {
      "cell_type": "code",
      "metadata": {
        "id": "lC63Y2OMrR8y",
        "colab_type": "code",
        "outputId": "f994c300-1208-4e9a-c678-6b35eed82953",
        "colab": {
          "base_uri": "https://localhost:8080/",
          "height": 353
        }
      },
      "source": [
        "model.summary()"
      ],
      "execution_count": 14,
      "outputs": [
        {
          "output_type": "stream",
          "text": [
            "Model: \"sequential\"\n",
            "_________________________________________________________________\n",
            "Layer (type)                 Output Shape              Param #   \n",
            "=================================================================\n",
            "conv2d (Conv2D)              (None, 11, 11, 32)        896       \n",
            "_________________________________________________________________\n",
            "max_pooling2d (MaxPooling2D) (None, 5, 5, 32)          0         \n",
            "_________________________________________________________________\n",
            "flatten (Flatten)            (None, 800)               0         \n",
            "_________________________________________________________________\n",
            "dense (Dense)                (None, 1024)              820224    \n",
            "_________________________________________________________________\n",
            "dense_1 (Dense)              (None, 512)               524800    \n",
            "_________________________________________________________________\n",
            "dense_2 (Dense)              (None, 1)                 513       \n",
            "=================================================================\n",
            "Total params: 1,346,433\n",
            "Trainable params: 1,346,433\n",
            "Non-trainable params: 0\n",
            "_________________________________________________________________\n"
          ],
          "name": "stdout"
        }
      ]
    },
    {
      "cell_type": "code",
      "metadata": {
        "id": "yMHvM8JHk8UJ",
        "colab_type": "code",
        "outputId": "d6e76161-c395-465f-de85-27e16d6e2cd3",
        "colab": {
          "base_uri": "https://localhost:8080/",
          "height": 754
        }
      },
      "source": [
        "tf.keras.utils.plot_model(model, 'multi_input_and_output_model.png', show_shapes=True)"
      ],
      "execution_count": 13,
      "outputs": [
        {
          "output_type": "execute_result",
          "data": {
            "image/png": "[encoded data removed]",
            "text/plain": [
              "<IPython.core.display.Image object>"
            ]
          },
          "metadata": {
            "tags": []
          },
          "execution_count": 13
        }
      ]
    },
    {
      "cell_type": "code",
      "metadata": {
        "id": "pKwme0Oik8sb",
        "colab_type": "code",
        "outputId": "09ed95ce-a959-447f-b14a-077dc119c6de",
        "colab": {
          "base_uri": "https://localhost:8080/",
          "height": 545
        }
      },
      "source": [
        "import matplotlib.pyplot as plt\n",
        "acc = history.history['accuracy']\n",
        "val_acc = history.history['val_accuracy']\n",
        "loss = history.history['loss']\n",
        "val_loss = history.history['val_loss']\n",
        "\n",
        "epochs = range(len(acc))\n",
        "\n",
        "plt.plot(epochs, acc, 'bo', label='Training accuracy',linestyle='dashed')\n",
        "plt.plot(epochs, val_acc, 'b', label='Validation accuracy',linestyle='dashed')\n",
        "plt.title('Training and validation accuracy')\n",
        "plt.legend()\n",
        "plt.figure()\n",
        "\n",
        "plt.plot(epochs, loss, 'bo', label='Training Loss',linestyle='dashed')\n",
        "plt.plot(epochs, val_loss, 'b', label='Validation Loss',linestyle='dashed')\n",
        "plt.title('Training and validation loss')\n",
        "plt.legend()\n",
        "\n",
        "plt.show()"
      ],
      "execution_count": 16,
      "outputs": [
        {
          "output_type": "display_data",
          "data": {
            "image/png": "[encoded data removed]",
            "text/plain": [
              "<Figure size 432x288 with 1 Axes>"
            ]
          },
          "metadata": {
            "tags": [],
            "needs_background": "light"
          }
        },
        {
          "output_type": "display_data",
          "data": {
            "image/png": "[encoded data removed]",
            "text/plain": [
              "<Figure size 432x288 with 1 Axes>"
            ]
          },
          "metadata": {
            "tags": [],
            "needs_background": "light"
          }
        }
      ]
    },
    {
      "cell_type": "code",
      "metadata": {
        "id": "RWnkpG1RGYfy",
        "colab_type": "code",
        "outputId": "da7d9808-d119-4414-b616-0faae1aeef4b",
        "colab": {
          "base_uri": "https://localhost:8080/",
          "height": 167
        }
      },
      "source": [
        "model.summary()"
      ],
      "execution_count": 0,
      "outputs": [
        {
          "output_type": "error",
          "ename": "NameError",
          "evalue": "ignored",
          "traceback": [
            "\u001b[0;31m---------------------------------------------------------------------------\u001b[0m",
            "\u001b[0;31mNameError\u001b[0m                                 Traceback (most recent call last)",
            "\u001b[0;32m<ipython-input-1-5f15418b3570>\u001b[0m in \u001b[0;36m<module>\u001b[0;34m()\u001b[0m\n\u001b[0;32m----> 1\u001b[0;31m \u001b[0mmodel\u001b[0m\u001b[0;34m.\u001b[0m\u001b[0msummary\u001b[0m\u001b[0;34m(\u001b[0m\u001b[0;34m)\u001b[0m\u001b[0;34m\u001b[0m\u001b[0;34m\u001b[0m\u001b[0m\n\u001b[0m",
            "\u001b[0;31mNameError\u001b[0m: name 'model' is not defined"
          ]
        }
      ]
    },
    {
      "cell_type": "code",
      "metadata": {
        "id": "7bf_PN4CVYEq",
        "colab_type": "code",
        "outputId": "83a4c14a-f094-493d-8dd9-157d2c10dceb",
        "colab": {
          "base_uri": "https://localhost:8080/",
          "height": 167
        }
      },
      "source": [
        "history"
      ],
      "execution_count": 0,
      "outputs": [
        {
          "output_type": "error",
          "ename": "AttributeError",
          "evalue": "ignored",
          "traceback": [
            "\u001b[0;31m---------------------------------------------------------------------------\u001b[0m",
            "\u001b[0;31mAttributeError\u001b[0m                            Traceback (most recent call last)",
            "\u001b[0;32m<ipython-input-60-599bbe8eff21>\u001b[0m in \u001b[0;36m<module>\u001b[0;34m()\u001b[0m\n\u001b[0;32m----> 1\u001b[0;31m \u001b[0mhistory\u001b[0m\u001b[0;34m.\u001b[0m\u001b[0maccuracy\u001b[0m\u001b[0;34m\u001b[0m\u001b[0;34m\u001b[0m\u001b[0m\n\u001b[0m",
            "\u001b[0;31mAttributeError\u001b[0m: 'History' object has no attribute 'accuracy'"
          ]
        }
      ]
    },
    {
      "cell_type": "code",
      "metadata": {
        "id": "3W7Li2xqnqD5",
        "colab_type": "code",
        "colab": {}
      },
      "source": [
        "import pandas as pd\n",
        "df = pd.DataFrame(history.history)"
      ],
      "execution_count": 0,
      "outputs": []
    },
    {
      "cell_type": "code",
      "metadata": {
        "id": "strE9j9MoGWX",
        "colab_type": "code",
        "outputId": "fbfa99f5-9160-4d31-feab-c5239f4b0757",
        "colab": {
          "base_uri": "https://localhost:8080/",
          "height": 343
        }
      },
      "source": [
        "df"
      ],
      "execution_count": 18,
      "outputs": [
        {
          "output_type": "execute_result",
          "data": {
            "text/html": [
              "<div>\n",
              "<style scoped>\n",
              "    .dataframe tbody tr th:only-of-type {\n",
              "        vertical-align: middle;\n",
              "    }\n",
              "\n",
              "    .dataframe tbody tr th {\n",
              "        vertical-align: top;\n",
              "    }\n",
              "\n",
              "    .dataframe thead th {\n",
              "        text-align: right;\n",
              "    }\n",
              "</style>\n",
              "<table border=\"1\" class=\"dataframe\">\n",
              "  <thead>\n",
              "    <tr style=\"text-align: right;\">\n",
              "      <th></th>\n",
              "      <th>loss</th>\n",
              "      <th>accuracy</th>\n",
              "      <th>val_loss</th>\n",
              "      <th>val_accuracy</th>\n",
              "    </tr>\n",
              "  </thead>\n",
              "  <tbody>\n",
              "    <tr>\n",
              "      <th>0</th>\n",
              "      <td>0.147977</td>\n",
              "      <td>0.954935</td>\n",
              "      <td>0.110006</td>\n",
              "      <td>0.962840</td>\n",
              "    </tr>\n",
              "    <tr>\n",
              "      <th>1</th>\n",
              "      <td>0.113496</td>\n",
              "      <td>0.959657</td>\n",
              "      <td>0.097542</td>\n",
              "      <td>0.963836</td>\n",
              "    </tr>\n",
              "    <tr>\n",
              "      <th>2</th>\n",
              "      <td>0.110531</td>\n",
              "      <td>0.960053</td>\n",
              "      <td>0.096860</td>\n",
              "      <td>0.964824</td>\n",
              "    </tr>\n",
              "    <tr>\n",
              "      <th>3</th>\n",
              "      <td>0.109870</td>\n",
              "      <td>0.960409</td>\n",
              "      <td>0.104235</td>\n",
              "      <td>0.964392</td>\n",
              "    </tr>\n",
              "    <tr>\n",
              "      <th>4</th>\n",
              "      <td>0.110606</td>\n",
              "      <td>0.960238</td>\n",
              "      <td>0.094434</td>\n",
              "      <td>0.964661</td>\n",
              "    </tr>\n",
              "    <tr>\n",
              "      <th>5</th>\n",
              "      <td>0.110238</td>\n",
              "      <td>0.960369</td>\n",
              "      <td>0.109350</td>\n",
              "      <td>0.959625</td>\n",
              "    </tr>\n",
              "    <tr>\n",
              "      <th>6</th>\n",
              "      <td>0.110741</td>\n",
              "      <td>0.960255</td>\n",
              "      <td>0.109116</td>\n",
              "      <td>0.958257</td>\n",
              "    </tr>\n",
              "    <tr>\n",
              "      <th>7</th>\n",
              "      <td>0.110659</td>\n",
              "      <td>0.960247</td>\n",
              "      <td>0.102145</td>\n",
              "      <td>0.962114</td>\n",
              "    </tr>\n",
              "    <tr>\n",
              "      <th>8</th>\n",
              "      <td>0.112076</td>\n",
              "      <td>0.959817</td>\n",
              "      <td>0.100304</td>\n",
              "      <td>0.963168</td>\n",
              "    </tr>\n",
              "    <tr>\n",
              "      <th>9</th>\n",
              "      <td>0.113572</td>\n",
              "      <td>0.960327</td>\n",
              "      <td>0.103348</td>\n",
              "      <td>0.962454</td>\n",
              "    </tr>\n",
              "  </tbody>\n",
              "</table>\n",
              "</div>"
            ],
            "text/plain": [
              "       loss  accuracy  val_loss  val_accuracy\n",
              "0  0.147977  0.954935  0.110006      0.962840\n",
              "1  0.113496  0.959657  0.097542      0.963836\n",
              "2  0.110531  0.960053  0.096860      0.964824\n",
              "3  0.109870  0.960409  0.104235      0.964392\n",
              "4  0.110606  0.960238  0.094434      0.964661\n",
              "5  0.110238  0.960369  0.109350      0.959625\n",
              "6  0.110741  0.960255  0.109116      0.958257\n",
              "7  0.110659  0.960247  0.102145      0.962114\n",
              "8  0.112076  0.959817  0.100304      0.963168\n",
              "9  0.113572  0.960327  0.103348      0.962454"
            ]
          },
          "metadata": {
            "tags": []
          },
          "execution_count": 18
        }
      ]
    },
    {
      "cell_type": "code",
      "metadata": {
        "id": "A6xqaJE9oHJ1",
        "colab_type": "code",
        "colab": {}
      },
      "source": [
        "df.to_excel('model1st21by21_history.xlsx')"
      ],
      "execution_count": 0,
      "outputs": []
    },
    {
      "cell_type": "code",
      "metadata": {
        "id": "FJXbVLMfvd5V",
        "colab_type": "code",
        "colab": {}
      },
      "source": [
        ""
      ],
      "execution_count": 0,
      "outputs": []
    }
  ]
}