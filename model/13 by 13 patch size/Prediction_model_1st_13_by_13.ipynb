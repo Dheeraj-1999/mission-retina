{
  "nbformat": 4,
  "nbformat_minor": 0,
  "metadata": {
    "colab": {
      "name": "Prediction model 1st 13 by 13.ipynb",
      "provenance": [],
      "collapsed_sections": []
    },
    "kernelspec": {
      "name": "python3",
      "display_name": "Python 3"
    }
  },
  "cells": [
    {
      "cell_type": "code",
      "metadata": {
        "id": "aRLG2R2Gvdqv",
        "colab_type": "code",
        "outputId": "3487ddbb-7161-480e-f390-04811364a3b3",
        "colab": {
          "base_uri": "https://localhost:8080/",
          "height": 202
        }
      },
      "source": [
        "import zipfile\n",
        "!wget --no-check-certificate \\\n",
        "    \"https://storage.googleapis.com/datsets/model1/13%20by%2013/model1st13by13.zip\"\\\n",
        "    -O \"/tmp/model.zip\"\n",
        "\n",
        "zipFile = '/tmp/model.zip'\n",
        "zip_ref   = zipfile.ZipFile(zipFile, 'r')\n",
        "zip_ref.extractall('/tmp')\n",
        "zip_ref.close()\n"
      ],
      "execution_count": 0,
      "outputs": [
        {
          "output_type": "stream",
          "text": [
            "--2020-04-11 10:57:37--  https://storage.googleapis.com/datsets/model1/13%20by%2013/model1st13by13.zip\n",
            "Resolving storage.googleapis.com (storage.googleapis.com)... 74.125.124.128, 2607:f8b0:4001:c07::80\n",
            "Connecting to storage.googleapis.com (storage.googleapis.com)|74.125.124.128|:443... connected.\n",
            "HTTP request sent, awaiting response... 200 OK\n",
            "Length: 5282864 (5.0M) [application/x-zip-compressed]\n",
            "Saving to: ‘/tmp/model.zip’\n",
            "\n",
            "\r/tmp/model.zip        0%[                    ]       0  --.-KB/s               \r/tmp/model.zip      100%[===================>]   5.04M  --.-KB/s    in 0.07s   \n",
            "\n",
            "2020-04-11 10:57:37 (74.3 MB/s) - ‘/tmp/model.zip’ saved [5282864/5282864]\n",
            "\n"
          ],
          "name": "stdout"
        }
      ]
    },
    {
      "cell_type": "code",
      "metadata": {
        "id": "ZLbRVzH7d-Hs",
        "colab_type": "code",
        "outputId": "1df37c36-5875-4043-de05-612216b4e18b",
        "colab": {
          "base_uri": "https://localhost:8080/",
          "height": 202
        }
      },
      "source": [
        "!wget --no-check-certificate \\\n",
        "    \"https://storage.googleapis.com/datsets/DRIVE.zip\"\\\n",
        "    -O \"/tmp/DRIVE.zip\"\n",
        "\n",
        "local_zip = '/tmp/DRIVE.zip'\n",
        "zip_ref   = zipfile.ZipFile(local_zip, 'r')\n",
        "zip_ref.extractall('/tmp')\n",
        "zip_ref.close()\n"
      ],
      "execution_count": 0,
      "outputs": [
        {
          "output_type": "stream",
          "text": [
            "--2020-04-11 10:57:41--  https://storage.googleapis.com/datsets/DRIVE.zip\n",
            "Resolving storage.googleapis.com (storage.googleapis.com)... 172.217.212.128, 2607:f8b0:4001:c08::80\n",
            "Connecting to storage.googleapis.com (storage.googleapis.com)|172.217.212.128|:443... connected.\n",
            "HTTP request sent, awaiting response... 200 OK\n",
            "Length: 29756930 (28M) [application/x-zip-compressed]\n",
            "Saving to: ‘/tmp/DRIVE.zip’\n",
            "\n",
            "\r/tmp/DRIVE.zip        0%[                    ]       0  --.-KB/s               \r/tmp/DRIVE.zip      100%[===================>]  28.38M   161MB/s    in 0.2s    \n",
            "\n",
            "2020-04-11 10:57:41 (161 MB/s) - ‘/tmp/DRIVE.zip’ saved [29756930/29756930]\n",
            "\n"
          ],
          "name": "stdout"
        }
      ]
    },
    {
      "cell_type": "code",
      "metadata": {
        "id": "qD9WMTFMvtmh",
        "colab_type": "code",
        "colab": {}
      },
      "source": [
        "%tensorflow_version 2.x\n",
        "import tensorflow as tf"
      ],
      "execution_count": 0,
      "outputs": []
    },
    {
      "cell_type": "code",
      "metadata": {
        "id": "DT1NY90zwiIv",
        "colab_type": "code",
        "outputId": "bc17b81d-34c9-4f14-9522-fdf0de5b6b1d",
        "colab": {
          "base_uri": "https://localhost:8080/",
          "height": 34
        }
      },
      "source": [
        "model=tf.keras.models.load_model('/tmp/model1st13by13.hdf5')"
      ],
      "execution_count": 0,
      "outputs": [
        {
          "output_type": "stream",
          "text": [
            "WARNING:tensorflow:Error in loading the saved optimizer state. As a result, your model is starting with a freshly initialized optimizer.\n"
          ],
          "name": "stdout"
        }
      ]
    },
    {
      "cell_type": "code",
      "metadata": {
        "id": "y1E7sFRYwo4E",
        "colab_type": "code",
        "outputId": "a09bb935-6cff-4b88-82aa-5b0b46bf7f2a",
        "colab": {
          "base_uri": "https://localhost:8080/",
          "height": 353
        }
      },
      "source": [
        "model.summary()"
      ],
      "execution_count": 0,
      "outputs": [
        {
          "output_type": "stream",
          "text": [
            "Model: \"sequential\"\n",
            "_________________________________________________________________\n",
            "Layer (type)                 Output Shape              Param #   \n",
            "=================================================================\n",
            "conv2d (Conv2D)              (None, 11, 11, 32)        896       \n",
            "_________________________________________________________________\n",
            "max_pooling2d (MaxPooling2D) (None, 5, 5, 32)          0         \n",
            "_________________________________________________________________\n",
            "flatten (Flatten)            (None, 800)               0         \n",
            "_________________________________________________________________\n",
            "dense (Dense)                (None, 1024)              820224    \n",
            "_________________________________________________________________\n",
            "dense_1 (Dense)              (None, 512)               524800    \n",
            "_________________________________________________________________\n",
            "dense_2 (Dense)              (None, 1)                 513       \n",
            "=================================================================\n",
            "Total params: 1,346,433\n",
            "Trainable params: 1,346,433\n",
            "Non-trainable params: 0\n",
            "_________________________________________________________________\n"
          ],
          "name": "stdout"
        }
      ]
    },
    {
      "cell_type": "code",
      "metadata": {
        "id": "zaVDvKhvxBqY",
        "colab_type": "code",
        "outputId": "056638ca-c14d-457f-a4c8-9820adff5e71",
        "colab": {
          "base_uri": "https://localhost:8080/",
          "height": 218
        }
      },
      "source": [
        "import subprocess,sys\n",
        "!wget --no-check-certificate \\\n",
        "    \"https://storage.googleapis.com/datsets/model1/13%20by%2013/patches13n13test.zip\"\\\n",
        "    -O \"/tmp/patchestest.zip\"\n",
        "\n",
        "zipFile = '/tmp/patchestest.zip'\n",
        "destinationDirectory='/tmp'\n",
        "subprocess.Popen([\"7z\", \"e\", f\"{zipFile}\", f\"-o{destinationDirectory}\", \"-y\"])\n"
      ],
      "execution_count": 0,
      "outputs": [
        {
          "output_type": "stream",
          "text": [
            "--2020-04-11 10:57:56--  https://storage.googleapis.com/datsets/model1/13%20by%2013/patches13n13test.zip\n",
            "Resolving storage.googleapis.com (storage.googleapis.com)... 74.125.124.128, 2607:f8b0:4001:c07::80\n",
            "Connecting to storage.googleapis.com (storage.googleapis.com)|74.125.124.128|:443... connected.\n",
            "HTTP request sent, awaiting response... 200 OK\n",
            "Length: 31433193 (30M) [application/x-zip-compressed]\n",
            "Saving to: ‘/tmp/patchestest.zip’\n",
            "\n",
            "\r/tmp/patchestest.zi   0%[                    ]       0  --.-KB/s               \r/tmp/patchestest.zi  65%[============>       ]  19.59M  97.9MB/s               \r/tmp/patchestest.zi 100%[===================>]  29.98M   132MB/s    in 0.2s    \n",
            "\n",
            "2020-04-11 10:57:57 (132 MB/s) - ‘/tmp/patchestest.zip’ saved [31433193/31433193]\n",
            "\n"
          ],
          "name": "stdout"
        },
        {
          "output_type": "execute_result",
          "data": {
            "text/plain": [
              "<subprocess.Popen at 0x7f0e29548fd0>"
            ]
          },
          "metadata": {
            "tags": []
          },
          "execution_count": 6
        }
      ]
    },
    {
      "cell_type": "code",
      "metadata": {
        "id": "1hfsgw6fxETJ",
        "colab_type": "code",
        "outputId": "6dbbdd56-b689-4f27-a5ec-baace2ff7e56",
        "colab": {
          "base_uri": "https://localhost:8080/",
          "height": 34
        }
      },
      "source": [
        "import numpy\n",
        "test= numpy.load('/tmp/patches13n13test.npy')\n",
        "test.shape"
      ],
      "execution_count": 0,
      "outputs": [
        {
          "output_type": "execute_result",
          "data": {
            "text/plain": [
              "(659920, 13, 13, 3)"
            ]
          },
          "metadata": {
            "tags": []
          },
          "execution_count": 7
        }
      ]
    },
    {
      "cell_type": "code",
      "metadata": {
        "id": "zmJK83oQw_KX",
        "colab_type": "code",
        "outputId": "b5423ed3-9af9-402b-806b-125c08a00274",
        "colab": {
          "base_uri": "https://localhost:8080/",
          "height": 87
        }
      },
      "source": [
        "predict=model.predict_classes(test)"
      ],
      "execution_count": 0,
      "outputs": [
        {
          "output_type": "stream",
          "text": [
            "WARNING:tensorflow:From <ipython-input-8-278af5f9950b>:1: Sequential.predict_classes (from tensorflow.python.keras.engine.sequential) is deprecated and will be removed after 2021-01-01.\n",
            "Instructions for updating:\n",
            "Please use instead:* `np.argmax(model.predict(x), axis=-1)`,   if your model does multi-class classification   (e.g. if it uses a `softmax` last-layer activation).* `(model.predict(x) > 0.5).astype(\"int32\")`,   if your model does binary classification   (e.g. if it uses a `sigmoid` last-layer activation).\n"
          ],
          "name": "stdout"
        }
      ]
    },
    {
      "cell_type": "code",
      "metadata": {
        "id": "kj68rFQOxk1e",
        "colab_type": "code",
        "outputId": "5244f2cf-05ca-43f3-d54e-4530a992597a",
        "colab": {
          "base_uri": "https://localhost:8080/",
          "height": 34
        }
      },
      "source": [
        "predict.shape"
      ],
      "execution_count": 0,
      "outputs": [
        {
          "output_type": "execute_result",
          "data": {
            "text/plain": [
              "(659920, 1)"
            ]
          },
          "metadata": {
            "tags": []
          },
          "execution_count": 9
        }
      ]
    },
    {
      "cell_type": "code",
      "metadata": {
        "id": "KpKA03OTxr4-",
        "colab_type": "code",
        "outputId": "702ae1aa-62af-4fb0-b6c0-9a81075343a2",
        "colab": {
          "base_uri": "https://localhost:8080/",
          "height": 34
        }
      },
      "source": [
        "img1=predict[:329960]*255\n",
        "img_plot=numpy.reshape(img1,(584,565)).astype('uint8')\n",
        "img_plot.shape"
      ],
      "execution_count": 0,
      "outputs": [
        {
          "output_type": "execute_result",
          "data": {
            "text/plain": [
              "(584, 565)"
            ]
          },
          "metadata": {
            "tags": []
          },
          "execution_count": 10
        }
      ]
    },
    {
      "cell_type": "code",
      "metadata": {
        "id": "B3b5UTxI1f_-",
        "colab_type": "code",
        "outputId": "f8442547-934e-4266-d659-446f1ff481df",
        "colab": {
          "base_uri": "https://localhost:8080/",
          "height": 601
        }
      },
      "source": [
        "from PIL import Image\n",
        "img = Image.fromarray(img_plot)\n",
        "man1=Image.open('/tmp/DRIVE/test/1st_manual/01_manual1.gif')\n",
        "man2=Image.open('/tmp/DRIVE/test/2nd_manual/01_manual2.gif')\n",
        "img.save('/content/prediction1.jpg')\n",
        "img\n",
        "# man1\n",
        "# man2\n",
        "# img.save('1.jpg')"
      ],
      "execution_count": 0,
      "outputs": [
        {
          "output_type": "execute_result",
          "data": {
            "image/png": "[encoded data removed]",
            "text/plain": [
              "<PIL.Image.Image image mode=L size=565x584 at 0x7F0D9BE23550>"
            ]
          },
          "metadata": {
            "tags": []
          },
          "execution_count": 11
        }
      ]
    },
    {
      "cell_type": "code",
      "metadata": {
        "id": "uWdQo1Ob4sB8",
        "colab_type": "code",
        "colab": {}
      },
      "source": [
        "img2=predict[329960:]*255"
      ],
      "execution_count": 0,
      "outputs": []
    },
    {
      "cell_type": "code",
      "metadata": {
        "id": "FDHhugwHEvZP",
        "colab_type": "code",
        "outputId": "3471798a-eac2-4565-dd63-7259ad98c071",
        "colab": {
          "base_uri": "https://localhost:8080/",
          "height": 34
        }
      },
      "source": [
        "img2.shape"
      ],
      "execution_count": 0,
      "outputs": [
        {
          "output_type": "execute_result",
          "data": {
            "text/plain": [
              "(329960, 1)"
            ]
          },
          "metadata": {
            "tags": []
          },
          "execution_count": 13
        }
      ]
    },
    {
      "cell_type": "code",
      "metadata": {
        "id": "ijy0XbYuEzzz",
        "colab_type": "code",
        "colab": {}
      },
      "source": [
        "img1_plot=numpy.reshape(img2,(584,565)).astype('uint8')"
      ],
      "execution_count": 0,
      "outputs": []
    },
    {
      "cell_type": "code",
      "metadata": {
        "id": "mu9P7GMNE7bX",
        "colab_type": "code",
        "outputId": "8fb2ce5f-74ab-43cc-ea3a-db1d9406cb85",
        "colab": {
          "base_uri": "https://localhost:8080/",
          "height": 601
        }
      },
      "source": [
        "from PIL import Image\n",
        "img = Image.fromarray(img1_plot)\n",
        "img"
      ],
      "execution_count": 0,
      "outputs": [
        {
          "output_type": "execute_result",
          "data": {
            "image/png": "[encoded data removed]",
            "text/plain": [
              "<PIL.Image.Image image mode=L size=565x584 at 0x7F0D9BE23630>"
            ]
          },
          "metadata": {
            "tags": []
          },
          "execution_count": 15
        }
      ]
    },
    {
      "cell_type": "code",
      "metadata": {
        "id": "vc2CZ5pnE-Ep",
        "colab_type": "code",
        "colab": {}
      },
      "source": [
        ""
      ],
      "execution_count": 0,
      "outputs": []
    },
    {
      "cell_type": "code",
      "metadata": {
        "colab_type": "code",
        "outputId": "90667ee2-b87c-4d0d-d0eb-9ce9e321b84f",
        "id": "Pbe3WQ0ngI_c",
        "colab": {
          "base_uri": "https://localhost:8080/",
          "height": 286
        }
      },
      "source": [
        "%matplotlib inline\n",
        "from matplotlib import pyplot as plt\n",
        "import matplotlib.image as mpimg\n",
        "img1=mpimg.imread('/content/prediction1.jpg')\n",
        "img2=mpimg.imread('/tmp/DRIVE/test/1st_manual/01_manual1.gif')\n",
        "img3=mpimg.imread('/tmp/DRIVE/test/2nd_manual/01_manual2.gif')\n",
        "fig, ax = plt.subplots(2,2)\n",
        "ax[0][0].imshow(img1);\n",
        "ax[0][1].imshow(img2);\n",
        "ax[1][0].imshow(img3)"
      ],
      "execution_count": 0,
      "outputs": [
        {
          "output_type": "execute_result",
          "data": {
            "text/plain": [
              "<matplotlib.image.AxesImage at 0x7f0d98ff0eb8>"
            ]
          },
          "metadata": {
            "tags": []
          },
          "execution_count": 16
        },
        {
          "output_type": "display_data",
          "data": {
            "image/png": "[encoded data removed]",
            "text/plain": [
              "<Figure size 432x288 with 4 Axes>"
            ]
          },
          "metadata": {
            "tags": [],
            "needs_background": "light"
          }
        }
      ]
    },
    {
      "cell_type": "code",
      "metadata": {
        "id": "6KIrGGPQhEZW",
        "colab_type": "code",
        "colab": {}
      },
      "source": [
        ""
      ],
      "execution_count": 0,
      "outputs": []
    }
  ]
}