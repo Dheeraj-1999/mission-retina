{
 "cells": [
  {
   "cell_type": "code",
   "execution_count": 0,
   "metadata": {
    "colab": {},
    "colab_type": "code",
    "id": "-FJlZog-uOIF"
   },
   "outputs": [],
   "source": [
    "import os\n",
    "import zipfile\n",
    "import random\n",
    "import numpy as np"
   ]
  },
  {
   "cell_type": "code",
   "execution_count": 2,
   "metadata": {
    "colab": {
     "base_uri": "https://localhost:8080/",
     "height": 202
    },
    "colab_type": "code",
    "id": "8ieak9xlt9N3",
    "outputId": "d940360a-fa4a-4cad-856d-0a03cab298f4"
   },
   "outputs": [
    {
     "name": "stdout",
     "output_type": "stream",
     "text": [
      "--2020-04-10 16:01:23--  https://storage.googleapis.com/datsets/DRIVE.zip\n",
      "Resolving storage.googleapis.com (storage.googleapis.com)... 74.125.195.128, 2607:f8b0:400e:c03::80\n",
      "Connecting to storage.googleapis.com (storage.googleapis.com)|74.125.195.128|:443... connected.\n",
      "HTTP request sent, awaiting response... 200 OK\n",
      "Length: 29756930 (28M) [application/x-zip-compressed]\n",
      "Saving to: ‘/tmp/DRIVE.zip’\n",
      "\n",
      "\r",
      "/tmp/DRIVE.zip        0%[                    ]       0  --.-KB/s               \r",
      "/tmp/DRIVE.zip       26%[====>               ]   7.55M  37.8MB/s               \r",
      "/tmp/DRIVE.zip      100%[===================>]  28.38M  72.3MB/s    in 0.4s    \n",
      "\n",
      "2020-04-10 16:01:24 (72.3 MB/s) - ‘/tmp/DRIVE.zip’ saved [29756930/29756930]\n",
      "\n"
     ]
    }
   ],
   "source": [
    "!wget --no-check-certificate \\\n",
    "    \"https://storage.googleapis.com/datsets/DRIVE.zip\"\\\n",
    "    -O \"/tmp/DRIVE.zip\"\n",
    "\n",
    "local_zip = '/tmp/DRIVE.zip'\n",
    "zip_ref   = zipfile.ZipFile(local_zip, 'r')\n",
    "zip_ref.extractall('/tmp')\n",
    "zip_ref.close()\n"
   ]
  },
  {
   "cell_type": "code",
   "execution_count": 3,
   "metadata": {
    "colab": {
     "base_uri": "https://localhost:8080/",
     "height": 218
    },
    "colab_type": "code",
    "id": "Nl0d5TN2eyDY",
    "outputId": "8d9781e6-8ecf-44a9-831a-2f1030f3bb5d"
   },
   "outputs": [
    {
     "name": "stdout",
     "output_type": "stream",
     "text": [
      "--2020-04-10 16:01:26--  https://storage.googleapis.com/datsets/model1/9%20by%209/patches9n9nskip2.zip\n",
      "Resolving storage.googleapis.com (storage.googleapis.com)... 74.125.197.128, 2607:f8b0:400e:c08::80\n",
      "Connecting to storage.googleapis.com (storage.googleapis.com)|74.125.197.128|:443... connected.\n",
      "HTTP request sent, awaiting response... 200 OK\n",
      "Length: 72745748 (69M) [application/x-zip-compressed]\n",
      "Saving to: ‘/tmp/patches.zip’\n",
      "\n",
      "\r",
      "/tmp/patches.zip      0%[                    ]       0  --.-KB/s               \r",
      "/tmp/patches.zip     44%[=======>            ]  31.07M   155MB/s               \r",
      "/tmp/patches.zip    100%[===================>]  69.38M   194MB/s    in 0.4s    \n",
      "\n",
      "2020-04-10 16:01:27 (194 MB/s) - ‘/tmp/patches.zip’ saved [72745748/72745748]\n",
      "\n"
     ]
    },
    {
     "data": {
      "text/plain": [
       "<subprocess.Popen at 0x7fa3d560ecc0>"
      ]
     },
     "execution_count": 3,
     "metadata": {
      "tags": []
     },
     "output_type": "execute_result"
    }
   ],
   "source": [
    "import subprocess,sys\n",
    "!wget --no-check-certificate \\\n",
    "    \"https://storage.googleapis.com/datsets/model1/9%20by%209/patches9n9nskip2.zip\"\\\n",
    "    -O \"/tmp/patches.zip\"\n",
    "\n",
    "zipFile = '/tmp/patches.zip'\n",
    "destinationDirectory='/tmp'\n",
    "subprocess.Popen([\"7z\", \"e\", f\"{zipFile}\", f\"-o{destinationDirectory}\", \"-y\"])\n",
    "# zip_ref   = zipfile.ZipFile(local_zip, 'r')\n",
    "# zip_ref.extractall('/tmp')\n",
    "# zip_ref.close()\n"
   ]
  },
  {
   "cell_type": "code",
   "execution_count": 0,
   "metadata": {
    "colab": {},
    "colab_type": "code",
    "id": "KTN_EVtDq5nO"
   },
   "outputs": [],
   "source": [
    "X = np.load('/tmp/patches9n9nskip2.npy')"
   ]
  },
  {
   "cell_type": "code",
   "execution_count": 6,
   "metadata": {
    "colab": {
     "base_uri": "https://localhost:8080/",
     "height": 34
    },
    "colab_type": "code",
    "id": "TQKg5c1QrOpN",
    "outputId": "fe74c8c8-f70f-450e-d372-61d8bbbaa661"
   },
   "outputs": [
    {
     "data": {
      "text/plain": [
       "(1652720, 9, 9, 3)"
      ]
     },
     "execution_count": 6,
     "metadata": {
      "tags": []
     },
     "output_type": "execute_result"
    }
   ],
   "source": [
    "X.shape"
   ]
  },
  {
   "cell_type": "code",
   "execution_count": 7,
   "metadata": {
    "colab": {
     "base_uri": "https://localhost:8080/",
     "height": 34
    },
    "colab_type": "code",
    "id": "46cdT_fihZTV",
    "outputId": "bf6ae8cd-136c-4720-d1a3-7a18305a4da9"
   },
   "outputs": [
    {
     "data": {
      "text/plain": [
       "(1652720,)"
      ]
     },
     "execution_count": 7,
     "metadata": {
      "tags": []
     },
     "output_type": "execute_result"
    }
   ],
   "source": [
    "#Make sure to upload outputs.npy file before running the cell\n",
    "y=np.load('/content/outputs.npy')\n",
    "w=y//255\n",
    "z=set(w)\n",
    "y=w\n",
    "y.shape"
   ]
  },
  {
   "cell_type": "code",
   "execution_count": 0,
   "metadata": {
    "colab": {},
    "colab_type": "code",
    "id": "w6uuokLa7O9H"
   },
   "outputs": [],
   "source": [
    "X_train,X_val,y_train,y_val=X[0:1500000,:,:],X[1500000:1652720,:,:],y[0:1500000],y[1500000:1652720]"
   ]
  },
  {
   "cell_type": "code",
   "execution_count": 0,
   "metadata": {
    "colab": {},
    "colab_type": "code",
    "id": "XvdRdZ14VFCj"
   },
   "outputs": [],
   "source": [
    "%tensorflow_version 2.x\n",
    "import tensorflow as tf\n",
    "model = tf.keras.models.Sequential([\n",
    "    tf.keras.layers.Conv2D(32,(3, 3), activation='relu', input_shape=(9,9,3)),\n",
    "    tf.keras.layers.MaxPooling2D((2, 2)),\n",
    "    tf.keras.layers.Flatten(),\n",
    "    tf.keras.layers.Dense(1024, activation='relu'),\n",
    "    tf.keras.layers.Dense(512, activation='relu'),\n",
    "    tf.keras.layers.Dense(1, activation='sigmoid')\n",
    "])\n",
    "\n",
    "model.compile(optimizer=tf.keras.optimizers.Adam(), loss='binary_crossentropy', metrics=['accuracy'])"
   ]
  },
  {
   "cell_type": "code",
   "execution_count": 13,
   "metadata": {
    "colab": {
     "base_uri": "https://localhost:8080/",
     "height": 353
    },
    "colab_type": "code",
    "id": "xf5tl6P7XC40",
    "outputId": "c77bd90a-6cc4-4a8f-9134-06bfab09540f"
   },
   "outputs": [
    {
     "name": "stdout",
     "output_type": "stream",
     "text": [
      "Epoch 1/10\n",
      "23438/23438 [==============================] - 63s 3ms/step - loss: 0.1348 - accuracy: 0.9544 - val_loss: 0.1142 - val_accuracy: 0.9607\n",
      "Epoch 2/10\n",
      "23438/23438 [==============================] - 62s 3ms/step - loss: 0.1194 - accuracy: 0.9576 - val_loss: 0.1067 - val_accuracy: 0.9610\n",
      "Epoch 3/10\n",
      "23438/23438 [==============================] - 62s 3ms/step - loss: 0.1169 - accuracy: 0.9583 - val_loss: 0.1022 - val_accuracy: 0.9613\n",
      "Epoch 4/10\n",
      "23438/23438 [==============================] - 62s 3ms/step - loss: 0.1146 - accuracy: 0.9588 - val_loss: 0.1065 - val_accuracy: 0.9618\n",
      "Epoch 5/10\n",
      "23438/23438 [==============================] - 62s 3ms/step - loss: 0.1140 - accuracy: 0.9590 - val_loss: 0.1074 - val_accuracy: 0.9607\n",
      "Epoch 6/10\n",
      "23438/23438 [==============================] - 63s 3ms/step - loss: 0.1137 - accuracy: 0.9591 - val_loss: 0.1099 - val_accuracy: 0.9587\n",
      "Epoch 7/10\n",
      "23438/23438 [==============================] - 62s 3ms/step - loss: 0.1137 - accuracy: 0.9591 - val_loss: 0.1031 - val_accuracy: 0.9625\n",
      "Epoch 8/10\n",
      "23438/23438 [==============================] - 62s 3ms/step - loss: 0.1140 - accuracy: 0.9588 - val_loss: 0.1009 - val_accuracy: 0.9626\n",
      "Epoch 9/10\n",
      "23438/23438 [==============================] - 62s 3ms/step - loss: 0.1144 - accuracy: 0.9589 - val_loss: 0.1056 - val_accuracy: 0.9610\n",
      "Epoch 10/10\n",
      "23438/23438 [==============================] - 62s 3ms/step - loss: 0.1125 - accuracy: 0.9593 - val_loss: 0.1047 - val_accuracy: 0.9612\n"
     ]
    }
   ],
   "source": [
    "history = model.fit(X_train,y_train,batch_size=64,epochs=10,validation_data=(X_val,y_val))\n",
    "model.save('model1st9by9.hdf5')"
   ]
  },
  {
   "cell_type": "code",
   "execution_count": null,
   "metadata": {},
   "outputs": [],
   "source": [
    "tfmodel.load_"
   ]
  },
  {
   "cell_type": "code",
   "execution_count": 11,
   "metadata": {
    "colab": {
     "base_uri": "https://localhost:8080/",
     "height": 353
    },
    "colab_type": "code",
    "id": "lC63Y2OMrR8y",
    "outputId": "b14c4e87-aecc-48c0-ac6c-95453d54cf8f"
   },
   "outputs": [
    {
     "name": "stdout",
     "output_type": "stream",
     "text": [
      "Model: \"sequential\"\n",
      "_________________________________________________________________\n",
      "Layer (type)                 Output Shape              Param #   \n",
      "=================================================================\n",
      "conv2d (Conv2D)              (None, 7, 7, 32)          896       \n",
      "_________________________________________________________________\n",
      "max_pooling2d (MaxPooling2D) (None, 3, 3, 32)          0         \n",
      "_________________________________________________________________\n",
      "flatten (Flatten)            (None, 288)               0         \n",
      "_________________________________________________________________\n",
      "dense (Dense)                (None, 1024)              295936    \n",
      "_________________________________________________________________\n",
      "dense_1 (Dense)              (None, 512)               524800    \n",
      "_________________________________________________________________\n",
      "dense_2 (Dense)              (None, 1)                 513       \n",
      "=================================================================\n",
      "Total params: 822,145\n",
      "Trainable params: 822,145\n",
      "Non-trainable params: 0\n",
      "_________________________________________________________________\n"
     ]
    }
   ],
   "source": [
    "model.summary()"
   ]
  },
  {
   "cell_type": "code",
   "execution_count": 1,
   "metadata": {
    "colab": {
     "base_uri": "https://localhost:8080/",
     "height": 754
    },
    "colab_type": "code",
    "id": "yMHvM8JHk8UJ",
    "outputId": "523ba78b-9381-4d4d-c735-6a8573670989"
   },
   "outputs": [
    {
     "output_type": "error",
     "ename": "NameError",
     "evalue": "name 'plt' is not defined",
     "traceback": [
      "\u001b[1;31m---------------------------------------------------------------------------\u001b[0m",
      "\u001b[1;31mNameError\u001b[0m                                 Traceback (most recent call last)",
      "\u001b[1;32m<ipython-input-1-c5e347d59d6c>\u001b[0m in \u001b[0;36m<module>\u001b[1;34m\u001b[0m\n\u001b[1;32m----> 1\u001b[1;33m \u001b[0mplt\u001b[0m\u001b[1;33m.\u001b[0m\u001b[0mimsave\u001b[0m\u001b[1;33m(\u001b[0m\u001b[0mtf\u001b[0m\u001b[1;33m.\u001b[0m\u001b[0mkeras\u001b[0m\u001b[1;33m.\u001b[0m\u001b[0mutils\u001b[0m\u001b[1;33m.\u001b[0m\u001b[0mplot_model\u001b[0m\u001b[1;33m(\u001b[0m\u001b[0mmodel\u001b[0m\u001b[1;33m,\u001b[0m \u001b[1;34m'multi_input_and_output_model.png'\u001b[0m\u001b[1;33m,\u001b[0m \u001b[0mshow_shapes\u001b[0m\u001b[1;33m=\u001b[0m\u001b[1;32mTrue\u001b[0m\u001b[1;33m)\u001b[0m\u001b[1;33m)\u001b[0m\u001b[1;33m\u001b[0m\u001b[0m\n\u001b[0m",
      "\u001b[1;31mNameError\u001b[0m: name 'plt' is not defined"
     ]
    }
   ],
   "source": [
    "plt.imsave(tf.keras.utils.plot_model(model, 'multi_input_and_output_model.png', show_shapes=True))"
   ]
  },
  {
   "cell_type": "code",
   "execution_count": 14,
   "metadata": {
    "colab": {
     "base_uri": "https://localhost:8080/",
     "height": 545
    },
    "colab_type": "code",
    "id": "pKwme0Oik8sb",
    "outputId": "5503bf05-c4d0-4bcd-bdfe-f78b6ae09e09"
   },
   "outputs": [
    {
     "data": {
      "image/png": "[encoded data removed]",
      "text/plain": [
       "<Figure size 432x288 with 1 Axes>"
      ]
     },
     "metadata": {
      "tags": []
     },
     "output_type": "display_data"
    },
    {
     "data": {
      "image/png": "[encoded data removed]",
      "text/plain": [
       "<Figure size 432x288 with 1 Axes>"
      ]
     },
     "metadata": {
      "tags": []
     },
     "output_type": "display_data"
    }
   ],
   "source": [
    "import matplotlib.pyplot as plt\n",
    "acc = history.history['accuracy']\n",
    "val_acc = history.history['val_accuracy']\n",
    "loss = history.history['loss']\n",
    "val_loss = history.history['val_loss']\n",
    "\n",
    "epochs = range(len(acc))\n",
    "\n",
    "plt.plot(epochs, acc, 'bo', label='Training accuracy',linestyle='dashed')\n",
    "plt.plot(epochs, val_acc, 'b', label='Validation accuracy',linestyle='dashed')\n",
    "plt.title('Training and validation accuracy')\n",
    "plt.legend()\n",
    "plt.figure()\n",
    "\n",
    "plt.plot(epochs, loss, 'bo', label='Training Loss',linestyle='dashed')\n",
    "plt.plot(epochs, val_loss, 'b', label='Validation Loss',linestyle='dashed')\n",
    "plt.title('Training and validation loss')\n",
    "plt.legend()\n",
    "\n",
    "plt.show()"
   ]
  },
  {
   "cell_type": "code",
   "execution_count": 0,
   "metadata": {
    "colab": {},
    "colab_type": "code",
    "id": "3W7Li2xqnqD5"
   },
   "outputs": [],
   "source": [
    "import pandas as pd\n",
    "df = pd.DataFrame(history.history)"
   ]
  },
  {
   "cell_type": "code",
   "execution_count": 16,
   "metadata": {
    "colab": {
     "base_uri": "https://localhost:8080/",
     "height": 343
    },
    "colab_type": "code",
    "id": "strE9j9MoGWX",
    "outputId": "6f06004e-4dc1-4b74-a6a0-39ac2dc8fbc4"
   },
   "outputs": [
    {
     "data": {
      "text/html": [
       "<div>\n",
       "<style scoped>\n",
       "    .dataframe tbody tr th:only-of-type {\n",
       "        vertical-align: middle;\n",
       "    }\n",
       "\n",
       "    .dataframe tbody tr th {\n",
       "        vertical-align: top;\n",
       "    }\n",
       "\n",
       "    .dataframe thead th {\n",
       "        text-align: right;\n",
       "    }\n",
       "</style>\n",
       "<table border=\"1\" class=\"dataframe\">\n",
       "  <thead>\n",
       "    <tr style=\"text-align: right;\">\n",
       "      <th></th>\n",
       "      <th>loss</th>\n",
       "      <th>accuracy</th>\n",
       "      <th>val_loss</th>\n",
       "      <th>val_accuracy</th>\n",
       "    </tr>\n",
       "  </thead>\n",
       "  <tbody>\n",
       "    <tr>\n",
       "      <th>0</th>\n",
       "      <td>0.134794</td>\n",
       "      <td>0.954369</td>\n",
       "      <td>0.114191</td>\n",
       "      <td>0.960706</td>\n",
       "    </tr>\n",
       "    <tr>\n",
       "      <th>1</th>\n",
       "      <td>0.119408</td>\n",
       "      <td>0.957586</td>\n",
       "      <td>0.106704</td>\n",
       "      <td>0.961007</td>\n",
       "    </tr>\n",
       "    <tr>\n",
       "      <th>2</th>\n",
       "      <td>0.116864</td>\n",
       "      <td>0.958252</td>\n",
       "      <td>0.102206</td>\n",
       "      <td>0.961315</td>\n",
       "    </tr>\n",
       "    <tr>\n",
       "      <th>3</th>\n",
       "      <td>0.114574</td>\n",
       "      <td>0.958769</td>\n",
       "      <td>0.106542</td>\n",
       "      <td>0.961806</td>\n",
       "    </tr>\n",
       "    <tr>\n",
       "      <th>4</th>\n",
       "      <td>0.113961</td>\n",
       "      <td>0.958969</td>\n",
       "      <td>0.107358</td>\n",
       "      <td>0.960686</td>\n",
       "    </tr>\n",
       "    <tr>\n",
       "      <th>5</th>\n",
       "      <td>0.113715</td>\n",
       "      <td>0.959054</td>\n",
       "      <td>0.109942</td>\n",
       "      <td>0.958656</td>\n",
       "    </tr>\n",
       "    <tr>\n",
       "      <th>6</th>\n",
       "      <td>0.113651</td>\n",
       "      <td>0.959103</td>\n",
       "      <td>0.103135</td>\n",
       "      <td>0.962474</td>\n",
       "    </tr>\n",
       "    <tr>\n",
       "      <th>7</th>\n",
       "      <td>0.114018</td>\n",
       "      <td>0.958842</td>\n",
       "      <td>0.100905</td>\n",
       "      <td>0.962592</td>\n",
       "    </tr>\n",
       "    <tr>\n",
       "      <th>8</th>\n",
       "      <td>0.114411</td>\n",
       "      <td>0.958855</td>\n",
       "      <td>0.105597</td>\n",
       "      <td>0.961046</td>\n",
       "    </tr>\n",
       "    <tr>\n",
       "      <th>9</th>\n",
       "      <td>0.112502</td>\n",
       "      <td>0.959311</td>\n",
       "      <td>0.104684</td>\n",
       "      <td>0.961236</td>\n",
       "    </tr>\n",
       "  </tbody>\n",
       "</table>\n",
       "</div>"
      ],
      "text/plain": [
       "       loss  accuracy  val_loss  val_accuracy\n",
       "0  0.134794  0.954369  0.114191      0.960706\n",
       "1  0.119408  0.957586  0.106704      0.961007\n",
       "2  0.116864  0.958252  0.102206      0.961315\n",
       "3  0.114574  0.958769  0.106542      0.961806\n",
       "4  0.113961  0.958969  0.107358      0.960686\n",
       "5  0.113715  0.959054  0.109942      0.958656\n",
       "6  0.113651  0.959103  0.103135      0.962474\n",
       "7  0.114018  0.958842  0.100905      0.962592\n",
       "8  0.114411  0.958855  0.105597      0.961046\n",
       "9  0.112502  0.959311  0.104684      0.961236"
      ]
     },
     "execution_count": 16,
     "metadata": {
      "tags": []
     },
     "output_type": "execute_result"
    }
   ],
   "source": [
    "df"
   ]
  },
  {
   "cell_type": "code",
   "execution_count": 0,
   "metadata": {
    "colab": {},
    "colab_type": "code",
    "id": "A6xqaJE9oHJ1"
   },
   "outputs": [],
   "source": [
    "df.to_excel('model1st9by9_history.xlsx')"
   ]
  },
  {
   "cell_type": "code",
   "execution_count": 0,
   "metadata": {
    "colab": {},
    "colab_type": "code",
    "id": "xVdQ1nQO4HV1"
   },
   "outputs": [],
   "source": []
  }
 ],
 "metadata": {
  "accelerator": "GPU",
  "colab": {
   "collapsed_sections": [],
   "name": "Training 9 by 9 model 1st.ipynb",
   "provenance": [],
   "toc_visible": true
  },
  "kernelspec": {
   "display_name": "Python 3",
   "language": "python",
   "name": "python3"
  },
  "language_info": {
   "codemirror_mode": {
    "name": "ipython",
    "version": 3
   },
   "file_extension": ".py",
   "mimetype": "text/x-python",
   "name": "python",
   "nbconvert_exporter": "python",
   "pygments_lexer": "ipython3",
   "version": "3.7.5-final"
  }
 },
 "nbformat": 4,
 "nbformat_minor": 1
}