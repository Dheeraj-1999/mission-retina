{
 "cells": [
  {
   "cell_type": "code",
   "execution_count": 1,
   "metadata": {
    "colab": {
     "base_uri": "https://localhost:8080/",
     "height": 202
    },
    "colab_type": "code",
    "id": "aRLG2R2Gvdqv",
    "outputId": "9cc49097-28e9-4d0b-acf2-04a023a5e979"
   },
   "outputs": [
    {
     "name": "stdout",
     "output_type": "stream",
     "text": [
      "--2020-04-10 16:55:47--  https://storage.googleapis.com/datsets/model1/9%20by%209/model1st9by9.zip\n",
      "Resolving storage.googleapis.com (storage.googleapis.com)... 74.125.203.128, 2404:6800:4008:c07::80\n",
      "Connecting to storage.googleapis.com (storage.googleapis.com)|74.125.203.128|:443... connected.\n",
      "HTTP request sent, awaiting response... 200 OK\n",
      "Length: 3218800 (3.1M) [application/x-zip-compressed]\n",
      "Saving to: ‘/tmp/model.zip’\n",
      "\n",
      "\r",
      "/tmp/model.zip        0%[                    ]       0  --.-KB/s               \r",
      "/tmp/model.zip      100%[===================>]   3.07M  --.-KB/s    in 0.02s   \n",
      "\n",
      "2020-04-10 16:55:48 (184 MB/s) - ‘/tmp/model.zip’ saved [3218800/3218800]\n",
      "\n"
     ]
    }
   ],
   "source": [
    "import zipfile\n",
    "!wget --no-check-certificate \\\n",
    "    \"https://storage.googleapis.com/datsets/model1/9%20by%209/model1st9by9.zip\"\\\n",
    "    -O \"/tmp/model.zip\"\n",
    "\n",
    "zipFile = '/tmp/model.zip'\n",
    "zip_ref   = zipfile.ZipFile(zipFile, 'r')\n",
    "zip_ref.extractall('/tmp')\n",
    "zip_ref.close()\n"
   ]
  },
  {
   "cell_type": "code",
   "execution_count": 2,
   "metadata": {
    "colab": {
     "base_uri": "https://localhost:8080/",
     "height": 202
    },
    "colab_type": "code",
    "id": "ZLbRVzH7d-Hs",
    "outputId": "8000baf7-1a81-4629-859c-5fbe6a70c59d"
   },
   "outputs": [
    {
     "name": "stdout",
     "output_type": "stream",
     "text": [
      "--2020-04-10 16:55:53--  https://storage.googleapis.com/datsets/DRIVE.zip\n",
      "Resolving storage.googleapis.com (storage.googleapis.com)... 108.177.97.128, 2404:6800:4008:c07::80\n",
      "Connecting to storage.googleapis.com (storage.googleapis.com)|108.177.97.128|:443... connected.\n",
      "HTTP request sent, awaiting response... 200 OK\n",
      "Length: 29756930 (28M) [application/x-zip-compressed]\n",
      "Saving to: ‘/tmp/DRIVE.zip’\n",
      "\n",
      "\r",
      "/tmp/DRIVE.zip        0%[                    ]       0  --.-KB/s               \r",
      "/tmp/DRIVE.zip       14%[=>                  ]   4.01M  12.9MB/s               \r",
      "/tmp/DRIVE.zip       70%[=============>      ]  19.98M  39.1MB/s               \r",
      "/tmp/DRIVE.zip      100%[===================>]  28.38M  52.0MB/s    in 0.5s    \n",
      "\n",
      "2020-04-10 16:55:54 (52.0 MB/s) - ‘/tmp/DRIVE.zip’ saved [29756930/29756930]\n",
      "\n"
     ]
    }
   ],
   "source": [
    "!wget --no-check-certificate \\\n",
    "    \"https://storage.googleapis.com/datsets/DRIVE.zip\"\\\n",
    "    -O \"/tmp/DRIVE.zip\"\n",
    "\n",
    "local_zip = '/tmp/DRIVE.zip'\n",
    "zip_ref   = zipfile.ZipFile(local_zip, 'r')\n",
    "zip_ref.extractall('/tmp')\n",
    "zip_ref.close()\n"
   ]
  },
  {
   "cell_type": "code",
   "execution_count": 0,
   "metadata": {
    "colab": {},
    "colab_type": "code",
    "id": "qD9WMTFMvtmh"
   },
   "outputs": [],
   "source": [
    "%tensorflow_version 2.x\n",
    "import tensorflow as tf"
   ]
  },
  {
   "cell_type": "code",
   "execution_count": 4,
   "metadata": {
    "colab": {
     "base_uri": "https://localhost:8080/",
     "height": 34
    },
    "colab_type": "code",
    "id": "DT1NY90zwiIv",
    "outputId": "c41d5620-d286-4bf2-a7e2-f53d70a3d03d"
   },
   "outputs": [
    {
     "name": "stdout",
     "output_type": "stream",
     "text": [
      "WARNING:tensorflow:Error in loading the saved optimizer state. As a result, your model is starting with a freshly initialized optimizer.\n"
     ]
    }
   ],
   "source": [
    "model=tf.keras.models.load_model('/tmp/model1st9by9.hdf5')"
   ]
  },
  {
   "cell_type": "code",
   "execution_count": 5,
   "metadata": {
    "colab": {
     "base_uri": "https://localhost:8080/",
     "height": 353
    },
    "colab_type": "code",
    "id": "y1E7sFRYwo4E",
    "outputId": "9e29ee83-e876-4f15-ca38-53ab8432adc7"
   },
   "outputs": [
    {
     "name": "stdout",
     "output_type": "stream",
     "text": [
      "Model: \"sequential\"\n",
      "_________________________________________________________________\n",
      "Layer (type)                 Output Shape              Param #   \n",
      "=================================================================\n",
      "conv2d (Conv2D)              (None, 7, 7, 32)          896       \n",
      "_________________________________________________________________\n",
      "max_pooling2d (MaxPooling2D) (None, 3, 3, 32)          0         \n",
      "_________________________________________________________________\n",
      "flatten (Flatten)            (None, 288)               0         \n",
      "_________________________________________________________________\n",
      "dense (Dense)                (None, 1024)              295936    \n",
      "_________________________________________________________________\n",
      "dense_1 (Dense)              (None, 512)               524800    \n",
      "_________________________________________________________________\n",
      "dense_2 (Dense)              (None, 1)                 513       \n",
      "=================================================================\n",
      "Total params: 822,145\n",
      "Trainable params: 822,145\n",
      "Non-trainable params: 0\n",
      "_________________________________________________________________\n"
     ]
    }
   ],
   "source": [
    "model.summary()"
   ]
  },
  {
   "cell_type": "code",
   "execution_count": 6,
   "metadata": {
    "colab": {
     "base_uri": "https://localhost:8080/",
     "height": 218
    },
    "colab_type": "code",
    "id": "zaVDvKhvxBqY",
    "outputId": "e0f632ad-a5df-4195-a7ba-739fb3bb14b3"
   },
   "outputs": [
    {
     "name": "stdout",
     "output_type": "stream",
     "text": [
      "--2020-04-10 16:56:21--  https://storage.googleapis.com/datsets/model1/9%20by%209/patches9n9test.zip\n",
      "Resolving storage.googleapis.com (storage.googleapis.com)... 74.125.203.128, 2404:6800:4008:c00::80\n",
      "Connecting to storage.googleapis.com (storage.googleapis.com)|74.125.203.128|:443... connected.\n",
      "HTTP request sent, awaiting response... 200 OK\n",
      "Length: 20061825 (19M) [application/x-zip-compressed]\n",
      "Saving to: ‘/tmp/patchestest.zip’\n",
      "\n",
      "\r",
      "/tmp/patchestest.zi   0%[                    ]       0  --.-KB/s               \r",
      "/tmp/patchestest.zi  20%[===>                ]   4.01M  14.8MB/s               \r",
      "/tmp/patchestest.zi 100%[===================>]  19.13M  51.3MB/s    in 0.4s    \n",
      "\n",
      "2020-04-10 16:56:22 (51.3 MB/s) - ‘/tmp/patchestest.zip’ saved [20061825/20061825]\n",
      "\n"
     ]
    },
    {
     "data": {
      "text/plain": [
       "<subprocess.Popen at 0x7f760a948898>"
      ]
     },
     "execution_count": 6,
     "metadata": {
      "tags": []
     },
     "output_type": "execute_result"
    }
   ],
   "source": [
    "import subprocess,sys\n",
    "!wget --no-check-certificate \\\n",
    "    \"https://storage.googleapis.com/datsets/model1/9%20by%209/patches9n9test.zip\"\\\n",
    "    -O \"/tmp/patchestest.zip\"\n",
    "\n",
    "zipFile = '/tmp/patchestest.zip'\n",
    "destinationDirectory='/tmp'\n",
    "subprocess.Popen([\"7z\", \"e\", f\"{zipFile}\", f\"-o{destinationDirectory}\", \"-y\"])\n"
   ]
  },
  {
   "cell_type": "code",
   "execution_count": 7,
   "metadata": {
    "colab": {
     "base_uri": "https://localhost:8080/",
     "height": 34
    },
    "colab_type": "code",
    "id": "1hfsgw6fxETJ",
    "outputId": "1c562e10-256c-48d4-fb75-a2ec5bde1531"
   },
   "outputs": [
    {
     "data": {
      "text/plain": [
       "(659920, 9, 9, 3)"
      ]
     },
     "execution_count": 7,
     "metadata": {
      "tags": []
     },
     "output_type": "execute_result"
    }
   ],
   "source": [
    "import numpy\n",
    "test= numpy.load('/tmp/patches9n9test.npy')\n",
    "test.shape"
   ]
  },
  {
   "cell_type": "code",
   "execution_count": 8,
   "metadata": {
    "colab": {
     "base_uri": "https://localhost:8080/",
     "height": 87
    },
    "colab_type": "code",
    "id": "zmJK83oQw_KX",
    "outputId": "4062b308-140c-46bd-f19a-d4e60ef942b9"
   },
   "outputs": [
    {
     "name": "stdout",
     "output_type": "stream",
     "text": [
      "WARNING:tensorflow:From <ipython-input-8-278af5f9950b>:1: Sequential.predict_classes (from tensorflow.python.keras.engine.sequential) is deprecated and will be removed after 2021-01-01.\n",
      "Instructions for updating:\n",
      "Please use instead:* `np.argmax(model.predict(x), axis=-1)`,   if your model does multi-class classification   (e.g. if it uses a `softmax` last-layer activation).* `(model.predict(x) > 0.5).astype(\"int32\")`,   if your model does binary classification   (e.g. if it uses a `sigmoid` last-layer activation).\n"
     ]
    }
   ],
   "source": [
    "predict=model.predict_classes(test)"
   ]
  },
  {
   "cell_type": "code",
   "execution_count": 9,
   "metadata": {
    "colab": {
     "base_uri": "https://localhost:8080/",
     "height": 34
    },
    "colab_type": "code",
    "id": "kj68rFQOxk1e",
    "outputId": "cf22ec62-79d8-43df-ddf7-c945cd034579"
   },
   "outputs": [
    {
     "data": {
      "text/plain": [
       "(659920, 1)"
      ]
     },
     "execution_count": 9,
     "metadata": {
      "tags": []
     },
     "output_type": "execute_result"
    }
   ],
   "source": [
    "predict.shape"
   ]
  },
  {
   "cell_type": "code",
   "execution_count": 10,
   "metadata": {
    "colab": {
     "base_uri": "https://localhost:8080/",
     "height": 34
    },
    "colab_type": "code",
    "id": "KpKA03OTxr4-",
    "outputId": "d282d930-1ec4-403e-fb19-ead36e5d00e2"
   },
   "outputs": [
    {
     "data": {
      "text/plain": [
       "(584, 565)"
      ]
     },
     "execution_count": 10,
     "metadata": {
      "tags": []
     },
     "output_type": "execute_result"
    }
   ],
   "source": [
    "img1=predict[:329960]*255\n",
    "img_plot=numpy.reshape(img1,(584,565)).astype('uint8')\n",
    "img_plot.shape"
   ]
  },
  {
   "cell_type": "code",
   "execution_count": 11,
   "metadata": {
    "colab": {
     "base_uri": "https://localhost:8080/",
     "height": 601
    },
    "colab_type": "code",
    "id": "B3b5UTxI1f_-",
    "outputId": "6fba49a6-9cd6-43d9-dc90-2b768085caae"
   },
   "outputs": [
    {
     "data": {
      "image/png": "[encoded data removed]",
      "text/plain": [
       "<PIL.Image.Image image mode=L size=565x584 at 0x7F757D21E160>"
      ]
     },
     "execution_count": 11,
     "metadata": {
      "tags": []
     },
     "output_type": "execute_result"
    }
   ],
   "source": [
    "from PIL import Image\n",
    "img = Image.fromarray(img_plot)\n",
    "man1=Image.open('/tmp/DRIVE/test/1st_manual/01_manual1.gif')\n",
    "man2=Image.open('/tmp/DRIVE/test/2nd_manual/01_manual2.gif')\n",
    "img.save('/content/prediction1.jpg')\n",
    "img\n",
    "# man1\n",
    "# man2\n",
    "# img.save('1.jpg')"
   ]
  },
  {
   "cell_type": "code",
   "execution_count": 0,
   "metadata": {
    "colab": {},
    "colab_type": "code",
    "id": "uWdQo1Ob4sB8"
   },
   "outputs": [],
   "source": [
    "img2=predict[329960:]*255"
   ]
  },
  {
   "cell_type": "code",
   "execution_count": 13,
   "metadata": {
    "colab": {
     "base_uri": "https://localhost:8080/",
     "height": 34
    },
    "colab_type": "code",
    "id": "FDHhugwHEvZP",
    "outputId": "eaab9738-7f1d-4c24-a1ee-591377435225"
   },
   "outputs": [
    {
     "data": {
      "text/plain": [
       "(329960, 1)"
      ]
     },
     "execution_count": 13,
     "metadata": {
      "tags": []
     },
     "output_type": "execute_result"
    }
   ],
   "source": [
    "img2.shape"
   ]
  },
  {
   "cell_type": "code",
   "execution_count": 0,
   "metadata": {
    "colab": {},
    "colab_type": "code",
    "id": "ijy0XbYuEzzz"
   },
   "outputs": [],
   "source": [
    "img1_plot=numpy.reshape(img2,(584,565)).astype('uint8')"
   ]
  },
  {
   "cell_type": "code",
   "execution_count": 15,
   "metadata": {
    "colab": {
     "base_uri": "https://localhost:8080/",
     "height": 601
    },
    "colab_type": "code",
    "id": "mu9P7GMNE7bX",
    "outputId": "f97dbad3-0403-4e19-cb96-5eee7d106c7f"
   },
   "outputs": [
    {
     "data": {
      "image/png": "[encoded data removed]",
      "text/plain": [
       "<PIL.Image.Image image mode=L size=565x584 at 0x7F757D21E908>"
      ]
     },
     "execution_count": 15,
     "metadata": {
      "tags": []
     },
     "output_type": "execute_result"
    }
   ],
   "source": [
    "from PIL import Image\n",
    "img = Image.fromarray(img1_plot)\n",
    "img"
   ]
  },
  {
   "cell_type": "code",
   "execution_count": 0,
   "metadata": {
    "colab": {},
    "colab_type": "code",
    "id": "vc2CZ5pnE-Ep"
   },
   "outputs": [],
   "source": []
  },
  {
   "cell_type": "code",
   "execution_count": 0,
   "metadata": {
    "colab": {
     "base_uri": "https://localhost:8080/",
     "height": 238
    },
    "colab_type": "code",
    "id": "Pbe3WQ0ngI_c",
    "outputId": "63ba2613-3725-4cc8-dbde-0cc093d182f8"
   },
   "outputs": [
    {
     "ename": "NameError",
     "evalue": "ignored",
     "output_type": "error",
     "traceback": [
      "\u001b[0;31m---------------------------------------------------------------------------\u001b[0m",
      "\u001b[0;31mNameError\u001b[0m                                 Traceback (most recent call last)",
      "\u001b[0;32m<ipython-input-16-89ee4b9c1e23>\u001b[0m in \u001b[0;36m<module>\u001b[0;34m()\u001b[0m\n\u001b[1;32m      2\u001b[0m \u001b[0;32mfrom\u001b[0m \u001b[0mmatplotlib\u001b[0m \u001b[0;32mimport\u001b[0m \u001b[0mpyplot\u001b[0m \u001b[0;32mas\u001b[0m \u001b[0mplt\u001b[0m\u001b[0;34m\u001b[0m\u001b[0;34m\u001b[0m\u001b[0m\n\u001b[1;32m      3\u001b[0m \u001b[0;32mimport\u001b[0m \u001b[0mmatplotlib\u001b[0m\u001b[0;34m.\u001b[0m\u001b[0mimage\u001b[0m \u001b[0;32mas\u001b[0m \u001b[0mmpimg\u001b[0m\u001b[0;34m\u001b[0m\u001b[0;34m\u001b[0m\u001b[0m\n\u001b[0;32m----> 4\u001b[0;31m \u001b[0mimg1\u001b[0m\u001b[0;34m=\u001b[0m\u001b[0mnpimg\u001b[0m\u001b[0;34m.\u001b[0m\u001b[0mimread\u001b[0m\u001b[0;34m(\u001b[0m\u001b[0;34m'/content/prediction1.jpg'\u001b[0m\u001b[0;34m)\u001b[0m\u001b[0;34m\u001b[0m\u001b[0;34m\u001b[0m\u001b[0m\n\u001b[0m\u001b[1;32m      5\u001b[0m \u001b[0mimg2\u001b[0m\u001b[0;34m=\u001b[0m\u001b[0mnpimg\u001b[0m\u001b[0;34m.\u001b[0m\u001b[0mimread\u001b[0m\u001b[0;34m(\u001b[0m\u001b[0;34m'/tmp/DRIVE/test/1st_manual/01_manual1.gif'\u001b[0m\u001b[0;34m)\u001b[0m\u001b[0;34m\u001b[0m\u001b[0;34m\u001b[0m\u001b[0m\n\u001b[1;32m      6\u001b[0m \u001b[0mimg3\u001b[0m\u001b[0;34m=\u001b[0m\u001b[0mnpimg\u001b[0m\u001b[0;34m.\u001b[0m\u001b[0mimread\u001b[0m\u001b[0;34m(\u001b[0m\u001b[0;34m'/tmp/DRIVE/test/2nd_manual/01_manual2.gif'\u001b[0m\u001b[0;34m)\u001b[0m\u001b[0;34m\u001b[0m\u001b[0;34m\u001b[0m\u001b[0m\n",
      "\u001b[0;31mNameError\u001b[0m: name 'npimg' is not defined"
     ]
    }
   ],
   "source": [
    "%matplotlib inline\n",
    "from matplotlib import pyplot as plt\n",
    "import matplotlib.image as mpimg\n",
    "img1=mpimg.imread('/content/prediction1.jpg')\n",
    "img2=mpimg.imread('/tmp/DRIVE/test/1st_manual/01_manual1.gif')\n",
    "img3=mpimg.imread('/tmp/DRIVE/test/2nd_manual/01_manual2.gif')\n",
    "fig, ax = plt.subplots(2,2)\n",
    "ax[0][0].imshow(img1);\n",
    "ax[0][1].imshow(img2);\n",
    "ax[1][0].imshow(img3)"
   ]
  },
  {
   "cell_type": "code",
   "execution_count": 0,
   "metadata": {
    "colab": {},
    "colab_type": "code",
    "id": "6KIrGGPQhEZW"
   },
   "outputs": [],
   "source": []
  }
 ],
 "metadata": {
  "colab": {
   "name": "Prediction model 1st 9 by 9.ipynb",
   "provenance": []
  },
  "kernelspec": {
   "display_name": "Python 3",
   "language": "python",
   "name": "python3"
  },
  "language_info": {
   "codemirror_mode": {
    "name": "ipython",
    "version": 3
   },
   "file_extension": ".py",
   "mimetype": "text/x-python",
   "name": "python",
   "nbconvert_exporter": "python",
   "pygments_lexer": "ipython3",
   "version": "3.7.5"
  }
 },
 "nbformat": 4,
 "nbformat_minor": 1
}
