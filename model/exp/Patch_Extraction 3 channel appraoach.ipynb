{
 "cells": [
  {
   "cell_type": "code",
   "execution_count": 0,
   "metadata": {
    "colab": {
     "base_uri": "https://localhost:8080/",
     "height": 35
    },
    "colab_type": "code",
    "executionInfo": {
     "elapsed": 1033,
     "status": "ok",
     "timestamp": 1583242075586,
     "user": {
      "displayName": "PUSHPA RANI",
      "photoUrl": "",
      "userId": "04309092780219853136"
     },
     "user_tz": -330
    },
    "id": "672QiqkKucPv",
    "outputId": "8877a4b4-b79f-4b72-b603-8920eafda49d"
   },
   "outputs": [
    {
     "name": "stdout",
     "output_type": "stream",
     "text": [
      "TensorFlow is already loaded. Please restart the runtime to change versions.\n"
     ]
    }
   ],
   "source": [
    "import os\n",
    "import numpy as np\n",
    "import glob\n",
    "from PIL import Image\n",
    "import zipfile\n",
    "%tensorflow_version 2.x\n",
    "import tensorflow as tf\n",
    "# from shutil import copyfile"
   ]
  },
  {
   "cell_type": "code",
   "execution_count": 0,
   "metadata": {
    "colab": {
     "base_uri": "https://localhost:8080/",
     "height": 219
    },
    "colab_type": "code",
    "executionInfo": {
     "elapsed": 3805,
     "status": "ok",
     "timestamp": 1583234806290,
     "user": {
      "displayName": "PUSHPA RANI",
      "photoUrl": "",
      "userId": "04309092780219853136"
     },
     "user_tz": -330
    },
    "id": "ke719h7eJSdo",
    "outputId": "d63c364e-e8b3-423f-8ee9-662d557913db"
   },
   "outputs": [
    {
     "name": "stdout",
     "output_type": "stream",
     "text": [
      "--2020-03-03 11:26:41--  https://storage.googleapis.com/datsets/DRIVE.zip\n",
      "Resolving storage.googleapis.com (storage.googleapis.com)... 74.125.142.128, 2607:f8b0:400e:c08::80\n",
      "Connecting to storage.googleapis.com (storage.googleapis.com)|74.125.142.128|:443... connected.\n",
      "HTTP request sent, awaiting response... 200 OK\n",
      "Length: 29756930 (28M) [application/x-zip-compressed]\n",
      "Saving to: ‘/tmp/DRIVE.zip’\n",
      "\n",
      "\r",
      "/tmp/DRIVE.zip        0%[                    ]       0  --.-KB/s               \r",
      "/tmp/DRIVE.zip      100%[===================>]  28.38M   178MB/s    in 0.2s    \n",
      "\n",
      "2020-03-03 11:26:41 (178 MB/s) - ‘/tmp/DRIVE.zip’ saved [29756930/29756930]\n",
      "\n"
     ]
    }
   ],
   "source": [
    "!wget --no-check-certificate \\\n",
    "    \"https://storage.googleapis.com/datsets/DRIVE.zip\"\\\n",
    "    -O \"/tmp/DRIVE.zip\"\n",
    "\n",
    "local_zip = '/tmp/DRIVE.zip'\n",
    "zip_ref   = zipfile.ZipFile(local_zip, 'r')\n",
    "zip_ref.extractall('/tmp')\n",
    "zip_ref.close()"
   ]
  },
  {
   "cell_type": "code",
   "execution_count": 0,
   "metadata": {
    "colab": {},
    "colab_type": "code",
    "id": "Q9ddneMnH_oH"
   },
   "outputs": [],
   "source": [
    "def GetAllChannels(imagewithchannels):\n",
    "    redchannel=[]\n",
    "    greenchannel=[]\n",
    "    bluechannel=[]\n",
    "    for i in range(len(imagewithchannels)):\n",
    "        redchannel.append(imagewithchannels[i][:,:,0])\n",
    "        greenchannel.append(imagewithchannels[i][:,:,1])\n",
    "        bluechannel.append(imagewithchannels[i][:,:,2])\n",
    "    return redchannel,greenchannel,bluechannel    \n",
    "\n",
    "def create_patch(imgs,patch_size):\n",
    "    a=0;\n",
    "    ps=patch_size//2\n",
    "    image_patches=[]\n",
    "    for k in range(0,2):\n",
    "        padded_imgs=np.pad(imgs[k],pad_width=ps,mode='edge')\n",
    "        for i in range(0,imgs[k].shape[0]):\n",
    "            for j in range(0,imgs[k].shape[1]):\n",
    "                flatten_imgs=padded_imgs[i:i+patch_size,j:j+patch_size].ravel()\n",
    "                imgs_mod_flatten=np.hstack((flatten_imgs))\n",
    "                image_patches.append(imgs_mod_flatten)\n",
    "    image_patches=np.vstack(image_patches)\n",
    "    return image_patches\n",
    "\n",
    "def getCombineChannels(red,green,blue):\n",
    "    combinedPacthes=[]\n",
    "    for i in range(red.shape[0]):\n",
    "        combinedPacthes.append(np.array([red[i],green[i],blue[i]]))\n",
    "    return(np.array(combinedPacthes))    \n",
    "\n",
    "def reshapePatches(combinedpatches,reshapesize):\n",
    "    newcombinedarray=[]\n",
    "    end=combinedpatches.shape[0]\n",
    "    for i in range(end):\n",
    "        newcombinedarray.append(np.reshape(combinedpatches[i],reshapesize))\n",
    "    return np.array(newcombinedarray)"
   ]
  },
  {
   "cell_type": "markdown",
   "metadata": {
    "colab_type": "text",
    "id": "DwMACTakdENs"
   },
   "source": [
    "Loading Training images"
   ]
  },
  {
   "cell_type": "code",
   "execution_count": 0,
   "metadata": {
    "colab": {
     "base_uri": "https://localhost:8080/",
     "height": 54
    },
    "colab_type": "code",
    "executionInfo": {
     "elapsed": 1012,
     "status": "ok",
     "timestamp": 1583239917984,
     "user": {
      "displayName": "PUSHPA RANI",
      "photoUrl": "",
      "userId": "04309092780219853136"
     },
     "user_tz": -330
    },
    "id": "_rJ3m987H_oX",
    "outputId": "8cccb0fa-42c8-4deb-ad2f-1e1e971d09d3"
   },
   "outputs": [
    {
     "name": "stdout",
     "output_type": "stream",
     "text": [
      "Loading Images.....\n",
      "Images Loaded.......\n"
     ]
    }
   ],
   "source": [
    "print(\"Loading Images.....\")\n",
    "images_training = [np.array(Image.open(file)) for file in glob.glob(\"/tmp/DRIVE/training/images/*.tif\")]\n",
    "print('Images Loaded.......')"
   ]
  },
  {
   "cell_type": "markdown",
   "metadata": {
    "colab_type": "text",
    "id": "FoivzHMadHoL"
   },
   "source": [
    "Loadinng Test imags"
   ]
  },
  {
   "cell_type": "code",
   "execution_count": 0,
   "metadata": {
    "colab": {
     "base_uri": "https://localhost:8080/",
     "height": 54
    },
    "colab_type": "code",
    "executionInfo": {
     "elapsed": 1074,
     "status": "ok",
     "timestamp": 1583240167597,
     "user": {
      "displayName": "PUSHPA RANI",
      "photoUrl": "",
      "userId": "04309092780219853136"
     },
     "user_tz": -330
    },
    "id": "hSrd8PO2c8MB",
    "outputId": "b3265ebf-f7bf-47c8-aa12-eaa252ffa9ab"
   },
   "outputs": [
    {
     "name": "stdout",
     "output_type": "stream",
     "text": [
      "Loading Images.....\n",
      "Images Loaded.......\n"
     ]
    }
   ],
   "source": [
    "print(\"Loading Images.....\")\n",
    "images_testing = [np.array(Image.open(file)) for file in glob.glob(\"/tmp/DRIVE/test/images/*.tif\")]\n",
    "print('Images Loaded.......')"
   ]
  },
  {
   "cell_type": "markdown",
   "metadata": {
    "colab_type": "text",
    "id": "nAPBzvCGdZCA"
   },
   "source": [
    "Seperating Channels training"
   ]
  },
  {
   "cell_type": "code",
   "execution_count": 0,
   "metadata": {
    "colab": {
     "base_uri": "https://localhost:8080/",
     "height": 54
    },
    "colab_type": "code",
    "executionInfo": {
     "elapsed": 727,
     "status": "ok",
     "timestamp": 1583240176226,
     "user": {
      "displayName": "PUSHPA RANI",
      "photoUrl": "",
      "userId": "04309092780219853136"
     },
     "user_tz": -330
    },
    "id": "h7J6QOlGJ38a",
    "outputId": "2fee00cc-b15a-4db6-a214-a9956db590e4"
   },
   "outputs": [
    {
     "name": "stdout",
     "output_type": "stream",
     "text": [
      "Seperating Channels.......\n",
      "Channels seprated.......\n"
     ]
    }
   ],
   "source": [
    "print('Seperating Channels.......')\n",
    "(r_training, g_training,b_training) = GetAllChannels(images_training)\n",
    "print('Channels seprated.......')"
   ]
  },
  {
   "cell_type": "markdown",
   "metadata": {
    "colab_type": "text",
    "id": "Az1jz3zsdmBJ"
   },
   "source": [
    "Seperating Channels. testing"
   ]
  },
  {
   "cell_type": "code",
   "execution_count": 0,
   "metadata": {
    "colab": {
     "base_uri": "https://localhost:8080/",
     "height": 54
    },
    "colab_type": "code",
    "executionInfo": {
     "elapsed": 856,
     "status": "ok",
     "timestamp": 1583240213739,
     "user": {
      "displayName": "PUSHPA RANI",
      "photoUrl": "",
      "userId": "04309092780219853136"
     },
     "user_tz": -330
    },
    "id": "xj2DIBBmdk7o",
    "outputId": "fce37a4a-5b6f-464f-feb4-dd89d97bf2d4"
   },
   "outputs": [
    {
     "name": "stdout",
     "output_type": "stream",
     "text": [
      "Seperating Channels.......\n",
      "Channels seprated.......\n"
     ]
    }
   ],
   "source": [
    "print('Seperating Channels.......')\n",
    "(r_testing, g_testing, b_testing) = GetAllChannels(images_testing)\n",
    "print('Channels seprated.......')"
   ]
  },
  {
   "cell_type": "markdown",
   "metadata": {
    "colab_type": "text",
    "id": "eQCEJRMXeK6e"
   },
   "source": [
    "Creating patches of red training"
   ]
  },
  {
   "cell_type": "code",
   "execution_count": 0,
   "metadata": {
    "colab": {
     "base_uri": "https://localhost:8080/",
     "height": 54
    },
    "colab_type": "code",
    "executionInfo": {
     "elapsed": 22890,
     "status": "ok",
     "timestamp": 1583240294882,
     "user": {
      "displayName": "PUSHPA RANI",
      "photoUrl": "",
      "userId": "04309092780219853136"
     },
     "user_tz": -330
    },
    "id": "FwZXe9hfKTTQ",
    "outputId": "1bd0cc67-1c49-4bee-920c-fd1a8a764176"
   },
   "outputs": [
    {
     "name": "stdout",
     "output_type": "stream",
     "text": [
      "Creating patches for red channel\n",
      "Red channel patches created\n"
     ]
    }
   ],
   "source": [
    "print('Creating patches for red channel')\n",
    "patch_red_training = create_patch(r_training, 3)\n",
    "print('Red channel patches created')"
   ]
  },
  {
   "cell_type": "markdown",
   "metadata": {
    "colab_type": "text",
    "id": "MhiQgrmxeYYm"
   },
   "source": [
    "Creating patches of red testing"
   ]
  },
  {
   "cell_type": "code",
   "execution_count": 0,
   "metadata": {
    "colab": {
     "base_uri": "https://localhost:8080/",
     "height": 54
    },
    "colab_type": "code",
    "executionInfo": {
     "elapsed": 22784,
     "status": "ok",
     "timestamp": 1583240382336,
     "user": {
      "displayName": "PUSHPA RANI",
      "photoUrl": "",
      "userId": "04309092780219853136"
     },
     "user_tz": -330
    },
    "id": "SLa0l7f3KThy",
    "outputId": "6d7adcf0-cca8-4e64-f7c5-41ca505c3230"
   },
   "outputs": [
    {
     "name": "stdout",
     "output_type": "stream",
     "text": [
      "Creating patches for red channel\n",
      "Red channel patches created\n"
     ]
    }
   ],
   "source": [
    "print('Creating patches for red channel')\n",
    "patch_red_testing = create_patch(r_testing, 3)\n",
    "print('Red channel patches created')"
   ]
  },
  {
   "cell_type": "markdown",
   "metadata": {
    "colab_type": "text",
    "id": "OAhGU_UKewEE"
   },
   "source": [
    "Creating patches of green training"
   ]
  },
  {
   "cell_type": "code",
   "execution_count": 0,
   "metadata": {
    "colab": {
     "base_uri": "https://localhost:8080/",
     "height": 54
    },
    "colab_type": "code",
    "executionInfo": {
     "elapsed": 23602,
     "status": "ok",
     "timestamp": 1583240468744,
     "user": {
      "displayName": "PUSHPA RANI",
      "photoUrl": "",
      "userId": "04309092780219853136"
     },
     "user_tz": -330
    },
    "id": "aZNhvIYIL0e3",
    "outputId": "c99dc064-f220-4814-875c-1566c8042552"
   },
   "outputs": [
    {
     "name": "stdout",
     "output_type": "stream",
     "text": [
      "Creating patches for green channel\n",
      "green channel patches created\n"
     ]
    }
   ],
   "source": [
    "print('Creating patches for green channel')\n",
    "patch_green_training = create_patch(g_training, 3)\n",
    "print('green channel patches created')"
   ]
  },
  {
   "cell_type": "markdown",
   "metadata": {
    "colab_type": "text",
    "id": "lFG7WZLgetry"
   },
   "source": [
    "Creating patches of green testing"
   ]
  },
  {
   "cell_type": "code",
   "execution_count": 0,
   "metadata": {
    "colab": {
     "base_uri": "https://localhost:8080/",
     "height": 54
    },
    "colab_type": "code",
    "executionInfo": {
     "elapsed": 23861,
     "status": "ok",
     "timestamp": 1583240631406,
     "user": {
      "displayName": "PUSHPA RANI",
      "photoUrl": "",
      "userId": "04309092780219853136"
     },
     "user_tz": -330
    },
    "id": "XtM9M5gDfMqB",
    "outputId": "21cafbaf-7b44-4eef-cf4e-8ca642bf30ee"
   },
   "outputs": [
    {
     "name": "stdout",
     "output_type": "stream",
     "text": [
      "Creating patches for green channel\n",
      "green channel patches created\n"
     ]
    }
   ],
   "source": [
    "print('Creating patches for green channel')\n",
    "patch_green_testing = create_patch(g_testing, 3)\n",
    "print('green channel patches created')"
   ]
  },
  {
   "cell_type": "markdown",
   "metadata": {
    "colab_type": "text",
    "id": "uETSW5VGfvtQ"
   },
   "source": [
    "Creating patches of blue training"
   ]
  },
  {
   "cell_type": "code",
   "execution_count": 12,
   "metadata": {
    "colab": {
     "base_uri": "https://localhost:8080/",
     "height": 54
    },
    "colab_type": "code",
    "executionInfo": {
     "elapsed": 2011,
     "status": "ok",
     "timestamp": 1583245024157,
     "user": {
      "displayName": "PUSHPA RANI",
      "photoUrl": "",
      "userId": "04309092780219853136"
     },
     "user_tz": -330
    },
    "id": "_j801tXUL03b",
    "outputId": "3f79f881-c893-400c-d711-5f395d517310"
   },
   "outputs": [
    {
     "name": "stdout",
     "output_type": "stream",
     "text": [
      "Creating patches for blue channel\n",
      "Blue channel patches created\n"
     ]
    }
   ],
   "source": [
    "print('Creating patches for blue channel')\n",
    "patch_blue_training=create_patch(b_training,3)\n",
    "print('Blue channel patches created')"
   ]
  },
  {
   "cell_type": "markdown",
   "metadata": {
    "colab_type": "text",
    "id": "jACQBpmVf8gy"
   },
   "source": [
    "Creating patches of blue testing"
   ]
  },
  {
   "cell_type": "code",
   "execution_count": 0,
   "metadata": {
    "colab": {
     "base_uri": "https://localhost:8080/",
     "height": 35
    },
    "colab_type": "code",
    "executionInfo": {
     "elapsed": 23350,
     "status": "ok",
     "timestamp": 1583240766696,
     "user": {
      "displayName": "PUSHPA RANI",
      "photoUrl": "",
      "userId": "04309092780219853136"
     },
     "user_tz": -330
    },
    "id": "4ESMOkPsgAHz",
    "outputId": "5e1973fe-3dfe-45ab-d18b-7cf4905dccae"
   },
   "outputs": [
    {
     "name": "stdout",
     "output_type": "stream",
     "text": [
      "Creating patches for blue channel\n"
     ]
    }
   ],
   "source": [
    "print('Creating patches for blue channel')\n",
    "patch_blue_testing=create_patch(b_testing,3)\n",
    "print('Blue channel patches created')"
   ]
  },
  {
   "cell_type": "markdown",
   "metadata": {
    "colab_type": "text",
    "id": "poESuYbOgMor"
   },
   "source": [
    "Combinig all channel patches in single array training"
   ]
  },
  {
   "cell_type": "code",
   "execution_count": 0,
   "metadata": {
    "colab": {
     "base_uri": "https://localhost:8080/",
     "height": 54
    },
    "colab_type": "code",
    "executionInfo": {
     "elapsed": 2960,
     "status": "ok",
     "timestamp": 1583240887127,
     "user": {
      "displayName": "PUSHPA RANI",
      "photoUrl": "",
      "userId": "04309092780219853136"
     },
     "user_tz": -330
    },
    "id": "ScKkgTlFNZNb",
    "outputId": "a4aa077a-c9ba-4321-bd37-2b7817287a32"
   },
   "outputs": [
    {
     "name": "stdout",
     "output_type": "stream",
     "text": [
      "Combinig all channel patches in single array\n",
      "All patches are combined and the shape is (659920, 3, 9)\n"
     ]
    }
   ],
   "source": [
    "print('Combinig all channel patches in single array')\n",
    "combinedpatches_training=getCombineChannels(patch_red_training,patch_green_training,patch_blue_training)\n",
    "print('All patches are combined and the shape is {}'.format(combinedpatches_training.shape))\n",
    "# print(combinedpatches_training)"
   ]
  },
  {
   "cell_type": "markdown",
   "metadata": {
    "colab_type": "text",
    "id": "fJ7rqP0AgYzk"
   },
   "source": [
    "Combinig all channel patches in single array testing"
   ]
  },
  {
   "cell_type": "code",
   "execution_count": 0,
   "metadata": {
    "colab": {
     "base_uri": "https://localhost:8080/",
     "height": 54
    },
    "colab_type": "code",
    "executionInfo": {
     "elapsed": 2671,
     "status": "ok",
     "timestamp": 1583240879144,
     "user": {
      "displayName": "PUSHPA RANI",
      "photoUrl": "",
      "userId": "04309092780219853136"
     },
     "user_tz": -330
    },
    "id": "_G6IFy35gbIN",
    "outputId": "474a4b25-b8e4-4535-9696-59f65a2ad354"
   },
   "outputs": [
    {
     "name": "stdout",
     "output_type": "stream",
     "text": [
      "Combinig all channel patches in single array\n",
      "All patches are combined and the shape is (659920, 3, 9)\n"
     ]
    }
   ],
   "source": [
    "print('Combinig all channel patches in single array')\n",
    "combinedpatches_testing=getCombineChannels(patch_red_testing,patch_green_testing,patch_blue_testing)\n",
    "print('All patches are combined and the shape is {}'.format(combinedpatches_testing.shape))\n",
    "# print(combinedpatches_testing)"
   ]
  },
  {
   "cell_type": "code",
   "execution_count": 0,
   "metadata": {
    "colab": {
     "base_uri": "https://localhost:8080/",
     "height": 35
    },
    "colab_type": "code",
    "executionInfo": {
     "elapsed": 935,
     "status": "ok",
     "timestamp": 1583240902427,
     "user": {
      "displayName": "PUSHPA RANI",
      "photoUrl": "",
      "userId": "04309092780219853136"
     },
     "user_tz": -330
    },
    "id": "jAwXt1R3OoqB",
    "outputId": "79a32163-647a-4d30-cfb5-197b8d3aa676"
   },
   "outputs": [
    {
     "data": {
      "text/plain": [
       "(3, 9)"
      ]
     },
     "execution_count": 109,
     "metadata": {
      "tags": []
     },
     "output_type": "execute_result"
    }
   ],
   "source": [
    "combinedpatches_testing[0].shape"
   ]
  },
  {
   "cell_type": "markdown",
   "metadata": {
    "colab_type": "text",
    "id": "agx7O3QBgzJQ"
   },
   "source": [
    "Reshaping to get required results training"
   ]
  },
  {
   "cell_type": "code",
   "execution_count": 0,
   "metadata": {
    "colab": {
     "base_uri": "https://localhost:8080/",
     "height": 54
    },
    "colab_type": "code",
    "executionInfo": {
     "elapsed": 2445,
     "status": "ok",
     "timestamp": 1583240972329,
     "user": {
      "displayName": "PUSHPA RANI",
      "photoUrl": "",
      "userId": "04309092780219853136"
     },
     "user_tz": -330
    },
    "id": "xgzBdO7XH_og",
    "outputId": "d40daf42-1367-40ca-8d96-86dca1844127"
   },
   "outputs": [
    {
     "name": "stdout",
     "output_type": "stream",
     "text": [
      "Reshaping to get required results\n",
      "All patches are reshaped and the shape is (659920, 3, 3, 3)\n"
     ]
    }
   ],
   "source": [
    "print('Reshaping to get required results')\n",
    "reshapedpatches_training=reshapePatches(combinedpatches_training,(3,3,3))\n",
    "print('All patches are reshaped and the shape is {}'.format(reshapedpatches_training.shape))"
   ]
  },
  {
   "cell_type": "markdown",
   "metadata": {
    "colab_type": "text",
    "id": "2ws4KD_-hDRn"
   },
   "source": [
    "Reshaping to get required results testing"
   ]
  },
  {
   "cell_type": "code",
   "execution_count": 0,
   "metadata": {
    "colab": {
     "base_uri": "https://localhost:8080/",
     "height": 54
    },
    "colab_type": "code",
    "executionInfo": {
     "elapsed": 2159,
     "status": "ok",
     "timestamp": 1583241031030,
     "user": {
      "displayName": "PUSHPA RANI",
      "photoUrl": "",
      "userId": "04309092780219853136"
     },
     "user_tz": -330
    },
    "id": "0jKE-QadhHco",
    "outputId": "c5a38c2b-a400-4a59-dd22-7558052e9ca3"
   },
   "outputs": [
    {
     "name": "stdout",
     "output_type": "stream",
     "text": [
      "Reshaping to get required results\n",
      "All patches are reshaped and the shape is (659920, 3, 3, 3)\n"
     ]
    }
   ],
   "source": [
    "print('Reshaping to get required results')\n",
    "reshapedpatches_testing=reshapePatches(combinedpatches_testing,(3,3,3))\n",
    "print('All patches are reshaped and the shape is {}'.format(reshapedpatches_testing.shape))"
   ]
  },
  {
   "cell_type": "code",
   "execution_count": 0,
   "metadata": {
    "colab": {
     "base_uri": "https://localhost:8080/",
     "height": 35
    },
    "colab_type": "code",
    "executionInfo": {
     "elapsed": 954,
     "status": "ok",
     "timestamp": 1583241038961,
     "user": {
      "displayName": "PUSHPA RANI",
      "photoUrl": "",
      "userId": "04309092780219853136"
     },
     "user_tz": -330
    },
    "id": "J2t7BRgMQNnp",
    "outputId": "ed244add-f0f5-424f-a9ce-675e79b0f7c2"
   },
   "outputs": [
    {
     "data": {
      "text/plain": [
       "659920"
      ]
     },
     "execution_count": 112,
     "metadata": {
      "tags": []
     },
     "output_type": "execute_result"
    }
   ],
   "source": [
    "len(reshapedpatches_testing)"
   ]
  },
  {
   "cell_type": "code",
   "execution_count": 0,
   "metadata": {
    "colab": {
     "base_uri": "https://localhost:8080/",
     "height": 54
    },
    "colab_type": "code",
    "executionInfo": {
     "elapsed": 840,
     "status": "ok",
     "timestamp": 1583241101267,
     "user": {
      "displayName": "PUSHPA RANI",
      "photoUrl": "",
      "userId": "04309092780219853136"
     },
     "user_tz": -330
    },
    "id": "Ra1znf6fH_ot",
    "outputId": "09e328ff-347d-4836-f546-86d08c20a267"
   },
   "outputs": [
    {
     "name": "stdout",
     "output_type": "stream",
     "text": [
      "Saving all patch data to file patchesknk.npy\n",
      "All patch data saved and can be access by variable 'reshapedpatches'\n"
     ]
    }
   ],
   "source": [
    "print('Saving all patch data to file patchesknk.npy')\n",
    "np.save('patchesknk_testing.npy',reshapedpatches_testing)\n",
    "print('All patch data saved and can be access by variable \\'reshapedpatches\\'')"
   ]
  },
  {
   "cell_type": "markdown",
   "metadata": {
    "colab_type": "text",
    "id": "k2b-LAF2S4or"
   },
   "source": [
    "Manual image generate output training"
   ]
  },
  {
   "cell_type": "code",
   "execution_count": 0,
   "metadata": {
    "colab": {
     "base_uri": "https://localhost:8080/",
     "height": 54
    },
    "colab_type": "code",
    "executionInfo": {
     "elapsed": 2260,
     "status": "ok",
     "timestamp": 1583241202519,
     "user": {
      "displayName": "PUSHPA RANI",
      "photoUrl": "",
      "userId": "04309092780219853136"
     },
     "user_tz": -330
    },
    "id": "U5aRCTQWTDmR",
    "outputId": "d5512f82-58ae-4c8e-b6b7-d5cf030a54a7"
   },
   "outputs": [
    {
     "name": "stdout",
     "output_type": "stream",
     "text": [
      "Loading Images.....\n",
      "Images Loaded.......\n"
     ]
    }
   ],
   "source": [
    "print(\"Loading Images.....\")\n",
    "images_manual_training = [np.array(Image.open(file)) for file in glob.glob(\"/tmp/DRIVE/training/1st_manual/*.gif\")]\n",
    "print('Images Loaded.......')"
   ]
  },
  {
   "cell_type": "markdown",
   "metadata": {
    "colab_type": "text",
    "id": "0fBzCeA3h5p8"
   },
   "source": [
    "Manual image generate output testing"
   ]
  },
  {
   "cell_type": "code",
   "execution_count": 0,
   "metadata": {
    "colab": {
     "base_uri": "https://localhost:8080/",
     "height": 54
    },
    "colab_type": "code",
    "executionInfo": {
     "elapsed": 1024,
     "status": "ok",
     "timestamp": 1583241334089,
     "user": {
      "displayName": "PUSHPA RANI",
      "photoUrl": "",
      "userId": "04309092780219853136"
     },
     "user_tz": -330
    },
    "id": "wNC1rHM-h89A",
    "outputId": "c5ea8ac6-60ee-431a-c962-ca49626d093b"
   },
   "outputs": [
    {
     "name": "stdout",
     "output_type": "stream",
     "text": [
      "Loading Images.....\n",
      "Images Loaded.......\n"
     ]
    }
   ],
   "source": [
    "print(\"Loading Images.....\")\n",
    "images_manual_testing = [np.array(Image.open(file)) for file in glob.glob(\"/tmp/DRIVE/test/1st_manual/*.gif\")]\n",
    "print('Images Loaded.......')"
   ]
  },
  {
   "cell_type": "code",
   "execution_count": 0,
   "metadata": {
    "colab": {
     "base_uri": "https://localhost:8080/",
     "height": 35
    },
    "colab_type": "code",
    "executionInfo": {
     "elapsed": 1042,
     "status": "ok",
     "timestamp": 1583237484412,
     "user": {
      "displayName": "PUSHPA RANI",
      "photoUrl": "",
      "userId": "04309092780219853136"
     },
     "user_tz": -330
    },
    "id": "vbNok0EmTDz2",
    "outputId": "85c0ed4d-a74f-48be-ea35-563c3e3255de"
   },
   "outputs": [
    {
     "name": "stdout",
     "output_type": "stream",
     "text": [
      "(20, 584, 565)\n"
     ]
    }
   ],
   "source": [
    "print(np.array(images_manual).shape)"
   ]
  },
  {
   "cell_type": "code",
   "execution_count": 0,
   "metadata": {
    "colab": {},
    "colab_type": "code",
    "id": "rn06vnuDTD5Q"
   },
   "outputs": [],
   "source": [
    "output_training = []\n",
    "output_training = np.array(images_manual_training).ravel()"
   ]
  },
  {
   "cell_type": "code",
   "execution_count": 0,
   "metadata": {
    "colab": {},
    "colab_type": "code",
    "id": "zuWUlxo2TEDT"
   },
   "outputs": [],
   "source": [
    "output_testing = []\n",
    "output_testing = np.array(images_manual_testing).ravel()"
   ]
  },
  {
   "cell_type": "code",
   "execution_count": 0,
   "metadata": {
    "colab": {
     "base_uri": "https://localhost:8080/",
     "height": 92
    },
    "colab_type": "code",
    "executionInfo": {
     "elapsed": 1275,
     "status": "ok",
     "timestamp": 1583242090471,
     "user": {
      "displayName": "PUSHPA RANI",
      "photoUrl": "",
      "userId": "04309092780219853136"
     },
     "user_tz": -330
    },
    "id": "CvluOtCeH_o2",
    "outputId": "02000fdc-be83-412d-afbd-389b2da51852"
   },
   "outputs": [
    {
     "name": "stdout",
     "output_type": "stream",
     "text": [
      "WARNING:tensorflow:From /usr/local/lib/python3.6/dist-packages/tensorflow_core/python/ops/resource_variable_ops.py:1630: calling BaseResourceVariable.__init__ (from tensorflow.python.ops.resource_variable_ops) with constraint is deprecated and will be removed in a future version.\n",
      "Instructions for updating:\n",
      "If using Keras pass *_constraint arguments to layers.\n"
     ]
    }
   ],
   "source": [
    "model = tf.keras.models.Sequential([\n",
    "    tf.keras.layers.Conv2D(16, (2, 2), activation='relu', input_shape=(3, 3, 3)),\n",
    "    tf.keras.layers.MaxPooling2D(2, 2),\n",
    "    tf.keras.layers.Flatten(),\n",
    "    tf.keras.layers.Dense(64, activation='relu'),\n",
    "    tf.keras.layers.Dense(64, activation='relu'),\n",
    "    tf.keras.layers.Dense(2, activation='softmax')\n",
    "])\n",
    "\n",
    "model.compile(optimizer='adam', loss='binary_crossentropy', metrics=['acc'])"
   ]
  },
  {
   "cell_type": "code",
   "execution_count": 0,
   "metadata": {
    "colab": {
     "base_uri": "https://localhost:8080/",
     "height": 345
    },
    "colab_type": "code",
    "collapsed": true,
    "executionInfo": {
     "elapsed": 1084,
     "status": "error",
     "timestamp": 1583242194335,
     "user": {
      "displayName": "PUSHPA RANI",
      "photoUrl": "",
      "userId": "04309092780219853136"
     },
     "user_tz": -330
    },
    "id": "v6fVDuPvH_o8",
    "outputId": "b7e6efa3-c5c3-42c7-bb45-2a36df552668"
   },
   "outputs": [
    {
     "ename": "ValueError",
     "evalue": "ignored",
     "output_type": "error",
     "traceback": [
      "\u001b[0;31m---------------------------------------------------------------------------\u001b[0m",
      "\u001b[0;31mValueError\u001b[0m                                Traceback (most recent call last)",
      "\u001b[0;32m<ipython-input-125-ef89736fbfcb>\u001b[0m in \u001b[0;36m<module>\u001b[0;34m()\u001b[0m\n\u001b[0;32m----> 1\u001b[0;31m \u001b[0mhistory\u001b[0m \u001b[0;34m=\u001b[0m \u001b[0mmodel\u001b[0m\u001b[0;34m.\u001b[0m\u001b[0mfit\u001b[0m\u001b[0;34m(\u001b[0m\u001b[0mimages_manual_training\u001b[0m\u001b[0;34m,\u001b[0m \u001b[0moutput_training\u001b[0m\u001b[0;34m,\u001b[0m \u001b[0mepochs\u001b[0m \u001b[0;34m=\u001b[0m \u001b[0;36m4\u001b[0m\u001b[0;34m)\u001b[0m\u001b[0;34m\u001b[0m\u001b[0;34m\u001b[0m\u001b[0m\n\u001b[0m",
      "\u001b[0;32m/usr/local/lib/python3.6/dist-packages/tensorflow_core/python/keras/engine/training.py\u001b[0m in \u001b[0;36mfit\u001b[0;34m(self, x, y, batch_size, epochs, verbose, callbacks, validation_split, validation_data, shuffle, class_weight, sample_weight, initial_epoch, steps_per_epoch, validation_steps, validation_freq, max_queue_size, workers, use_multiprocessing, **kwargs)\u001b[0m\n\u001b[1;32m    725\u001b[0m         \u001b[0mmax_queue_size\u001b[0m\u001b[0;34m=\u001b[0m\u001b[0mmax_queue_size\u001b[0m\u001b[0;34m,\u001b[0m\u001b[0;34m\u001b[0m\u001b[0;34m\u001b[0m\u001b[0m\n\u001b[1;32m    726\u001b[0m         \u001b[0mworkers\u001b[0m\u001b[0;34m=\u001b[0m\u001b[0mworkers\u001b[0m\u001b[0;34m,\u001b[0m\u001b[0;34m\u001b[0m\u001b[0;34m\u001b[0m\u001b[0m\n\u001b[0;32m--> 727\u001b[0;31m         use_multiprocessing=use_multiprocessing)\n\u001b[0m\u001b[1;32m    728\u001b[0m \u001b[0;34m\u001b[0m\u001b[0m\n\u001b[1;32m    729\u001b[0m   def evaluate(self,\n",
      "\u001b[0;32m/usr/local/lib/python3.6/dist-packages/tensorflow_core/python/keras/engine/training_arrays.py\u001b[0m in \u001b[0;36mfit\u001b[0;34m(self, model, x, y, batch_size, epochs, verbose, callbacks, validation_split, validation_data, shuffle, class_weight, sample_weight, initial_epoch, steps_per_epoch, validation_steps, validation_freq, **kwargs)\u001b[0m\n\u001b[1;32m    641\u001b[0m         \u001b[0msteps\u001b[0m\u001b[0;34m=\u001b[0m\u001b[0msteps_per_epoch\u001b[0m\u001b[0;34m,\u001b[0m\u001b[0;34m\u001b[0m\u001b[0;34m\u001b[0m\u001b[0m\n\u001b[1;32m    642\u001b[0m         \u001b[0mvalidation_split\u001b[0m\u001b[0;34m=\u001b[0m\u001b[0mvalidation_split\u001b[0m\u001b[0;34m,\u001b[0m\u001b[0;34m\u001b[0m\u001b[0;34m\u001b[0m\u001b[0m\n\u001b[0;32m--> 643\u001b[0;31m         shuffle=shuffle)\n\u001b[0m\u001b[1;32m    644\u001b[0m \u001b[0;34m\u001b[0m\u001b[0m\n\u001b[1;32m    645\u001b[0m     \u001b[0;32mif\u001b[0m \u001b[0mvalidation_data\u001b[0m\u001b[0;34m:\u001b[0m\u001b[0;34m\u001b[0m\u001b[0;34m\u001b[0m\u001b[0m\n",
      "\u001b[0;32m/usr/local/lib/python3.6/dist-packages/tensorflow_core/python/keras/engine/training.py\u001b[0m in \u001b[0;36m_standardize_user_data\u001b[0;34m(self, x, y, sample_weight, class_weight, batch_size, check_steps, steps_name, steps, validation_split, shuffle, extract_tensors_from_dataset)\u001b[0m\n\u001b[1;32m   2469\u001b[0m           \u001b[0mfeed_input_shapes\u001b[0m\u001b[0;34m,\u001b[0m\u001b[0;34m\u001b[0m\u001b[0;34m\u001b[0m\u001b[0m\n\u001b[1;32m   2470\u001b[0m           \u001b[0mcheck_batch_axis\u001b[0m\u001b[0;34m=\u001b[0m\u001b[0;32mFalse\u001b[0m\u001b[0;34m,\u001b[0m  \u001b[0;31m# Don't enforce the batch size.\u001b[0m\u001b[0;34m\u001b[0m\u001b[0;34m\u001b[0m\u001b[0m\n\u001b[0;32m-> 2471\u001b[0;31m           exception_prefix='input')\n\u001b[0m\u001b[1;32m   2472\u001b[0m \u001b[0;34m\u001b[0m\u001b[0m\n\u001b[1;32m   2473\u001b[0m     \u001b[0;31m# Get typespecs for the input data and sanitize it if necessary.\u001b[0m\u001b[0;34m\u001b[0m\u001b[0;34m\u001b[0m\u001b[0;34m\u001b[0m\u001b[0m\n",
      "\u001b[0;32m/usr/local/lib/python3.6/dist-packages/tensorflow_core/python/keras/engine/training_utils.py\u001b[0m in \u001b[0;36mstandardize_input_data\u001b[0;34m(data, names, shapes, check_batch_axis, exception_prefix)\u001b[0m\n\u001b[1;32m    561\u001b[0m                            \u001b[0;34m': expected '\u001b[0m \u001b[0;34m+\u001b[0m \u001b[0mnames\u001b[0m\u001b[0;34m[\u001b[0m\u001b[0mi\u001b[0m\u001b[0;34m]\u001b[0m \u001b[0;34m+\u001b[0m \u001b[0;34m' to have '\u001b[0m \u001b[0;34m+\u001b[0m\u001b[0;34m\u001b[0m\u001b[0;34m\u001b[0m\u001b[0m\n\u001b[1;32m    562\u001b[0m                            \u001b[0mstr\u001b[0m\u001b[0;34m(\u001b[0m\u001b[0mlen\u001b[0m\u001b[0;34m(\u001b[0m\u001b[0mshape\u001b[0m\u001b[0;34m)\u001b[0m\u001b[0;34m)\u001b[0m \u001b[0;34m+\u001b[0m \u001b[0;34m' dimensions, but got array '\u001b[0m\u001b[0;34m\u001b[0m\u001b[0;34m\u001b[0m\u001b[0m\n\u001b[0;32m--> 563\u001b[0;31m                            'with shape ' + str(data_shape))\n\u001b[0m\u001b[1;32m    564\u001b[0m         \u001b[0;32mif\u001b[0m \u001b[0;32mnot\u001b[0m \u001b[0mcheck_batch_axis\u001b[0m\u001b[0;34m:\u001b[0m\u001b[0;34m\u001b[0m\u001b[0;34m\u001b[0m\u001b[0m\n\u001b[1;32m    565\u001b[0m           \u001b[0mdata_shape\u001b[0m \u001b[0;34m=\u001b[0m \u001b[0mdata_shape\u001b[0m\u001b[0;34m[\u001b[0m\u001b[0;36m1\u001b[0m\u001b[0;34m:\u001b[0m\u001b[0;34m]\u001b[0m\u001b[0;34m\u001b[0m\u001b[0;34m\u001b[0m\u001b[0m\n",
      "\u001b[0;31mValueError\u001b[0m: Error when checking input: expected conv2d_input to have 4 dimensions, but got array with shape (584, 565)"
     ]
    }
   ],
   "source": [
    "x_train = x_train/ 255.0\n",
    "# x_test = x_test/ 255.0\n",
    "history = model.fit(images_manual_training, output_training, epochs = 4)"
   ]
  },
  {
   "cell_type": "code",
   "execution_count": 0,
   "metadata": {
    "colab": {},
    "colab_type": "code",
    "id": "AyU6US_IH_pC"
   },
   "outputs": [],
   "source": []
  },
  {
   "cell_type": "code",
   "execution_count": 0,
   "metadata": {
    "colab": {},
    "colab_type": "code",
    "id": "SwKwe7X-H_pL"
   },
   "outputs": [],
   "source": []
  },
  {
   "cell_type": "code",
   "execution_count": 0,
   "metadata": {
    "colab": {},
    "colab_type": "code",
    "id": "GZ2tRiNQH_pT"
   },
   "outputs": [],
   "source": []
  },
  {
   "cell_type": "code",
   "execution_count": 0,
   "metadata": {
    "colab": {},
    "colab_type": "code",
    "id": "N60eD-c5H_pd"
   },
   "outputs": [],
   "source": []
  },
  {
   "cell_type": "code",
   "execution_count": 0,
   "metadata": {
    "colab": {},
    "colab_type": "code",
    "id": "QxBj1LBnH_po"
   },
   "outputs": [],
   "source": [
    "a=np.reshape(combinedpatches[10013],(3,3,3))"
   ]
  },
  {
   "cell_type": "code",
   "execution_count": 0,
   "metadata": {
    "colab": {},
    "colab_type": "code",
    "id": "CTo_8r3GH_p3"
   },
   "outputs": [],
   "source": [
    "a"
   ]
  },
  {
   "cell_type": "code",
   "execution_count": 0,
   "metadata": {
    "colab": {},
    "colab_type": "code",
    "id": "xdQmtT-jH_qC"
   },
   "outputs": [],
   "source": [
    "reshapedpatches[10013]"
   ]
  },
  {
   "cell_type": "code",
   "execution_count": 0,
   "metadata": {
    "colab": {},
    "colab_type": "code",
    "id": "JboL_3I6H_qL"
   },
   "outputs": [],
   "source": [
    "reshapedpatches=reshapePatches(combinedpatches)"
   ]
  },
  {
   "cell_type": "code",
   "execution_count": 0,
   "metadata": {
    "colab": {},
    "colab_type": "code",
    "id": "TPYtaY6ZH_qS"
   },
   "outputs": [],
   "source": [
    "reshapedpatches[0]"
   ]
  },
  {
   "cell_type": "code",
   "execution_count": 0,
   "metadata": {
    "colab": {},
    "colab_type": "code",
    "id": "j0aQGSdOH_qa"
   },
   "outputs": [],
   "source": []
  },
  {
   "cell_type": "code",
   "execution_count": 0,
   "metadata": {
    "colab": {},
    "colab_type": "code",
    "id": "EOoer1VUH_qf"
   },
   "outputs": [],
   "source": []
  },
  {
   "cell_type": "code",
   "execution_count": 0,
   "metadata": {
    "colab": {},
    "colab_type": "code",
    "id": "yrETauh_H_qk"
   },
   "outputs": [],
   "source": [
    "a=[]\n",
    "j=[[1,2,3],[1,2,3],[1,2,3]]\n",
    "k=[[1,2,3],[1,2,3],[1,2,3]]\n",
    "l=[[1,2,3],[1,2,3],[1,2,3]]\n",
    "for i in range(3):\n",
    "    a.append(np.array([j[i],k[i],l[i]]))"
   ]
  },
  {
   "cell_type": "code",
   "execution_count": 0,
   "metadata": {
    "colab": {},
    "colab_type": "code",
    "id": "l4t6UR2rH_qr"
   },
   "outputs": [],
   "source": [
    "combinedpatches[0]"
   ]
  },
  {
   "cell_type": "code",
   "execution_count": 0,
   "metadata": {
    "colab": {},
    "colab_type": "code",
    "id": "5MRD1_89H_qx"
   },
   "outputs": [],
   "source": [
    "a=np.array(a)\n",
    "a.shape"
   ]
  },
  {
   "cell_type": "code",
   "execution_count": 0,
   "metadata": {
    "colab": {},
    "colab_type": "code",
    "id": "F5aCbRz_H_q3"
   },
   "outputs": [],
   "source": [
    "np.save('patches3n3.npy', data)"
   ]
  },
  {
   "cell_type": "code",
   "execution_count": 0,
   "metadata": {
    "colab": {},
    "colab_type": "code",
    "id": "F9nGbPngH_q_"
   },
   "outputs": [],
   "source": [
    "loaded_array = np.load('patches3n3.npy')"
   ]
  },
  {
   "cell_type": "code",
   "execution_count": 0,
   "metadata": {
    "colab": {},
    "colab_type": "code",
    "id": "5SnddsACH_rE"
   },
   "outputs": [],
   "source": [
    "loaded_array.shape"
   ]
  },
  {
   "cell_type": "code",
   "execution_count": 0,
   "metadata": {
    "colab": {},
    "colab_type": "code",
    "id": "axh2_Me8H_rL"
   },
   "outputs": [],
   "source": [
    "a=[]\n",
    "a.append(np.array([patch_red[0],patch_green[0],patch_blue[0]]))"
   ]
  }
 ],
 "metadata": {
  "accelerator": "GPU",
  "colab": {
   "name": "Patch_Extraction 3 channel appraoach.ipynb",
   "provenance": [],
   "toc_visible": true
  },
  "kernelspec": {
   "display_name": "Python 3",
   "language": "python",
   "name": "python3"
  },
  "language_info": {
   "codemirror_mode": {
    "name": "ipython",
    "version": 3
   },
   "file_extension": ".py",
   "mimetype": "text/x-python",
   "name": "python",
   "nbconvert_exporter": "python",
   "pygments_lexer": "ipython3",
   "version": "3.7.5"
  }
 },
 "nbformat": 4,
 "nbformat_minor": 1
}
