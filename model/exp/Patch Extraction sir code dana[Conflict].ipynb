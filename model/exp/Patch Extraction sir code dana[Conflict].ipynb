{
 "cells": [
  {
   "cell_type": "code",
   "execution_count": 0,
   "metadata": {
    "colab": {},
    "colab_type": "code",
    "id": "-FJlZog-uOIF"
   },
   "outputs": [],
   "source": [
    "import os\n",
    "import zipfile\n",
    "import random\n",
    "import numpy as np\n",
    "# %tensorflow_version 2.x\n",
    "# import tensorflow as tf\n",
    "# from tensorflow.keras.optimizers import RMSprop\n",
    "# from tensorflow.keras.preprocessing.image import ImageDataGenerator\n",
    "from shutil import copyfile"
   ]
  },
  {
   "cell_type": "code",
   "execution_count": 2,
   "metadata": {
    "colab": {
     "base_uri": "https://localhost:8080/",
     "height": 219
    },
    "colab_type": "code",
    "collapsed": true,
    "executionInfo": {
     "elapsed": 4469,
     "status": "ok",
     "timestamp": 1583153144705,
     "user": {
      "displayName": "PUSHPA RANI",
      "photoUrl": "",
      "userId": "04309092780219853136"
     },
     "user_tz": -330
    },
    "id": "8ieak9xlt9N3",
    "outputId": "6381f6db-489e-4cb1-eb3e-d6c0a3e87b1f"
   },
   "outputs": [
    {
     "name": "stdout",
     "output_type": "stream",
     "text": [
      "--2020-03-02 12:45:40--  https://storage.googleapis.com/datsets/DRIVE.zip\n",
      "Resolving storage.googleapis.com (storage.googleapis.com)... 172.217.12.240, 2607:f8b0:4004:814::2010\n",
      "Connecting to storage.googleapis.com (storage.googleapis.com)|172.217.12.240|:443... connected.\n",
      "HTTP request sent, awaiting response... 200 OK\n",
      "Length: 29756930 (28M) [application/x-zip-compressed]\n",
      "Saving to: ‘/tmp/DRIVE.zip’\n",
      "\n",
      "\r",
      "/tmp/DRIVE.zip        0%[                    ]       0  --.-KB/s               \r",
      "/tmp/DRIVE.zip      100%[===================>]  28.38M  --.-KB/s    in 0.1s    \n",
      "\n",
      "2020-03-02 12:45:40 (204 MB/s) - ‘/tmp/DRIVE.zip’ saved [29756930/29756930]\n",
      "\n"
     ]
    }
   ],
   "source": [
    "!wget --no-check-certificate \\\n",
    "    \"https://storage.googleapis.com/datsets/DRIVE.zip\"\\\n",
    "    -O \"/tmp/DRIVE.zip\"\n",
    "\n",
    "local_zip = '/tmp/DRIVE.zip'\n",
    "zip_ref   = zipfile.ZipFile(local_zip, 'r')\n",
    "zip_ref.extractall('/tmp')\n",
    "zip_ref.close()\n"
   ]
  },
  {
   "cell_type": "code",
   "execution_count": 0,
   "metadata": {
    "colab": {},
    "colab_type": "code",
    "id": "672QiqkKucPv"
   },
   "outputs": [],
   "source": [
    "import glob\n",
    "import cv2\n",
    "from PIL import Image\n",
    "\n",
    "images = [np.array(Image.open(file)) for file in glob.glob(\"/tmp/DRIVE/training/images/*.tif\")]"
   ]
  },
  {
   "cell_type": "code",
   "execution_count": 4,
   "metadata": {
    "colab": {
     "base_uri": "https://localhost:8080/",
     "height": 35
    },
    "colab_type": "code",
    "executionInfo": {
     "elapsed": 5308,
     "status": "ok",
     "timestamp": 1583153145560,
     "user": {
      "displayName": "PUSHPA RANI",
      "photoUrl": "",
      "userId": "04309092780219853136"
     },
     "user_tz": -330
    },
    "id": "XtDQgaCEvKVX",
    "outputId": "b09bb727-e0ce-4364-8686-5a7d118f326b"
   },
   "outputs": [
    {
     "data": {
      "text/plain": [
       "20"
      ]
     },
     "execution_count": 4,
     "metadata": {
      "tags": []
     },
     "output_type": "execute_result"
    }
   ],
   "source": [
    "len(images)"
   ]
  },
  {
   "cell_type": "code",
   "execution_count": 0,
   "metadata": {
    "colab": {},
    "colab_type": "code",
    "id": "X494Q0VRvLd-"
   },
   "outputs": [],
   "source": [
    "def create_patch(imgs,patch_size):\n",
    "    ps=patch_size//2\n",
    "    image_patches=[]\n",
    "    for k in range(0,2):\n",
    "        padded_imgs=np.pad(imgs[k],pad_width=ps,mode='edge')\n",
    "        for i in range(0,imgs[k].shape[0]):\n",
    "            for j in range(0,imgs[k].shape[1]):\n",
    "                flatten_imgs=padded_imgs[i:i+patch_size,j:j+patch_size].ravel()\n",
    "                imgs_mod_flatten=np.hstack((flatten_imgs))\n",
    "                image_patches.append(imgs_mod_flatten)\n",
    "    image_patches=np.vstack(image_patches)\n",
    "    return image_patches"
   ]
  },
  {
   "cell_type": "markdown",
   "metadata": {
    "colab_type": "text",
    "id": "dV-i7key5Ujn"
   },
   "source": [
    "# New Section"
   ]
  },
  {
   "cell_type": "code",
   "execution_count": 0,
   "metadata": {
    "colab": {},
    "colab_type": "code",
    "id": "bVoA2JYYwqMB"
   },
   "outputs": [],
   "source": [
    "img = create_patch(images,(25))"
   ]
  },
  {
   "cell_type": "code",
   "execution_count": 0,
   "metadata": {
    "colab": {},
    "colab_type": "code",
    "id": "N76zVOpqxQ0W"
   },
   "outputs": [],
   "source": [
    "from PIL import Image\n",
    "Image.open('D:/google drive/Missions/mission Retina/navdeep sir datasets/DRIVE/training/images/21_training.tif')"
   ]
  },
  {
   "cell_type": "code",
   "execution_count": 0,
   "metadata": {
    "colab": {},
    "colab_type": "code",
    "id": "o3OkycVf41LI"
   },
   "outputs": [],
   "source": []
  }
 ],
 "metadata": {
  "accelerator": "GPU",
  "colab": {
   "name": "Patch Extraction sir code dana.ipynb",
   "provenance": [],
   "toc_visible": true
  },
  "kernelspec": {
   "display_name": "Python 3",
   "language": "python",
   "name": "python3"
  },
  "language_info": {
   "codemirror_mode": {
    "name": "ipython",
    "version": 3
   },
   "file_extension": ".py",
   "mimetype": "text/x-python",
   "name": "python",
   "nbconvert_exporter": "python",
   "pygments_lexer": "ipython3",
   "version": "3.7.5"
  }
 },
 "nbformat": 4,
 "nbformat_minor": 1
}
