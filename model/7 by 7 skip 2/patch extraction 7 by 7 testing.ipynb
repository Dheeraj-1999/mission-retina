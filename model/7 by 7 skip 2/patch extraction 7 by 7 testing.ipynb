{
 "cells": [
  {
   "cell_type": "markdown",
   "metadata": {},
   "source": [
    "# # Create Test patches "
   ]
  },
  {
   "cell_type": "code",
   "execution_count": 1,
   "metadata": {},
   "outputs": [],
   "source": [
    "def GetAllChannels(imagewithchannels):\n",
    "    redchannel=[]\n",
    "    greenchannel=[]\n",
    "    bluechannel=[]\n",
    "    for i in range(len(imagewithchannels)):\n",
    "        redchannel.append(imagewithchannels[i][:,:,0])\n",
    "        greenchannel.append(imagewithchannels[i][:,:,1])\n",
    "        bluechannel.append(imagewithchannels[i][:,:,2])\n",
    "    return redchannel,greenchannel,bluechannel    \n",
    "\n",
    "def create_patch(imgs,patch_size,skip):\n",
    "    a=0;\n",
    "    ps=patch_size//2\n",
    "    image_patches=[]\n",
    "    for k in range(0,2):\n",
    "        padded_imgs=np.pad(imgs[k],pad_width=ps,mode='edge')\n",
    "        for i in range(0,imgs[k].shape[0],skip):\n",
    "            for j in range(0,imgs[k].shape[1],skip):\n",
    "                flatten_imgs=padded_imgs[i:i+patch_size,j:j+patch_size].ravel()\n",
    "                imgs_mod_flatten=np.hstack((flatten_imgs))\n",
    "                image_patches.append(imgs_mod_flatten)\n",
    "    image_patches=np.vstack(image_patches)\n",
    "    return image_patches\n",
    "\n",
    "def getCombineChannels(red,green,blue):\n",
    "    combinedPacthes=[]\n",
    "    temp = []\n",
    "    for i in range(red.shape[0]):\n",
    "        temp = cv2.merge(np.array([red[i],green[i],blue[i]]))\n",
    "        combinedPacthes.append(temp)\n",
    "    return(np.array(combinedPacthes))    \n",
    "\n",
    "def reshapePatches(combinedpatches,reshapesize):\n",
    "    newcombinedarray=[]\n",
    "    end=combinedpatches.shape[0]\n",
    "    for i in range(end):\n",
    "        newcombinedarray.append(np.reshape(combinedpatches[i],reshapesize))\n",
    "    return np.array(newcombinedarray)"
   ]
  },
  {
   "cell_type": "code",
   "execution_count": 5,
   "metadata": {},
   "outputs": [
    {
     "name": "stdout",
     "output_type": "stream",
     "text": [
      "Loading Images.....\n",
      "(20, 584, 565, 3)\n",
      "Images Loaded.......\n",
      "Seperating Channels.......\n",
      "Channels seprated.......\n"
     ]
    }
   ],
   "source": [
    "print(\"Loading Images.....\")\n",
    "images=[]\n",
    "import cv2\n",
    "import numpy as np\n",
    "for i in range(1,10):\n",
    "    img=cv2.imread(\"D:\\\\google drive\\\\Missions\\\\mission Retina\\\\dataset\\\\navdeep sir datasets\\\\DRIVE\\\\test\\\\images\\\\0{}_test.tif\".format(i))\n",
    "    images.append(img)\n",
    "for i in range(10,21):\n",
    "    img=cv2.imread(\"D:\\\\google drive\\\\Missions\\\\mission Retina\\\\dataset\\\\navdeep sir datasets\\\\DRIVE\\\\test\\\\images\\\\{}_test.tif\".format(i))\n",
    "    images.append(img)\n",
    "print(np.array(images).shape)\n",
    "print('Images Loaded.......')\n",
    "print('Seperating Channels.......')\n",
    "(r,g,b)=GetAllChannels(images)\n",
    "print('Channels seprated.......')\n",
    "\n"
   ]
  },
  {
   "cell_type": "code",
   "execution_count": 7,
   "metadata": {},
   "outputs": [
    {
     "name": "stderr",
     "output_type": "stream",
     "text": [
      "UsageError: Line magic function `%tensorflow_version` not found.\n"
     ]
    }
   ],
   "source": [
    "# import numpy as np\n",
    "import os\n",
    "import cv2\n",
    "import numpy as np\n",
    "import glob\n",
    "from PIL import Image\n",
    "import zipfile\n",
    "%tensorflow_version 2.x\n",
    "from PIL import Image\n",
    "import tensorflow as tf"
   ]
  },
  {
   "cell_type": "code",
   "execution_count": 8,
   "metadata": {},
   "outputs": [
    {
     "name": "stdout",
     "output_type": "stream",
     "text": [
      "Creating patches for red channel\n",
      "Red channel patches created\n"
     ]
    }
   ],
   "source": [
    "print('Creating patches for red channel')\n",
    "redpacthespath='D:/google drive/Missions\\mission Retina/Do some code/model/7 by 7 skip 2/reshaped patches 7 by 7 skip 2/RedPatchestest.npy'\n",
    "if not os.path.isfile(redpacthespath):\n",
    "    patch_red=create_patch(r,7,1)\n",
    "    np.save(redpacthespath,patch_red)\n",
    "else:\n",
    "    patch_red=np.load(redpacthespath)\n",
    "print('Red channel patches created')"
   ]
  },
  {
   "cell_type": "code",
   "execution_count": 9,
   "metadata": {},
   "outputs": [
    {
     "name": "stdout",
     "output_type": "stream",
     "text": [
      "Creating patches for green channel\n",
      "Green channel patches created\n"
     ]
    }
   ],
   "source": [
    "print('Creating patches for green channel')\n",
    "greenpatchespath='D:/google drive/Missions\\mission Retina/Do some code/model/7 by 7 skip 2/reshaped patches 7 by 7 skip 2/GreenPatchestest.npy'\n",
    "if not os.path.isfile(greenpatchespath):\n",
    "    patch_green=create_patch(g,7,1)\n",
    "    np.save(greenpatchespath,patch_green)\n",
    "else:\n",
    "    patch_green=np.load(greenpatchespath)\n",
    "print('Green channel patches created')\n"
   ]
  },
  {
   "cell_type": "code",
   "execution_count": 10,
   "metadata": {},
   "outputs": [
    {
     "name": "stdout",
     "output_type": "stream",
     "text": [
      "Creating patches for blue channel\n",
      "Blue channel patches created\n"
     ]
    }
   ],
   "source": [
    "print('Creating patches for blue channel')\n",
    "bluepathcespath='D:/google drive/Missions\\mission Retina/Do some code/model/7 by 7 skip 2/reshaped patches 7 by 7 skip 2/BluePatchestest.npy'\n",
    "if not os.path.isfile(bluepathcespath):\n",
    "    patch_blue=create_patch(b,7,1)\n",
    "    np.save(bluepathcespath,patch_blue)\n",
    "else:\n",
    "    patch_blue=np.load(bluepathcespath)\n",
    "print('Blue channel patches created')\n"
   ]
  },
  {
   "cell_type": "code",
   "execution_count": 11,
   "metadata": {},
   "outputs": [
    {
     "name": "stdout",
     "output_type": "stream",
     "text": [
      "Combinig all channel patches in single array\n",
      "All patches are combined and the shape is (659920, 49, 1, 3)\n"
     ]
    }
   ],
   "source": [
    "print('Combinig all channel patches in single array')\n",
    "combinedpatchespath=\"D:/google drive/Missions\\mission Retina/Do some code/model/7 by 7 skip 2/reshaped patches 7 by 7 skip 2/CombinedPatchestest.npy\"\n",
    "if not os.path.isfile(combinedpatchespath):\n",
    "    combinedpatches=getCombineChannels(patch_red,patch_green,patch_blue)\n",
    "    np.save(combinedpatchespath,combinedpatches)\n",
    "else:\n",
    "    combinedpatches=np.load(combinedpatchespath)\n",
    "print('All patches are combined and the shape is {}'.format(combinedpatches.shape))\n"
   ]
  },
  {
   "cell_type": "code",
   "execution_count": 12,
   "metadata": {},
   "outputs": [
    {
     "name": "stdout",
     "output_type": "stream",
     "text": [
      "Reshaping to get required results\n",
      "All patches are reshaped and the shape is (659920, 7, 7, 3)\n"
     ]
    }
   ],
   "source": [
    "print('Reshaping to get required results')\n",
    "reshapedpatches=reshapePatches(combinedpatches,(7,7, 3))\n",
    "print('All patches are reshaped and the shape is {}'.format(reshapedpatches.shape))\n"
   ]
  },
  {
   "cell_type": "code",
   "execution_count": 13,
   "metadata": {},
   "outputs": [
    {
     "name": "stdout",
     "output_type": "stream",
     "text": [
      "Saving all patch data to file patchesknk.npy\n",
      "All patch data saved and can be access by variable 'reshapedpatches'\n"
     ]
    }
   ],
   "source": [
    "print('Saving all patch data to file patchesknk.npy')\n",
    "np.save(\"D:/google drive/Missions\\mission Retina/Do some code/model/7 by 7 skip 2/reshaped patches 7 by 7 skip 2/patches7n7nskip2test.npy\",reshapedpatches)\n",
    "print('All patch data saved and can be access by variable \\'reshapedpatches\\'')"
   ]
  },
  {
   "cell_type": "code",
   "execution_count": null,
   "metadata": {},
   "outputs": [],
   "source": []
  },
  {
   "cell_type": "code",
   "execution_count": null,
   "metadata": {},
   "outputs": [],
   "source": []
  }
 ],
 "metadata": {
  "kernelspec": {
   "display_name": "Python 3.7.5 64-bit ('anaconda': conda)",
   "language": "python",
   "name": "python37564bitanacondaconda8fdae7da735b42e8bb5614c179ca1693"
  },
  "language_info": {
   "codemirror_mode": {
    "name": "ipython",
    "version": 3
   },
   "file_extension": ".py",
   "mimetype": "text/x-python",
   "name": "python",
   "nbconvert_exporter": "python",
   "pygments_lexer": "ipython3",
   "version": "3.7.5"
  }
 },
 "nbformat": 4,
 "nbformat_minor": 2
}
