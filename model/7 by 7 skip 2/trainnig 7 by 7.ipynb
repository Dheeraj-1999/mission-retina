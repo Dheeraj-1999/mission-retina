{
 "cells": [
  {
   "cell_type": "code",
   "execution_count": 14,
   "metadata": {},
   "outputs": [
    {
     "name": "stderr",
     "output_type": "stream",
     "text": [
      "UsageError: Line magic function `%tensorflow_version` not found.\n"
     ]
    }
   ],
   "source": [
    "# import numpy as np\n",
    "import os\n",
    "import cv2\n",
    "import numpy as np\n",
    "import glob\n",
    "from PIL import Image\n",
    "import zipfile\n",
    "%tensorflow_version 2.x\n",
    "from PIL import Image\n",
    "import tensorflow as tf"
   ]
  },
  {
   "cell_type": "code",
   "execution_count": 3,
   "metadata": {
    "scrolled": true
   },
   "outputs": [],
   "source": [
    "reshapedpatches_training = []\n",
    "reshapedpatches_training = np.load('D:\\\\google drive\\\\Missions\\\\mission Retina\\\\Do some code\\\\model\\\\7 by 7 skip 2\\\\reshaped patches 7 by 7 skip 2\\\\patches7n7nskip2.npy')"
   ]
  },
  {
   "cell_type": "code",
   "execution_count": 4,
   "metadata": {},
   "outputs": [
    {
     "data": {
      "text/plain": [
       "(1652720, 7, 7, 3)"
      ]
     },
     "execution_count": 4,
     "metadata": {},
     "output_type": "execute_result"
    }
   ],
   "source": [
    "reshapedpatches_training.shape"
   ]
  },
  {
   "cell_type": "markdown",
   "metadata": {},
   "source": [
    "# Get ouput array "
   ]
  },
  {
   "cell_type": "code",
   "execution_count": 5,
   "metadata": {},
   "outputs": [],
   "source": [
    "def getoutputarr(images,skip):\n",
    "    outputarr=[]\n",
    "    for k in range(images.shape[0]):\n",
    "        for i in range(0,images.shape[1],skip):\n",
    "            for j in range(0,images.shape[2],skip):\n",
    "                outputarr.append(images[k,i,j])\n",
    "    return(np.array(outputarr))"
   ]
  },
  {
   "cell_type": "code",
   "execution_count": 7,
   "metadata": {},
   "outputs": [],
   "source": [
    "images=[]\n",
    "for i in range(21,41):\n",
    "    a=np.array(Image.open(\"D:\\\\google drive\\\\Missions\\\\mission Retina\\\\dataset\\\\navdeep sir datasets\\\\DRIVE\\\\training\\\\1st_manual\\\\{}_manual1.gif\".format(i)))\n",
    "    images.append(a)\n",
    "outputs=getoutputarr(np.array(images),2)"
   ]
  },
  {
   "cell_type": "code",
   "execution_count": 10,
   "metadata": {},
   "outputs": [
    {
     "data": {
      "text/plain": [
       "(1652720,)"
      ]
     },
     "execution_count": 10,
     "metadata": {},
     "output_type": "execute_result"
    }
   ],
   "source": [
    "y=outputs\n",
    "w=y//255\n",
    "z=set(w)\n",
    "y=w\n",
    "y.shape"
   ]
  },
  {
   "cell_type": "code",
   "execution_count": 26,
   "metadata": {},
   "outputs": [],
   "source": [
    "X = reshapedpatches_training\n",
    "# Y = out[uts]\n",
    "\n",
    "X_train,X_val,y_train,y_val=X[0:1500000,:,:],X[1500000:1652721,:,:],y[0:1500000],y[1500000:1652721]"
   ]
  },
  {
   "cell_type": "code",
   "execution_count": 29,
   "metadata": {},
   "outputs": [
    {
     "data": {
      "text/plain": [
       "(152720,)"
      ]
     },
     "execution_count": 29,
     "metadata": {},
     "output_type": "execute_result"
    }
   ],
   "source": [
    "y_val.shape"
   ]
  },
  {
   "cell_type": "code",
   "execution_count": 24,
   "metadata": {},
   "outputs": [
    {
     "data": {
      "text/plain": [
       "(1652720,)"
      ]
     },
     "execution_count": 24,
     "metadata": {},
     "output_type": "execute_result"
    }
   ],
   "source": [
    "y.shape"
   ]
  },
  {
   "cell_type": "code",
   "execution_count": 8,
   "metadata": {},
   "outputs": [
    {
     "data": {
      "text/plain": [
       "(1652720,)"
      ]
     },
     "execution_count": 8,
     "metadata": {},
     "output_type": "execute_result"
    }
   ],
   "source": [
    "outputs.shape"
   ]
  },
  {
   "cell_type": "code",
   "execution_count": 21,
   "metadata": {},
   "outputs": [],
   "source": [
    "import tensorflow as tf\n",
    "from tensorflow.keras.optimizers import RMSprop\n",
    "model = tf.keras.models.Sequential([\n",
    "    tf.keras.layers.Conv2D(32, (3, 3), activation='relu', input_shape=(7, 7, 3)),\n",
    "    tf.keras.layers.MaxPooling2D((2, 2)),\n",
    "    # tf.keras.layers.Conv2D(32, (3, 3), activation='relu', input_shape=(9, 9, 3)),\n",
    "    # tf.keras.layers.MaxPooling2D((3, 3)),\n",
    "    tf.keras.layers.Flatten(),\n",
    "    tf.keras.layers.Dense(1024, activation='relu'),\n",
    "    tf.keras.layers.Dense(512, activation='relu'),\n",
    "    tf.keras.layers.Dense(1, activation='sigmoid')\n",
    "])\n",
    "\n",
    "model.compile(optimizer = 'adam', loss='binary_crossentropy', metrics=['acc'])"
   ]
  },
  {
   "cell_type": "code",
   "execution_count": 31,
   "metadata": {
    "collapsed": true
   },
   "outputs": [
    {
     "name": "stdout",
     "output_type": "stream",
     "text": [
      "Train on 1500000 samples, validate on 152720 samples\n",
      "Epoch 1/10\n",
      "1500000/1500000 [==============================] - 281s 187us/sample - loss: 0.1334 - acc: 0.9525 - val_loss: 0.1256 - val_acc: 0.9532\n",
      "Epoch 2/10\n",
      "1500000/1500000 [==============================] - 290s 193us/sample - loss: 0.1288 - acc: 0.9541 - val_loss: 0.1143 - val_acc: 0.9572\n",
      "Epoch 3/10\n",
      "1500000/1500000 [==============================] - 328s 219us/sample - loss: 0.1266 - acc: 0.9548 - val_loss: 0.1171 - val_acc: 0.9553\n",
      "Epoch 4/10\n",
      "1500000/1500000 [==============================] - 349s 232us/sample - loss: 0.1251 - acc: 0.9555 - val_loss: 0.1162 - val_acc: 0.9566\n",
      "Epoch 5/10\n",
      "1500000/1500000 [==============================] - 307s 205us/sample - loss: 0.1252 - acc: 0.9556 - val_loss: 0.1136 - val_acc: 0.9573\n",
      "Epoch 6/10\n",
      "1500000/1500000 [==============================] - 290s 193us/sample - loss: 0.1242 - acc: 0.9557 - val_loss: 0.1165 - val_acc: 0.9570\n",
      "Epoch 7/10\n",
      "1500000/1500000 [==============================] - 296s 197us/sample - loss: 0.1242 - acc: 0.9557 - val_loss: 0.1158 - val_acc: 0.9569\n",
      "Epoch 8/10\n",
      "1500000/1500000 [==============================] - 314s 209us/sample - loss: 0.1247 - acc: 0.9557 - val_loss: 0.1151 - val_acc: 0.9579\n",
      "Epoch 9/10\n",
      "1500000/1500000 [==============================] - 333s 222us/sample - loss: 0.1244 - acc: 0.9556 - val_loss: 0.1107 - val_acc: 0.9576\n",
      "Epoch 10/10\n",
      "1500000/1500000 [==============================] - 307s 204us/sample - loss: 0.1238 - acc: 0.9560 - val_loss: 0.1127 - val_acc: 0.9587\n"
     ]
    }
   ],
   "source": [
    "history = model.fit(X_train,y_train,batch_size=64,epochs=10,validation_data=(X_val,y_val))"
   ]
  },
  {
   "cell_type": "code",
   "execution_count": 32,
   "metadata": {},
   "outputs": [],
   "source": [
    "model.save('D:\\\\google drive\\\\Missions\\\\mission Retina\\\\Do some code\\\\model\\\\7 by 7 skip 2\\\\trained model\\\\model1st7by7.hdf5')"
   ]
  },
  {
   "cell_type": "code",
   "execution_count": 38,
   "metadata": {},
   "outputs": [
    {
     "data": {
      "text/plain": [
       "dict_keys(['loss', 'acc', 'val_loss', 'val_acc'])"
      ]
     },
     "execution_count": 38,
     "metadata": {},
     "output_type": "execute_result"
    }
   ],
   "source": [
    "history.history.keys()"
   ]
  },
  {
   "cell_type": "code",
   "execution_count": 36,
   "metadata": {},
   "outputs": [
    {
     "name": "stdout",
     "output_type": "stream",
     "text": [
      "Failed to import pydot. You must install pydot and graphviz for `pydotprint` to work.\n"
     ]
    }
   ],
   "source": [
    "tf.keras.utils.plot_model(model, 'multi_input_and_output_model.png', show_shapes=True)"
   ]
  },
  {
   "cell_type": "code",
   "execution_count": 42,
   "metadata": {},
   "outputs": [
    {
     "data": {
      "image/png": "[encoded data removed]",
      "text/plain": [
       "<Figure size 432x288 with 1 Axes>"
      ]
     },
     "metadata": {
      "needs_background": "light"
     },
     "output_type": "display_data"
    },
    {
     "data": {
      "image/png": "[encoded data removed]",
      "text/plain": [
       "<Figure size 432x288 with 1 Axes>"
      ]
     },
     "metadata": {
      "needs_background": "light"
     },
     "output_type": "display_data"
    }
   ],
   "source": [
    "import matplotlib.pyplot as plt\n",
    "acc = history.history['acc']\n",
    "val_acc = history.history['val_acc']\n",
    "loss = history.history['loss']\n",
    "val_loss = history.history['val_loss']\n",
    "\n",
    "epochs = range(len(acc))\n",
    "\n",
    "plt.plot(epochs, acc, 'bo', label='Training accuracy',linestyle='dashed')\n",
    "plt.plot(epochs, val_acc, 'b', label='Validation accuracy',linestyle='dashed')\n",
    "plt.title('Training and validation accuracy')\n",
    "plt.savefig('training acc graph 7 by 7.jpg')\n",
    "\n",
    "plt.legend()\n",
    "plt.figure()\n",
    "\n",
    "plt.plot(epochs, loss, 'bo', label='Training Loss',linestyle='dashed')\n",
    "plt.plot(epochs, val_loss, 'b', label='Validation Loss',linestyle='dashed')\n",
    "plt.title('Training and validation loss')\n",
    "plt.savefig('training loss graph 7 by 7.jpg')\n",
    "\n",
    "plt.legend()\n",
    "\n",
    "plt.show()\n"
   ]
  },
  {
   "cell_type": "code",
   "execution_count": null,
   "metadata": {},
   "outputs": [],
   "source": []
  }
 ],
 "metadata": {
  "kernelspec": {
   "display_name": "Python 3.7.5 64-bit ('anaconda': conda)",
   "language": "python",
   "name": "python37564bitanacondaconda8fdae7da735b42e8bb5614c179ca1693"
  },
  "language_info": {
   "codemirror_mode": {
    "name": "ipython",
    "version": 3
   },
   "file_extension": ".py",
   "mimetype": "text/x-python",
   "name": "python",
   "nbconvert_exporter": "python",
   "pygments_lexer": "ipython3",
   "version": "3.7.5"
  }
 },
 "nbformat": 4,
 "nbformat_minor": 2
}
