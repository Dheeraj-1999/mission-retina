{
 "cells": [
  {
   "cell_type": "code",
   "execution_count": 1,
   "metadata": {
    "colab": {},
    "colab_type": "code",
    "id": "672QiqkKucPv"
   },
   "outputs": [],
   "source": [
    "import os\n",
    "import numpy as np\n",
    "import glob\n",
    "from PIL import Image"
   ]
  },
  {
   "cell_type": "code",
   "execution_count": 2,
   "metadata": {},
   "outputs": [],
   "source": [
    "def GetAllChannels(imagewithchannels):\n",
    "    redchannel=[]\n",
    "    greenchannel=[]\n",
    "    bluechannel=[]\n",
    "    for i in range(len(imagewithchannels)):\n",
    "        redchannel.append(imagewithchannels[i][:,:,0])\n",
    "        greenchannel.append(imagewithchannels[i][:,:,1])\n",
    "        bluechannel.append(imagewithchannels[i][:,:,2])\n",
    "    return redchannel,greenchannel,bluechannel    \n",
    "\n",
    "def create_patch(imgs,patch_size,skip):\n",
    "    a=0;\n",
    "    ps=patch_size//2\n",
    "    image_patches=[]\n",
    "    for k in range(0,20):\n",
    "        padded_imgs=np.pad(imgs[k],pad_width=ps,mode='edge')\n",
    "        for i in range(0,imgs[k].shape[0],skip):\n",
    "            for j in range(0,imgs[k].shape[1],skip):\n",
    "                flatten_imgs=padded_imgs[i:i+patch_size,j:j+patch_size].ravel()\n",
    "                imgs_mod_flatten=np.hstack((flatten_imgs))\n",
    "                image_patches.append(imgs_mod_flatten)\n",
    "    image_patches=np.vstack(image_patches)\n",
    "    return image_patches\n",
    "\n",
    "def getCombineChannels(red,green,blue):\n",
    "    combinedPacthes=[]\n",
    "    temp = []\n",
    "    for i in range(red.shape[0]):\n",
    "        temp = cv2.merge(np.array([red[i],green[i],blue[i]]))\n",
    "        combinedPacthes.append(temp)\n",
    "    return(np.array(combinedPacthes))    \n",
    "\n",
    "def reshapePatches(combinedpatches,reshapesize):\n",
    "    newcombinedarray=[]\n",
    "    end=combinedpatches.shape[0]\n",
    "    for i in range(end):\n",
    "        newcombinedarray.append(np.reshape(combinedpatches[i],reshapesize))\n",
    "    return np.array(newcombinedarray)"
   ]
  },
  {
   "cell_type": "code",
   "execution_count": null,
   "metadata": {},
   "outputs": [
    {
     "name": "stdout",
     "output_type": "stream",
     "text": [
      "Loading Images.....\n",
      "Images Loaded.......\n",
      "Seperating Channels.......\n",
      "Channels seprated.......\n",
      "Creating patches for red channel\n",
      "Red channel patches created\n",
      "Creating patches for green channel\n",
      "Green channel patches created\n",
      "Creating patches for blue channel\n",
      "Blue channel patches created\n",
      "Combinig all channel patches in single array\n"
     ]
    }
   ],
   "source": [
    "print(\"Loading Images.....\")\n",
    "images=[]\n",
    "import cv2\n",
    "for i in range(21,41):\n",
    "    img=cv2.imread(\"D:\\\\google drive\\\\Missions\\\\mission Retina\\\\navdeep sir datasets\\\\DRIVE\\\\training\\\\afternonlocalmean\\\\{}.jpg\".format(i))\n",
    "    images.append(img)\n",
    "print('Images Loaded.......')\n",
    "print('Seperating Channels.......')\n",
    "(r,g,b)=GetAllChannels(images)\n",
    "print('Channels seprated.......')\n",
    "print('Creating patches for red channel')\n",
    "redpacthespath='D:/google drive/Missions\\mission Retina/Do some code/model/7 by 7 skip 2/reshaped patches 7 by 7 skip 2/RedPatches.npy'\n",
    "if not os.path.isfile(redpacthespath):\n",
    "    patch_red=create_patch(r,7,2)\n",
    "    np.save(redpacthespath,patch_red)\n",
    "else:\n",
    "    patch_red=np.load(redpacthespath)\n",
    "print('Red channel patches created')\n",
    "print('Creating patches for green channel')\n",
    "greenpatchespath='R:/Patches/Training/13 by 13 skip 2/GreenPatches.npy'\n",
    "if not os.path.isfile(greenpatchespath):\n",
    "    patch_green=create_patch(g,13,2)\n",
    "    np.save(greenpatchespath,patch_green)\n",
    "else:\n",
    "    patch_green=np.load(greenpatchespath)\n",
    "print('Green channel patches created')\n",
    "print('Creating patches for blue channel')\n",
    "bluepathcespath='R:/Patches/Training/13 by 13 skip 2/BluePatches.npy'\n",
    "if not os.path.isfile(bluepathcespath):\n",
    "    patch_blue=create_patch(b,13,2)\n",
    "    np.save(bluepathcespath,patch_blue)\n",
    "else:\n",
    "    patch_blue=np.load(bluepathcespath)\n",
    "print('Blue channel patches created')\n",
    "print('Combinig all channel patches in single array')\n",
    "combinedpatchespath='R:/Patches/Training/13 by 13 skip 2/CombinedPatches.npy'\n",
    "if not os.path.isfile(combinedpatchespath):\n",
    "    combinedpatches=getCombineChannels(patch_red,patch_green,patch_blue)\n",
    "    np.save(combinedpatchespath,combinedpatches)\n",
    "else:\n",
    "    combinedpatches=np.load(combinedpatchespath)\n",
    "print('All patches are combined and the shape is {}'.format(combinedpatches.shape))\n",
    "print('Reshaping to get required results')\n",
    "reshapedpatches=reshapePatches(combinedpatches,(13,13,3))\n",
    "print('All patches are reshaped and the shape is {}'.format(reshapedpatches.shape))\n",
    "print('Saving all patch data to file patchesknk.npy')\n",
    "np.save('R:/Patches/Training/13 by 13 skip 2/patches13n13nskip2.npy',reshapedpatches)\n",
    "print('All patch data saved and can be access by variable \\'reshapedpatches\\'')"
   ]
  },
  {
   "cell_type": "code",
   "execution_count": 5,
   "metadata": {},
   "outputs": [],
   "source": [
    "np.save('R:/Patches/Training/9 by 9 skip 2/RedPatches.npy',patch_red)"
   ]
  },
  {
   "cell_type": "code",
   "execution_count": null,
   "metadata": {},
   "outputs": [],
   "source": []
  }
 ],
 "metadata": {
  "accelerator": "TPU",
  "colab": {
   "name": "Patch Extraction.ipynb",
   "provenance": []
  },
  "kernelspec": {
   "display_name": "Python 3",
   "language": "python",
   "name": "python3"
  },
  "language_info": {
   "codemirror_mode": {
    "name": "ipython",
    "version": 3
   },
   "file_extension": ".py",
   "mimetype": "text/x-python",
   "name": "python",
   "nbconvert_exporter": "python",
   "pygments_lexer": "ipython3",
   "version": "3.7.5"
  }
 },
 "nbformat": 4,
 "nbformat_minor": 1
}
