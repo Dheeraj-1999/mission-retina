{
  "nbformat": 4,
  "nbformat_minor": 0,
  "metadata": {
    "colab": {
      "name": "Prediction model 1st 25 by 25.ipynb",
      "provenance": [],
      "collapsed_sections": []
    },
    "kernelspec": {
      "name": "python3",
      "display_name": "Python 3"
    }
  },
  "cells": [
    {
      "cell_type": "code",
      "metadata": {
        "id": "aRLG2R2Gvdqv",
        "colab_type": "code",
        "outputId": "b7ea5123-06e1-4c84-f879-0432973e835b",
        "colab": {
          "base_uri": "https://localhost:8080/",
          "height": 210
        }
      },
      "source": [
        "import zipfile\n",
        "!wget --no-check-certificate \\\n",
        "    \"https://storage.googleapis.com/datsets/model1/model1.zip\"\\\n",
        "    -O \"/tmp/model.zip\"\n",
        "\n",
        "zipFile = '/tmp/model.zip'\n",
        "zip_ref   = zipfile.ZipFile(zipFile, 'r')\n",
        "zip_ref.extractall('/tmp')\n",
        "zip_ref.close()\n"
      ],
      "execution_count": 0,
      "outputs": [
        {
          "output_type": "stream",
          "text": [
            "--2020-04-10 14:22:41--  https://storage.googleapis.com/datsets/model1/model1.zip\n",
            "Resolving storage.googleapis.com (storage.googleapis.com)... 173.194.218.128, 2607:f8b0:400c:c12::80\n",
            "Connecting to storage.googleapis.com (storage.googleapis.com)|173.194.218.128|:443... connected.\n",
            "HTTP request sent, awaiting response... 200 OK\n",
            "Length: 17395946 (17M) [application/x-zip-compressed]\n",
            "Saving to: ‘/tmp/model.zip’\n",
            "\n",
            "\r/tmp/model.zip        0%[                    ]       0  --.-KB/s               \r/tmp/model.zip       24%[===>                ]   4.01M  19.2MB/s               \r/tmp/model.zip      100%[===================>]  16.59M  65.7MB/s    in 0.3s    \n",
            "\n",
            "2020-04-10 14:22:41 (65.7 MB/s) - ‘/tmp/model.zip’ saved [17395946/17395946]\n",
            "\n"
          ],
          "name": "stdout"
        }
      ]
    },
    {
      "cell_type": "code",
      "metadata": {
        "id": "ZLbRVzH7d-Hs",
        "colab_type": "code",
        "outputId": "07f3a64f-dd54-4ac7-fd9f-374f76f0fdfc",
        "colab": {
          "base_uri": "https://localhost:8080/",
          "height": 210
        }
      },
      "source": [
        "!wget --no-check-certificate \\\n",
        "    \"https://storage.googleapis.com/datsets/DRIVE.zip\"\\\n",
        "    -O \"/tmp/DRIVE.zip\"\n",
        "\n",
        "local_zip = '/tmp/DRIVE.zip'\n",
        "zip_ref   = zipfile.ZipFile(local_zip, 'r')\n",
        "zip_ref.extractall('/tmp')\n",
        "zip_ref.close()\n"
      ],
      "execution_count": 0,
      "outputs": [
        {
          "output_type": "stream",
          "text": [
            "--2020-04-10 14:23:46--  https://storage.googleapis.com/datsets/DRIVE.zip\n",
            "Resolving storage.googleapis.com (storage.googleapis.com)... 172.217.203.128, 2607:f8b0:400c:c15::80\n",
            "Connecting to storage.googleapis.com (storage.googleapis.com)|172.217.203.128|:443... connected.\n",
            "HTTP request sent, awaiting response... 200 OK\n",
            "Length: 29756930 (28M) [application/x-zip-compressed]\n",
            "Saving to: ‘/tmp/DRIVE.zip’\n",
            "\n",
            "\r/tmp/DRIVE.zip        0%[                    ]       0  --.-KB/s               \r/tmp/DRIVE.zip       28%[====>               ]   8.01M  29.7MB/s               \r/tmp/DRIVE.zip      100%[===================>]  28.38M  83.3MB/s    in 0.3s    \n",
            "\n",
            "2020-04-10 14:23:47 (83.3 MB/s) - ‘/tmp/DRIVE.zip’ saved [29756930/29756930]\n",
            "\n"
          ],
          "name": "stdout"
        }
      ]
    },
    {
      "cell_type": "code",
      "metadata": {
        "id": "qD9WMTFMvtmh",
        "colab_type": "code",
        "colab": {}
      },
      "source": [
        "%tensorflow_version 2.x\n",
        "import tensorflow as tf"
      ],
      "execution_count": 0,
      "outputs": []
    },
    {
      "cell_type": "code",
      "metadata": {
        "id": "DT1NY90zwiIv",
        "colab_type": "code",
        "outputId": "7eca519d-a2d0-4c45-de43-6d59fa8a4ae2",
        "colab": {
          "base_uri": "https://localhost:8080/",
          "height": 34
        }
      },
      "source": [
        "model=tf.keras.models.load_model('/tmp/model1.hdf5')"
      ],
      "execution_count": 0,
      "outputs": [
        {
          "output_type": "stream",
          "text": [
            "WARNING:tensorflow:Error in loading the saved optimizer state. As a result, your model is starting with a freshly initialized optimizer.\n"
          ],
          "name": "stdout"
        }
      ]
    },
    {
      "cell_type": "code",
      "metadata": {
        "id": "y1E7sFRYwo4E",
        "colab_type": "code",
        "outputId": "2063f0ca-5c9d-49d9-f415-f018bc0861e5",
        "colab": {
          "base_uri": "https://localhost:8080/",
          "height": 369
        }
      },
      "source": [
        "model.summary()"
      ],
      "execution_count": 0,
      "outputs": [
        {
          "output_type": "stream",
          "text": [
            "Model: \"sequential_7\"\n",
            "_________________________________________________________________\n",
            "Layer (type)                 Output Shape              Param #   \n",
            "=================================================================\n",
            "conv2d_8 (Conv2D)            (None, 23, 23, 32)        896       \n",
            "_________________________________________________________________\n",
            "max_pooling2d_8 (MaxPooling2 (None, 11, 11, 32)        0         \n",
            "_________________________________________________________________\n",
            "flatten_7 (Flatten)          (None, 3872)              0         \n",
            "_________________________________________________________________\n",
            "dense_21 (Dense)             (None, 1024)              3965952   \n",
            "_________________________________________________________________\n",
            "dense_22 (Dense)             (None, 512)               524800    \n",
            "_________________________________________________________________\n",
            "dense_23 (Dense)             (None, 1)                 513       \n",
            "=================================================================\n",
            "Total params: 4,492,161\n",
            "Trainable params: 4,492,161\n",
            "Non-trainable params: 0\n",
            "_________________________________________________________________\n"
          ],
          "name": "stdout"
        }
      ]
    },
    {
      "cell_type": "code",
      "metadata": {
        "id": "zaVDvKhvxBqY",
        "colab_type": "code",
        "outputId": "77b0e692-434f-437b-d908-136d85b3d4a5",
        "colab": {
          "base_uri": "https://localhost:8080/",
          "height": 228
        }
      },
      "source": [
        "import subprocess,sys\n",
        "!wget --no-check-certificate \\\n",
        "    \"https://storage.googleapis.com/datsets/model1/patches25n25test.zip\"\\\n",
        "    -O \"/tmp/patchestest.zip\"\n",
        "\n",
        "zipFile = '/tmp/patchestest.zip'\n",
        "destinationDirectory='/tmp'\n",
        "subprocess.Popen([\"7z\", \"e\", f\"{zipFile}\", f\"-o{destinationDirectory}\", \"-y\"])\n"
      ],
      "execution_count": 0,
      "outputs": [
        {
          "output_type": "stream",
          "text": [
            "--2020-04-10 14:24:03--  https://storage.googleapis.com/datsets/model1/patches25n25test.zip\n",
            "Resolving storage.googleapis.com (storage.googleapis.com)... 172.217.203.128, 2607:f8b0:400c:c0f::80\n",
            "Connecting to storage.googleapis.com (storage.googleapis.com)|172.217.203.128|:443... connected.\n",
            "HTTP request sent, awaiting response... 200 OK\n",
            "Length: 69645300 (66M) [application/x-zip-compressed]\n",
            "Saving to: ‘/tmp/patchestest.zip’\n",
            "\n",
            "\r/tmp/patchestest.zi   0%[                    ]       0  --.-KB/s               \r/tmp/patchestest.zi  14%[=>                  ]   9.66M  48.3MB/s               \r/tmp/patchestest.zi  60%[===========>        ]  40.01M  98.6MB/s               \r/tmp/patchestest.zi 100%[===================>]  66.42M   135MB/s    in 0.5s    \n",
            "\n",
            "2020-04-10 14:24:04 (135 MB/s) - ‘/tmp/patchestest.zip’ saved [69645300/69645300]\n",
            "\n"
          ],
          "name": "stdout"
        },
        {
          "output_type": "execute_result",
          "data": {
            "text/plain": [
              "<subprocess.Popen at 0x7fbbc3dc4208>"
            ]
          },
          "metadata": {
            "tags": []
          },
          "execution_count": 7
        }
      ]
    },
    {
      "cell_type": "code",
      "metadata": {
        "id": "1hfsgw6fxETJ",
        "colab_type": "code",
        "outputId": "d16205df-db5d-4b18-f980-71a7a7275796",
        "colab": {
          "base_uri": "https://localhost:8080/",
          "height": 34
        }
      },
      "source": [
        "import numpy\n",
        "test= numpy.load('/tmp/patches25n25nskip2.npy')\n",
        "test.shape"
      ],
      "execution_count": 0,
      "outputs": [
        {
          "output_type": "execute_result",
          "data": {
            "text/plain": [
              "(659920, 25, 25, 3)"
            ]
          },
          "metadata": {
            "tags": []
          },
          "execution_count": 9
        }
      ]
    },
    {
      "cell_type": "code",
      "metadata": {
        "id": "zmJK83oQw_KX",
        "colab_type": "code",
        "outputId": "8d09c979-edb7-4c48-b909-721cbb0e89e0",
        "colab": {
          "base_uri": "https://localhost:8080/",
          "height": 90
        }
      },
      "source": [
        "predict=model.predict_classes(test)"
      ],
      "execution_count": 0,
      "outputs": [
        {
          "output_type": "stream",
          "text": [
            "WARNING:tensorflow:From <ipython-input-10-278af5f9950b>:1: Sequential.predict_classes (from tensorflow.python.keras.engine.sequential) is deprecated and will be removed after 2021-01-01.\n",
            "Instructions for updating:\n",
            "Please use instead:* `np.argmax(model.predict(x), axis=-1)`,   if your model does multi-class classification   (e.g. if it uses a `softmax` last-layer activation).* `(model.predict(x) > 0.5).astype(\"int32\")`,   if your model does binary classification   (e.g. if it uses a `sigmoid` last-layer activation).\n"
          ],
          "name": "stdout"
        }
      ]
    },
    {
      "cell_type": "code",
      "metadata": {
        "id": "kj68rFQOxk1e",
        "colab_type": "code",
        "outputId": "e2b4cbf6-be15-4a19-d31f-b2c9799cc4dc",
        "colab": {
          "base_uri": "https://localhost:8080/",
          "height": 34
        }
      },
      "source": [
        "predict.shape"
      ],
      "execution_count": 0,
      "outputs": [
        {
          "output_type": "execute_result",
          "data": {
            "text/plain": [
              "(659920, 1)"
            ]
          },
          "metadata": {
            "tags": []
          },
          "execution_count": 11
        }
      ]
    },
    {
      "cell_type": "code",
      "metadata": {
        "id": "KpKA03OTxr4-",
        "colab_type": "code",
        "outputId": "e08c8a5c-e1a3-4987-ba27-cc6ecc4e92cc",
        "colab": {
          "base_uri": "https://localhost:8080/",
          "height": 34
        }
      },
      "source": [
        "img1=predict[:329960]*255\n",
        "img_plot=numpy.reshape(img1,(584,565)).astype('uint8')\n",
        "img_plot.shape"
      ],
      "execution_count": 0,
      "outputs": [
        {
          "output_type": "execute_result",
          "data": {
            "text/plain": [
              "(584, 565)"
            ]
          },
          "metadata": {
            "tags": []
          },
          "execution_count": 12
        }
      ]
    },
    {
      "cell_type": "code",
      "metadata": {
        "id": "B3b5UTxI1f_-",
        "colab_type": "code",
        "colab": {}
      },
      "source": [
        "from PIL import Image\n",
        "img = Image.fromarray(img_plot)\n",
        "man1=Image.open('/tmp/DRIVE/test/1st_manual/01_manual1.gif')\n",
        "man2=Image.open('/tmp/DRIVE/test/2nd_manual/01_manual2.gif')\n",
        "img.save('/content/prediction1.jpg')\n",
        "# man1\n",
        "# man2\n",
        "# img.save('1.jpg')"
      ],
      "execution_count": 0,
      "outputs": []
    },
    {
      "cell_type": "code",
      "metadata": {
        "id": "uWdQo1Ob4sB8",
        "colab_type": "code",
        "colab": {}
      },
      "source": [
        "img2=predict[329960:]*255"
      ],
      "execution_count": 0,
      "outputs": []
    },
    {
      "cell_type": "code",
      "metadata": {
        "id": "FDHhugwHEvZP",
        "colab_type": "code",
        "outputId": "921f8870-0853-4a76-f690-ea2c8c381441",
        "colab": {
          "base_uri": "https://localhost:8080/",
          "height": 34
        }
      },
      "source": [
        "img2.shape"
      ],
      "execution_count": 0,
      "outputs": [
        {
          "output_type": "execute_result",
          "data": {
            "text/plain": [
              "(329960, 1)"
            ]
          },
          "metadata": {
            "tags": []
          },
          "execution_count": 69
        }
      ]
    },
    {
      "cell_type": "code",
      "metadata": {
        "id": "ijy0XbYuEzzz",
        "colab_type": "code",
        "colab": {}
      },
      "source": [
        "img1_plot=numpy.reshape(img2,(584,565)).astype('uint8')"
      ],
      "execution_count": 0,
      "outputs": []
    },
    {
      "cell_type": "code",
      "metadata": {
        "id": "mu9P7GMNE7bX",
        "colab_type": "code",
        "outputId": "e670640e-9443-4511-e3b3-f112ba347581",
        "colab": {
          "base_uri": "https://localhost:8080/",
          "height": 601
        }
      },
      "source": [
        "from PIL import Image\n",
        "img = Image.fromarray(img1_plot)\n",
        "img"
      ],
      "execution_count": 0,
      "outputs": [
        {
          "output_type": "execute_result",
          "data": {
            "image/png": "[encoded data removed]",
            "text/plain": [
              "<PIL.Image.Image image mode=L size=565x584 at 0x7FC66A643550>"
            ]
          },
          "metadata": {
            "tags": []
          },
          "execution_count": 71
        }
      ]
    },
    {
      "cell_type": "code",
      "metadata": {
        "id": "vc2CZ5pnE-Ep",
        "colab_type": "code",
        "colab": {}
      },
      "source": [
        ""
      ],
      "execution_count": 0,
      "outputs": []
    },
    {
      "cell_type": "code",
      "metadata": {
        "colab_type": "code",
        "outputId": "63ba2613-3725-4cc8-dbde-0cc093d182f8",
        "id": "Pbe3WQ0ngI_c",
        "colab": {
          "base_uri": "https://localhost:8080/",
          "height": 238
        }
      },
      "source": [
        "%matplotlib inline\n",
        "from matplotlib import pyplot as plt\n",
        "import matplotlib.image as mpimg\n",
        "img1=mpimg.imread('/content/prediction1.jpg')\n",
        "img2=mpimg.imread('/tmp/DRIVE/test/1st_manual/01_manual1.gif')\n",
        "img3=mpimg.imread('/tmp/DRIVE/test/2nd_manual/01_manual2.gif')\n",
        "fig, ax = plt.subplots(2,2)\n",
        "ax[0][0].imshow(img1);\n",
        "ax[0][1].imshow(img2);\n",
        "ax[1][0].imshow(img3)"
      ],
      "execution_count": 0,
      "outputs": [
        {
          "output_type": "error",
          "ename": "NameError",
          "evalue": "ignored",
          "traceback": [
            "\u001b[0;31m---------------------------------------------------------------------------\u001b[0m",
            "\u001b[0;31mNameError\u001b[0m                                 Traceback (most recent call last)",
            "\u001b[0;32m<ipython-input-16-89ee4b9c1e23>\u001b[0m in \u001b[0;36m<module>\u001b[0;34m()\u001b[0m\n\u001b[1;32m      2\u001b[0m \u001b[0;32mfrom\u001b[0m \u001b[0mmatplotlib\u001b[0m \u001b[0;32mimport\u001b[0m \u001b[0mpyplot\u001b[0m \u001b[0;32mas\u001b[0m \u001b[0mplt\u001b[0m\u001b[0;34m\u001b[0m\u001b[0;34m\u001b[0m\u001b[0m\n\u001b[1;32m      3\u001b[0m \u001b[0;32mimport\u001b[0m \u001b[0mmatplotlib\u001b[0m\u001b[0;34m.\u001b[0m\u001b[0mimage\u001b[0m \u001b[0;32mas\u001b[0m \u001b[0mmpimg\u001b[0m\u001b[0;34m\u001b[0m\u001b[0;34m\u001b[0m\u001b[0m\n\u001b[0;32m----> 4\u001b[0;31m \u001b[0mimg1\u001b[0m\u001b[0;34m=\u001b[0m\u001b[0mnpimg\u001b[0m\u001b[0;34m.\u001b[0m\u001b[0mimread\u001b[0m\u001b[0;34m(\u001b[0m\u001b[0;34m'/content/prediction1.jpg'\u001b[0m\u001b[0;34m)\u001b[0m\u001b[0;34m\u001b[0m\u001b[0;34m\u001b[0m\u001b[0m\n\u001b[0m\u001b[1;32m      5\u001b[0m \u001b[0mimg2\u001b[0m\u001b[0;34m=\u001b[0m\u001b[0mnpimg\u001b[0m\u001b[0;34m.\u001b[0m\u001b[0mimread\u001b[0m\u001b[0;34m(\u001b[0m\u001b[0;34m'/tmp/DRIVE/test/1st_manual/01_manual1.gif'\u001b[0m\u001b[0;34m)\u001b[0m\u001b[0;34m\u001b[0m\u001b[0;34m\u001b[0m\u001b[0m\n\u001b[1;32m      6\u001b[0m \u001b[0mimg3\u001b[0m\u001b[0;34m=\u001b[0m\u001b[0mnpimg\u001b[0m\u001b[0;34m.\u001b[0m\u001b[0mimread\u001b[0m\u001b[0;34m(\u001b[0m\u001b[0;34m'/tmp/DRIVE/test/2nd_manual/01_manual2.gif'\u001b[0m\u001b[0;34m)\u001b[0m\u001b[0;34m\u001b[0m\u001b[0;34m\u001b[0m\u001b[0m\n",
            "\u001b[0;31mNameError\u001b[0m: name 'npimg' is not defined"
          ]
        }
      ]
    },
    {
      "cell_type": "code",
      "metadata": {
        "id": "6KIrGGPQhEZW",
        "colab_type": "code",
        "colab": {}
      },
      "source": [
        ""
      ],
      "execution_count": 0,
      "outputs": []
    }
  ]
}