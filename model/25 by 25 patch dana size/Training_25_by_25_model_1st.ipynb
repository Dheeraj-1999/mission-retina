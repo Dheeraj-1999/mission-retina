{
  "nbformat": 4,
  "nbformat_minor": 0,
  "metadata": {
    "colab": {
      "name": "Training 25 by 25 model 1st.ipynb",
      "provenance": [],
      "collapsed_sections": [],
      "toc_visible": true
    },
    "kernelspec": {
      "name": "python3",
      "display_name": "Python 3"
    },
    "accelerator": "GPU"
  },
  "cells": [
    {
      "cell_type": "code",
      "metadata": {
        "id": "-FJlZog-uOIF",
        "colab_type": "code",
        "colab": {}
      },
      "source": [
        "import os\n",
        "import zipfile\n",
        "import random\n",
        "import numpy as np"
      ],
      "execution_count": 0,
      "outputs": []
    },
    {
      "cell_type": "code",
      "metadata": {
        "id": "8ieak9xlt9N3",
        "colab_type": "code",
        "outputId": "1ff6e9ca-c5ec-48bd-fae6-fe0361b787dd",
        "colab": {
          "base_uri": "https://localhost:8080/",
          "height": 202
        }
      },
      "source": [
        "!wget --no-check-certificate \\\n",
        "    \"https://storage.googleapis.com/datsets/DRIVE.zip\"\\\n",
        "    -O \"/tmp/DRIVE.zip\"\n",
        "\n",
        "local_zip = '/tmp/DRIVE.zip'\n",
        "zip_ref   = zipfile.ZipFile(local_zip, 'r')\n",
        "zip_ref.extractall('/tmp')\n",
        "zip_ref.close()\n"
      ],
      "execution_count": 2,
      "outputs": [
        {
          "output_type": "stream",
          "text": [
            "--2020-04-10 16:07:43--  https://storage.googleapis.com/datsets/DRIVE.zip\n",
            "Resolving storage.googleapis.com (storage.googleapis.com)... 172.217.11.80, 2607:f8b0:4007:804::2010\n",
            "Connecting to storage.googleapis.com (storage.googleapis.com)|172.217.11.80|:443... connected.\n",
            "HTTP request sent, awaiting response... 200 OK\n",
            "Length: 29756930 (28M) [application/x-zip-compressed]\n",
            "Saving to: ‘/tmp/DRIVE.zip’\n",
            "\n",
            "\r/tmp/DRIVE.zip        0%[                    ]       0  --.-KB/s               \r/tmp/DRIVE.zip       28%[====>               ]   8.01M  39.7MB/s               \r/tmp/DRIVE.zip      100%[===================>]  28.38M   108MB/s    in 0.3s    \n",
            "\n",
            "2020-04-10 16:07:44 (108 MB/s) - ‘/tmp/DRIVE.zip’ saved [29756930/29756930]\n",
            "\n"
          ],
          "name": "stdout"
        }
      ]
    },
    {
      "cell_type": "code",
      "metadata": {
        "id": "Nl0d5TN2eyDY",
        "colab_type": "code",
        "outputId": "5d7024b5-d9a5-468f-dbf0-9b175bd10843",
        "colab": {
          "base_uri": "https://localhost:8080/",
          "height": 218
        }
      },
      "source": [
        "import subprocess,sys\n",
        "!wget --no-check-certificate \\\n",
        "    \"https://storage.googleapis.com/datsets/model1/25%20by%2025/patches25n25nskip2.zip\"\\\n",
        "    -O \"/tmp/patches.zip\"\n",
        "\n",
        "zipFile = '/tmp/patches.zip'\n",
        "destinationDirectory='/tmp'\n",
        "subprocess.Popen([\"7z\", \"e\", f\"{zipFile}\", f\"-o{destinationDirectory}\", \"-y\"])\n",
        "# zip_ref   = zipfile.ZipFile(local_zip, 'r')\n",
        "# zip_ref.extractall('/tmp')\n",
        "# zip_ref.close()\n"
      ],
      "execution_count": 3,
      "outputs": [
        {
          "output_type": "stream",
          "text": [
            "--2020-04-10 16:07:47--  https://storage.googleapis.com/datsets/model1/25%20by%2025/patches25n25nskip2.zip\n",
            "Resolving storage.googleapis.com (storage.googleapis.com)... 172.217.11.176, 2607:f8b0:4007:800::2010\n",
            "Connecting to storage.googleapis.com (storage.googleapis.com)|172.217.11.176|:443... connected.\n",
            "HTTP request sent, awaiting response... 200 OK\n",
            "Length: 219349517 (209M) [application/x-zip-compressed]\n",
            "Saving to: ‘/tmp/patches.zip’\n",
            "\n",
            "/tmp/patches.zip    100%[===================>] 209.19M  71.2MB/s    in 2.9s    \n",
            "\n",
            "2020-04-10 16:07:50 (71.2 MB/s) - ‘/tmp/patches.zip’ saved [219349517/219349517]\n",
            "\n"
          ],
          "name": "stdout"
        },
        {
          "output_type": "execute_result",
          "data": {
            "text/plain": [
              "<subprocess.Popen at 0x7f82ea14fc18>"
            ]
          },
          "metadata": {
            "tags": []
          },
          "execution_count": 3
        }
      ]
    },
    {
      "cell_type": "code",
      "metadata": {
        "id": "KTN_EVtDq5nO",
        "colab_type": "code",
        "colab": {}
      },
      "source": [
        "X = np.load('/tmp/patches25n25nskip2.npy')"
      ],
      "execution_count": 0,
      "outputs": []
    },
    {
      "cell_type": "code",
      "metadata": {
        "id": "TQKg5c1QrOpN",
        "colab_type": "code",
        "outputId": "bc15b3a6-e8fc-40bf-8e98-7c294d667534",
        "colab": {
          "base_uri": "https://localhost:8080/",
          "height": 34
        }
      },
      "source": [
        "X.shape"
      ],
      "execution_count": 9,
      "outputs": [
        {
          "output_type": "execute_result",
          "data": {
            "text/plain": [
              "(1652720, 25, 25, 3)"
            ]
          },
          "metadata": {
            "tags": []
          },
          "execution_count": 9
        }
      ]
    },
    {
      "cell_type": "code",
      "metadata": {
        "id": "46cdT_fihZTV",
        "colab_type": "code",
        "outputId": "4928b0b4-d9d8-40eb-f41e-792af264101a",
        "colab": {
          "base_uri": "https://localhost:8080/",
          "height": 34
        }
      },
      "source": [
        "#Make sure to upload outputs.npy file before running the cell\n",
        "y=np.load('/content/outputs.npy')\n",
        "w=y//255\n",
        "z=set(w)\n",
        "y=w\n",
        "y.shape"
      ],
      "execution_count": 10,
      "outputs": [
        {
          "output_type": "execute_result",
          "data": {
            "text/plain": [
              "(1652720,)"
            ]
          },
          "metadata": {
            "tags": []
          },
          "execution_count": 10
        }
      ]
    },
    {
      "cell_type": "code",
      "metadata": {
        "id": "w6uuokLa7O9H",
        "colab_type": "code",
        "colab": {}
      },
      "source": [
        "X_train,X_val,y_train,y_val=X[0:1500000,:,:],X[1500000:1652720,:,:],y[0:1500000],y[1500000:1652720]"
      ],
      "execution_count": 0,
      "outputs": []
    },
    {
      "cell_type": "code",
      "metadata": {
        "id": "XvdRdZ14VFCj",
        "colab_type": "code",
        "colab": {}
      },
      "source": [
        "%tensorflow_version 2.x\n",
        "import tensorflow as tf\n",
        "model = tf.keras.models.Sequential([\n",
        "    tf.keras.layers.Conv2D(32,(3, 3), activation='relu', input_shape=(25,25,3)),\n",
        "    tf.keras.layers.MaxPooling2D((2, 2)),\n",
        "    tf.keras.layers.Flatten(),\n",
        "    tf.keras.layers.Dense(1024, activation='relu'),\n",
        "    tf.keras.layers.Dense(512, activation='relu'),\n",
        "    tf.keras.layers.Dense(1, activation='sigmoid')\n",
        "])\n",
        "\n",
        "model.compile(optimizer=tf.keras.optimizers.Adam(), loss='binary_crossentropy', metrics=['accuracy'])"
      ],
      "execution_count": 0,
      "outputs": []
    },
    {
      "cell_type": "code",
      "metadata": {
        "id": "xf5tl6P7XC40",
        "colab_type": "code",
        "outputId": "bbdbce23-1eeb-4aaa-d33a-d5eb31702330",
        "colab": {
          "base_uri": "https://localhost:8080/",
          "height": 353
        }
      },
      "source": [
        "history = model.fit(X_train,y_train,batch_size=64,epochs=10,validation_data=(X_val,y_val))\n",
        "model.save('model1st25by25.hdf5')"
      ],
      "execution_count": 13,
      "outputs": [
        {
          "output_type": "stream",
          "text": [
            "Epoch 1/10\n",
            "23438/23438 [==============================] - 120s 5ms/step - loss: 0.1959 - accuracy: 0.9476 - val_loss: 0.2607 - val_accuracy: 0.9153\n",
            "Epoch 2/10\n",
            "23438/23438 [==============================] - 119s 5ms/step - loss: 0.2862 - accuracy: 0.9135 - val_loss: 0.2902 - val_accuracy: 0.9153\n",
            "Epoch 3/10\n",
            "23438/23438 [==============================] - 119s 5ms/step - loss: 0.2943 - accuracy: 0.9135 - val_loss: 0.2901 - val_accuracy: 0.9153\n",
            "Epoch 4/10\n",
            "23438/23438 [==============================] - 119s 5ms/step - loss: 0.2943 - accuracy: 0.9135 - val_loss: 0.2901 - val_accuracy: 0.9153\n",
            "Epoch 5/10\n",
            "23438/23438 [==============================] - 119s 5ms/step - loss: 0.2943 - accuracy: 0.9135 - val_loss: 0.2902 - val_accuracy: 0.9153\n",
            "Epoch 6/10\n",
            "23438/23438 [==============================] - 119s 5ms/step - loss: 0.2943 - accuracy: 0.9135 - val_loss: 0.2902 - val_accuracy: 0.9153\n",
            "Epoch 7/10\n",
            "23438/23438 [==============================] - 118s 5ms/step - loss: 0.2943 - accuracy: 0.9135 - val_loss: 0.2901 - val_accuracy: 0.9153\n",
            "Epoch 8/10\n",
            "23438/23438 [==============================] - 118s 5ms/step - loss: 0.2943 - accuracy: 0.9135 - val_loss: 0.2901 - val_accuracy: 0.9153\n",
            "Epoch 9/10\n",
            "23438/23438 [==============================] - 119s 5ms/step - loss: 0.2943 - accuracy: 0.9135 - val_loss: 0.2902 - val_accuracy: 0.9153\n",
            "Epoch 10/10\n",
            "23438/23438 [==============================] - 118s 5ms/step - loss: 0.2943 - accuracy: 0.9135 - val_loss: 0.2902 - val_accuracy: 0.9153\n"
          ],
          "name": "stdout"
        }
      ]
    },
    {
      "cell_type": "code",
      "metadata": {
        "id": "lC63Y2OMrR8y",
        "colab_type": "code",
        "outputId": "ebb5e266-9a6d-489c-9896-f93e01daf2ef",
        "colab": {
          "base_uri": "https://localhost:8080/",
          "height": 353
        }
      },
      "source": [
        "model.summary()"
      ],
      "execution_count": 14,
      "outputs": [
        {
          "output_type": "stream",
          "text": [
            "Model: \"sequential\"\n",
            "_________________________________________________________________\n",
            "Layer (type)                 Output Shape              Param #   \n",
            "=================================================================\n",
            "conv2d (Conv2D)              (None, 23, 23, 32)        896       \n",
            "_________________________________________________________________\n",
            "max_pooling2d (MaxPooling2D) (None, 11, 11, 32)        0         \n",
            "_________________________________________________________________\n",
            "flatten (Flatten)            (None, 3872)              0         \n",
            "_________________________________________________________________\n",
            "dense (Dense)                (None, 1024)              3965952   \n",
            "_________________________________________________________________\n",
            "dense_1 (Dense)              (None, 512)               524800    \n",
            "_________________________________________________________________\n",
            "dense_2 (Dense)              (None, 1)                 513       \n",
            "=================================================================\n",
            "Total params: 4,492,161\n",
            "Trainable params: 4,492,161\n",
            "Non-trainable params: 0\n",
            "_________________________________________________________________\n"
          ],
          "name": "stdout"
        }
      ]
    },
    {
      "cell_type": "code",
      "metadata": {
        "id": "yMHvM8JHk8UJ",
        "colab_type": "code",
        "outputId": "3fdd2e22-6931-4f5f-fde8-9d2f911ce201",
        "colab": {
          "base_uri": "https://localhost:8080/",
          "height": 754
        }
      },
      "source": [
        "tf.keras.utils.plot_model(model, 'multi_input_and_output_model.png', show_shapes=True)"
      ],
      "execution_count": 15,
      "outputs": [
        {
          "output_type": "execute_result",
          "data": {
            "image/png": "[encoded data removed]",
            "text/plain": [
              "<IPython.core.display.Image object>"
            ]
          },
          "metadata": {
            "tags": []
          },
          "execution_count": 15
        }
      ]
    },
    {
      "cell_type": "code",
      "metadata": {
        "id": "pKwme0Oik8sb",
        "colab_type": "code",
        "outputId": "f78b16f0-61d0-447a-a0a6-f9f1665d7ded",
        "colab": {
          "base_uri": "https://localhost:8080/",
          "height": 545
        }
      },
      "source": [
        "import matplotlib.pyplot as plt\n",
        "acc = history.history['accuracy']\n",
        "val_acc = history.history['val_accuracy']\n",
        "loss = history.history['loss']\n",
        "val_loss = history.history['val_loss']\n",
        "\n",
        "epochs = range(len(acc))\n",
        "\n",
        "plt.plot(epochs, acc, 'bo', label='Training accuracy',linestyle='dashed')\n",
        "plt.plot(epochs, val_acc, 'b', label='Validation accuracy',linestyle='dashed')\n",
        "plt.title('Training and validation accuracy')\n",
        "plt.legend()\n",
        "plt.figure()\n",
        "\n",
        "plt.plot(epochs, loss, 'bo', label='Training Loss',linestyle='dashed')\n",
        "plt.plot(epochs, val_loss, 'b', label='Validation Loss',linestyle='dashed')\n",
        "plt.title('Training and validation loss')\n",
        "plt.legend()\n",
        "\n",
        "plt.show()"
      ],
      "execution_count": 16,
      "outputs": [
        {
          "output_type": "display_data",
          "data": {
            "image/png": "[encoded data removed]",
            "text/plain": [
              "<Figure size 432x288 with 1 Axes>"
            ]
          },
          "metadata": {
            "tags": []
          }
        },
        {
          "output_type": "display_data",
          "data": {
            "image/png": "[encoded data removed]",
            "text/plain": [
              "<Figure size 432x288 with 1 Axes>"
            ]
          },
          "metadata": {
            "tags": []
          }
        }
      ]
    },
    {
      "cell_type": "code",
      "metadata": {
        "id": "RWnkpG1RGYfy",
        "colab_type": "code",
        "outputId": "da7d9808-d119-4414-b616-0faae1aeef4b",
        "colab": {
          "base_uri": "https://localhost:8080/",
          "height": 167
        }
      },
      "source": [
        "model.summary()"
      ],
      "execution_count": 0,
      "outputs": [
        {
          "output_type": "error",
          "ename": "NameError",
          "evalue": "ignored",
          "traceback": [
            "\u001b[0;31m---------------------------------------------------------------------------\u001b[0m",
            "\u001b[0;31mNameError\u001b[0m                                 Traceback (most recent call last)",
            "\u001b[0;32m<ipython-input-1-5f15418b3570>\u001b[0m in \u001b[0;36m<module>\u001b[0;34m()\u001b[0m\n\u001b[0;32m----> 1\u001b[0;31m \u001b[0mmodel\u001b[0m\u001b[0;34m.\u001b[0m\u001b[0msummary\u001b[0m\u001b[0;34m(\u001b[0m\u001b[0;34m)\u001b[0m\u001b[0;34m\u001b[0m\u001b[0;34m\u001b[0m\u001b[0m\n\u001b[0m",
            "\u001b[0;31mNameError\u001b[0m: name 'model' is not defined"
          ]
        }
      ]
    },
    {
      "cell_type": "code",
      "metadata": {
        "id": "7bf_PN4CVYEq",
        "colab_type": "code",
        "outputId": "83a4c14a-f094-493d-8dd9-157d2c10dceb",
        "colab": {
          "base_uri": "https://localhost:8080/",
          "height": 167
        }
      },
      "source": [
        "history"
      ],
      "execution_count": 0,
      "outputs": [
        {
          "output_type": "error",
          "ename": "AttributeError",
          "evalue": "ignored",
          "traceback": [
            "\u001b[0;31m---------------------------------------------------------------------------\u001b[0m",
            "\u001b[0;31mAttributeError\u001b[0m                            Traceback (most recent call last)",
            "\u001b[0;32m<ipython-input-60-599bbe8eff21>\u001b[0m in \u001b[0;36m<module>\u001b[0;34m()\u001b[0m\n\u001b[0;32m----> 1\u001b[0;31m \u001b[0mhistory\u001b[0m\u001b[0;34m.\u001b[0m\u001b[0maccuracy\u001b[0m\u001b[0;34m\u001b[0m\u001b[0;34m\u001b[0m\u001b[0m\n\u001b[0m",
            "\u001b[0;31mAttributeError\u001b[0m: 'History' object has no attribute 'accuracy'"
          ]
        }
      ]
    },
    {
      "cell_type": "code",
      "metadata": {
        "id": "3W7Li2xqnqD5",
        "colab_type": "code",
        "colab": {}
      },
      "source": [
        "import pandas as pd\n",
        "df = pd.DataFrame(history.history)"
      ],
      "execution_count": 0,
      "outputs": []
    },
    {
      "cell_type": "code",
      "metadata": {
        "id": "strE9j9MoGWX",
        "colab_type": "code",
        "outputId": "b02bab1e-6edc-42ed-8b84-8779ac31c571",
        "colab": {
          "base_uri": "https://localhost:8080/",
          "height": 343
        }
      },
      "source": [
        "df"
      ],
      "execution_count": 0,
      "outputs": [
        {
          "output_type": "execute_result",
          "data": {
            "text/html": [
              "<div>\n",
              "<style scoped>\n",
              "    .dataframe tbody tr th:only-of-type {\n",
              "        vertical-align: middle;\n",
              "    }\n",
              "\n",
              "    .dataframe tbody tr th {\n",
              "        vertical-align: top;\n",
              "    }\n",
              "\n",
              "    .dataframe thead th {\n",
              "        text-align: right;\n",
              "    }\n",
              "</style>\n",
              "<table border=\"1\" class=\"dataframe\">\n",
              "  <thead>\n",
              "    <tr style=\"text-align: right;\">\n",
              "      <th></th>\n",
              "      <th>loss</th>\n",
              "      <th>accuracy</th>\n",
              "      <th>val_loss</th>\n",
              "      <th>val_accuracy</th>\n",
              "    </tr>\n",
              "  </thead>\n",
              "  <tbody>\n",
              "    <tr>\n",
              "      <th>0</th>\n",
              "      <td>0.162643</td>\n",
              "      <td>0.953616</td>\n",
              "      <td>0.105154</td>\n",
              "      <td>0.960955</td>\n",
              "    </tr>\n",
              "    <tr>\n",
              "      <th>1</th>\n",
              "      <td>0.121766</td>\n",
              "      <td>0.957059</td>\n",
              "      <td>0.211800</td>\n",
              "      <td>0.938057</td>\n",
              "    </tr>\n",
              "    <tr>\n",
              "      <th>2</th>\n",
              "      <td>0.128735</td>\n",
              "      <td>0.955489</td>\n",
              "      <td>0.100644</td>\n",
              "      <td>0.962421</td>\n",
              "    </tr>\n",
              "    <tr>\n",
              "      <th>3</th>\n",
              "      <td>0.136507</td>\n",
              "      <td>0.953061</td>\n",
              "      <td>0.114870</td>\n",
              "      <td>0.959095</td>\n",
              "    </tr>\n",
              "    <tr>\n",
              "      <th>4</th>\n",
              "      <td>0.246553</td>\n",
              "      <td>0.953247</td>\n",
              "      <td>0.127681</td>\n",
              "      <td>0.956974</td>\n",
              "    </tr>\n",
              "    <tr>\n",
              "      <th>5</th>\n",
              "      <td>0.134503</td>\n",
              "      <td>0.953613</td>\n",
              "      <td>0.116776</td>\n",
              "      <td>0.958322</td>\n",
              "    </tr>\n",
              "    <tr>\n",
              "      <th>6</th>\n",
              "      <td>0.128272</td>\n",
              "      <td>0.955395</td>\n",
              "      <td>0.116618</td>\n",
              "      <td>0.958211</td>\n",
              "    </tr>\n",
              "    <tr>\n",
              "      <th>7</th>\n",
              "      <td>0.132328</td>\n",
              "      <td>0.955158</td>\n",
              "      <td>0.111160</td>\n",
              "      <td>0.960012</td>\n",
              "    </tr>\n",
              "    <tr>\n",
              "      <th>8</th>\n",
              "      <td>0.128814</td>\n",
              "      <td>0.955802</td>\n",
              "      <td>0.119501</td>\n",
              "      <td>0.956149</td>\n",
              "    </tr>\n",
              "    <tr>\n",
              "      <th>9</th>\n",
              "      <td>0.130246</td>\n",
              "      <td>0.955871</td>\n",
              "      <td>0.112923</td>\n",
              "      <td>0.960909</td>\n",
              "    </tr>\n",
              "  </tbody>\n",
              "</table>\n",
              "</div>"
            ],
            "text/plain": [
              "       loss  accuracy  val_loss  val_accuracy\n",
              "0  0.162643  0.953616  0.105154      0.960955\n",
              "1  0.121766  0.957059  0.211800      0.938057\n",
              "2  0.128735  0.955489  0.100644      0.962421\n",
              "3  0.136507  0.953061  0.114870      0.959095\n",
              "4  0.246553  0.953247  0.127681      0.956974\n",
              "5  0.134503  0.953613  0.116776      0.958322\n",
              "6  0.128272  0.955395  0.116618      0.958211\n",
              "7  0.132328  0.955158  0.111160      0.960012\n",
              "8  0.128814  0.955802  0.119501      0.956149\n",
              "9  0.130246  0.955871  0.112923      0.960909"
            ]
          },
          "metadata": {
            "tags": []
          },
          "execution_count": 20
        }
      ]
    },
    {
      "cell_type": "code",
      "metadata": {
        "id": "A6xqaJE9oHJ1",
        "colab_type": "code",
        "colab": {}
      },
      "source": [
        "df.to_excel('model1st25by25_history.xlsx')"
      ],
      "execution_count": 0,
      "outputs": []
    }
  ]
}