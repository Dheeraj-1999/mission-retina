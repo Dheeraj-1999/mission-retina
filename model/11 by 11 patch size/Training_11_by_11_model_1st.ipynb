{
  "nbformat": 4,
  "nbformat_minor": 0,
  "metadata": {
    "colab": {
      "name": "Training 11 by 11 model 1st.ipynb",
      "provenance": [],
      "toc_visible": true
    },
    "kernelspec": {
      "name": "python3",
      "display_name": "Python 3"
    },
    "accelerator": "GPU"
  },
  "cells": [
    {
      "cell_type": "code",
      "metadata": {
        "id": "-FJlZog-uOIF",
        "colab_type": "code",
        "colab": {}
      },
      "source": [
        "import os\n",
        "import zipfile\n",
        "import random\n",
        "import numpy as np"
      ],
      "execution_count": 0,
      "outputs": []
    },
    {
      "cell_type": "code",
      "metadata": {
        "id": "8ieak9xlt9N3",
        "colab_type": "code",
        "outputId": "bf947899-e3a4-443f-f7e5-02280f8f8916",
        "colab": {
          "base_uri": "https://localhost:8080/",
          "height": 202
        }
      },
      "source": [
        "!wget --no-check-certificate \\\n",
        "    \"https://storage.googleapis.com/datsets/DRIVE.zip\"\\\n",
        "    -O \"/tmp/DRIVE.zip\"\n",
        "\n",
        "local_zip = '/tmp/DRIVE.zip'\n",
        "zip_ref   = zipfile.ZipFile(local_zip, 'r')\n",
        "zip_ref.extractall('/tmp')\n",
        "zip_ref.close()\n"
      ],
      "execution_count": 0,
      "outputs": [
        {
          "output_type": "stream",
          "text": [
            "--2020-04-11 09:58:55--  https://storage.googleapis.com/datsets/DRIVE.zip\n",
            "Resolving storage.googleapis.com (storage.googleapis.com)... 74.125.204.128, 2404:6800:4008:c00::80\n",
            "Connecting to storage.googleapis.com (storage.googleapis.com)|74.125.204.128|:443... connected.\n",
            "HTTP request sent, awaiting response... 200 OK\n",
            "Length: 29756930 (28M) [application/x-zip-compressed]\n",
            "Saving to: ‘/tmp/DRIVE.zip’\n",
            "\n",
            "/tmp/DRIVE.zip      100%[===================>]  28.38M  44.6MB/s    in 0.6s    \n",
            "\n",
            "2020-04-11 09:58:56 (44.6 MB/s) - ‘/tmp/DRIVE.zip’ saved [29756930/29756930]\n",
            "\n"
          ],
          "name": "stdout"
        }
      ]
    },
    {
      "cell_type": "code",
      "metadata": {
        "id": "Nl0d5TN2eyDY",
        "colab_type": "code",
        "outputId": "dccf37dc-0bb1-4a2e-a395-c9ab319197c3",
        "colab": {
          "base_uri": "https://localhost:8080/",
          "height": 218
        }
      },
      "source": [
        "import subprocess,sys\n",
        "!wget --no-check-certificate \\\n",
        "    \"https://storage.googleapis.com/datsets/model1/11%20by%2011/patches11n11nskip2.zip\"\\\n",
        "    -O \"/tmp/patches.zip\"\n",
        "\n",
        "zipFile = '/tmp/patches.zip'\n",
        "destinationDirectory='/tmp'\n",
        "subprocess.Popen([\"7z\", \"e\", f\"{zipFile}\", f\"-o{destinationDirectory}\", \"-y\"])\n",
        "# zip_ref   = zipfile.ZipFile(local_zip, 'r')\n",
        "# zip_ref.extractall('/tmp')\n",
        "# zip_ref.close()\n"
      ],
      "execution_count": 0,
      "outputs": [
        {
          "output_type": "stream",
          "text": [
            "--2020-04-11 09:59:04--  https://storage.googleapis.com/datsets/model1/11%20by%2011/patches11n11nskip2.zip\n",
            "Resolving storage.googleapis.com (storage.googleapis.com)... 74.125.204.128, 2404:6800:4008:c04::80\n",
            "Connecting to storage.googleapis.com (storage.googleapis.com)|74.125.204.128|:443... connected.\n",
            "HTTP request sent, awaiting response... 200 OK\n",
            "Length: 90376348 (86M) [application/x-zip-compressed]\n",
            "Saving to: ‘/tmp/patches.zip’\n",
            "\n",
            "/tmp/patches.zip    100%[===================>]  86.19M  62.1MB/s    in 1.4s    \n",
            "\n",
            "2020-04-11 09:59:06 (62.1 MB/s) - ‘/tmp/patches.zip’ saved [90376348/90376348]\n",
            "\n"
          ],
          "name": "stdout"
        },
        {
          "output_type": "execute_result",
          "data": {
            "text/plain": [
              "<subprocess.Popen at 0x7fc03cd47da0>"
            ]
          },
          "metadata": {
            "tags": []
          },
          "execution_count": 3
        }
      ]
    },
    {
      "cell_type": "code",
      "metadata": {
        "id": "KTN_EVtDq5nO",
        "colab_type": "code",
        "colab": {}
      },
      "source": [
        "X = np.load('/tmp/patches11n11nskip2.npy')"
      ],
      "execution_count": 0,
      "outputs": []
    },
    {
      "cell_type": "code",
      "metadata": {
        "id": "TQKg5c1QrOpN",
        "colab_type": "code",
        "outputId": "e3177582-62cc-4a83-f73c-9a5786d5905d",
        "colab": {
          "base_uri": "https://localhost:8080/",
          "height": 34
        }
      },
      "source": [
        "X.shape"
      ],
      "execution_count": 0,
      "outputs": [
        {
          "output_type": "execute_result",
          "data": {
            "text/plain": [
              "(1652720, 11, 11, 3)"
            ]
          },
          "metadata": {
            "tags": []
          },
          "execution_count": 5
        }
      ]
    },
    {
      "cell_type": "code",
      "metadata": {
        "id": "46cdT_fihZTV",
        "colab_type": "code",
        "outputId": "cd5f2884-ff99-4a4c-96bf-b5dc957b6c61",
        "colab": {
          "base_uri": "https://localhost:8080/",
          "height": 34
        }
      },
      "source": [
        "y=np.load('/content/outputs.npy')\n",
        "w=y//255\n",
        "z=set(w)\n",
        "y=w\n",
        "y.shape"
      ],
      "execution_count": 0,
      "outputs": [
        {
          "output_type": "execute_result",
          "data": {
            "text/plain": [
              "(1652720,)"
            ]
          },
          "metadata": {
            "tags": []
          },
          "execution_count": 7
        }
      ]
    },
    {
      "cell_type": "code",
      "metadata": {
        "id": "w6uuokLa7O9H",
        "colab_type": "code",
        "colab": {}
      },
      "source": [
        "X_train,X_val,y_train,y_val=X[0:1500000,:,:],X[1500000:1652720,:,:],y[0:1500000],y[1500000:1652720]"
      ],
      "execution_count": 0,
      "outputs": []
    },
    {
      "cell_type": "code",
      "metadata": {
        "id": "XvdRdZ14VFCj",
        "colab_type": "code",
        "colab": {}
      },
      "source": [
        "%tensorflow_version 2.x\n",
        "import tensorflow as tf\n",
        "model = tf.keras.models.Sequential([\n",
        "    tf.keras.layers.Conv2D(32,(3, 3), activation='relu', input_shape=(11,11,3)),\n",
        "    tf.keras.layers.MaxPooling2D((2, 2)),\n",
        "    tf.keras.layers.Flatten(),\n",
        "    tf.keras.layers.Dense(1024, activation='relu'),\n",
        "    tf.keras.layers.Dense(512, activation='relu'),\n",
        "    tf.keras.layers.Dense(1, activation='sigmoid')\n",
        "])\n",
        "\n",
        "model.compile(optimizer=tf.keras.optimizers.Adam(), loss='binary_crossentropy', metrics=['accuracy'])"
      ],
      "execution_count": 0,
      "outputs": []
    },
    {
      "cell_type": "code",
      "metadata": {
        "id": "xf5tl6P7XC40",
        "colab_type": "code",
        "outputId": "96f79b40-338b-45de-d85c-4816a085133b",
        "colab": {
          "base_uri": "https://localhost:8080/",
          "height": 353
        }
      },
      "source": [
        "history = model.fit(X_train,y_train,batch_size=64,epochs=10,validation_data=(X_val,y_val))\n",
        "model.save('model1st11by11.hdf5')"
      ],
      "execution_count": 0,
      "outputs": [
        {
          "output_type": "stream",
          "text": [
            "Epoch 1/10\n",
            "23438/23438 [==============================] - 86s 4ms/step - loss: 0.1399 - accuracy: 0.9549 - val_loss: 0.1030 - val_accuracy: 0.9613\n",
            "Epoch 2/10\n",
            "23438/23438 [==============================] - 85s 4ms/step - loss: 0.1162 - accuracy: 0.9584 - val_loss: 0.1046 - val_accuracy: 0.9619\n",
            "Epoch 3/10\n",
            "23438/23438 [==============================] - 85s 4ms/step - loss: 0.1139 - accuracy: 0.9593 - val_loss: 0.0977 - val_accuracy: 0.9628\n",
            "Epoch 4/10\n",
            "23438/23438 [==============================] - 84s 4ms/step - loss: 0.1126 - accuracy: 0.9598 - val_loss: 0.0991 - val_accuracy: 0.9631\n",
            "Epoch 5/10\n",
            "23438/23438 [==============================] - 85s 4ms/step - loss: 0.1120 - accuracy: 0.9597 - val_loss: 0.1036 - val_accuracy: 0.9621\n",
            "Epoch 6/10\n",
            "23438/23438 [==============================] - 84s 4ms/step - loss: 0.1107 - accuracy: 0.9599 - val_loss: 0.1103 - val_accuracy: 0.9619\n",
            "Epoch 7/10\n",
            "23438/23438 [==============================] - 84s 4ms/step - loss: 0.1148 - accuracy: 0.9599 - val_loss: 0.1087 - val_accuracy: 0.9628\n",
            "Epoch 8/10\n",
            "23438/23438 [==============================] - 84s 4ms/step - loss: 0.1100 - accuracy: 0.9602 - val_loss: 0.0995 - val_accuracy: 0.9622\n",
            "Epoch 9/10\n",
            "23438/23438 [==============================] - 85s 4ms/step - loss: 0.1108 - accuracy: 0.9601 - val_loss: 0.1019 - val_accuracy: 0.9626\n",
            "Epoch 10/10\n",
            "23438/23438 [==============================] - 86s 4ms/step - loss: 0.1097 - accuracy: 0.9602 - val_loss: 0.1002 - val_accuracy: 0.9630\n"
          ],
          "name": "stdout"
        }
      ]
    },
    {
      "cell_type": "code",
      "metadata": {
        "id": "lC63Y2OMrR8y",
        "colab_type": "code",
        "outputId": "624ef57b-22e3-455c-f927-0720ff916f2a",
        "colab": {
          "base_uri": "https://localhost:8080/",
          "height": 353
        }
      },
      "source": [
        "model.summary()"
      ],
      "execution_count": 0,
      "outputs": [
        {
          "output_type": "stream",
          "text": [
            "Model: \"sequential_1\"\n",
            "_________________________________________________________________\n",
            "Layer (type)                 Output Shape              Param #   \n",
            "=================================================================\n",
            "conv2d_1 (Conv2D)            (None, 9, 9, 32)          896       \n",
            "_________________________________________________________________\n",
            "max_pooling2d_1 (MaxPooling2 (None, 4, 4, 32)          0         \n",
            "_________________________________________________________________\n",
            "flatten_1 (Flatten)          (None, 512)               0         \n",
            "_________________________________________________________________\n",
            "dense_3 (Dense)              (None, 1024)              525312    \n",
            "_________________________________________________________________\n",
            "dense_4 (Dense)              (None, 512)               524800    \n",
            "_________________________________________________________________\n",
            "dense_5 (Dense)              (None, 1)                 513       \n",
            "=================================================================\n",
            "Total params: 1,051,521\n",
            "Trainable params: 1,051,521\n",
            "Non-trainable params: 0\n",
            "_________________________________________________________________\n"
          ],
          "name": "stdout"
        }
      ]
    },
    {
      "cell_type": "code",
      "metadata": {
        "id": "yMHvM8JHk8UJ",
        "colab_type": "code",
        "outputId": "e88a72c5-e1d2-4622-d8fb-d748891147fb",
        "colab": {
          "base_uri": "https://localhost:8080/",
          "height": 754
        }
      },
      "source": [
        "tf.keras.utils.plot_model(model, 'multi_input_and_output_model.png', show_shapes=True)"
      ],
      "execution_count": 1,
      "outputs": [
        {
          "output_type": "error",
          "ename": "NameError",
          "evalue": "name 'tf' is not defined",
          "traceback": [
            "\u001b[1;31m---------------------------------------------------------------------------\u001b[0m",
            "\u001b[1;31mNameError\u001b[0m                                 Traceback (most recent call last)",
            "\u001b[1;32m<ipython-input-1-2a1283857860>\u001b[0m in \u001b[0;36m<module>\u001b[1;34m\u001b[0m\n\u001b[1;32m----> 1\u001b[1;33m \u001b[0mtf\u001b[0m\u001b[1;33m.\u001b[0m\u001b[0mkeras\u001b[0m\u001b[1;33m.\u001b[0m\u001b[0mutils\u001b[0m\u001b[1;33m.\u001b[0m\u001b[0mplot_model\u001b[0m\u001b[1;33m(\u001b[0m\u001b[0mmodel\u001b[0m\u001b[1;33m,\u001b[0m \u001b[1;34m'multi_input_and_output_model.png'\u001b[0m\u001b[1;33m,\u001b[0m \u001b[0mshow_shapes\u001b[0m\u001b[1;33m=\u001b[0m\u001b[1;32mTrue\u001b[0m\u001b[1;33m)\u001b[0m\u001b[1;33m\u001b[0m\u001b[0m\n\u001b[0m",
            "\u001b[1;31mNameError\u001b[0m: name 'tf' is not defined"
          ]
        }
      ]
    },
    {
      "cell_type": "code",
      "metadata": {
        "id": "pKwme0Oik8sb",
        "colab_type": "code",
        "outputId": "8def5b92-fd97-4b17-9773-3b6d6a1ab160",
        "colab": {
          "base_uri": "https://localhost:8080/",
          "height": 545
        }
      },
      "source": [
        "import matplotlib.pyplot as plt\n",
        "acc = history.history['accuracy']\n",
        "val_acc = history.history['val_accuracy']\n",
        "loss = history.history['loss']\n",
        "val_loss = history.history['val_loss']\n",
        "\n",
        "epochs = range(len(acc))\n",
        "\n",
        "plt.plot(epochs, acc, 'bo', label='Training accuracy',linestyle='dashed')\n",
        "plt.plot(epochs, val_acc, 'b', label='Validation accuracy',linestyle='dashed')\n",
        "plt.title('Training and validation accuracy')\n",
        "plt.legend()\n",
        "plt.figure()\n",
        "\n",
        "plt.plot(epochs, loss, 'bo', label='Training Loss',linestyle='dashed')\n",
        "plt.plot(epochs, val_loss, 'b', label='Validation Loss',linestyle='dashed')\n",
        "plt.title('Training and validation loss')\n",
        "plt.legend()\n",
        "\n",
        "plt.show()"
      ],
      "execution_count": 0,
      "outputs": [
        {
          "output_type": "display_data",
          "data": {
            "image/png": "[encoded data removed]",
            "text/plain": [
              "<Figure size 432x288 with 1 Axes>"
            ]
          },
          "metadata": {
            "tags": [],
            "needs_background": "light"
          }
        },
        {
          "output_type": "display_data",
          "data": {
            "image/png": "[encoded data removed]",
            "text/plain": [
              "<Figure size 432x288 with 1 Axes>"
            ]
          },
          "metadata": {
            "tags": [],
            "needs_background": "light"
          }
        }
      ]
    },
    {
      "cell_type": "code",
      "metadata": {
        "id": "RWnkpG1RGYfy",
        "colab_type": "code",
        "outputId": "da7d9808-d119-4414-b616-0faae1aeef4b",
        "colab": {
          "base_uri": "https://localhost:8080/",
          "height": 167
        }
      },
      "source": [
        "model.summary()"
      ],
      "execution_count": 0,
      "outputs": [
        {
          "output_type": "error",
          "ename": "NameError",
          "evalue": "ignored",
          "traceback": [
            "\u001b[0;31m---------------------------------------------------------------------------\u001b[0m",
            "\u001b[0;31mNameError\u001b[0m                                 Traceback (most recent call last)",
            "\u001b[0;32m<ipython-input-1-5f15418b3570>\u001b[0m in \u001b[0;36m<module>\u001b[0;34m()\u001b[0m\n\u001b[0;32m----> 1\u001b[0;31m \u001b[0mmodel\u001b[0m\u001b[0;34m.\u001b[0m\u001b[0msummary\u001b[0m\u001b[0;34m(\u001b[0m\u001b[0;34m)\u001b[0m\u001b[0;34m\u001b[0m\u001b[0;34m\u001b[0m\u001b[0m\n\u001b[0m",
            "\u001b[0;31mNameError\u001b[0m: name 'model' is not defined"
          ]
        }
      ]
    },
    {
      "cell_type": "code",
      "metadata": {
        "id": "7bf_PN4CVYEq",
        "colab_type": "code",
        "outputId": "83a4c14a-f094-493d-8dd9-157d2c10dceb",
        "colab": {
          "base_uri": "https://localhost:8080/",
          "height": 167
        }
      },
      "source": [
        "history"
      ],
      "execution_count": 0,
      "outputs": [
        {
          "output_type": "error",
          "ename": "AttributeError",
          "evalue": "ignored",
          "traceback": [
            "\u001b[0;31m---------------------------------------------------------------------------\u001b[0m",
            "\u001b[0;31mAttributeError\u001b[0m                            Traceback (most recent call last)",
            "\u001b[0;32m<ipython-input-60-599bbe8eff21>\u001b[0m in \u001b[0;36m<module>\u001b[0;34m()\u001b[0m\n\u001b[0;32m----> 1\u001b[0;31m \u001b[0mhistory\u001b[0m\u001b[0;34m.\u001b[0m\u001b[0maccuracy\u001b[0m\u001b[0;34m\u001b[0m\u001b[0;34m\u001b[0m\u001b[0m\n\u001b[0m",
            "\u001b[0;31mAttributeError\u001b[0m: 'History' object has no attribute 'accuracy'"
          ]
        }
      ]
    },
    {
      "cell_type": "code",
      "metadata": {
        "id": "3W7Li2xqnqD5",
        "colab_type": "code",
        "colab": {}
      },
      "source": [
        "import pandas as pd\n",
        "df = pd.DataFrame(history.history)"
      ],
      "execution_count": 0,
      "outputs": []
    },
    {
      "cell_type": "code",
      "metadata": {
        "id": "strE9j9MoGWX",
        "colab_type": "code",
        "outputId": "6922659c-c3c5-41ae-a496-3921c095e082",
        "colab": {
          "base_uri": "https://localhost:8080/",
          "height": 343
        }
      },
      "source": [
        "df"
      ],
      "execution_count": 0,
      "outputs": [
        {
          "output_type": "execute_result",
          "data": {
            "text/html": [
              "<div>\n",
              "<style scoped>\n",
              "    .dataframe tbody tr th:only-of-type {\n",
              "        vertical-align: middle;\n",
              "    }\n",
              "\n",
              "    .dataframe tbody tr th {\n",
              "        vertical-align: top;\n",
              "    }\n",
              "\n",
              "    .dataframe thead th {\n",
              "        text-align: right;\n",
              "    }\n",
              "</style>\n",
              "<table border=\"1\" class=\"dataframe\">\n",
              "  <thead>\n",
              "    <tr style=\"text-align: right;\">\n",
              "      <th></th>\n",
              "      <th>loss</th>\n",
              "      <th>accuracy</th>\n",
              "      <th>val_loss</th>\n",
              "      <th>val_accuracy</th>\n",
              "    </tr>\n",
              "  </thead>\n",
              "  <tbody>\n",
              "    <tr>\n",
              "      <th>0</th>\n",
              "      <td>0.139875</td>\n",
              "      <td>0.954871</td>\n",
              "      <td>0.103048</td>\n",
              "      <td>0.961269</td>\n",
              "    </tr>\n",
              "    <tr>\n",
              "      <th>1</th>\n",
              "      <td>0.116150</td>\n",
              "      <td>0.958401</td>\n",
              "      <td>0.104585</td>\n",
              "      <td>0.961943</td>\n",
              "    </tr>\n",
              "    <tr>\n",
              "      <th>2</th>\n",
              "      <td>0.113892</td>\n",
              "      <td>0.959255</td>\n",
              "      <td>0.097720</td>\n",
              "      <td>0.962840</td>\n",
              "    </tr>\n",
              "    <tr>\n",
              "      <th>3</th>\n",
              "      <td>0.112570</td>\n",
              "      <td>0.959803</td>\n",
              "      <td>0.099081</td>\n",
              "      <td>0.963057</td>\n",
              "    </tr>\n",
              "    <tr>\n",
              "      <th>4</th>\n",
              "      <td>0.112034</td>\n",
              "      <td>0.959679</td>\n",
              "      <td>0.103624</td>\n",
              "      <td>0.962055</td>\n",
              "    </tr>\n",
              "    <tr>\n",
              "      <th>5</th>\n",
              "      <td>0.110665</td>\n",
              "      <td>0.959899</td>\n",
              "      <td>0.110254</td>\n",
              "      <td>0.961858</td>\n",
              "    </tr>\n",
              "    <tr>\n",
              "      <th>6</th>\n",
              "      <td>0.114783</td>\n",
              "      <td>0.959892</td>\n",
              "      <td>0.108725</td>\n",
              "      <td>0.962782</td>\n",
              "    </tr>\n",
              "    <tr>\n",
              "      <th>7</th>\n",
              "      <td>0.109995</td>\n",
              "      <td>0.960155</td>\n",
              "      <td>0.099536</td>\n",
              "      <td>0.962153</td>\n",
              "    </tr>\n",
              "    <tr>\n",
              "      <th>8</th>\n",
              "      <td>0.110799</td>\n",
              "      <td>0.960131</td>\n",
              "      <td>0.101931</td>\n",
              "      <td>0.962611</td>\n",
              "    </tr>\n",
              "    <tr>\n",
              "      <th>9</th>\n",
              "      <td>0.109747</td>\n",
              "      <td>0.960220</td>\n",
              "      <td>0.100214</td>\n",
              "      <td>0.962991</td>\n",
              "    </tr>\n",
              "  </tbody>\n",
              "</table>\n",
              "</div>"
            ],
            "text/plain": [
              "       loss  accuracy  val_loss  val_accuracy\n",
              "0  0.139875  0.954871  0.103048      0.961269\n",
              "1  0.116150  0.958401  0.104585      0.961943\n",
              "2  0.113892  0.959255  0.097720      0.962840\n",
              "3  0.112570  0.959803  0.099081      0.963057\n",
              "4  0.112034  0.959679  0.103624      0.962055\n",
              "5  0.110665  0.959899  0.110254      0.961858\n",
              "6  0.114783  0.959892  0.108725      0.962782\n",
              "7  0.109995  0.960155  0.099536      0.962153\n",
              "8  0.110799  0.960131  0.101931      0.962611\n",
              "9  0.109747  0.960220  0.100214      0.962991"
            ]
          },
          "metadata": {
            "tags": []
          },
          "execution_count": 19
        }
      ]
    },
    {
      "cell_type": "code",
      "metadata": {
        "id": "A6xqaJE9oHJ1",
        "colab_type": "code",
        "colab": {}
      },
      "source": [
        "df.to_excel('model1st21by21_history.xlsx')"
      ],
      "execution_count": 0,
      "outputs": []
    },
    {
      "cell_type": "code",
      "metadata": {
        "id": "FJXbVLMfvd5V",
        "colab_type": "code",
        "colab": {}
      },
      "source": [
        ""
      ],
      "execution_count": 0,
      "outputs": []
    }
  ]
}