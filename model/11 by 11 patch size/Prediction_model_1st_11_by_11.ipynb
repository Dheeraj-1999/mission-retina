{
  "nbformat": 4,
  "nbformat_minor": 0,
  "metadata": {
    "colab": {
      "name": "Prediction model 1st 11 by 11.ipynb",
      "provenance": []
    },
    "kernelspec": {
      "name": "python3",
      "display_name": "Python 3"
    }
  },
  "cells": [
    {
      "cell_type": "code",
      "metadata": {
        "id": "aRLG2R2Gvdqv",
        "colab_type": "code",
        "outputId": "05557370-ced6-4c59-d8bf-d95fd155b9b3",
        "colab": {
          "base_uri": "https://localhost:8080/",
          "height": 202
        }
      },
      "source": [
        "import zipfile\n",
        "!wget --no-check-certificate \\\n",
        "    \"https://storage.googleapis.com/datsets/model1/11%20by%2011/model1st11by11.zip\"\\\n",
        "    -O \"/tmp/model.zip\"\n",
        "\n",
        "zipFile = '/tmp/model.zip'\n",
        "zip_ref   = zipfile.ZipFile(zipFile, 'r')\n",
        "zip_ref.extractall('/tmp')\n",
        "zip_ref.close()\n"
      ],
      "execution_count": 0,
      "outputs": [
        {
          "output_type": "stream",
          "text": [
            "--2020-04-11 10:41:28--  https://storage.googleapis.com/datsets/model1/11%20by%2011/model1st11by11.zip\n",
            "Resolving storage.googleapis.com (storage.googleapis.com)... 74.125.26.128, 2607:f8b0:400c:c13::80\n",
            "Connecting to storage.googleapis.com (storage.googleapis.com)|74.125.26.128|:443... connected.\n",
            "HTTP request sent, awaiting response... 200 OK\n",
            "Length: 4171114 (4.0M) [application/x-zip-compressed]\n",
            "Saving to: ‘/tmp/model.zip’\n",
            "\n",
            "\r/tmp/model.zip        0%[                    ]       0  --.-KB/s               \r/tmp/model.zip      100%[===================>]   3.98M  --.-KB/s    in 0.03s   \n",
            "\n",
            "2020-04-11 10:41:29 (135 MB/s) - ‘/tmp/model.zip’ saved [4171114/4171114]\n",
            "\n"
          ],
          "name": "stdout"
        }
      ]
    },
    {
      "cell_type": "code",
      "metadata": {
        "id": "ZLbRVzH7d-Hs",
        "colab_type": "code",
        "outputId": "ec86af1d-2703-4d95-bedb-6c7b6d9cc4e1",
        "colab": {
          "base_uri": "https://localhost:8080/",
          "height": 202
        }
      },
      "source": [
        "!wget --no-check-certificate \\\n",
        "    \"https://storage.googleapis.com/datsets/DRIVE.zip\"\\\n",
        "    -O \"/tmp/DRIVE.zip\"\n",
        "\n",
        "local_zip = '/tmp/DRIVE.zip'\n",
        "zip_ref   = zipfile.ZipFile(local_zip, 'r')\n",
        "zip_ref.extractall('/tmp')\n",
        "zip_ref.close()\n"
      ],
      "execution_count": 0,
      "outputs": [
        {
          "output_type": "stream",
          "text": [
            "--2020-04-11 10:41:51--  https://storage.googleapis.com/datsets/DRIVE.zip\n",
            "Resolving storage.googleapis.com (storage.googleapis.com)... 74.125.31.128, 2607:f8b0:400c:c13::80\n",
            "Connecting to storage.googleapis.com (storage.googleapis.com)|74.125.31.128|:443... connected.\n",
            "HTTP request sent, awaiting response... 200 OK\n",
            "Length: 29756930 (28M) [application/x-zip-compressed]\n",
            "Saving to: ‘/tmp/DRIVE.zip’\n",
            "\n",
            "\r/tmp/DRIVE.zip        0%[                    ]       0  --.-KB/s               \r/tmp/DRIVE.zip       52%[=========>          ]  14.98M  74.9MB/s               \r/tmp/DRIVE.zip      100%[===================>]  28.38M   116MB/s    in 0.2s    \n",
            "\n",
            "2020-04-11 10:41:52 (116 MB/s) - ‘/tmp/DRIVE.zip’ saved [29756930/29756930]\n",
            "\n"
          ],
          "name": "stdout"
        }
      ]
    },
    {
      "cell_type": "code",
      "metadata": {
        "id": "qD9WMTFMvtmh",
        "colab_type": "code",
        "colab": {}
      },
      "source": [
        "%tensorflow_version 2.x\n",
        "import tensorflow as tf"
      ],
      "execution_count": 0,
      "outputs": []
    },
    {
      "cell_type": "code",
      "metadata": {
        "id": "DT1NY90zwiIv",
        "colab_type": "code",
        "outputId": "9344b91c-ef5c-4f60-878b-5ef224a06de7",
        "colab": {
          "base_uri": "https://localhost:8080/",
          "height": 34
        }
      },
      "source": [
        "model=tf.keras.models.load_model('/tmp/model1st11by11.hdf5')"
      ],
      "execution_count": 0,
      "outputs": [
        {
          "output_type": "stream",
          "text": [
            "WARNING:tensorflow:Error in loading the saved optimizer state. As a result, your model is starting with a freshly initialized optimizer.\n"
          ],
          "name": "stdout"
        }
      ]
    },
    {
      "cell_type": "code",
      "metadata": {
        "id": "y1E7sFRYwo4E",
        "colab_type": "code",
        "outputId": "843bee48-cec5-4670-bf6b-b1668a58748e",
        "colab": {
          "base_uri": "https://localhost:8080/",
          "height": 353
        }
      },
      "source": [
        "model.summary()"
      ],
      "execution_count": 0,
      "outputs": [
        {
          "output_type": "stream",
          "text": [
            "Model: \"sequential_1\"\n",
            "_________________________________________________________________\n",
            "Layer (type)                 Output Shape              Param #   \n",
            "=================================================================\n",
            "conv2d_1 (Conv2D)            (None, 9, 9, 32)          896       \n",
            "_________________________________________________________________\n",
            "max_pooling2d_1 (MaxPooling2 (None, 4, 4, 32)          0         \n",
            "_________________________________________________________________\n",
            "flatten_1 (Flatten)          (None, 512)               0         \n",
            "_________________________________________________________________\n",
            "dense_3 (Dense)              (None, 1024)              525312    \n",
            "_________________________________________________________________\n",
            "dense_4 (Dense)              (None, 512)               524800    \n",
            "_________________________________________________________________\n",
            "dense_5 (Dense)              (None, 1)                 513       \n",
            "=================================================================\n",
            "Total params: 1,051,521\n",
            "Trainable params: 1,051,521\n",
            "Non-trainable params: 0\n",
            "_________________________________________________________________\n"
          ],
          "name": "stdout"
        }
      ]
    },
    {
      "cell_type": "code",
      "metadata": {
        "id": "zaVDvKhvxBqY",
        "colab_type": "code",
        "outputId": "16146148-c27f-41d7-ebe3-b37e6b01a9d3",
        "colab": {
          "base_uri": "https://localhost:8080/",
          "height": 218
        }
      },
      "source": [
        "import subprocess,sys\n",
        "!wget --no-check-certificate \\\n",
        "    \"https://storage.googleapis.com/datsets/model1/11%20by%2011/patches11n11test.zip\"\\\n",
        "    -O \"/tmp/patchestest.zip\"\n",
        "\n",
        "zipFile = '/tmp/patchestest.zip'\n",
        "destinationDirectory='/tmp'\n",
        "subprocess.Popen([\"7z\", \"e\", f\"{zipFile}\", f\"-o{destinationDirectory}\", \"-y\"])\n"
      ],
      "execution_count": 0,
      "outputs": [
        {
          "output_type": "stream",
          "text": [
            "--2020-04-11 10:42:14--  https://storage.googleapis.com/datsets/model1/11%20by%2011/patches11n11test.zip\n",
            "Resolving storage.googleapis.com (storage.googleapis.com)... 108.177.11.128, 2607:f8b0:400c:c04::80\n",
            "Connecting to storage.googleapis.com (storage.googleapis.com)|108.177.11.128|:443... connected.\n",
            "HTTP request sent, awaiting response... 200 OK\n",
            "Length: 25793405 (25M) [application/x-zip-compressed]\n",
            "Saving to: ‘/tmp/patchestest.zip’\n",
            "\n",
            "\r/tmp/patchestest.zi   0%[                    ]       0  --.-KB/s               \r/tmp/patchestest.zi  32%[=====>              ]   8.01M  29.1MB/s               \r/tmp/patchestest.zi 100%[===================>]  24.60M  73.4MB/s    in 0.3s    \n",
            "\n",
            "2020-04-11 10:42:14 (73.4 MB/s) - ‘/tmp/patchestest.zip’ saved [25793405/25793405]\n",
            "\n"
          ],
          "name": "stdout"
        },
        {
          "output_type": "execute_result",
          "data": {
            "text/plain": [
              "<subprocess.Popen at 0x7fb798fc8ef0>"
            ]
          },
          "metadata": {
            "tags": []
          },
          "execution_count": 6
        }
      ]
    },
    {
      "cell_type": "code",
      "metadata": {
        "id": "1hfsgw6fxETJ",
        "colab_type": "code",
        "outputId": "845484d5-c39d-437c-ab02-7a64223d2f7c",
        "colab": {
          "base_uri": "https://localhost:8080/",
          "height": 34
        }
      },
      "source": [
        "import numpy\n",
        "test= numpy.load('/tmp/patches11n11test.npy')\n",
        "test.shape"
      ],
      "execution_count": 0,
      "outputs": [
        {
          "output_type": "execute_result",
          "data": {
            "text/plain": [
              "(659920, 11, 11, 3)"
            ]
          },
          "metadata": {
            "tags": []
          },
          "execution_count": 8
        }
      ]
    },
    {
      "cell_type": "code",
      "metadata": {
        "id": "zmJK83oQw_KX",
        "colab_type": "code",
        "outputId": "a6d88924-5b42-4730-d9eb-f36cf1e1785c",
        "colab": {
          "base_uri": "https://localhost:8080/",
          "height": 87
        }
      },
      "source": [
        "predict=model.predict_classes(test)"
      ],
      "execution_count": 0,
      "outputs": [
        {
          "output_type": "stream",
          "text": [
            "WARNING:tensorflow:From <ipython-input-9-278af5f9950b>:1: Sequential.predict_classes (from tensorflow.python.keras.engine.sequential) is deprecated and will be removed after 2021-01-01.\n",
            "Instructions for updating:\n",
            "Please use instead:* `np.argmax(model.predict(x), axis=-1)`,   if your model does multi-class classification   (e.g. if it uses a `softmax` last-layer activation).* `(model.predict(x) > 0.5).astype(\"int32\")`,   if your model does binary classification   (e.g. if it uses a `sigmoid` last-layer activation).\n"
          ],
          "name": "stdout"
        }
      ]
    },
    {
      "cell_type": "code",
      "metadata": {
        "id": "kj68rFQOxk1e",
        "colab_type": "code",
        "outputId": "fb5601da-ee64-4025-b7db-e3cb48a817fe",
        "colab": {
          "base_uri": "https://localhost:8080/",
          "height": 34
        }
      },
      "source": [
        "predict.shape"
      ],
      "execution_count": 0,
      "outputs": [
        {
          "output_type": "execute_result",
          "data": {
            "text/plain": [
              "(659920, 1)"
            ]
          },
          "metadata": {
            "tags": []
          },
          "execution_count": 10
        }
      ]
    },
    {
      "cell_type": "code",
      "metadata": {
        "id": "KpKA03OTxr4-",
        "colab_type": "code",
        "outputId": "6515f89a-d52b-4588-de44-d9130f7c4d26",
        "colab": {
          "base_uri": "https://localhost:8080/",
          "height": 34
        }
      },
      "source": [
        "img1=predict[:329960]*255\n",
        "img_plot=numpy.reshape(img1,(584,565)).astype('uint8')\n",
        "img_plot.shape"
      ],
      "execution_count": 0,
      "outputs": [
        {
          "output_type": "execute_result",
          "data": {
            "text/plain": [
              "(584, 565)"
            ]
          },
          "metadata": {
            "tags": []
          },
          "execution_count": 11
        }
      ]
    },
    {
      "cell_type": "code",
      "metadata": {
        "id": "B3b5UTxI1f_-",
        "colab_type": "code",
        "outputId": "4e5b7fa5-7fbd-4285-ea3c-39335eac3b4b",
        "colab": {
          "base_uri": "https://localhost:8080/",
          "height": 601
        }
      },
      "source": [
        "from PIL import Image\n",
        "img = Image.fromarray(img_plot)\n",
        "man1=Image.open('/tmp/DRIVE/test/1st_manual/01_manual1.gif')\n",
        "man2=Image.open('/tmp/DRIVE/test/2nd_manual/01_manual2.gif')\n",
        "img.save('/content/prediction1.jpg')\n",
        "img\n",
        "# man1\n",
        "# man2\n",
        "# img.save('1.jpg')"
      ],
      "execution_count": 0,
      "outputs": [
        {
          "output_type": "execute_result",
          "data": {
            "image/png": "[encoded data removed]",
            "text/plain": [
              "<PIL.Image.Image image mode=L size=565x584 at 0x7FB70B784208>"
            ]
          },
          "metadata": {
            "tags": []
          },
          "execution_count": 12
        }
      ]
    },
    {
      "cell_type": "code",
      "metadata": {
        "id": "uWdQo1Ob4sB8",
        "colab_type": "code",
        "colab": {}
      },
      "source": [
        "img2=predict[329960:]*255"
      ],
      "execution_count": 0,
      "outputs": []
    },
    {
      "cell_type": "code",
      "metadata": {
        "id": "FDHhugwHEvZP",
        "colab_type": "code",
        "outputId": "898825a8-a4ee-4b9d-81ed-38821312c9ee",
        "colab": {
          "base_uri": "https://localhost:8080/",
          "height": 34
        }
      },
      "source": [
        "img2.shape"
      ],
      "execution_count": 0,
      "outputs": [
        {
          "output_type": "execute_result",
          "data": {
            "text/plain": [
              "(329960, 1)"
            ]
          },
          "metadata": {
            "tags": []
          },
          "execution_count": 14
        }
      ]
    },
    {
      "cell_type": "code",
      "metadata": {
        "id": "ijy0XbYuEzzz",
        "colab_type": "code",
        "colab": {}
      },
      "source": [
        "img1_plot=numpy.reshape(img2,(584,565)).astype('uint8')"
      ],
      "execution_count": 0,
      "outputs": []
    },
    {
      "cell_type": "code",
      "metadata": {
        "id": "mu9P7GMNE7bX",
        "colab_type": "code",
        "outputId": "eb163784-07fe-4e76-b648-98bdaa8945a0",
        "colab": {
          "base_uri": "https://localhost:8080/",
          "height": 601
        }
      },
      "source": [
        "from PIL import Image\n",
        "img = Image.fromarray(img1_plot)\n",
        "img"
      ],
      "execution_count": 0,
      "outputs": [
        {
          "output_type": "execute_result",
          "data": {
            "image/png": "[encoded data removed]",
            "text/plain": [
              "<PIL.Image.Image image mode=L size=565x584 at 0x7FB70B7A09B0>"
            ]
          },
          "metadata": {
            "tags": []
          },
          "execution_count": 16
        }
      ]
    },
    {
      "cell_type": "code",
      "metadata": {
        "id": "vc2CZ5pnE-Ep",
        "colab_type": "code",
        "colab": {}
      },
      "source": [
        ""
      ],
      "execution_count": 0,
      "outputs": []
    },
    {
      "cell_type": "code",
      "metadata": {
        "colab_type": "code",
        "outputId": "63ba2613-3725-4cc8-dbde-0cc093d182f8",
        "id": "Pbe3WQ0ngI_c",
        "colab": {
          "base_uri": "https://localhost:8080/",
          "height": 238
        }
      },
      "source": [
        "%matplotlib inline\n",
        "from matplotlib import pyplot as plt\n",
        "import matplotlib.image as mpimg\n",
        "img1=mpimg.imread('/content/prediction1.jpg')\n",
        "img2=mpimg.imread('/tmp/DRIVE/test/1st_manual/01_manual1.gif')\n",
        "img3=mpimg.imread('/tmp/DRIVE/test/2nd_manual/01_manual2.gif')\n",
        "fig, ax = plt.subplots(2,2)\n",
        "ax[0][0].imshow(img1);\n",
        "ax[0][1].imshow(img2);\n",
        "ax[1][0].imshow(img3)"
      ],
      "execution_count": 0,
      "outputs": [
        {
          "output_type": "error",
          "ename": "NameError",
          "evalue": "ignored",
          "traceback": [
            "\u001b[0;31m---------------------------------------------------------------------------\u001b[0m",
            "\u001b[0;31mNameError\u001b[0m                                 Traceback (most recent call last)",
            "\u001b[0;32m<ipython-input-16-89ee4b9c1e23>\u001b[0m in \u001b[0;36m<module>\u001b[0;34m()\u001b[0m\n\u001b[1;32m      2\u001b[0m \u001b[0;32mfrom\u001b[0m \u001b[0mmatplotlib\u001b[0m \u001b[0;32mimport\u001b[0m \u001b[0mpyplot\u001b[0m \u001b[0;32mas\u001b[0m \u001b[0mplt\u001b[0m\u001b[0;34m\u001b[0m\u001b[0;34m\u001b[0m\u001b[0m\n\u001b[1;32m      3\u001b[0m \u001b[0;32mimport\u001b[0m \u001b[0mmatplotlib\u001b[0m\u001b[0;34m.\u001b[0m\u001b[0mimage\u001b[0m \u001b[0;32mas\u001b[0m \u001b[0mmpimg\u001b[0m\u001b[0;34m\u001b[0m\u001b[0;34m\u001b[0m\u001b[0m\n\u001b[0;32m----> 4\u001b[0;31m \u001b[0mimg1\u001b[0m\u001b[0;34m=\u001b[0m\u001b[0mnpimg\u001b[0m\u001b[0;34m.\u001b[0m\u001b[0mimread\u001b[0m\u001b[0;34m(\u001b[0m\u001b[0;34m'/content/prediction1.jpg'\u001b[0m\u001b[0;34m)\u001b[0m\u001b[0;34m\u001b[0m\u001b[0;34m\u001b[0m\u001b[0m\n\u001b[0m\u001b[1;32m      5\u001b[0m \u001b[0mimg2\u001b[0m\u001b[0;34m=\u001b[0m\u001b[0mnpimg\u001b[0m\u001b[0;34m.\u001b[0m\u001b[0mimread\u001b[0m\u001b[0;34m(\u001b[0m\u001b[0;34m'/tmp/DRIVE/test/1st_manual/01_manual1.gif'\u001b[0m\u001b[0;34m)\u001b[0m\u001b[0;34m\u001b[0m\u001b[0;34m\u001b[0m\u001b[0m\n\u001b[1;32m      6\u001b[0m \u001b[0mimg3\u001b[0m\u001b[0;34m=\u001b[0m\u001b[0mnpimg\u001b[0m\u001b[0;34m.\u001b[0m\u001b[0mimread\u001b[0m\u001b[0;34m(\u001b[0m\u001b[0;34m'/tmp/DRIVE/test/2nd_manual/01_manual2.gif'\u001b[0m\u001b[0;34m)\u001b[0m\u001b[0;34m\u001b[0m\u001b[0;34m\u001b[0m\u001b[0m\n",
            "\u001b[0;31mNameError\u001b[0m: name 'npimg' is not defined"
          ]
        }
      ]
    },
    {
      "cell_type": "code",
      "metadata": {
        "id": "6KIrGGPQhEZW",
        "colab_type": "code",
        "colab": {}
      },
      "source": [
        ""
      ],
      "execution_count": 0,
      "outputs": []
    }
  ]
}