{
 "cells": [
  {
   "cell_type": "code",
   "execution_count": null,
   "metadata": {
    "colab": {},
    "colab_type": "code",
    "id": "672QiqkKucPv"
   },
   "outputs": [],
   "source": [
    "import os\n",
    "import cv2\n",
    "import numpy as np\n",
    "import glob\n",
    "from PIL import Image\n",
    "import zipfile\n",
    "%tensorflow_version 2.x\n",
    "from PIL import Image\n",
    "import tensorflow as tf\n",
    "# from shutil import copyfile"
   ]
  },
  {
   "cell_type": "markdown",
   "metadata": {},
   "source": [
    "# Colab work"
   ]
  },
  {
   "cell_type": "code",
   "execution_count": null,
   "metadata": {
    "colab": {
     "base_uri": "https://localhost:8080/",
     "height": 214
    },
    "colab_type": "code",
    "executionInfo": {
     "elapsed": 8692,
     "status": "ok",
     "timestamp": 1586567529164,
     "user": {
      "displayName": "Dheeraj Nagpal",
      "photoUrl": "",
      "userId": "04309092780219853136"
     },
     "user_tz": -330
    },
    "id": "ke719h7eJSdo",
    "outputId": "ee990774-3741-4131-f438-6aa4c800d1e4",
    "scrolled": true
   },
   "outputs": [],
   "source": [
    "!wget --no-check-certificate \\\n",
    "    \"https://storage.googleapis.com/datsets/DRIVE.zip\"\\\n",
    "    -O \"/tmp/DRIVE.zip\"\n",
    "\n",
    "local_zip = '/tmp/DRIVE.zip'\n",
    "zip_ref   = zipfile.ZipFile(local_zip, 'r')\n",
    "zip_ref.extractall('/tmp')\n",
    "zip_ref.close()"
   ]
  },
  {
   "cell_type": "code",
   "execution_count": null,
   "metadata": {
    "colab": {},
    "colab_type": "code",
    "id": "Q9ddneMnH_oH"
   },
   "outputs": [],
   "source": [
    "def GetAllChannels(imagewithchannels):\n",
    "    redchannel=[]\n",
    "    greenchannel=[]\n",
    "    bluechannel=[]\n",
    "    lab_planes = []\n",
    "    for i in range(len(imagewithchannels)):\n",
    "        redchannel.append(imagewithchannels[i][:,:,0])\n",
    "        greenchannel.append(imagewithchannels[i][:,:,1])\n",
    "        bluechannel.append(imagewithchannels[i][:,:,2])\n",
    "#         lab_planes.append(cv2.split(imagewithchannels[i]))\n",
    "    return redchannel,greenchannel,bluechannel\n",
    "#     return lab_planes    \n",
    "\n",
    "def create_patch(imgs,patch_size):\n",
    "    a=0;\n",
    "    ps=patch_size//2\n",
    "    image_patches=[]\n",
    "    for k in range(0,20):\n",
    "        padded_imgs=np.pad(imgs[k],pad_width=ps,mode='edge')\n",
    "        for i in range(0,imgs[k].shape[0]):\n",
    "            for j in range(0,imgs[k].shape[1]):\n",
    "                flatten_imgs=padded_imgs[i:i+patch_size,j:j+patch_size].ravel()\n",
    "                imgs_mod_flatten=np.hstack((flatten_imgs))\n",
    "                image_patches.append(imgs_mod_flatten)\n",
    "                print(\"creatingPatch.......{}\".format(i+j))\n",
    "    image_patches=np.vstack(image_patches)\n",
    "    return image_patches\n",
    "\n",
    "def getCombineChannels(red,green,blue):\n",
    "    combinedPacthes=[]\n",
    "    temp = []\n",
    "    for i in range(red.shape[0]):\n",
    "        temp = cv2.merge(np.array([red[i],green[i],blue[i]]))\n",
    "        combinedPacthes.append(temp)\n",
    "    return(np.array(combinedPacthes))    \n",
    "\n",
    "def reshapePatches(combinedpatches,reshapesize):\n",
    "    newcombinedarray=[]\n",
    "    end=combinedpatches.shape[0]\n",
    "    for i in range(end):\n",
    "        newcombinedarray.append(np.reshape(combinedpatches[i],reshapesize))\n",
    "    return np.array(newcombinedarray)\n",
    "\n",
    "def create_patch_skip(imgs,patch_size,skip):\n",
    "    a=0;\n",
    "    ps=patch_size//2\n",
    "    image_patches=[]\n",
    "    for k in range(0,20):\n",
    "        padded_imgs=np.pad(imgs[k],pad_width=ps,mode='edge')\n",
    "        for i in range(0,imgs[k].shape[0],skip):\n",
    "            for j in range(0,imgs[k].shape[1],skip):\n",
    "                flatten_imgs=padded_imgs[i:i+patch_size,j:j+patch_size].ravel()\n",
    "                imgs_mod_flatten=np.hstack((flatten_imgs))\n",
    "                image_patches.append(imgs_mod_flatten)\n",
    "    image_patches=np.vstack(image_patches)\n",
    "    return image_patches"
   ]
  },
  {
   "cell_type": "markdown",
   "metadata": {
    "colab_type": "text",
    "id": "DwMACTakdENs"
   },
   "source": [
    "failed Loading Method Training images"
   ]
  },
  {
   "cell_type": "code",
   "execution_count": null,
   "metadata": {
    "colab": {
     "base_uri": "https://localhost:8080/",
     "height": 53
    },
    "colab_type": "code",
    "executionInfo": {
     "elapsed": 2333,
     "status": "ok",
     "timestamp": 1585908271070,
     "user": {
      "displayName": "Dheeraj Nagpal",
      "photoUrl": "",
      "userId": "04309092780219853136"
     },
     "user_tz": -330
    },
    "id": "_rJ3m987H_oX",
    "outputId": "4dc5058c-c472-447a-d826-0f25b21a7a6a",
    "scrolled": true
   },
   "outputs": [],
   "source": [
    "print(\"Loading Images.....\")\n",
    "images_training = [np.array(Image.open(file)) for file in glob.glob(\"/tmp/DRIVE/training/images/*.tif\")]\n",
    "print('Images Loaded.......', np.array(images_training).shape)"
   ]
  },
  {
   "cell_type": "markdown",
   "metadata": {},
   "source": [
    "## Later on used method for Loading Method Training images"
   ]
  },
  {
   "cell_type": "code",
   "execution_count": null,
   "metadata": {
    "colab": {
     "base_uri": "https://localhost:8080/",
     "height": 35
    },
    "colab_type": "code",
    "executionInfo": {
     "elapsed": 1830,
     "status": "ok",
     "timestamp": 1586567845067,
     "user": {
      "displayName": "Dheeraj Nagpal",
      "photoUrl": "",
      "userId": "04309092780219853136"
     },
     "user_tz": -330
    },
    "id": "DVUYj3WbyDfx",
    "outputId": "7ac0ed2a-026a-4d7f-c8a8-69c8dd0bbe92"
   },
   "outputs": [],
   "source": [
    "images_training=[]\n",
    "import cv2\n",
    "import numpy as np\n",
    "for i in range(21,41):\n",
    "    img=cv2.imread(\"D:\\\\google drive\\\\Missions\\\\mission Retina\\\\dataset\\\\navdeep sir datasets\\\\DRIVE\\\\training\\\\afternonlocalmean\\\\{}.jpg\".format(i))\n",
    "    images_training.append(img)\n",
    "print('Images Loaded.......')\n",
    "# print('Seperatinbbg Channels.......')\n"
   ]
  },
  {
   "cell_type": "code",
   "execution_count": null,
   "metadata": {},
   "outputs": [],
   "source": [
    "np.array(images_training).shape"
   ]
  },
  {
   "cell_type": "markdown",
   "metadata": {
    "colab_type": "text",
    "id": "nAPBzvCGdZCA"
   },
   "source": [
    "Seperating Channels training"
   ]
  },
  {
   "cell_type": "code",
   "execution_count": null,
   "metadata": {
    "colab": {
     "base_uri": "https://localhost:8080/",
     "height": 53
    },
    "colab_type": "code",
    "executionInfo": {
     "elapsed": 1148,
     "status": "ok",
     "timestamp": 1585908813540,
     "user": {
      "displayName": "Dheeraj Nagpal",
      "photoUrl": "",
      "userId": "04309092780219853136"
     },
     "user_tz": -330
    },
    "id": "h7J6QOlGJ38a",
    "outputId": "1cf6d234-ce4f-4b2f-863a-9bb2e4cc4956",
    "scrolled": false
   },
   "outputs": [],
   "source": [
    "print('Seperating Channels.......')\n",
    "r_training, g_training, b_training= GetAllChannels(images_training)\n",
    "print('Channels seprated.......', np.array(r_training).shape)"
   ]
  },
  {
   "cell_type": "code",
   "execution_count": null,
   "metadata": {},
   "outputs": [],
   "source": [
    "np.array(r_training[0]).shape"
   ]
  },
  {
   "cell_type": "code",
   "execution_count": null,
   "metadata": {
    "colab": {
     "base_uri": "https://localhost:8080/",
     "height": 35
    },
    "colab_type": "code",
    "executionInfo": {
     "elapsed": 1257,
     "status": "ok",
     "timestamp": 1585908950703,
     "user": {
      "displayName": "Dheeraj Nagpal",
      "photoUrl": "",
      "userId": "04309092780219853136"
     },
     "user_tz": -330
    },
    "id": "C2iMo2y0iZL7",
    "outputId": "c61837ed-3bd4-49db-e9a5-43c22be2ca6b"
   },
   "outputs": [],
   "source": [
    "np.array(r_training[0][0]).shape"
   ]
  },
  {
   "cell_type": "code",
   "execution_count": null,
   "metadata": {
    "colab": {},
    "colab_type": "code",
    "id": "U_lrtYutgAiv"
   },
   "outputs": [],
   "source": [
    "print(images_training[0].shape)\n",
    "img = Image.fromarray(images_training[0], 'RGB')\n",
    "img.save('my.png')\n",
    "img.show()"
   ]
  },
  {
   "cell_type": "markdown",
   "metadata": {
    "colab_type": "text",
    "id": "eQCEJRMXeK6e"
   },
   "source": [
    "Creating patches of red training"
   ]
  },
  {
   "cell_type": "code",
   "execution_count": null,
   "metadata": {
    "colab": {
     "base_uri": "https://localhost:8080/",
     "height": 53
    },
    "colab_type": "code",
    "executionInfo": {
     "elapsed": 212284,
     "status": "ok",
     "timestamp": 1585727900874,
     "user": {
      "displayName": "Dheeraj Nagpal",
      "photoUrl": "",
      "userId": "04309092780219853136"
     },
     "user_tz": -330
    },
    "id": "FwZXe9hfKTTQ",
    "outputId": "df60a211-ea71-4ca1-8658-04ec867026b4",
    "scrolled": false
   },
   "outputs": [],
   "source": [
    "print('Creating patches for red channel')\n",
    "patch_red_training = create_patch(np.array(r_training), 11)\n",
    "print('Red channel patches created')"
   ]
  },
  {
   "cell_type": "code",
   "execution_count": null,
   "metadata": {
    "colab": {
     "base_uri": "https://localhost:8080/",
     "height": 35
    },
    "colab_type": "code",
    "executionInfo": {
     "elapsed": 1359,
     "status": "ok",
     "timestamp": 1585727902251,
     "user": {
      "displayName": "Dheeraj Nagpal",
      "photoUrl": "",
      "userId": "04309092780219853136"
     },
     "user_tz": -330
    },
    "id": "mIkkqIQKvGQe",
    "outputId": "590acff5-0061-4bfb-c3c5-98c9081d5258"
   },
   "outputs": [],
   "source": [
    "patch_red_training.shape"
   ]
  },
  {
   "cell_type": "code",
   "execution_count": null,
   "metadata": {
    "colab": {},
    "colab_type": "code",
    "id": "Sd9vQ2LLvbYX"
   },
   "outputs": [],
   "source": []
  },
  {
   "cell_type": "markdown",
   "metadata": {
    "colab_type": "text",
    "id": "OAhGU_UKewEE"
   },
   "source": [
    "Creating patches of green training"
   ]
  },
  {
   "cell_type": "code",
   "execution_count": null,
   "metadata": {
    "colab": {
     "base_uri": "https://localhost:8080/",
     "height": 53
    },
    "colab_type": "code",
    "executionInfo": {
     "elapsed": 209695,
     "status": "ok",
     "timestamp": 1585728706044,
     "user": {
      "displayName": "Dheeraj Nagpal",
      "photoUrl": "",
      "userId": "04309092780219853136"
     },
     "user_tz": -330
    },
    "id": "aZNhvIYIL0e3",
    "outputId": "80be988a-477f-4dfd-ed66-e9292ccaeba5"
   },
   "outputs": [],
   "source": [
    "print('Creating patches for green channel')\n",
    "patch_green_training = create_patch(g_training, 3)\n",
    "print('green channel patches created')"
   ]
  },
  {
   "cell_type": "markdown",
   "metadata": {
    "colab_type": "text",
    "id": "uETSW5VGfvtQ"
   },
   "source": [
    "Creating patches of blue training"
   ]
  },
  {
   "cell_type": "code",
   "execution_count": null,
   "metadata": {
    "colab": {
     "base_uri": "https://localhost:8080/",
     "height": 53
    },
    "colab_type": "code",
    "executionInfo": {
     "elapsed": 205797,
     "status": "ok",
     "timestamp": 1585728911857,
     "user": {
      "displayName": "Dheeraj Nagpal",
      "photoUrl": "",
      "userId": "04309092780219853136"
     },
     "user_tz": -330
    },
    "id": "_j801tXUL03b",
    "outputId": "d85bbc7a-f911-4a08-83be-dbe8f8bf8894"
   },
   "outputs": [],
   "source": [
    "print('Creating patches for blue channel')\n",
    "patch_blue_training=create_patch(b_training,3)\n",
    "print('Blue channel patches created')"
   ]
  },
  {
   "cell_type": "code",
   "execution_count": null,
   "metadata": {
    "colab": {
     "base_uri": "https://localhost:8080/",
     "height": 35
    },
    "colab_type": "code",
    "executionInfo": {
     "elapsed": 1056,
     "status": "ok",
     "timestamp": 1585730009888,
     "user": {
      "displayName": "Dheeraj Nagpal",
      "photoUrl": "",
      "userId": "04309092780219853136"
     },
     "user_tz": -330
    },
    "id": "rtFwFNDQ34oS",
    "outputId": "cd6b6a6a-2e94-462b-f6f4-717ed562920d"
   },
   "outputs": [],
   "source": [
    "patch_red_training[0].shape"
   ]
  },
  {
   "cell_type": "markdown",
   "metadata": {
    "colab_type": "text",
    "id": "poESuYbOgMor"
   },
   "source": [
    "Combinig all channel patches in single array training"
   ]
  },
  {
   "cell_type": "code",
   "execution_count": null,
   "metadata": {
    "colab": {
     "base_uri": "https://localhost:8080/",
     "height": 53
    },
    "colab_type": "code",
    "executionInfo": {
     "elapsed": 32112,
     "status": "ok",
     "timestamp": 1585729608097,
     "user": {
      "displayName": "Dheeraj Nagpal",
      "photoUrl": "",
      "userId": "04309092780219853136"
     },
     "user_tz": -330
    },
    "id": "ScKkgTlFNZNb",
    "outputId": "600f34f2-c865-4932-f732-2bc98e2c46c2"
   },
   "outputs": [],
   "source": [
    "print('Combinig all channel patches in single array')\n",
    "combinedpatches_training=getCombineChannels(patch_red_training,patch_green_training,patch_blue_training)\n",
    "print('All patches are combined and the shape is {}'.format(combinedpatches_training.shape))\n",
    "# print(combinedpatches_training)"
   ]
  },
  {
   "cell_type": "code",
   "execution_count": null,
   "metadata": {
    "colab": {},
    "colab_type": "code",
    "id": "SaIy-Rxe9dVr"
   },
   "outputs": [],
   "source": [
    "np.array(combinedpatches_training).shape"
   ]
  },
  {
   "cell_type": "markdown",
   "metadata": {
    "colab_type": "text",
    "id": "fJ7rqP0AgYzk"
   },
   "source": [
    "Combinig all channel patches in single array testing"
   ]
  },
  {
   "cell_type": "code",
   "execution_count": null,
   "metadata": {
    "colab": {},
    "colab_type": "code",
    "id": "_G6IFy35gbIN"
   },
   "outputs": [],
   "source": [
    "print('Combinig all channel patches in single array')\n",
    "combinedpatches_testing=getCombineChannels(patch_red_testing,patch_green_testing,patch_blue_testing)\n",
    "print('All patches are combined and the shape is {}'.format(combinedpatches_testing.shape))\n",
    "# print(combinedpatches_testing)"
   ]
  },
  {
   "cell_type": "code",
   "execution_count": null,
   "metadata": {
    "colab": {
     "base_uri": "https://localhost:8080/",
     "height": 35
    },
    "colab_type": "code",
    "executionInfo": {
     "elapsed": 935,
     "status": "ok",
     "timestamp": 1583240902427,
     "user": {
      "displayName": "PUSHPA RANI",
      "photoUrl": "",
      "userId": "04309092780219853136"
     },
     "user_tz": -330
    },
    "id": "jAwXt1R3OoqB",
    "outputId": "79a32163-647a-4d30-cfb5-197b8d3aa676"
   },
   "outputs": [],
   "source": [
    "combinedpatches_testing[0].shape"
   ]
  },
  {
   "cell_type": "markdown",
   "metadata": {
    "colab_type": "text",
    "id": "agx7O3QBgzJQ"
   },
   "source": [
    "Reshaping to get required results training"
   ]
  },
  {
   "cell_type": "code",
   "execution_count": null,
   "metadata": {
    "colab": {
     "base_uri": "https://localhost:8080/",
     "height": 53
    },
    "colab_type": "code",
    "executionInfo": {
     "elapsed": 15553,
     "status": "ok",
     "timestamp": 1585730203594,
     "user": {
      "displayName": "Dheeraj Nagpal",
      "photoUrl": "",
      "userId": "04309092780219853136"
     },
     "user_tz": -330
    },
    "id": "xgzBdO7XH_og",
    "outputId": "f79e4999-9f05-4dc7-8068-b19e69cd8373"
   },
   "outputs": [],
   "source": [
    "print('Reshaping to get required results')\n",
    "reshapedpatches_training=reshapePatches(combinedpatches_training,(3,3,3))\n",
    "print('All patches are reshaped and the shape is {}'.format(reshapedpatches_training.shape))"
   ]
  },
  {
   "cell_type": "code",
   "execution_count": null,
   "metadata": {
    "colab": {},
    "colab_type": "code",
    "id": "JUIOWWSzqzlc"
   },
   "outputs": [],
   "source": []
  },
  {
   "cell_type": "markdown",
   "metadata": {
    "colab_type": "text",
    "id": "6wk3tdQpq2J9"
   },
   "source": [
    "Todays work 11/03/2020"
   ]
  },
  {
   "cell_type": "code",
   "execution_count": null,
   "metadata": {
    "colab": {
     "base_uri": "https://localhost:8080/",
     "height": 142
    },
    "colab_type": "code",
    "executionInfo": {
     "elapsed": 5254,
     "status": "ok",
     "timestamp": 1586567766723,
     "user": {
      "displayName": "Dheeraj Nagpal",
      "photoUrl": "",
      "userId": "04309092780219853136"
     },
     "user_tz": -330
    },
    "id": "zhwt53VPqz8L",
    "outputId": "d32efbbc-5cd4-4978-95ef-f73785f0c554"
   },
   "outputs": [],
   "source": [
    "import subprocess\n",
    "!wget --no-check-certificate \\\n",
    "    \"https://storage.googleapis.com/datsets/patches25n25nskip2.zip\"\\\n",
    "    -O \"/tmp/patchesRule2.zip\"\n",
    "\n",
    "zipFile = '/tmp/patchesRule2.zip'\n",
    "# zip_ref.extractall('/tmp')\n",
    "destinationDirectory='/tmp'\n",
    "subprocess.Popen([\"7z\", \"e\", f\"{zipFile}\", f\"-o{destinationDirectory}\", \"-y\"])\n",
    "# zip_ref.close()"
   ]
  },
  {
   "cell_type": "markdown",
   "metadata": {
    "colab_type": "text",
    "id": "NAf5pAL4EzFD"
   },
   "source": [
    "Downloading reshaped dataset of patches through google api"
   ]
  },
  {
   "cell_type": "code",
   "execution_count": null,
   "metadata": {
    "colab": {
     "base_uri": "https://localhost:8080/",
     "height": 332
    },
    "colab_type": "code",
    "executionInfo": {
     "elapsed": 951,
     "status": "error",
     "timestamp": 1586567563702,
     "user": {
      "displayName": "Dheeraj Nagpal",
      "photoUrl": "",
      "userId": "04309092780219853136"
     },
     "user_tz": -330
    },
    "id": "tTTHffA8jzVs",
    "outputId": "468ec3ee-0727-47f4-f2e5-01c619f9af0b"
   },
   "outputs": [],
   "source": [
    "reshapedpatches_training = []\n",
    "reshapedpatches_training = np.load('/tmp/patches25n25nskip2.npy')"
   ]
  },
  {
   "cell_type": "code",
   "execution_count": null,
   "metadata": {
    "colab": {
     "base_uri": "https://localhost:8080/",
     "height": 35
    },
    "colab_type": "code",
    "executionInfo": {
     "elapsed": 1868,
     "status": "ok",
     "timestamp": 1585904877074,
     "user": {
      "displayName": "Dheeraj Nagpal",
      "photoUrl": "",
      "userId": "04309092780219853136"
     },
     "user_tz": -330
    },
    "id": "J2t7BRgMQNnp",
    "outputId": "7861f166-8bdd-48b2-b01d-564113bf5284"
   },
   "outputs": [],
   "source": [
    "(reshapedpatches_training).shape"
   ]
  },
  {
   "cell_type": "code",
   "execution_count": null,
   "metadata": {
    "colab": {},
    "colab_type": "code",
    "id": "7bBSRXOgH1an"
   },
   "outputs": [],
   "source": []
  },
  {
   "cell_type": "code",
   "execution_count": null,
   "metadata": {
    "colab": {
     "base_uri": "https://localhost:8080/",
     "height": 54
    },
    "colab_type": "code",
    "executionInfo": {
     "elapsed": 840,
     "status": "ok",
     "timestamp": 1583241101267,
     "user": {
      "displayName": "PUSHPA RANI",
      "photoUrl": "",
      "userId": "04309092780219853136"
     },
     "user_tz": -330
    },
    "id": "Ra1znf6fH_ot",
    "outputId": "09e328ff-347d-4836-f546-86d08c20a267"
   },
   "outputs": [],
   "source": [
    "print('Saving all patch data to file patchesknk.npy')\n",
    "np.save('patchesknk_testing.npy',reshapedpatches_testing)\n",
    "print('All patch data saved and can be access by variable \\'reshapedpatches\\'')"
   ]
  },
  {
   "cell_type": "markdown",
   "metadata": {
    "colab_type": "text",
    "id": "T-N80KXmElSC"
   },
   "source": [
    "Output array Code"
   ]
  },
  {
   "cell_type": "code",
   "execution_count": null,
   "metadata": {
    "colab": {},
    "colab_type": "code",
    "id": "ICF8DrUHD6W6"
   },
   "outputs": [],
   "source": [
    "import cv2\n",
    "import os\n",
    "import numpy as np\n",
    "from PIL import Image\n",
    "def getoutputarr(images,skip):\n",
    "    outputarr=[]\n",
    "    for k in range(images.shape[0]):\n",
    "        for i in range(0,images.shape[1],skip):\n",
    "            for j in range(0,images.shape[2],skip):\n",
    "                outputarr.append(images[k,i,j])\n",
    "    return(np.array(outputarr))"
   ]
  },
  {
   "cell_type": "code",
   "execution_count": null,
   "metadata": {
    "colab": {},
    "colab_type": "code",
    "id": "5Pi_S8fKD7GJ"
   },
   "outputs": [],
   "source": [
    "images=[]\n",
    "for i in range(21,41):\n",
    "    a=np.array(Image.open('/tmp/DRIVE/training/1st_manual/{}_manual1.gif'.format(i)))\n",
    "    images.append(a)\n",
    "outputs=getoutputarr(np.array(images),2)"
   ]
  },
  {
   "cell_type": "code",
   "execution_count": null,
   "metadata": {
    "colab": {},
    "colab_type": "code",
    "id": "dfT02HroE90d"
   },
   "outputs": [],
   "source": [
    "print(reshaped)\n",
    "outputs[:20]"
   ]
  },
  {
   "cell_type": "code",
   "execution_count": null,
   "metadata": {
    "colab": {},
    "colab_type": "code",
    "id": "CvluOtCeH_o2"
   },
   "outputs": [],
   "source": [
    "from tensorflow.keras.optimizers import RMSprop\n",
    "model = tf.keras.models.Sequential([\n",
    "    tf.keras.layers.Conv2D(64, (3, 3), activation='relu', input_shape=(25, 25, 3)),\n",
    "    tf.keras.layers.MaxPooling2D((3, 3)),\n",
    "    # tf.keras.layers.Conv2D(32, (3, 3), activation='relu', input_shape=(9, 9, 3)),\n",
    "    # tf.keras.layers.MaxPooling2D((3, 3)),\n",
    "    tf.keras.layers.Flatten(),\n",
    "    tf.keras.layers.Dense(1024, activation='relu'),\n",
    "    tf.keras.layers.Dense(256, activation='relu'),\n",
    "    tf.keras.layers.Dense(1, activation='softmax')\n",
    "])\n",
    "\n",
    "model.compile(optimizer = 'adam', loss='binary_crossentropy', metrics=['acc'])"
   ]
  },
  {
   "cell_type": "code",
   "execution_count": null,
   "metadata": {
    "colab": {},
    "colab_type": "code",
    "id": "vVJoeS0Zs8dB"
   },
   "outputs": [],
   "source": [
    "model.summary()"
   ]
  },
  {
   "cell_type": "code",
   "execution_count": null,
   "metadata": {
    "colab": {},
    "colab_type": "code",
    "id": "8C8TRMKKRT_L"
   },
   "outputs": [],
   "source": [
    "a = reshapedpatches_training/255.0"
   ]
  },
  {
   "cell_type": "code",
   "execution_count": null,
   "metadata": {
    "colab": {
     "base_uri": "https://localhost:8080/",
     "height": 487
    },
    "colab_type": "code",
    "executionInfo": {
     "elapsed": 1193,
     "status": "error",
     "timestamp": 1585905483436,
     "user": {
      "displayName": "Dheeraj Nagpal",
      "photoUrl": "",
      "userId": "04309092780219853136"
     },
     "user_tz": -330
    },
    "id": "9vW5ko7VTOIw",
    "outputId": "099b92e6-114c-4047-d3b8-f3d227bf01d1"
   },
   "outputs": [],
   "source": [
    "from skimage import io\n",
    "import matplotlib.pyplot as plt\n",
    "\n",
    "# img = io.imread(a[0])\n",
    "# plt.figure()\n",
    "# plt.subplot(1, 3, 1)\n",
    "# plt.imshow(reshapedpatches_training[34790])\n",
    "# plt.subplot(1, 3, 2)\n",
    "# plt.imshow(a[34790])\n",
    "plt.subplot(1, 3, 1)\n",
    "plt.imshow(outputs[34790])"
   ]
  },
  {
   "cell_type": "code",
   "execution_count": null,
   "metadata": {
    "colab": {
     "base_uri": "https://localhost:8080/",
     "height": 374
    },
    "colab_type": "code",
    "executionInfo": {
     "elapsed": 16252,
     "status": "error",
     "timestamp": 1585905388471,
     "user": {
      "displayName": "Dheeraj Nagpal",
      "photoUrl": "",
      "userId": "04309092780219853136"
     },
     "user_tz": -330
    },
    "id": "v6fVDuPvH_o8",
    "outputId": "4cd52412-c638-4d14-ff76-904fed9cab2d"
   },
   "outputs": [],
   "source": [
    "# x_train = x_train/ 255.0\n",
    "# x_test = x_test/ 255.0\n",
    "# \n",
    "history = model.fit(reshapedpatches_training, outputs, batch_size=64, epochs = 10)"
   ]
  },
  {
   "cell_type": "code",
   "execution_count": null,
   "metadata": {
    "colab": {},
    "colab_type": "code",
    "id": "AyU6US_IH_pC"
   },
   "outputs": [],
   "source": []
  },
  {
   "cell_type": "code",
   "execution_count": null,
   "metadata": {
    "colab": {
     "base_uri": "https://localhost:8080/",
     "height": 129
    },
    "colab_type": "code",
    "executionInfo": {
     "elapsed": 36769,
     "status": "ok",
     "timestamp": 1583928900085,
     "user": {
      "displayName": "PUSHPA RANI",
      "photoUrl": "",
      "userId": "04309092780219853136"
     },
     "user_tz": -330
    },
    "id": "KNKp2f2fgI_c",
    "outputId": "80f8b11c-a411-4ea6-f3c3-722b5add6579"
   },
   "outputs": [],
   "source": [
    "from google.colab import drive\n",
    "drive.mount('/content/drive')"
   ]
  },
  {
   "cell_type": "code",
   "execution_count": null,
   "metadata": {
    "colab": {
     "base_uri": "https://localhost:8080/",
     "height": 172
    },
    "colab_type": "code",
    "executionInfo": {
     "elapsed": 1324,
     "status": "error",
     "timestamp": 1583928793679,
     "user": {
      "displayName": "PUSHPA RANI",
      "photoUrl": "",
      "userId": "04309092780219853136"
     },
     "user_tz": -330
    },
    "id": "SwKwe7X-H_pL",
    "outputId": "70df0596-ed32-440a-d55d-5e40c3af648c"
   },
   "outputs": [],
   "source": [
    "drive.unmount()"
   ]
  },
  {
   "cell_type": "code",
   "execution_count": null,
   "metadata": {
    "colab": {},
    "colab_type": "code",
    "id": "GZ2tRiNQH_pT"
   },
   "outputs": [],
   "source": []
  },
  {
   "cell_type": "code",
   "execution_count": null,
   "metadata": {
    "colab": {},
    "colab_type": "code",
    "id": "N60eD-c5H_pd"
   },
   "outputs": [],
   "source": []
  },
  {
   "cell_type": "code",
   "execution_count": null,
   "metadata": {
    "colab": {},
    "colab_type": "code",
    "id": "QxBj1LBnH_po"
   },
   "outputs": [],
   "source": [
    "a=np.reshape(combinedpatches[10013],(3,3,3))"
   ]
  },
  {
   "cell_type": "code",
   "execution_count": null,
   "metadata": {
    "colab": {},
    "colab_type": "code",
    "id": "CTo_8r3GH_p3"
   },
   "outputs": [],
   "source": [
    "a"
   ]
  },
  {
   "cell_type": "code",
   "execution_count": null,
   "metadata": {
    "colab": {},
    "colab_type": "code",
    "id": "xdQmtT-jH_qC"
   },
   "outputs": [],
   "source": [
    "reshapedpatches[10013]"
   ]
  },
  {
   "cell_type": "code",
   "execution_count": null,
   "metadata": {
    "colab": {},
    "colab_type": "code",
    "id": "JboL_3I6H_qL"
   },
   "outputs": [],
   "source": [
    "reshapedpatches=reshapePatches(combinedpatches)"
   ]
  },
  {
   "cell_type": "code",
   "execution_count": null,
   "metadata": {
    "colab": {},
    "colab_type": "code",
    "id": "TPYtaY6ZH_qS"
   },
   "outputs": [],
   "source": [
    "reshapedpatches[0]"
   ]
  },
  {
   "cell_type": "code",
   "execution_count": null,
   "metadata": {
    "colab": {},
    "colab_type": "code",
    "id": "j0aQGSdOH_qa"
   },
   "outputs": [],
   "source": []
  },
  {
   "cell_type": "code",
   "execution_count": null,
   "metadata": {
    "colab": {},
    "colab_type": "code",
    "id": "EOoer1VUH_qf"
   },
   "outputs": [],
   "source": []
  },
  {
   "cell_type": "code",
   "execution_count": null,
   "metadata": {
    "colab": {},
    "colab_type": "code",
    "id": "yrETauh_H_qk"
   },
   "outputs": [],
   "source": [
    "a=[]\n",
    "j=[[1,2,3],[1,2,3],[1,2,3]]\n",
    "k=[[1,2,3],[1,2,3],[1,2,3]]\n",
    "l=[[1,2,3],[1,2,3],[1,2,3]]\n",
    "for i in range(3):\n",
    "    a.append(np.array([j[i],k[i],l[i]]))"
   ]
  },
  {
   "cell_type": "code",
   "execution_count": null,
   "metadata": {
    "colab": {},
    "colab_type": "code",
    "id": "l4t6UR2rH_qr"
   },
   "outputs": [],
   "source": [
    "combinedpatches[0]"
   ]
  },
  {
   "cell_type": "code",
   "execution_count": null,
   "metadata": {
    "colab": {},
    "colab_type": "code",
    "id": "5MRD1_89H_qx"
   },
   "outputs": [],
   "source": [
    "a=np.array(a)\n",
    "a.shape"
   ]
  },
  {
   "cell_type": "code",
   "execution_count": null,
   "metadata": {
    "colab": {},
    "colab_type": "code",
    "id": "F5aCbRz_H_q3"
   },
   "outputs": [],
   "source": [
    "np.save('patches3n3.npy', data)"
   ]
  },
  {
   "cell_type": "code",
   "execution_count": null,
   "metadata": {
    "colab": {},
    "colab_type": "code",
    "id": "F9nGbPngH_q_"
   },
   "outputs": [],
   "source": [
    "loaded_array = np.load('patches3n3.npy')"
   ]
  },
  {
   "cell_type": "code",
   "execution_count": null,
   "metadata": {
    "colab": {},
    "colab_type": "code",
    "id": "5SnddsACH_rE"
   },
   "outputs": [],
   "source": [
    "loaded_array.shape"
   ]
  },
  {
   "cell_type": "code",
   "execution_count": null,
   "metadata": {
    "colab": {},
    "colab_type": "code",
    "id": "axh2_Me8H_rL"
   },
   "outputs": [],
   "source": [
    "a=[]\n",
    "a.append(np.array([patch_red[0],patch_green[0],patch_blue[0]]))"
   ]
  }
 ],
 "metadata": {
  "accelerator": "GPU",
  "colab": {
   "machine_shape": "hm",
   "name": "Patch_Extraction 3 channel appraoach.ipynb",
   "provenance": [],
   "toc_visible": true
  },
  "kernelspec": {
   "display_name": "Python 3",
   "language": "python",
   "name": "python3"
  },
  "language_info": {
   "codemirror_mode": {
    "name": "ipython",
    "version": 3
   },
   "file_extension": ".py",
   "mimetype": "text/x-python",
   "name": "python",
   "nbconvert_exporter": "python",
   "pygments_lexer": "ipython3",
   "version": "3.7.5"
  }
 },
 "nbformat": 4,
 "nbformat_minor": 1
}
