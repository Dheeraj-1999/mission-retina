{
 "cells": [
  {
   "cell_type": "code",
   "execution_count": null,
   "metadata": {},
   "outputs": [],
   "source": [
    "import subprocess\n",
    "!wget --no-check-certificate \\\n",
    "    \"https://storage.googleapis.com/datsets/patches25n25nskip2.zip\"\\\n",
    "    -O \"/tmp/patchesRule2.zip\"\n",
    "\n",
    "zipFile = '/tmp/patchesRule2.zip'\n",
    "# zip_ref.extractall('/tmp')\n",
    "destinationDirectory='/tmp'\n",
    "subprocess.Popen([\"7z\", \"e\", f\"{zipFile}\", f\"-o{destinationDirectory}\", \"-y\"])\n",
    "# zip_ref.close()"
   ]
  },
  {
   "cell_type": "code",
   "execution_count": null,
   "metadata": {},
   "outputs": [],
   "source": [
    "reshapedpatches_training = []\n",
    "reshapedpatches_training = np.load('/tmp/patches25n25nskip2.npy')"
   ]
  },
  {
   "cell_type": "markdown",
   "metadata": {},
   "source": [
    "# Get Output Array "
   ]
  },
  {
   "cell_type": "code",
   "execution_count": null,
   "metadata": {},
   "outputs": [],
   "source": [
    "import cv2\n",
    "import os\n",
    "import numpy as np\n",
    "from PIL import Image\n",
    "def getoutputarr(images,skip):\n",
    "    outputarr=[]\n",
    "    for k in range(images.shape[0]):\n",
    "        for i in range(0,images.shape[1],skip):\n",
    "            for j in range(0,images.shape[2],skip):\n",
    "                outputarr.append(images[k,i,j])\n",
    "    return(np.array(outputarr))"
   ]
  },
  {
   "cell_type": "code",
   "execution_count": null,
   "metadata": {},
   "outputs": [],
   "source": [
    "images=[]\n",
    "for i in range(21,41):\n",
    "    a=np.array(Image.open('/tmp/DRIVE/training/1st_manual/{}_manual1.gif'.format(i)))\n",
    "    images.append(a)\n",
    "outputs=getoutputarr(np.array(images),2)"
   ]
  },
  {
   "cell_type": "markdown",
   "metadata": {},
   "source": [
    "# Model "
   ]
  },
  {
   "cell_type": "code",
   "execution_count": null,
   "metadata": {},
   "outputs": [],
   "source": [
    "from tensorflow.keras.optimizers import RMSprop\n",
    "model = tf.keras.models.Sequential([\n",
    "    tf.keras.layers.Conv2D(64, (3, 3), activation='relu', input_shape=(25, 25, 3)),\n",
    "    tf.keras.layers.MaxPooling2D((3, 3)),\n",
    "    # tf.keras.layers.Conv2D(32, (3, 3), activation='relu', input_shape=(9, 9, 3)),\n",
    "    # tf.keras.layers.MaxPooling2D((3, 3)),\n",
    "    tf.keras.layers.Flatten(),\n",
    "    tf.keras.layers.Dense(1024, activation='relu'),\n",
    "    tf.keras.layers.Dense(256, activation='relu'),\n",
    "    tf.keras.layers.Dense(1, activation='softmax')\n",
    "])\n",
    "\n",
    "model.compile(optimizer = 'adam', loss='binary_crossentropy', metrics=['acc'])"
   ]
  },
  {
   "cell_type": "code",
   "execution_count": null,
   "metadata": {},
   "outputs": [],
   "source": [
    "# x_train = x_train/ 255.0\n",
    "# x_test = x_test/ 255.0\n",
    "# \n",
    "history = model.fit(reshapedpatches_training, outputs, batch_size=64, epochs = 10)"
   ]
  },
  {
   "cell_type": "code",
   "execution_count": null,
   "metadata": {},
   "outputs": [],
   "source": []
  },
  {
   "cell_type": "code",
   "execution_count": null,
   "metadata": {},
   "outputs": [],
   "source": []
  },
  {
   "cell_type": "code",
   "execution_count": null,
   "metadata": {},
   "outputs": [],
   "source": []
  },
  {
   "cell_type": "code",
   "execution_count": null,
   "metadata": {},
   "outputs": [],
   "source": []
  },
  {
   "cell_type": "code",
   "execution_count": null,
   "metadata": {},
   "outputs": [],
   "source": []
  }
 ],
 "metadata": {
  "kernelspec": {
   "display_name": "Python 3.7.5 64-bit ('anaconda': conda)",
   "language": "python",
   "name": "python37564bitanacondaconda8fdae7da735b42e8bb5614c179ca1693"
  },
  "language_info": {
   "codemirror_mode": {
    "name": "ipython",
    "version": 3
   },
   "file_extension": ".py",
   "mimetype": "text/x-python",
   "name": "python",
   "nbconvert_exporter": "python",
   "pygments_lexer": "ipython3",
   "version": "3.7.5"
  }
 },
 "nbformat": 4,
 "nbformat_minor": 2
}
