{
 "cells": [
  {
   "cell_type": "code",
   "execution_count": 7,
   "metadata": {},
   "outputs": [],
   "source": [
    "import numpy as np\n",
    "import cv2 as cv\n",
    "from matplotlib import pyplot as plt\n",
    "import os\n",
    "from PIL import Image"
   ]
  },
  {
   "cell_type": "code",
   "execution_count": 6,
   "metadata": {},
   "outputs": [],
   "source": [
    "os.chdir('D:\\\\google drive\\\\Missions\\\\mission Retina\\\\dataset\\\\navdeep sir datasets\\\\Stare')"
   ]
  },
  {
   "cell_type": "code",
   "execution_count": 22,
   "metadata": {},
   "outputs": [],
   "source": [
    "count = 1\n",
    "for file in os.listdir()[:-1]:\n",
    "    img = Image.open(file)\n",
    "    img.save('D:\\\\google drive\\\\Missions\\\\mission Retina\\\\dataset\\\\navdeep sir datasets\\\\StareJpg\\\\{}.jpg'.format(count))\n",
    "    count += 1\n",
    "#     plt.save()\n",
    "#     cv.imwrite('D:\\\\google drive\\\\Missions\\\\mission Retina\\\\navdeep sir datasets\\\\DRIVE\\\\training\\\\afternonlocalmean\\\\{}'.format(file), dst)"
   ]
  },
  {
   "cell_type": "code",
   "execution_count": 13,
   "metadata": {},
   "outputs": [
    {
     "name": "stdout",
     "output_type": "stream",
     "text": [
      "['im0001.ppm', 'im0002.ppm', 'im0003.ppm', 'im0004.ppm', 'im0005.ppm', 'im0044.ppm', 'im0077.ppm', 'im0081.ppm', 'im0082.ppm', 'im0139.ppm', 'im0162.ppm', 'im0163.ppm', 'im0235.ppm', 'im0236.ppm', 'im0239.ppm', 'im0240.ppm', 'im0255.ppm', 'im0291.ppm', 'im0319.ppm', 'im0324.ppm']\n"
     ]
    }
   ],
   "source": [
    "print(os.listdir()[:-1])"
   ]
  },
  {
   "cell_type": "code",
   "execution_count": 17,
   "metadata": {
    "collapsed": true
   },
   "outputs": [
    {
     "name": "stdout",
     "output_type": "stream",
     "text": [
      "im0001\n",
      "im0002\n",
      "im0003\n",
      "im0004\n",
      "im0005\n",
      "im0044\n",
      "im0077\n",
      "im0081\n",
      "im0082\n",
      "im0139\n",
      "im0162\n",
      "im0163\n",
      "im0235\n",
      "im0236\n",
      "im0239\n",
      "im0240\n",
      "im0255\n",
      "im0291\n",
      "im0319\n",
      "im0324\n"
     ]
    }
   ],
   "source": [
    "for file in os.listdir()[:-1]:\n",
    "    print(file[:-4])"
   ]
  },
  {
   "cell_type": "code",
   "execution_count": 26,
   "metadata": {},
   "outputs": [],
   "source": [
    "import numpy as np\n",
    "import cv2 as cv2\n",
    "from matplotlib import pyplot as plt\n",
    "import os\n",
    "os.chdir('D:\\\\google drive\\\\Missions\\\\mission Retina\\\\dataset\\\\navdeep sir datasets\\\\chase')\n"
   ]
  },
  {
   "cell_type": "code",
   "execution_count": 44,
   "metadata": {},
   "outputs": [
    {
     "name": "stdout",
     "output_type": "stream",
     "text": [
      "['Image_01L.jpg', 'Image_01L_1stHO.png', 'Image_01L_2ndHO.png', 'Image_01R.jpg', 'Image_01R_1stHO.png', 'Image_01R_2ndHO.png', 'Image_02L.jpg', 'Image_02L_1stHO.png', 'Image_02L_2ndHO.png', 'Image_02R.jpg', 'Image_02R_1stHO.png', 'Image_02R_2ndHO.png', 'Image_03L.jpg', 'Image_03L_1stHO.png', 'Image_03L_2ndHO.png', 'Image_03R.jpg', 'Image_03R_1stHO.png', 'Image_03R_2ndHO.png', 'Image_04L.jpg', 'Image_04L_1stHO.png', 'Image_04L_2ndHO.png', 'Image_04R.jpg', 'Image_04R_1stHO.png', 'Image_04R_2ndHO.png', 'Image_05L.jpg', 'Image_05L_1stHO.png', 'Image_05L_2ndHO.png', 'Image_05R.jpg', 'Image_05R_1stHO.png', 'Image_05R_2ndHO.png', 'Image_06L.jpg', 'Image_06L_1stHO.png', 'Image_06L_2ndHO.png', 'Image_06R.jpg', 'Image_06R_1stHO.png', 'Image_06R_2ndHO.png', 'Image_07L.jpg', 'Image_07L_1stHO.png', 'Image_07L_2ndHO.png', 'Image_07R.jpg', 'Image_07R_1stHO.png', 'Image_07R_2ndHO.png', 'Image_08L.jpg', 'Image_08L_1stHO.png', 'Image_08L_2ndHO.png', 'Image_08R.jpg', 'Image_08R_1stHO.png', 'Image_08R_2ndHO.png', 'Image_09L.jpg', 'Image_09L_1stHO.png', 'Image_09L_2ndHO.png', 'Image_09R.jpg', 'Image_09R_1stHO.png', 'Image_09R_2ndHO.png', 'Image_10L.jpg', 'Image_10L_1stHO.png', 'Image_10L_2ndHO.png', 'Image_10R.jpg', 'Image_10R_1stHO.png', 'Image_10R_2ndHO.png', 'Image_11L.jpg', 'Image_11L_1stHO.png', 'Image_11L_2ndHO.png', 'Image_11R.jpg', 'Image_11R_1stHO.png', 'Image_11R_2ndHO.png', 'Image_12L.jpg', 'Image_12L_1stHO.png', 'Image_12L_2ndHO.png', 'Image_12R.jpg', 'Image_12R_1stHO.png', 'Image_12R_2ndHO.png', 'Image_13L.jpg', 'Image_13L_1stHO.png', 'Image_13L_2ndHO.png', 'Image_13R.jpg', 'Image_13R_1stHO.png', 'Image_13R_2ndHO.png', 'Image_14L.jpg', 'Image_14L_1stHO.png', 'Image_14L_2ndHO.png', 'Image_14R.jpg', 'Image_14R_1stHO.png', 'Image_14R_2ndHO.png']\n"
     ]
    }
   ],
   "source": [
    "print(os.listdir())"
   ]
  },
  {
   "cell_type": "code",
   "execution_count": 45,
   "metadata": {
    "collapsed": true
   },
   "outputs": [
    {
     "name": "stdout",
     "output_type": "stream",
     "text": [
      "1\n",
      "2\n",
      "1\n",
      "2\n",
      "1\n",
      "2\n",
      "1\n",
      "2\n",
      "1\n",
      "2\n",
      "1\n",
      "2\n",
      "1\n",
      "2\n",
      "1\n",
      "2\n",
      "1\n",
      "2\n",
      "1\n",
      "2\n",
      "1\n",
      "2\n",
      "1\n",
      "2\n",
      "1\n",
      "2\n",
      "1\n",
      "2\n",
      "1\n",
      "2\n",
      "1\n",
      "2\n",
      "1\n",
      "2\n",
      "1\n",
      "2\n",
      "1\n",
      "2\n",
      "1\n",
      "2\n",
      "1\n",
      "2\n",
      "1\n",
      "2\n",
      "1\n",
      "2\n",
      "1\n",
      "2\n",
      "1\n",
      "2\n",
      "1\n",
      "2\n",
      "1\n",
      "2\n",
      "1\n",
      "2\n"
     ]
    }
   ],
   "source": [
    "for file in os.listdir():\n",
    "    if(file[-3:] == 'jpg'):\n",
    "        continue\n",
    "    print(file[-9])"
   ]
  },
  {
   "cell_type": "code",
   "execution_count": 50,
   "metadata": {},
   "outputs": [],
   "source": [
    "count1 = 1\n",
    "count2 = 1\n",
    "for file in os.listdir():\n",
    "    if(file[-3:] == 'jpg'):\n",
    "        continue\n",
    "#     print(file[9])\n",
    "    if(file[-9] == '1'):\n",
    "        dst = cv2.imread(file)\n",
    "        cv.imwrite('D:\\\\google drive\\\\Missions\\\\mission Retina\\\\dataset\\\\navdeep sir datasets\\\\chasedb1\\\\1st_manual\\\\{}.jpg'.format(count1), dst)\n",
    "        count1 += 1\n",
    "    if(file[-9] == '2'):\n",
    "        dst = cv2.imread(file)\n",
    "        cv.imwrite('D:\\\\google drive\\\\Missions\\\\mission Retina\\\\dataset\\\\navdeep sir datasets\\\\chasedb1\\\\2nd_manual\\\\{}.jpg'.format(count2), dst)\n",
    "        count2 += 1\n"
   ]
  },
  {
   "cell_type": "code",
   "execution_count": null,
   "metadata": {},
   "outputs": [],
   "source": []
  }
 ],
 "metadata": {
  "kernelspec": {
   "display_name": "Python 3.7.5 64-bit ('anaconda': conda)",
   "language": "python",
   "name": "python37564bitanacondaconda8fdae7da735b42e8bb5614c179ca1693"
  },
  "language_info": {
   "codemirror_mode": {
    "name": "ipython",
    "version": 3
   },
   "file_extension": ".py",
   "mimetype": "text/x-python",
   "name": "python",
   "nbconvert_exporter": "python",
   "pygments_lexer": "ipython3",
   "version": "3.7.5"
  }
 },
 "nbformat": 4,
 "nbformat_minor": 2
}
