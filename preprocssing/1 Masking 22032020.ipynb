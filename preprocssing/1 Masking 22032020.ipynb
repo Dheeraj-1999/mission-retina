{
 "cells": [
  {
   "cell_type": "markdown",
   "metadata": {},
   "source": [
    "# Masking Operation\n",
    "\n",
    "    Experiment can be seen in Pre-processing/maskedimgs"
   ]
  },
  {
   "cell_type": "markdown",
   "metadata": {},
   "source": [
    "# Dana Code\n"
   ]
  },
  {
   "cell_type": "code",
   "execution_count": null,
   "metadata": {},
   "outputs": [],
   "source": [
    "import os\n",
    "if not os.getcwd()=='R:\\\\DRIVE':\n",
    "    os.chdir('R:\\\\DRIVE')\n",
    "if not os.path.isdir('maskedimgs'):\n",
    "    os.mkdir('maskedimgs')\n",
    "if not os.getcwd()=='R:\\\\DRIVE\\\\maskedimgs':\n",
    "    os.chdir('R:\\\\DRIVE\\\\maskedimgs')\n",
    "def masked_images(imgpath,maskpath,filename):\n",
    "    from PIL import Image\n",
    "    import numpy as np\n",
    "    mask_file=Image.open(maskpath)\n",
    "    mask=np.array(mask_file)\n",
    "    img_file=Image.open(imgpath)\n",
    "    img=np.array(img_file)\n",
    "    img.shape\n",
    "    img=img[:, :, ::-1].copy()\n",
    "    final_image=cv2.bitwise_and(img,img,mask = mask)\n",
    "    cv2.imwrite(os.getcwd()+'/'+filename+'.jpg', final_image)\n",
    "for i in range(21,41):\n",
    "    masked_images('R:/DRIVE/training/images/{}_training.tif'.format(i),'R:/DRIVE/training/mask/{}_training_mask.gif'.format(i),str(i))"
   ]
  },
  {
   "cell_type": "markdown",
   "metadata": {},
   "source": [
    "# Mine Code "
   ]
  },
  {
   "cell_type": "code",
   "execution_count": 1,
   "metadata": {},
   "outputs": [],
   "source": [
    "# D:\\\\google drive\\\\Missions\\\\mission Retina\\\\navdeep sir datasets\\\\DRIVE\n",
    "import os\n",
    "if not os.getcwd()=='D:\\\\google drive\\\\Missions\\\\mission Retina\\\\navdeep sir datasets\\\\DRIVE\\\\training':\n",
    "    os.chdir('D:\\\\google drive\\\\Missions\\\\mission Retina\\\\navdeep sir datasets\\\\DRIVE\\\\training')\n",
    "if not os.path.isdir('maskedimgs'):\n",
    "    os.mkdir('maskedimgs')\n",
    "if not os.getcwd()=='D:\\\\google drive\\\\Missions\\\\mission Retina\\\\navdeep sir datasets\\\\DRIVE\\\\maskedimgs\\\\training':\n",
    "    os.chdir('D:\\\\google drive\\\\Missions\\\\mission Retina\\\\navdeep sir datasets\\\\DRIVE\\\\\\\\training\\\\maskedimgs')"
   ]
  },
  {
   "cell_type": "code",
   "execution_count": 4,
   "metadata": {},
   "outputs": [],
   "source": [
    "import cv2"
   ]
  },
  {
   "cell_type": "code",
   "execution_count": 3,
   "metadata": {},
   "outputs": [],
   "source": [
    "# D:/google drive/Missions/mission Retina/navdeep sir datasets/DRIVE/training/images\n",
    "def masked_image(img_path, mask_path, filename) :\n",
    "    retina = cv2.imread(img_path)\n",
    "    mask = cv2.imread(mask_path)\n",
    "#     retina = retina[:, :, ::-1].copy()\n",
    "    final_image=cv2.bitwise_and(retina, retina, mask = mask)\n",
    "    cv2.imwrite(os.getcwd()+'/'+filename+'.jpg', final_image)\n"
   ]
  },
  {
   "cell_type": "code",
   "execution_count": 4,
   "metadata": {},
   "outputs": [],
   "source": [
    "for i in range(21,41):\n",
    "    masked_image('D:/google drive/Missions/mission Retina/navdeep sir datasets/DRIVE/training/images/{}_training.tif'.format(i),'D:/google drive/Missions/mission Retina/navdeep sir datasets/DRIVE/training/mask/{}_training_mask.gif'.format(i),str(i))"
   ]
  },
  {
   "cell_type": "code",
   "execution_count": 1,
   "metadata": {},
   "outputs": [],
   "source": [
    "# D:\\\\google drive\\\\Missions\\\\mission Retina\\\\navdeep sir datasets\\\\DRIVE\n",
    "import os\n",
    "if not os.getcwd()=='D:\\\\google drive\\\\Missions\\\\mission Retina\\\\navdeep sir datasets\\\\DRIVE\\\\test':\n",
    "    os.chdir('D:\\\\google drive\\\\Missions\\\\mission Retina\\\\navdeep sir datasets\\\\DRIVE\\\\test')\n",
    "if not os.path.isdir('maskedimgs'):\n",
    "    os.mkdir('maskedimgs')\n",
    "# if not os.getcwd()=='D:\\\\google drive\\\\Missions\\\\mission Retina\\\\navdeep sir datasets\\\\DRIVE\\\\maskedimgs\\\\test':\n",
    "#     os.chdir('D:\\\\google drive\\\\Missions\\\\mission Retina\\\\navdeep sir datasets\\\\DRIVE\\\\\\\\test\\\\maskedimgs')"
   ]
  },
  {
   "cell_type": "code",
   "execution_count": 2,
   "metadata": {},
   "outputs": [],
   "source": [
    "def masked_image(img_path, mask_path, filename) :\n",
    "    retina = cv2.imread(img_path)\n",
    "    mask = cv2.imread(mask_path)\n",
    "#     retina = retina[:, :, ::-1].copy()\n",
    "    final_image=cv2.bitwise_and(retina, retina, mask = mask)\n",
    "    cv2.imwrite(os.getcwd()+'/'+filename+'.jpg', final_image)\n"
   ]
  },
  {
   "cell_type": "code",
   "execution_count": 7,
   "metadata": {},
   "outputs": [
    {
     "ename": "error",
     "evalue": "OpenCV(4.1.2) D:\\Build\\OpenCV\\opencv-4.1.2\\modules\\imgcodecs\\src\\loadsave.cpp:715: error: (-215:Assertion failed) !_img.empty() in function 'cv::imwrite'\n",
     "output_type": "error",
     "traceback": [
      "\u001b[1;31m---------------------------------------------------------------------------\u001b[0m",
      "\u001b[1;31merror\u001b[0m                                     Traceback (most recent call last)",
      "\u001b[1;32m<ipython-input-7-3a40882b9aa0>\u001b[0m in \u001b[0;36m<module>\u001b[1;34m\u001b[0m\n\u001b[0;32m      1\u001b[0m \u001b[1;32mfor\u001b[0m \u001b[0mi\u001b[0m \u001b[1;32min\u001b[0m \u001b[0mrange\u001b[0m\u001b[1;33m(\u001b[0m\u001b[1;36m1\u001b[0m\u001b[1;33m,\u001b[0m\u001b[1;36m10\u001b[0m\u001b[1;33m)\u001b[0m\u001b[1;33m:\u001b[0m\u001b[1;33m\u001b[0m\u001b[1;33m\u001b[0m\u001b[0m\n\u001b[1;32m----> 2\u001b[1;33m     \u001b[0mmasked_image\u001b[0m\u001b[1;33m(\u001b[0m\u001b[1;34m'D:/google drive/Missions/mission Retina/navdeep sir datasets/DRIVE/test/images/0{}_training.tif'\u001b[0m\u001b[1;33m.\u001b[0m\u001b[0mformat\u001b[0m\u001b[1;33m(\u001b[0m\u001b[0mi\u001b[0m\u001b[1;33m)\u001b[0m\u001b[1;33m,\u001b[0m\u001b[1;34m'D:/google drive/Missions/mission Retina/navdeep sir datasets/DRIVE/test/mask/0{}_test_mask.gif'\u001b[0m\u001b[1;33m.\u001b[0m\u001b[0mformat\u001b[0m\u001b[1;33m(\u001b[0m\u001b[0mi\u001b[0m\u001b[1;33m)\u001b[0m\u001b[1;33m,\u001b[0m\u001b[1;34m'0'\u001b[0m\u001b[1;33m+\u001b[0m\u001b[0mstr\u001b[0m\u001b[1;33m(\u001b[0m\u001b[0mi\u001b[0m\u001b[1;33m)\u001b[0m\u001b[1;33m)\u001b[0m\u001b[1;33m\u001b[0m\u001b[1;33m\u001b[0m\u001b[0m\n\u001b[0m",
      "\u001b[1;32m<ipython-input-2-fff4f05c35f8>\u001b[0m in \u001b[0;36mmasked_image\u001b[1;34m(img_path, mask_path, filename)\u001b[0m\n\u001b[0;32m      4\u001b[0m \u001b[1;31m#     retina = retina[:, :, ::-1].copy()\u001b[0m\u001b[1;33m\u001b[0m\u001b[1;33m\u001b[0m\u001b[1;33m\u001b[0m\u001b[0m\n\u001b[0;32m      5\u001b[0m     \u001b[0mfinal_image\u001b[0m\u001b[1;33m=\u001b[0m\u001b[0mcv2\u001b[0m\u001b[1;33m.\u001b[0m\u001b[0mbitwise_and\u001b[0m\u001b[1;33m(\u001b[0m\u001b[0mretina\u001b[0m\u001b[1;33m,\u001b[0m \u001b[0mretina\u001b[0m\u001b[1;33m,\u001b[0m \u001b[0mmask\u001b[0m \u001b[1;33m=\u001b[0m \u001b[0mmask\u001b[0m\u001b[1;33m)\u001b[0m\u001b[1;33m\u001b[0m\u001b[1;33m\u001b[0m\u001b[0m\n\u001b[1;32m----> 6\u001b[1;33m     \u001b[0mcv2\u001b[0m\u001b[1;33m.\u001b[0m\u001b[0mimwrite\u001b[0m\u001b[1;33m(\u001b[0m\u001b[0mos\u001b[0m\u001b[1;33m.\u001b[0m\u001b[0mgetcwd\u001b[0m\u001b[1;33m(\u001b[0m\u001b[1;33m)\u001b[0m\u001b[1;33m+\u001b[0m\u001b[1;34m'/'\u001b[0m\u001b[1;33m+\u001b[0m\u001b[0mfilename\u001b[0m\u001b[1;33m+\u001b[0m\u001b[1;34m'.jpg'\u001b[0m\u001b[1;33m,\u001b[0m \u001b[0mfinal_image\u001b[0m\u001b[1;33m)\u001b[0m\u001b[1;33m\u001b[0m\u001b[1;33m\u001b[0m\u001b[0m\n\u001b[0m",
      "\u001b[1;31merror\u001b[0m: OpenCV(4.1.2) D:\\Build\\OpenCV\\opencv-4.1.2\\modules\\imgcodecs\\src\\loadsave.cpp:715: error: (-215:Assertion failed) !_img.empty() in function 'cv::imwrite'\n"
     ]
    }
   ],
   "source": [
    "for i in range(1,10):\n",
    "    masked_image('D:/google drive/Missions/mission Retina/navdeep sir datasets/DRIVE/test/images/0{}_training.tif'.format(i),'D:/google drive/Missions/mission Retina/navdeep sir datasets/DRIVE/test/mask/0{}_test_mask.gif'.format(i),'0'+str(i))"
   ]
  },
  {
   "cell_type": "code",
   "execution_count": null,
   "metadata": {},
   "outputs": [],
   "source": []
  }
 ],
 "metadata": {
  "kernelspec": {
   "display_name": "Python 3",
   "language": "python",
   "name": "python3"
  },
  "language_info": {
   "codemirror_mode": {
    "name": "ipython",
    "version": 3
   },
   "file_extension": ".py",
   "mimetype": "text/x-python",
   "name": "python",
   "nbconvert_exporter": "python",
   "pygments_lexer": "ipython3",
   "version": "3.7.5"
  }
 },
 "nbformat": 4,
 "nbformat_minor": 2
}
