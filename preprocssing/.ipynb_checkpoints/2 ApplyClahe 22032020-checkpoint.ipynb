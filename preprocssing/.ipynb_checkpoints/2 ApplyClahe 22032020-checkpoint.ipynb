{
 "cells": [
  {
   "cell_type": "markdown",
   "metadata": {},
   "source": [
    "# CLAHE operation\n",
    "    Experiment can be seen in Pre-processing/maskedimgs+clahe"
   ]
  },
  {
   "cell_type": "code",
   "execution_count": 3,
   "metadata": {},
   "outputs": [],
   "source": [
    "import cv2\n",
    "\n",
    "def applyclahe(imgpath,imgname):\n",
    "    bgr = cv2.imread(imgpath)\n",
    "    lab = cv2.cvtColor(bgr, cv2.COLOR_BGR2LAB)\n",
    "    lab_planes = cv2.split(lab)\n",
    "    clahe = cv2.createCLAHE(clipLimit=2.0,tileGridSize=(8,8))\n",
    "    lab_planes[0] = clahe.apply(lab_planes[0])\n",
    "    lab = cv2.merge(lab_planes)\n",
    "    bgr = cv2.cvtColor(lab, cv2.COLOR_LAB2BGR)\n",
    "    cv2.imwrite(imgname,bgr)\n",
    "\n",
    "for k in range(21,41):\n",
    "    imgpath='/DRIVE/training/maskedimgs/{}.jpg'.format(k)\n",
    "    finimg='/DRIVE/training/afterclaheimgs/'+str(k)+'.jpg'\n",
    "    applyclahe(imgpath,finimg)"
   ]
  }
 ],
 "metadata": {
  "kernelspec": {
   "display_name": "Python 3",
   "language": "python",
   "name": "python3"
  },
  "language_info": {
   "codemirror_mode": {
    "name": "ipython",
    "version": 3
   },
   "file_extension": ".py",
   "mimetype": "text/x-python",
   "name": "python",
   "nbconvert_exporter": "python",
   "pygments_lexer": "ipython3",
   "version": "3.7.5"
  }
 },
 "nbformat": 4,
 "nbformat_minor": 4
}
