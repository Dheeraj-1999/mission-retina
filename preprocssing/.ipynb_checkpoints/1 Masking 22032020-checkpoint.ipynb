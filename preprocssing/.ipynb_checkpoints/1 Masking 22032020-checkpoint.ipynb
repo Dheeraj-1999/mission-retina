{
 "cells": [
  {
   "cell_type": "markdown",
   "metadata": {},
   "source": [
    "# Masking Operation\n",
    "\n",
    "    Experiment can be seen in Pre-processing/maskedimgs"
   ]
  },
  {
   "cell_type": "code",
   "execution_count": null,
   "metadata": {},
   "outputs": [],
   "source": [
    "import os\n",
    "if not os.getcwd()=='R:\\\\DRIVE':\n",
    "    os.chdir('R:\\\\DRIVE')\n",
    "if not os.path.isdir('maskedimgs'):\n",
    "    os.mkdir('maskedimgs')\n",
    "if not os.getcwd()=='R:\\\\DRIVE\\\\maskedimgs':\n",
    "    os.chdir('R:\\\\DRIVE\\\\maskedimgs')\n",
    "def masked_images(imgpath,maskpath,filename):\n",
    "    from PIL import Image\n",
    "    import numpy as np\n",
    "    mask_file=Image.open(maskpath)\n",
    "    mask=np.array(mask_file)\n",
    "    img_file=Image.open(imgpath)\n",
    "    img=np.array(img_file)\n",
    "    img.shape\n",
    "    img=img[:, :, ::-1].copy()\n",
    "    final_image=cv2.bitwise_and(img,img,mask = mask)\n",
    "    cv2.imwrite(os.getcwd()+'/'+filename+'.jpg', final_image)\n",
    "for i in range(21,41):\n",
    "    masked_images('R:/DRIVE/training/images/{}_training.tif'.format(i),'R:/DRIVE/training/mask/{}_training_mask.gif'.format(i),str(i))"
   ]
  }
 ],
 "metadata": {
  "kernelspec": {
   "display_name": "Python 3",
   "language": "python",
   "name": "python3"
  },
  "language_info": {
   "codemirror_mode": {
    "name": "ipython",
    "version": 3
   },
   "file_extension": ".py",
   "mimetype": "text/x-python",
   "name": "python",
   "nbconvert_exporter": "python",
   "pygments_lexer": "ipython3",
   "version": "3.7.5"
  }
 },
 "nbformat": 4,
 "nbformat_minor": 2
}
