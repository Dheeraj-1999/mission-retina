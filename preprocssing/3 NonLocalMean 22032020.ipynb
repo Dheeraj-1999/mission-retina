{
 "cells": [
  {
   "cell_type": "markdown",
   "metadata": {},
   "source": [
    "# Non Local Mean on Clahe Images"
   ]
  },
  {
   "cell_type": "markdown",
   "metadata": {},
   "source": [
    "# Accepted\n",
    "    Experiments can be seen in Pre-processing maskedimgs+clahe+nonlocalmean"
   ]
  },
  {
   "cell_type": "code",
   "execution_count": 3,
   "metadata": {},
   "outputs": [],
   "source": [
    "import numpy as np\n",
    "import cv2 as cv\n",
    "from matplotlib import pyplot as plt\n",
    "import os\n",
    "os.chdir('D:\\\\google drive\\\\Missions\\\\mission Retina\\\\navdeep sir datasets\\\\DRIVE\\\\training\\\\afterclaheimgs')\n",
    "for file in os.listdir():\n",
    "    img = cv.imread(file)\n",
    "    dst = cv.fastNlMeansDenoisingColored(img,None,3,3,7,21)\n",
    "    cv.imwrite('D:\\\\google drive\\\\Missions\\\\mission Retina\\\\navdeep sir datasets\\\\DRIVE\\\\training\\\\afternonlocalmean\\\\{}'.format(file), dst)"
   ]
  },
  {
   "cell_type": "markdown",
   "metadata": {},
   "source": [
    "# Non Local Mean on Masked Images"
   ]
  },
  {
   "cell_type": "markdown",
   "metadata": {},
   "source": [
    "# Rejected due to data-loss\n",
    "\n",
    "    Experiments can be seen in Pre-processing maskedimgs+nonlocalmean"
   ]
  },
  {
   "cell_type": "code",
   "execution_count": 5,
   "metadata": {},
   "outputs": [
    {
     "ename": "SyntaxError",
     "evalue": "EOL while scanning string literal (<ipython-input-5-faa3d1160ad4>, line 5)",
     "output_type": "error",
     "traceback": [
      "\u001b[1;36m  File \u001b[1;32m\"<ipython-input-5-faa3d1160ad4>\"\u001b[1;36m, line \u001b[1;32m5\u001b[0m\n\u001b[1;33m    os.chdir('D:\\\\google drive\\\\Missions\\\\mission Retina\\\\navdeep sir datasets\\\\DRIVE\\\\training\\\\maskedimgs\\')\u001b[0m\n\u001b[1;37m                                                                                                              ^\u001b[0m\n\u001b[1;31mSyntaxError\u001b[0m\u001b[1;31m:\u001b[0m EOL while scanning string literal\n"
     ]
    }
   ],
   "source": [
    "import numpy as np\n",
    "import cv2 as cv\n",
    "from matplotlib import pyplot as plt\n",
    "import os\n",
    "os.chdir('/datasets/DRIVE/training/maskedimgs/')\n",
    "for file in os.listdir():\n",
    "    img = cv.imread(file)\n",
    "    dst = cv.fastNlMeansDenoisingColored(img,None,3,3,7,21)\n",
    "    cv.imwrite('R:/datasets/DRIVE/training/afternonlocalmean2/{}'.format(file),dst)"
   ]
  },
  {
   "cell_type": "code",
   "execution_count": null,
   "metadata": {},
   "outputs": [],
   "source": []
  }
 ],
 "metadata": {
  "kernelspec": {
   "display_name": "Python 3",
   "language": "python",
   "name": "python3"
  },
  "language_info": {
   "codemirror_mode": {
    "name": "ipython",
    "version": 3
   },
   "file_extension": ".py",
   "mimetype": "text/x-python",
   "name": "python",
   "nbconvert_exporter": "python",
   "pygments_lexer": "ipython3",
   "version": "3.7.5"
  }
 },
 "nbformat": 4,
 "nbformat_minor": 4
}
